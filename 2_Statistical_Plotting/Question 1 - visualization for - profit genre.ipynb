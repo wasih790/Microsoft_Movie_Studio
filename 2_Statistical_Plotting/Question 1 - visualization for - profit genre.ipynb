{
 "cells": [
  {
   "cell_type": "code",
   "execution_count": 10,
   "metadata": {},
   "outputs": [],
   "source": [
    "import pandas as pd\n",
    "import seaborn as sns\n",
    "import matplotlib.pyplot as plt"
   ]
  },
  {
   "cell_type": "code",
   "execution_count": 11,
   "metadata": {},
   "outputs": [],
   "source": [
    "# do not forget t change the file for each local computer\n",
    "df = pd.read_csv('/Users/mahmoud/Documents/Flatiron/Project_1_Microsoft_Movie_Studio/1_Data_Wranging/genre_profit.csv')\n",
    "pd.set_option('display.float_format', lambda x: '%.5f' %x)"
   ]
  },
  {
   "cell_type": "code",
   "execution_count": 12,
   "metadata": {},
   "outputs": [
    {
     "data": {
      "text/html": [
       "<div>\n",
       "<style scoped>\n",
       "    .dataframe tbody tr th:only-of-type {\n",
       "        vertical-align: middle;\n",
       "    }\n",
       "\n",
       "    .dataframe tbody tr th {\n",
       "        vertical-align: top;\n",
       "    }\n",
       "\n",
       "    .dataframe thead th {\n",
       "        text-align: right;\n",
       "    }\n",
       "</style>\n",
       "<table border=\"1\" class=\"dataframe\">\n",
       "  <thead>\n",
       "    <tr style=\"text-align: right;\">\n",
       "      <th></th>\n",
       "      <th>title</th>\n",
       "      <th>start_year</th>\n",
       "      <th>runtime_minutes</th>\n",
       "      <th>genres</th>\n",
       "      <th>id</th>\n",
       "      <th>release_date</th>\n",
       "      <th>production_budget</th>\n",
       "      <th>domestic_gross</th>\n",
       "      <th>worldwide_gross</th>\n",
       "    </tr>\n",
       "  </thead>\n",
       "  <tbody>\n",
       "    <tr>\n",
       "      <th>0</th>\n",
       "      <td>#Horror</td>\n",
       "      <td>2015</td>\n",
       "      <td>101.00000</td>\n",
       "      <td>Crime</td>\n",
       "      <td>16</td>\n",
       "      <td>Nov 20, 2015</td>\n",
       "      <td>$1,500,000</td>\n",
       "      <td>0.00000</td>\n",
       "      <td>0.00000</td>\n",
       "    </tr>\n",
       "    <tr>\n",
       "      <th>1</th>\n",
       "      <td>#Horror</td>\n",
       "      <td>2015</td>\n",
       "      <td>101.00000</td>\n",
       "      <td>Drama</td>\n",
       "      <td>16</td>\n",
       "      <td>Nov 20, 2015</td>\n",
       "      <td>$1,500,000</td>\n",
       "      <td>0.00000</td>\n",
       "      <td>0.00000</td>\n",
       "    </tr>\n",
       "    <tr>\n",
       "      <th>2</th>\n",
       "      <td>#Horror</td>\n",
       "      <td>2015</td>\n",
       "      <td>101.00000</td>\n",
       "      <td>Horror</td>\n",
       "      <td>16</td>\n",
       "      <td>Nov 20, 2015</td>\n",
       "      <td>$1,500,000</td>\n",
       "      <td>0.00000</td>\n",
       "      <td>0.00000</td>\n",
       "    </tr>\n",
       "    <tr>\n",
       "      <th>3</th>\n",
       "      <td>10 Cloverfield Lane</td>\n",
       "      <td>2016</td>\n",
       "      <td>103.00000</td>\n",
       "      <td>Drama</td>\n",
       "      <td>54</td>\n",
       "      <td>Mar 11, 2016</td>\n",
       "      <td>$5,000,000</td>\n",
       "      <td>72082999.00000</td>\n",
       "      <td>108286422.00000</td>\n",
       "    </tr>\n",
       "    <tr>\n",
       "      <th>4</th>\n",
       "      <td>10 Cloverfield Lane</td>\n",
       "      <td>2016</td>\n",
       "      <td>103.00000</td>\n",
       "      <td>Horror</td>\n",
       "      <td>54</td>\n",
       "      <td>Mar 11, 2016</td>\n",
       "      <td>$5,000,000</td>\n",
       "      <td>72082999.00000</td>\n",
       "      <td>108286422.00000</td>\n",
       "    </tr>\n",
       "    <tr>\n",
       "      <th>...</th>\n",
       "      <td>...</td>\n",
       "      <td>...</td>\n",
       "      <td>...</td>\n",
       "      <td>...</td>\n",
       "      <td>...</td>\n",
       "      <td>...</td>\n",
       "      <td>...</td>\n",
       "      <td>...</td>\n",
       "      <td>...</td>\n",
       "    </tr>\n",
       "    <tr>\n",
       "      <th>7198</th>\n",
       "      <td>Zulu</td>\n",
       "      <td>2013</td>\n",
       "      <td>110.00000</td>\n",
       "      <td>Drama</td>\n",
       "      <td>82</td>\n",
       "      <td>Dec 31, 2013</td>\n",
       "      <td>$16,000,000</td>\n",
       "      <td>0.00000</td>\n",
       "      <td>1844228.00000</td>\n",
       "    </tr>\n",
       "    <tr>\n",
       "      <th>7199</th>\n",
       "      <td>Zulu</td>\n",
       "      <td>2013</td>\n",
       "      <td>110.00000</td>\n",
       "      <td>Thriller</td>\n",
       "      <td>82</td>\n",
       "      <td>Dec 31, 2013</td>\n",
       "      <td>$16,000,000</td>\n",
       "      <td>0.00000</td>\n",
       "      <td>1844228.00000</td>\n",
       "    </tr>\n",
       "    <tr>\n",
       "      <th>7200</th>\n",
       "      <td>xXx: Return of Xander Cage</td>\n",
       "      <td>2017</td>\n",
       "      <td>107.00000</td>\n",
       "      <td>Action</td>\n",
       "      <td>15</td>\n",
       "      <td>Jan 20, 2017</td>\n",
       "      <td>$85,000,000</td>\n",
       "      <td>44898413.00000</td>\n",
       "      <td>345033359.00000</td>\n",
       "    </tr>\n",
       "    <tr>\n",
       "      <th>7201</th>\n",
       "      <td>xXx: Return of Xander Cage</td>\n",
       "      <td>2017</td>\n",
       "      <td>107.00000</td>\n",
       "      <td>Adventure</td>\n",
       "      <td>15</td>\n",
       "      <td>Jan 20, 2017</td>\n",
       "      <td>$85,000,000</td>\n",
       "      <td>44898413.00000</td>\n",
       "      <td>345033359.00000</td>\n",
       "    </tr>\n",
       "    <tr>\n",
       "      <th>7202</th>\n",
       "      <td>xXx: Return of Xander Cage</td>\n",
       "      <td>2017</td>\n",
       "      <td>107.00000</td>\n",
       "      <td>Thriller</td>\n",
       "      <td>15</td>\n",
       "      <td>Jan 20, 2017</td>\n",
       "      <td>$85,000,000</td>\n",
       "      <td>44898413.00000</td>\n",
       "      <td>345033359.00000</td>\n",
       "    </tr>\n",
       "  </tbody>\n",
       "</table>\n",
       "<p>7203 rows × 9 columns</p>\n",
       "</div>"
      ],
      "text/plain": [
       "                           title  start_year  runtime_minutes     genres  id  \\\n",
       "0                        #Horror        2015        101.00000      Crime  16   \n",
       "1                        #Horror        2015        101.00000      Drama  16   \n",
       "2                        #Horror        2015        101.00000     Horror  16   \n",
       "3            10 Cloverfield Lane        2016        103.00000      Drama  54   \n",
       "4            10 Cloverfield Lane        2016        103.00000     Horror  54   \n",
       "...                          ...         ...              ...        ...  ..   \n",
       "7198                        Zulu        2013        110.00000      Drama  82   \n",
       "7199                        Zulu        2013        110.00000   Thriller  82   \n",
       "7200  xXx: Return of Xander Cage        2017        107.00000     Action  15   \n",
       "7201  xXx: Return of Xander Cage        2017        107.00000  Adventure  15   \n",
       "7202  xXx: Return of Xander Cage        2017        107.00000   Thriller  15   \n",
       "\n",
       "      release_date production_budget  domestic_gross  worldwide_gross  \n",
       "0     Nov 20, 2015        $1,500,000         0.00000          0.00000  \n",
       "1     Nov 20, 2015        $1,500,000         0.00000          0.00000  \n",
       "2     Nov 20, 2015        $1,500,000         0.00000          0.00000  \n",
       "3     Mar 11, 2016        $5,000,000  72082999.00000  108286422.00000  \n",
       "4     Mar 11, 2016        $5,000,000  72082999.00000  108286422.00000  \n",
       "...            ...               ...             ...              ...  \n",
       "7198  Dec 31, 2013       $16,000,000         0.00000    1844228.00000  \n",
       "7199  Dec 31, 2013       $16,000,000         0.00000    1844228.00000  \n",
       "7200  Jan 20, 2017       $85,000,000  44898413.00000  345033359.00000  \n",
       "7201  Jan 20, 2017       $85,000,000  44898413.00000  345033359.00000  \n",
       "7202  Jan 20, 2017       $85,000,000  44898413.00000  345033359.00000  \n",
       "\n",
       "[7203 rows x 9 columns]"
      ]
     },
     "execution_count": 12,
     "metadata": {},
     "output_type": "execute_result"
    }
   ],
   "source": [
    "df"
   ]
  },
  {
   "cell_type": "code",
   "execution_count": 13,
   "metadata": {},
   "outputs": [],
   "source": [
    "# removing $ sign \n",
    "df['production_budget'] = df['production_budget'].str.replace('$', '')\n",
    "# removing ,\n",
    "df['production_budget'] = df['production_budget'].str.replace(',', '')\n",
    "# changing type of production budget to float\n",
    "df['production_budget'] = df['production_budget'].astype(float)"
   ]
  },
  {
   "cell_type": "code",
   "execution_count": 14,
   "metadata": {},
   "outputs": [],
   "source": [
    "# creating a column world profit to track the profit of each movie\n",
    "df['world_profit'] = df['worldwide_gross'] - df['production_budget']"
   ]
  },
  {
   "cell_type": "code",
   "execution_count": 15,
   "metadata": {},
   "outputs": [],
   "source": [
    "#creating a csv file for our new profit column\n",
    "df.to_csv('world_profit.csv')"
   ]
  },
  {
   "cell_type": "code",
   "execution_count": 16,
   "metadata": {},
   "outputs": [
    {
     "data": {
      "image/png": "[encoded data removed]",
      "text/plain": [
       "<Figure size 1440x864 with 1 Axes>"
      ]
     },
     "metadata": {
      "needs_background": "light"
     },
     "output_type": "display_data"
    }
   ],
   "source": [
    "# here we are creating a bar chart to compare the genres with the profit of each movie (world_profit)\n",
    "fig, ax = plt.subplots(figsize = (20,12))\n",
    "sns.barplot(x = 'genres', y = 'world_profit', data = df,  ax = ax)\n",
    "ax.set_title('Profit per Genre', fontsize=30)\n",
    "ax.set_ylabel('Profit', fontsize=22)\n",
    "ax.set_xlabel('Genres', fontsize=22)\n",
    "fig.tight_layout();"
   ]
  },
  {
   "cell_type": "code",
   "execution_count": 17,
   "metadata": {},
   "outputs": [],
   "source": [
    "# the genres that generated most profit\n",
    "# this allows us to focus only on the genres that generated most profit. \n",
    "#excluding musical due to the fact that it has a large mean\n",
    "\n",
    "new_df = df.query(\"genres in ('Action','Adventure', 'Family', 'Fantasy', 'Animation', 'Sci-Fi')\")"
   ]
  },
  {
   "cell_type": "code",
   "execution_count": 18,
   "metadata": {},
   "outputs": [],
   "source": [
    "# sort values based on world_profit from most profit to least\n",
    "new_df = new_df.sort_values(by = 'world_profit', ascending = False)"
   ]
  },
  {
   "cell_type": "code",
   "execution_count": 19,
   "metadata": {},
   "outputs": [
    {
     "data": {
      "text/html": [
       "<div>\n",
       "<style scoped>\n",
       "    .dataframe tbody tr th:only-of-type {\n",
       "        vertical-align: middle;\n",
       "    }\n",
       "\n",
       "    .dataframe tbody tr th {\n",
       "        vertical-align: top;\n",
       "    }\n",
       "\n",
       "    .dataframe thead th {\n",
       "        text-align: right;\n",
       "    }\n",
       "</style>\n",
       "<table border=\"1\" class=\"dataframe\">\n",
       "  <thead>\n",
       "    <tr style=\"text-align: right;\">\n",
       "      <th></th>\n",
       "      <th>title</th>\n",
       "      <th>start_year</th>\n",
       "      <th>runtime_minutes</th>\n",
       "      <th>genres</th>\n",
       "      <th>id</th>\n",
       "      <th>release_date</th>\n",
       "      <th>production_budget</th>\n",
       "      <th>domestic_gross</th>\n",
       "      <th>worldwide_gross</th>\n",
       "      <th>world_profit</th>\n",
       "    </tr>\n",
       "  </thead>\n",
       "  <tbody>\n",
       "    <tr>\n",
       "      <th>6538</th>\n",
       "      <td>Titanic</td>\n",
       "      <td>2018</td>\n",
       "      <td>115.00000</td>\n",
       "      <td>Family</td>\n",
       "      <td>43</td>\n",
       "      <td>Dec 19, 1997</td>\n",
       "      <td>200000000.00000</td>\n",
       "      <td>659363944.00000</td>\n",
       "      <td>2208208395.00000</td>\n",
       "      <td>2008208395.00000</td>\n",
       "    </tr>\n",
       "    <tr>\n",
       "      <th>535</th>\n",
       "      <td>Avengers: Infinity War</td>\n",
       "      <td>2018</td>\n",
       "      <td>149.00000</td>\n",
       "      <td>Sci-Fi</td>\n",
       "      <td>7</td>\n",
       "      <td>Apr 27, 2018</td>\n",
       "      <td>300000000.00000</td>\n",
       "      <td>678815482.00000</td>\n",
       "      <td>2048134200.00000</td>\n",
       "      <td>1748134200.00000</td>\n",
       "    </tr>\n",
       "    <tr>\n",
       "      <th>534</th>\n",
       "      <td>Avengers: Infinity War</td>\n",
       "      <td>2018</td>\n",
       "      <td>149.00000</td>\n",
       "      <td>Adventure</td>\n",
       "      <td>7</td>\n",
       "      <td>Apr 27, 2018</td>\n",
       "      <td>300000000.00000</td>\n",
       "      <td>678815482.00000</td>\n",
       "      <td>2048134200.00000</td>\n",
       "      <td>1748134200.00000</td>\n",
       "    </tr>\n",
       "    <tr>\n",
       "      <th>533</th>\n",
       "      <td>Avengers: Infinity War</td>\n",
       "      <td>2018</td>\n",
       "      <td>149.00000</td>\n",
       "      <td>Action</td>\n",
       "      <td>7</td>\n",
       "      <td>Apr 27, 2018</td>\n",
       "      <td>300000000.00000</td>\n",
       "      <td>678815482.00000</td>\n",
       "      <td>2048134200.00000</td>\n",
       "      <td>1748134200.00000</td>\n",
       "    </tr>\n",
       "    <tr>\n",
       "      <th>2893</th>\n",
       "      <td>Jurassic World</td>\n",
       "      <td>2015</td>\n",
       "      <td>124.00000</td>\n",
       "      <td>Sci-Fi</td>\n",
       "      <td>34</td>\n",
       "      <td>Jun 12, 2015</td>\n",
       "      <td>215000000.00000</td>\n",
       "      <td>652270625.00000</td>\n",
       "      <td>1648854864.00000</td>\n",
       "      <td>1433854864.00000</td>\n",
       "    </tr>\n",
       "    <tr>\n",
       "      <th>...</th>\n",
       "      <td>...</td>\n",
       "      <td>...</td>\n",
       "      <td>...</td>\n",
       "      <td>...</td>\n",
       "      <td>...</td>\n",
       "      <td>...</td>\n",
       "      <td>...</td>\n",
       "      <td>...</td>\n",
       "      <td>...</td>\n",
       "      <td>...</td>\n",
       "    </tr>\n",
       "    <tr>\n",
       "      <th>3350</th>\n",
       "      <td>Mars Needs Moms</td>\n",
       "      <td>2011</td>\n",
       "      <td>88.00000</td>\n",
       "      <td>Animation</td>\n",
       "      <td>94</td>\n",
       "      <td>Mar 11, 2011</td>\n",
       "      <td>150000000.00000</td>\n",
       "      <td>21392758.00000</td>\n",
       "      <td>39549758.00000</td>\n",
       "      <td>-110450242.00000</td>\n",
       "    </tr>\n",
       "    <tr>\n",
       "      <th>3349</th>\n",
       "      <td>Mars Needs Moms</td>\n",
       "      <td>2011</td>\n",
       "      <td>88.00000</td>\n",
       "      <td>Adventure</td>\n",
       "      <td>94</td>\n",
       "      <td>Mar 11, 2011</td>\n",
       "      <td>150000000.00000</td>\n",
       "      <td>21392758.00000</td>\n",
       "      <td>39549758.00000</td>\n",
       "      <td>-110450242.00000</td>\n",
       "    </tr>\n",
       "    <tr>\n",
       "      <th>1344</th>\n",
       "      <td>Dark Phoenix</td>\n",
       "      <td>2019</td>\n",
       "      <td>113.00000</td>\n",
       "      <td>Sci-Fi</td>\n",
       "      <td>3</td>\n",
       "      <td>Jun 7, 2019</td>\n",
       "      <td>350000000.00000</td>\n",
       "      <td>42762350.00000</td>\n",
       "      <td>149762350.00000</td>\n",
       "      <td>-200237650.00000</td>\n",
       "    </tr>\n",
       "    <tr>\n",
       "      <th>1343</th>\n",
       "      <td>Dark Phoenix</td>\n",
       "      <td>2019</td>\n",
       "      <td>113.00000</td>\n",
       "      <td>Adventure</td>\n",
       "      <td>3</td>\n",
       "      <td>Jun 7, 2019</td>\n",
       "      <td>350000000.00000</td>\n",
       "      <td>42762350.00000</td>\n",
       "      <td>149762350.00000</td>\n",
       "      <td>-200237650.00000</td>\n",
       "    </tr>\n",
       "    <tr>\n",
       "      <th>1342</th>\n",
       "      <td>Dark Phoenix</td>\n",
       "      <td>2019</td>\n",
       "      <td>113.00000</td>\n",
       "      <td>Action</td>\n",
       "      <td>3</td>\n",
       "      <td>Jun 7, 2019</td>\n",
       "      <td>350000000.00000</td>\n",
       "      <td>42762350.00000</td>\n",
       "      <td>149762350.00000</td>\n",
       "      <td>-200237650.00000</td>\n",
       "    </tr>\n",
       "  </tbody>\n",
       "</table>\n",
       "<p>1838 rows × 10 columns</p>\n",
       "</div>"
      ],
      "text/plain": [
       "                       title  start_year  runtime_minutes     genres  id  \\\n",
       "6538                 Titanic        2018        115.00000     Family  43   \n",
       "535   Avengers: Infinity War        2018        149.00000     Sci-Fi   7   \n",
       "534   Avengers: Infinity War        2018        149.00000  Adventure   7   \n",
       "533   Avengers: Infinity War        2018        149.00000     Action   7   \n",
       "2893          Jurassic World        2015        124.00000     Sci-Fi  34   \n",
       "...                      ...         ...              ...        ...  ..   \n",
       "3350         Mars Needs Moms        2011         88.00000  Animation  94   \n",
       "3349         Mars Needs Moms        2011         88.00000  Adventure  94   \n",
       "1344            Dark Phoenix        2019        113.00000     Sci-Fi   3   \n",
       "1343            Dark Phoenix        2019        113.00000  Adventure   3   \n",
       "1342            Dark Phoenix        2019        113.00000     Action   3   \n",
       "\n",
       "      release_date  production_budget  domestic_gross  worldwide_gross  \\\n",
       "6538  Dec 19, 1997    200000000.00000 659363944.00000 2208208395.00000   \n",
       "535   Apr 27, 2018    300000000.00000 678815482.00000 2048134200.00000   \n",
       "534   Apr 27, 2018    300000000.00000 678815482.00000 2048134200.00000   \n",
       "533   Apr 27, 2018    300000000.00000 678815482.00000 2048134200.00000   \n",
       "2893  Jun 12, 2015    215000000.00000 652270625.00000 1648854864.00000   \n",
       "...            ...                ...             ...              ...   \n",
       "3350  Mar 11, 2011    150000000.00000  21392758.00000   39549758.00000   \n",
       "3349  Mar 11, 2011    150000000.00000  21392758.00000   39549758.00000   \n",
       "1344   Jun 7, 2019    350000000.00000  42762350.00000  149762350.00000   \n",
       "1343   Jun 7, 2019    350000000.00000  42762350.00000  149762350.00000   \n",
       "1342   Jun 7, 2019    350000000.00000  42762350.00000  149762350.00000   \n",
       "\n",
       "         world_profit  \n",
       "6538 2008208395.00000  \n",
       "535  1748134200.00000  \n",
       "534  1748134200.00000  \n",
       "533  1748134200.00000  \n",
       "2893 1433854864.00000  \n",
       "...               ...  \n",
       "3350 -110450242.00000  \n",
       "3349 -110450242.00000  \n",
       "1344 -200237650.00000  \n",
       "1343 -200237650.00000  \n",
       "1342 -200237650.00000  \n",
       "\n",
       "[1838 rows x 10 columns]"
      ]
     },
     "execution_count": 19,
     "metadata": {},
     "output_type": "execute_result"
    }
   ],
   "source": [
    "new_df"
   ]
  },
  {
   "cell_type": "code",
   "execution_count": 20,
   "metadata": {},
   "outputs": [],
   "source": [
    "# creating csv file for the most generated profit genres\n",
    "new_df.to_csv('world_profit_per_six_genres.csv')"
   ]
  },
  {
   "cell_type": "code",
   "execution_count": 21,
   "metadata": {
    "scrolled": true
   },
   "outputs": [
    {
     "data": {
      "image/png": "[encoded data removed]",
      "text/plain": [
       "<Figure size 432x288 with 1 Axes>"
      ]
     },
     "metadata": {
      "needs_background": "light"
     },
     "output_type": "display_data"
    }
   ],
   "source": [
    "#average profit per genre; step we took to find the mean\n",
    "genre_bar_df = new_df.groupby('genres').mean().sort_values(by = 'world_profit', ascending = False)\n",
    "\n",
    "sns.barplot(data = genre_bar_df, x = genre_bar_df.index, y = 'world_profit');"
   ]
  },
  {
   "cell_type": "code",
   "execution_count": 22,
   "metadata": {},
   "outputs": [
    {
     "data": {
      "text/html": [
       "<div>\n",
       "<style scoped>\n",
       "    .dataframe tbody tr th:only-of-type {\n",
       "        vertical-align: middle;\n",
       "    }\n",
       "\n",
       "    .dataframe tbody tr th {\n",
       "        vertical-align: top;\n",
       "    }\n",
       "\n",
       "    .dataframe thead th {\n",
       "        text-align: right;\n",
       "    }\n",
       "</style>\n",
       "<table border=\"1\" class=\"dataframe\">\n",
       "  <thead>\n",
       "    <tr style=\"text-align: right;\">\n",
       "      <th></th>\n",
       "      <th>start_year</th>\n",
       "      <th>runtime_minutes</th>\n",
       "      <th>id</th>\n",
       "      <th>production_budget</th>\n",
       "      <th>domestic_gross</th>\n",
       "      <th>worldwide_gross</th>\n",
       "      <th>world_profit</th>\n",
       "    </tr>\n",
       "    <tr>\n",
       "      <th>genres</th>\n",
       "      <th></th>\n",
       "      <th></th>\n",
       "      <th></th>\n",
       "      <th></th>\n",
       "      <th></th>\n",
       "      <th></th>\n",
       "      <th></th>\n",
       "    </tr>\n",
       "  </thead>\n",
       "  <tbody>\n",
       "    <tr>\n",
       "      <th>Animation</th>\n",
       "      <td>2014.29927</td>\n",
       "      <td>89.01460</td>\n",
       "      <td>47.70073</td>\n",
       "      <td>83208593.04380</td>\n",
       "      <td>114015296.70073</td>\n",
       "      <td>309584024.68613</td>\n",
       "      <td>226375431.64234</td>\n",
       "    </tr>\n",
       "    <tr>\n",
       "      <th>Adventure</th>\n",
       "      <td>2014.31130</td>\n",
       "      <td>106.36674</td>\n",
       "      <td>49.08742</td>\n",
       "      <td>88734038.60554</td>\n",
       "      <td>102145156.39232</td>\n",
       "      <td>284518742.31983</td>\n",
       "      <td>195784703.71429</td>\n",
       "    </tr>\n",
       "    <tr>\n",
       "      <th>Sci-Fi</th>\n",
       "      <td>2014.41981</td>\n",
       "      <td>107.16981</td>\n",
       "      <td>52.84906</td>\n",
       "      <td>67721530.06132</td>\n",
       "      <td>88776263.41038</td>\n",
       "      <td>238311481.42453</td>\n",
       "      <td>170589951.36321</td>\n",
       "    </tr>\n",
       "    <tr>\n",
       "      <th>Fantasy</th>\n",
       "      <td>2013.95109</td>\n",
       "      <td>107.33152</td>\n",
       "      <td>50.81522</td>\n",
       "      <td>68741245.90761</td>\n",
       "      <td>80885244.01630</td>\n",
       "      <td>220873233.27717</td>\n",
       "      <td>152131987.36957</td>\n",
       "    </tr>\n",
       "    <tr>\n",
       "      <th>Action</th>\n",
       "      <td>2014.11437</td>\n",
       "      <td>109.32303</td>\n",
       "      <td>49.96754</td>\n",
       "      <td>64847820.71097</td>\n",
       "      <td>69544024.60124</td>\n",
       "      <td>186538758.79444</td>\n",
       "      <td>121690938.08346</td>\n",
       "    </tr>\n",
       "    <tr>\n",
       "      <th>Family</th>\n",
       "      <td>2013.88889</td>\n",
       "      <td>90.66138</td>\n",
       "      <td>54.36508</td>\n",
       "      <td>48025990.72487</td>\n",
       "      <td>68700203.86772</td>\n",
       "      <td>161485053.47090</td>\n",
       "      <td>113459062.74603</td>\n",
       "    </tr>\n",
       "  </tbody>\n",
       "</table>\n",
       "</div>"
      ],
      "text/plain": [
       "           start_year  runtime_minutes       id  production_budget  \\\n",
       "genres                                                               \n",
       "Animation  2014.29927         89.01460 47.70073     83208593.04380   \n",
       "Adventure  2014.31130        106.36674 49.08742     88734038.60554   \n",
       "Sci-Fi     2014.41981        107.16981 52.84906     67721530.06132   \n",
       "Fantasy    2013.95109        107.33152 50.81522     68741245.90761   \n",
       "Action     2014.11437        109.32303 49.96754     64847820.71097   \n",
       "Family     2013.88889         90.66138 54.36508     48025990.72487   \n",
       "\n",
       "           domestic_gross  worldwide_gross    world_profit  \n",
       "genres                                                      \n",
       "Animation 114015296.70073  309584024.68613 226375431.64234  \n",
       "Adventure 102145156.39232  284518742.31983 195784703.71429  \n",
       "Sci-Fi     88776263.41038  238311481.42453 170589951.36321  \n",
       "Fantasy    80885244.01630  220873233.27717 152131987.36957  \n",
       "Action     69544024.60124  186538758.79444 121690938.08346  \n",
       "Family     68700203.86772  161485053.47090 113459062.74603  "
      ]
     },
     "execution_count": 22,
     "metadata": {},
     "output_type": "execute_result"
    }
   ],
   "source": [
    "# did this to see if the average profit per genre matched the bar chart, answer is yes\n",
    "genre_bar_df"
   ]
  },
  {
   "cell_type": "code",
   "execution_count": 24,
   "metadata": {},
   "outputs": [
    {
     "data": {
      "image/png": "[encoded data removed]",
      "text/plain": [
       "<Figure size 936x432 with 1 Axes>"
      ]
     },
     "metadata": {
      "needs_background": "light"
     },
     "output_type": "display_data"
    }
   ],
   "source": [
    "# here we are creating a bar chart for the genres which have generated above 100 million profit + average profit per \n",
    "fig, ax = plt.subplots(figsize = (13,6))\n",
    "sns.barplot(data = genre_bar_df, x = genre_bar_df.index, y = 'world_profit', ax=ax) \n",
    "#gives the average profit per genre (# wise on top of each bar)\n",
    "for g in ax.patches:\n",
    "    ax.annotate(format(g.get_height(), '.1f'),\n",
    "                   (g.get_x() + g.get_width() / 2., g.get_height()),\n",
    "                   ha = 'center', va = 'center',\n",
    "                   xytext = (0, 7),\n",
    "                   textcoords = 'offset points')\n",
    "ax.set_xlabel('Genres', fontsize=18)\n",
    "ax.set_ylabel('Profit in 100M', fontsize=22)\n",
    "ax.set_title('Profit per Genre', fontsize = 30)\n",
    "#plt.legend(loc=1)\n",
    "plt.tick_params(labelsize=10)\n",
    "fig.tight_layout();"
   ]
  },
  {
   "cell_type": "code",
   "execution_count": 59,
   "metadata": {
    "scrolled": false
   },
   "outputs": [
    {
     "data": {
      "application/vnd.plotly.v1+json": {
       "config": {
        "plotlyServerURL": "https://plot.ly"
       },
       "data": [
        {
         "alignmentgroup": "True",
         "hovertemplate": "Genres=%{x}<br>Profit in 100M=%{marker.color}<extra></extra>",
         "legendgroup": "",
         "marker": {
          "color": [
           226375431.64233577,
           195784703.7142857,
           170589951.36320755,
           152131987.36956522,
           121690938.08346213,
           113459062.74603175
          ],
          "coloraxis": "coloraxis"
         },
         "name": "",
         "offsetgroup": "",
         "orientation": "v",
         "showlegend": false,
         "text": [
          226375431.64233577,
          195784703.7142857,
          170589951.36320755,
          152131987.36956522,
          121690938.08346213,
          113459062.74603175
         ],
         "textposition": "outside",
         "texttemplate": "%{text:.4s}",
         "type": "bar",
         "x": [
          "Animation",
          "Adventure",
          "Sci-Fi",
          "Fantasy",
          "Action",
          "Family"
         ],
         "xaxis": "x",
         "y": [
          226375431.64233577,
          195784703.7142857,
          170589951.36320755,
          152131987.36956522,
          121690938.08346213,
          113459062.74603175
         ],
         "yaxis": "y"
        }
       ],
       "layout": {
        "barmode": "relative",
        "coloraxis": {
         "colorbar": {
          "title": {
           "text": "Profit in 100M"
          }
         },
         "colorscale": [
          [
           0,
           "rgb(176, 242, 188)"
          ],
          [
           0.16666666666666666,
           "rgb(137, 232, 172)"
          ],
          [
           0.3333333333333333,
           "rgb(103, 219, 165)"
          ],
          [
           0.5,
           "rgb(76, 200, 163)"
          ],
          [
           0.6666666666666666,
           "rgb(56, 178, 163)"
          ],
          [
           0.8333333333333334,
           "rgb(44, 152, 160)"
          ],
          [
           1,
           "rgb(37, 125, 152)"
          ]
         ]
        },
        "font": {
         "size": 14
        },
        "legend": {
         "tracegroupgap": 0
        },
        "margin": {
         "t": 60
        },
        "template": {
         "data": {
          "bar": [
           {
            "error_x": {
             "color": "#2a3f5f"
            },
            "error_y": {
             "color": "#2a3f5f"
            },
            "marker": {
             "line": {
              "color": "#E5ECF6",
              "width": 0.5
             }
            },
            "type": "bar"
           }
          ],
          "barpolar": [
           {
            "marker": {
             "line": {
              "color": "#E5ECF6",
              "width": 0.5
             }
            },
            "type": "barpolar"
           }
          ],
          "carpet": [
           {
            "aaxis": {
             "endlinecolor": "#2a3f5f",
             "gridcolor": "white",
             "linecolor": "white",
             "minorgridcolor": "white",
             "startlinecolor": "#2a3f5f"
            },
            "baxis": {
             "endlinecolor": "#2a3f5f",
             "gridcolor": "white",
             "linecolor": "white",
             "minorgridcolor": "white",
             "startlinecolor": "#2a3f5f"
            },
            "type": "carpet"
           }
          ],
          "choropleth": [
           {
            "colorbar": {
             "outlinewidth": 0,
             "ticks": ""
            },
            "type": "choropleth"
           }
          ],
          "contour": [
           {
            "colorbar": {
             "outlinewidth": 0,
             "ticks": ""
            },
            "colorscale": [
             [
              0,
              "#0d0887"
             ],
             [
              0.1111111111111111,
              "#46039f"
             ],
             [
              0.2222222222222222,
              "#7201a8"
             ],
             [
              0.3333333333333333,
              "#9c179e"
             ],
             [
              0.4444444444444444,
              "#bd3786"
             ],
             [
              0.5555555555555556,
              "#d8576b"
             ],
             [
              0.6666666666666666,
              "#ed7953"
             ],
             [
              0.7777777777777778,
              "#fb9f3a"
             ],
             [
              0.8888888888888888,
              "#fdca26"
             ],
             [
              1,
              "#f0f921"
             ]
            ],
            "type": "contour"
           }
          ],
          "contourcarpet": [
           {
            "colorbar": {
             "outlinewidth": 0,
             "ticks": ""
            },
            "type": "contourcarpet"
           }
          ],
          "heatmap": [
           {
            "colorbar": {
             "outlinewidth": 0,
             "ticks": ""
            },
            "colorscale": [
             [
              0,
              "#0d0887"
             ],
             [
              0.1111111111111111,
              "#46039f"
             ],
             [
              0.2222222222222222,
              "#7201a8"
             ],
             [
              0.3333333333333333,
              "#9c179e"
             ],
             [
              0.4444444444444444,
              "#bd3786"
             ],
             [
              0.5555555555555556,
              "#d8576b"
             ],
             [
              0.6666666666666666,
              "#ed7953"
             ],
             [
              0.7777777777777778,
              "#fb9f3a"
             ],
             [
              0.8888888888888888,
              "#fdca26"
             ],
             [
              1,
              "#f0f921"
             ]
            ],
            "type": "heatmap"
           }
          ],
          "heatmapgl": [
           {
            "colorbar": {
             "outlinewidth": 0,
             "ticks": ""
            },
            "colorscale": [
             [
              0,
              "#0d0887"
             ],
             [
              0.1111111111111111,
              "#46039f"
             ],
             [
              0.2222222222222222,
              "#7201a8"
             ],
             [
              0.3333333333333333,
              "#9c179e"
             ],
             [
              0.4444444444444444,
              "#bd3786"
             ],
             [
              0.5555555555555556,
              "#d8576b"
             ],
             [
              0.6666666666666666,
              "#ed7953"
             ],
             [
              0.7777777777777778,
              "#fb9f3a"
             ],
             [
              0.8888888888888888,
              "#fdca26"
             ],
             [
              1,
              "#f0f921"
             ]
            ],
            "type": "heatmapgl"
           }
          ],
          "histogram": [
           {
            "marker": {
             "colorbar": {
              "outlinewidth": 0,
              "ticks": ""
             }
            },
            "type": "histogram"
           }
          ],
          "histogram2d": [
           {
            "colorbar": {
             "outlinewidth": 0,
             "ticks": ""
            },
            "colorscale": [
             [
              0,
              "#0d0887"
             ],
             [
              0.1111111111111111,
              "#46039f"
             ],
             [
              0.2222222222222222,
              "#7201a8"
             ],
             [
              0.3333333333333333,
              "#9c179e"
             ],
             [
              0.4444444444444444,
              "#bd3786"
             ],
             [
              0.5555555555555556,
              "#d8576b"
             ],
             [
              0.6666666666666666,
              "#ed7953"
             ],
             [
              0.7777777777777778,
              "#fb9f3a"
             ],
             [
              0.8888888888888888,
              "#fdca26"
             ],
             [
              1,
              "#f0f921"
             ]
            ],
            "type": "histogram2d"
           }
          ],
          "histogram2dcontour": [
           {
            "colorbar": {
             "outlinewidth": 0,
             "ticks": ""
            },
            "colorscale": [
             [
              0,
              "#0d0887"
             ],
             [
              0.1111111111111111,
              "#46039f"
             ],
             [
              0.2222222222222222,
              "#7201a8"
             ],
             [
              0.3333333333333333,
              "#9c179e"
             ],
             [
              0.4444444444444444,
              "#bd3786"
             ],
             [
              0.5555555555555556,
              "#d8576b"
             ],
             [
              0.6666666666666666,
              "#ed7953"
             ],
             [
              0.7777777777777778,
              "#fb9f3a"
             ],
             [
              0.8888888888888888,
              "#fdca26"
             ],
             [
              1,
              "#f0f921"
             ]
            ],
            "type": "histogram2dcontour"
           }
          ],
          "mesh3d": [
           {
            "colorbar": {
             "outlinewidth": 0,
             "ticks": ""
            },
            "type": "mesh3d"
           }
          ],
          "parcoords": [
           {
            "line": {
             "colorbar": {
              "outlinewidth": 0,
              "ticks": ""
             }
            },
            "type": "parcoords"
           }
          ],
          "pie": [
           {
            "automargin": true,
            "type": "pie"
           }
          ],
          "scatter": [
           {
            "marker": {
             "colorbar": {
              "outlinewidth": 0,
              "ticks": ""
             }
            },
            "type": "scatter"
           }
          ],
          "scatter3d": [
           {
            "line": {
             "colorbar": {
              "outlinewidth": 0,
              "ticks": ""
             }
            },
            "marker": {
             "colorbar": {
              "outlinewidth": 0,
              "ticks": ""
             }
            },
            "type": "scatter3d"
           }
          ],
          "scattercarpet": [
           {
            "marker": {
             "colorbar": {
              "outlinewidth": 0,
              "ticks": ""
             }
            },
            "type": "scattercarpet"
           }
          ],
          "scattergeo": [
           {
            "marker": {
             "colorbar": {
              "outlinewidth": 0,
              "ticks": ""
             }
            },
            "type": "scattergeo"
           }
          ],
          "scattergl": [
           {
            "marker": {
             "colorbar": {
              "outlinewidth": 0,
              "ticks": ""
             }
            },
            "type": "scattergl"
           }
          ],
          "scattermapbox": [
           {
            "marker": {
             "colorbar": {
              "outlinewidth": 0,
              "ticks": ""
             }
            },
            "type": "scattermapbox"
           }
          ],
          "scatterpolar": [
           {
            "marker": {
             "colorbar": {
              "outlinewidth": 0,
              "ticks": ""
             }
            },
            "type": "scatterpolar"
           }
          ],
          "scatterpolargl": [
           {
            "marker": {
             "colorbar": {
              "outlinewidth": 0,
              "ticks": ""
             }
            },
            "type": "scatterpolargl"
           }
          ],
          "scatterternary": [
           {
            "marker": {
             "colorbar": {
              "outlinewidth": 0,
              "ticks": ""
             }
            },
            "type": "scatterternary"
           }
          ],
          "surface": [
           {
            "colorbar": {
             "outlinewidth": 0,
             "ticks": ""
            },
            "colorscale": [
             [
              0,
              "#0d0887"
             ],
             [
              0.1111111111111111,
              "#46039f"
             ],
             [
              0.2222222222222222,
              "#7201a8"
             ],
             [
              0.3333333333333333,
              "#9c179e"
             ],
             [
              0.4444444444444444,
              "#bd3786"
             ],
             [
              0.5555555555555556,
              "#d8576b"
             ],
             [
              0.6666666666666666,
              "#ed7953"
             ],
             [
              0.7777777777777778,
              "#fb9f3a"
             ],
             [
              0.8888888888888888,
              "#fdca26"
             ],
             [
              1,
              "#f0f921"
             ]
            ],
            "type": "surface"
           }
          ],
          "table": [
           {
            "cells": {
             "fill": {
              "color": "#EBF0F8"
             },
             "line": {
              "color": "white"
             }
            },
            "header": {
             "fill": {
              "color": "#C8D4E3"
             },
             "line": {
              "color": "white"
             }
            },
            "type": "table"
           }
          ]
         },
         "layout": {
          "annotationdefaults": {
           "arrowcolor": "#2a3f5f",
           "arrowhead": 0,
           "arrowwidth": 1
          },
          "coloraxis": {
           "colorbar": {
            "outlinewidth": 0,
            "ticks": ""
           }
          },
          "colorscale": {
           "diverging": [
            [
             0,
             "#8e0152"
            ],
            [
             0.1,
             "#c51b7d"
            ],
            [
             0.2,
             "#de77ae"
            ],
            [
             0.3,
             "#f1b6da"
            ],
            [
             0.4,
             "#fde0ef"
            ],
            [
             0.5,
             "#f7f7f7"
            ],
            [
             0.6,
             "#e6f5d0"
            ],
            [
             0.7,
             "#b8e186"
            ],
            [
             0.8,
             "#7fbc41"
            ],
            [
             0.9,
             "#4d9221"
            ],
            [
             1,
             "#276419"
            ]
           ],
           "sequential": [
            [
             0,
             "#0d0887"
            ],
            [
             0.1111111111111111,
             "#46039f"
            ],
            [
             0.2222222222222222,
             "#7201a8"
            ],
            [
             0.3333333333333333,
             "#9c179e"
            ],
            [
             0.4444444444444444,
             "#bd3786"
            ],
            [
             0.5555555555555556,
             "#d8576b"
            ],
            [
             0.6666666666666666,
             "#ed7953"
            ],
            [
             0.7777777777777778,
             "#fb9f3a"
            ],
            [
             0.8888888888888888,
             "#fdca26"
            ],
            [
             1,
             "#f0f921"
            ]
           ],
           "sequentialminus": [
            [
             0,
             "#0d0887"
            ],
            [
             0.1111111111111111,
             "#46039f"
            ],
            [
             0.2222222222222222,
             "#7201a8"
            ],
            [
             0.3333333333333333,
             "#9c179e"
            ],
            [
             0.4444444444444444,
             "#bd3786"
            ],
            [
             0.5555555555555556,
             "#d8576b"
            ],
            [
             0.6666666666666666,
             "#ed7953"
            ],
            [
             0.7777777777777778,
             "#fb9f3a"
            ],
            [
             0.8888888888888888,
             "#fdca26"
            ],
            [
             1,
             "#f0f921"
            ]
           ]
          },
          "colorway": [
           "#636efa",
           "#EF553B",
           "#00cc96",
           "#ab63fa",
           "#FFA15A",
           "#19d3f3",
           "#FF6692",
           "#B6E880",
           "#FF97FF",
           "#FECB52"
          ],
          "font": {
           "color": "#2a3f5f"
          },
          "geo": {
           "bgcolor": "white",
           "lakecolor": "white",
           "landcolor": "#E5ECF6",
           "showlakes": true,
           "showland": true,
           "subunitcolor": "white"
          },
          "hoverlabel": {
           "align": "left"
          },
          "hovermode": "closest",
          "mapbox": {
           "style": "light"
          },
          "paper_bgcolor": "white",
          "plot_bgcolor": "#E5ECF6",
          "polar": {
           "angularaxis": {
            "gridcolor": "white",
            "linecolor": "white",
            "ticks": ""
           },
           "bgcolor": "#E5ECF6",
           "radialaxis": {
            "gridcolor": "white",
            "linecolor": "white",
            "ticks": ""
           }
          },
          "scene": {
           "xaxis": {
            "backgroundcolor": "#E5ECF6",
            "gridcolor": "white",
            "gridwidth": 2,
            "linecolor": "white",
            "showbackground": true,
            "ticks": "",
            "zerolinecolor": "white"
           },
           "yaxis": {
            "backgroundcolor": "#E5ECF6",
            "gridcolor": "white",
            "gridwidth": 2,
            "linecolor": "white",
            "showbackground": true,
            "ticks": "",
            "zerolinecolor": "white"
           },
           "zaxis": {
            "backgroundcolor": "#E5ECF6",
            "gridcolor": "white",
            "gridwidth": 2,
            "linecolor": "white",
            "showbackground": true,
            "ticks": "",
            "zerolinecolor": "white"
           }
          },
          "shapedefaults": {
           "line": {
            "color": "#2a3f5f"
           }
          },
          "ternary": {
           "aaxis": {
            "gridcolor": "white",
            "linecolor": "white",
            "ticks": ""
           },
           "baxis": {
            "gridcolor": "white",
            "linecolor": "white",
            "ticks": ""
           },
           "bgcolor": "#E5ECF6",
           "caxis": {
            "gridcolor": "white",
            "linecolor": "white",
            "ticks": ""
           }
          },
          "title": {
           "x": 0.05
          },
          "xaxis": {
           "automargin": true,
           "gridcolor": "white",
           "linecolor": "white",
           "ticks": "",
           "title": {
            "standoff": 15
           },
           "zerolinecolor": "white",
           "zerolinewidth": 2
          },
          "yaxis": {
           "automargin": true,
           "gridcolor": "white",
           "linecolor": "white",
           "ticks": "",
           "title": {
            "standoff": 15
           },
           "zerolinecolor": "white",
           "zerolinewidth": 2
          }
         }
        },
        "title": {
         "font": {
          "size": 20
         },
         "text": "Profit per Genre"
        },
        "uniformtext": {
         "minsize": 8,
         "mode": "hide"
        },
        "xaxis": {
         "anchor": "y",
         "domain": [
          0,
          1
         ],
         "title": {
          "text": "Genres"
         }
        },
        "yaxis": {
         "anchor": "x",
         "domain": [
          0,
          1
         ],
         "title": {
          "text": "Profit in 100M"
         }
        }
       }
      },
      "text/html": [
       "<div>                            <div id=\"a7e356b9-39db-4f65-a061-e799c398d859\" class=\"plotly-graph-div\" style=\"height:525px; width:100%;\"></div>            <script type=\"text/javascript\">                require([\"plotly\"], function(Plotly) {                    window.PLOTLYENV=window.PLOTLYENV || {};                                    if (document.getElementById(\"a7e356b9-39db-4f65-a061-e799c398d859\")) {                    Plotly.newPlot(                        \"a7e356b9-39db-4f65-a061-e799c398d859\",                        [{\"alignmentgroup\": \"True\", \"hovertemplate\": \"Genres=%{x}<br>Profit in 100M=%{marker.color}<extra></extra>\", \"legendgroup\": \"\", \"marker\": {\"color\": [226375431.64233577, 195784703.7142857, 170589951.36320755, 152131987.36956522, 121690938.08346213, 113459062.74603175], \"coloraxis\": \"coloraxis\"}, \"name\": \"\", \"offsetgroup\": \"\", \"orientation\": \"v\", \"showlegend\": false, \"text\": [226375431.64233577, 195784703.7142857, 170589951.36320755, 152131987.36956522, 121690938.08346213, 113459062.74603175], \"textposition\": \"outside\", \"texttemplate\": \"%{text:.4s}\", \"type\": \"bar\", \"x\": [\"Animation\", \"Adventure\", \"Sci-Fi\", \"Fantasy\", \"Action\", \"Family\"], \"xaxis\": \"x\", \"y\": [226375431.64233577, 195784703.7142857, 170589951.36320755, 152131987.36956522, 121690938.08346213, 113459062.74603175], \"yaxis\": \"y\"}],                        {\"barmode\": \"relative\", \"coloraxis\": {\"colorbar\": {\"title\": {\"text\": \"Profit in 100M\"}}, \"colorscale\": [[0.0, \"rgb(176, 242, 188)\"], [0.16666666666666666, \"rgb(137, 232, 172)\"], [0.3333333333333333, \"rgb(103, 219, 165)\"], [0.5, \"rgb(76, 200, 163)\"], [0.6666666666666666, \"rgb(56, 178, 163)\"], [0.8333333333333334, \"rgb(44, 152, 160)\"], [1.0, \"rgb(37, 125, 152)\"]]}, \"font\": {\"size\": 14}, \"legend\": {\"tracegroupgap\": 0}, \"margin\": {\"t\": 60}, \"template\": {\"data\": {\"bar\": [{\"error_x\": {\"color\": \"#2a3f5f\"}, \"error_y\": {\"color\": \"#2a3f5f\"}, \"marker\": {\"line\": {\"color\": \"#E5ECF6\", \"width\": 0.5}}, \"type\": \"bar\"}], \"barpolar\": [{\"marker\": {\"line\": {\"color\": \"#E5ECF6\", \"width\": 0.5}}, \"type\": \"barpolar\"}], \"carpet\": [{\"aaxis\": {\"endlinecolor\": \"#2a3f5f\", \"gridcolor\": \"white\", \"linecolor\": \"white\", \"minorgridcolor\": \"white\", \"startlinecolor\": \"#2a3f5f\"}, \"baxis\": {\"endlinecolor\": \"#2a3f5f\", \"gridcolor\": \"white\", \"linecolor\": \"white\", \"minorgridcolor\": \"white\", \"startlinecolor\": \"#2a3f5f\"}, \"type\": \"carpet\"}], \"choropleth\": [{\"colorbar\": {\"outlinewidth\": 0, \"ticks\": \"\"}, \"type\": \"choropleth\"}], \"contour\": [{\"colorbar\": {\"outlinewidth\": 0, \"ticks\": \"\"}, \"colorscale\": [[0.0, \"#0d0887\"], [0.1111111111111111, \"#46039f\"], [0.2222222222222222, \"#7201a8\"], [0.3333333333333333, \"#9c179e\"], [0.4444444444444444, \"#bd3786\"], [0.5555555555555556, \"#d8576b\"], [0.6666666666666666, \"#ed7953\"], [0.7777777777777778, \"#fb9f3a\"], [0.8888888888888888, \"#fdca26\"], [1.0, \"#f0f921\"]], \"type\": \"contour\"}], \"contourcarpet\": [{\"colorbar\": {\"outlinewidth\": 0, \"ticks\": \"\"}, \"type\": \"contourcarpet\"}], \"heatmap\": [{\"colorbar\": {\"outlinewidth\": 0, \"ticks\": \"\"}, \"colorscale\": [[0.0, \"#0d0887\"], [0.1111111111111111, \"#46039f\"], [0.2222222222222222, \"#7201a8\"], [0.3333333333333333, \"#9c179e\"], [0.4444444444444444, \"#bd3786\"], [0.5555555555555556, \"#d8576b\"], [0.6666666666666666, \"#ed7953\"], [0.7777777777777778, \"#fb9f3a\"], [0.8888888888888888, \"#fdca26\"], [1.0, \"#f0f921\"]], \"type\": \"heatmap\"}], \"heatmapgl\": [{\"colorbar\": {\"outlinewidth\": 0, \"ticks\": \"\"}, \"colorscale\": [[0.0, \"#0d0887\"], [0.1111111111111111, \"#46039f\"], [0.2222222222222222, \"#7201a8\"], [0.3333333333333333, \"#9c179e\"], [0.4444444444444444, \"#bd3786\"], [0.5555555555555556, \"#d8576b\"], [0.6666666666666666, \"#ed7953\"], [0.7777777777777778, \"#fb9f3a\"], [0.8888888888888888, \"#fdca26\"], [1.0, \"#f0f921\"]], \"type\": \"heatmapgl\"}], \"histogram\": [{\"marker\": {\"colorbar\": {\"outlinewidth\": 0, \"ticks\": \"\"}}, \"type\": \"histogram\"}], \"histogram2d\": [{\"colorbar\": {\"outlinewidth\": 0, \"ticks\": \"\"}, \"colorscale\": [[0.0, \"#0d0887\"], [0.1111111111111111, \"#46039f\"], [0.2222222222222222, \"#7201a8\"], [0.3333333333333333, \"#9c179e\"], [0.4444444444444444, \"#bd3786\"], [0.5555555555555556, \"#d8576b\"], [0.6666666666666666, \"#ed7953\"], [0.7777777777777778, \"#fb9f3a\"], [0.8888888888888888, \"#fdca26\"], [1.0, \"#f0f921\"]], \"type\": \"histogram2d\"}], \"histogram2dcontour\": [{\"colorbar\": {\"outlinewidth\": 0, \"ticks\": \"\"}, \"colorscale\": [[0.0, \"#0d0887\"], [0.1111111111111111, \"#46039f\"], [0.2222222222222222, \"#7201a8\"], [0.3333333333333333, \"#9c179e\"], [0.4444444444444444, \"#bd3786\"], [0.5555555555555556, \"#d8576b\"], [0.6666666666666666, \"#ed7953\"], [0.7777777777777778, \"#fb9f3a\"], [0.8888888888888888, \"#fdca26\"], [1.0, \"#f0f921\"]], \"type\": \"histogram2dcontour\"}], \"mesh3d\": [{\"colorbar\": {\"outlinewidth\": 0, \"ticks\": \"\"}, \"type\": \"mesh3d\"}], \"parcoords\": [{\"line\": {\"colorbar\": {\"outlinewidth\": 0, \"ticks\": \"\"}}, \"type\": \"parcoords\"}], \"pie\": [{\"automargin\": true, \"type\": \"pie\"}], \"scatter\": [{\"marker\": {\"colorbar\": {\"outlinewidth\": 0, \"ticks\": \"\"}}, \"type\": \"scatter\"}], \"scatter3d\": [{\"line\": {\"colorbar\": {\"outlinewidth\": 0, \"ticks\": \"\"}}, \"marker\": {\"colorbar\": {\"outlinewidth\": 0, \"ticks\": \"\"}}, \"type\": \"scatter3d\"}], \"scattercarpet\": [{\"marker\": {\"colorbar\": {\"outlinewidth\": 0, \"ticks\": \"\"}}, \"type\": \"scattercarpet\"}], \"scattergeo\": [{\"marker\": {\"colorbar\": {\"outlinewidth\": 0, \"ticks\": \"\"}}, \"type\": \"scattergeo\"}], \"scattergl\": [{\"marker\": {\"colorbar\": {\"outlinewidth\": 0, \"ticks\": \"\"}}, \"type\": \"scattergl\"}], \"scattermapbox\": [{\"marker\": {\"colorbar\": {\"outlinewidth\": 0, \"ticks\": \"\"}}, \"type\": \"scattermapbox\"}], \"scatterpolar\": [{\"marker\": {\"colorbar\": {\"outlinewidth\": 0, \"ticks\": \"\"}}, \"type\": \"scatterpolar\"}], \"scatterpolargl\": [{\"marker\": {\"colorbar\": {\"outlinewidth\": 0, \"ticks\": \"\"}}, \"type\": \"scatterpolargl\"}], \"scatterternary\": [{\"marker\": {\"colorbar\": {\"outlinewidth\": 0, \"ticks\": \"\"}}, \"type\": \"scatterternary\"}], \"surface\": [{\"colorbar\": {\"outlinewidth\": 0, \"ticks\": \"\"}, \"colorscale\": [[0.0, \"#0d0887\"], [0.1111111111111111, \"#46039f\"], [0.2222222222222222, \"#7201a8\"], [0.3333333333333333, \"#9c179e\"], [0.4444444444444444, \"#bd3786\"], [0.5555555555555556, \"#d8576b\"], [0.6666666666666666, \"#ed7953\"], [0.7777777777777778, \"#fb9f3a\"], [0.8888888888888888, \"#fdca26\"], [1.0, \"#f0f921\"]], \"type\": \"surface\"}], \"table\": [{\"cells\": {\"fill\": {\"color\": \"#EBF0F8\"}, \"line\": {\"color\": \"white\"}}, \"header\": {\"fill\": {\"color\": \"#C8D4E3\"}, \"line\": {\"color\": \"white\"}}, \"type\": \"table\"}]}, \"layout\": {\"annotationdefaults\": {\"arrowcolor\": \"#2a3f5f\", \"arrowhead\": 0, \"arrowwidth\": 1}, \"coloraxis\": {\"colorbar\": {\"outlinewidth\": 0, \"ticks\": \"\"}}, \"colorscale\": {\"diverging\": [[0, \"#8e0152\"], [0.1, \"#c51b7d\"], [0.2, \"#de77ae\"], [0.3, \"#f1b6da\"], [0.4, \"#fde0ef\"], [0.5, \"#f7f7f7\"], [0.6, \"#e6f5d0\"], [0.7, \"#b8e186\"], [0.8, \"#7fbc41\"], [0.9, \"#4d9221\"], [1, \"#276419\"]], \"sequential\": [[0.0, \"#0d0887\"], [0.1111111111111111, \"#46039f\"], [0.2222222222222222, \"#7201a8\"], [0.3333333333333333, \"#9c179e\"], [0.4444444444444444, \"#bd3786\"], [0.5555555555555556, \"#d8576b\"], [0.6666666666666666, \"#ed7953\"], [0.7777777777777778, \"#fb9f3a\"], [0.8888888888888888, \"#fdca26\"], [1.0, \"#f0f921\"]], \"sequentialminus\": [[0.0, \"#0d0887\"], [0.1111111111111111, \"#46039f\"], [0.2222222222222222, \"#7201a8\"], [0.3333333333333333, \"#9c179e\"], [0.4444444444444444, \"#bd3786\"], [0.5555555555555556, \"#d8576b\"], [0.6666666666666666, \"#ed7953\"], [0.7777777777777778, \"#fb9f3a\"], [0.8888888888888888, \"#fdca26\"], [1.0, \"#f0f921\"]]}, \"colorway\": [\"#636efa\", \"#EF553B\", \"#00cc96\", \"#ab63fa\", \"#FFA15A\", \"#19d3f3\", \"#FF6692\", \"#B6E880\", \"#FF97FF\", \"#FECB52\"], \"font\": {\"color\": \"#2a3f5f\"}, \"geo\": {\"bgcolor\": \"white\", \"lakecolor\": \"white\", \"landcolor\": \"#E5ECF6\", \"showlakes\": true, \"showland\": true, \"subunitcolor\": \"white\"}, \"hoverlabel\": {\"align\": \"left\"}, \"hovermode\": \"closest\", \"mapbox\": {\"style\": \"light\"}, \"paper_bgcolor\": \"white\", \"plot_bgcolor\": \"#E5ECF6\", \"polar\": {\"angularaxis\": {\"gridcolor\": \"white\", \"linecolor\": \"white\", \"ticks\": \"\"}, \"bgcolor\": \"#E5ECF6\", \"radialaxis\": {\"gridcolor\": \"white\", \"linecolor\": \"white\", \"ticks\": \"\"}}, \"scene\": {\"xaxis\": {\"backgroundcolor\": \"#E5ECF6\", \"gridcolor\": \"white\", \"gridwidth\": 2, \"linecolor\": \"white\", \"showbackground\": true, \"ticks\": \"\", \"zerolinecolor\": \"white\"}, \"yaxis\": {\"backgroundcolor\": \"#E5ECF6\", \"gridcolor\": \"white\", \"gridwidth\": 2, \"linecolor\": \"white\", \"showbackground\": true, \"ticks\": \"\", \"zerolinecolor\": \"white\"}, \"zaxis\": {\"backgroundcolor\": \"#E5ECF6\", \"gridcolor\": \"white\", \"gridwidth\": 2, \"linecolor\": \"white\", \"showbackground\": true, \"ticks\": \"\", \"zerolinecolor\": \"white\"}}, \"shapedefaults\": {\"line\": {\"color\": \"#2a3f5f\"}}, \"ternary\": {\"aaxis\": {\"gridcolor\": \"white\", \"linecolor\": \"white\", \"ticks\": \"\"}, \"baxis\": {\"gridcolor\": \"white\", \"linecolor\": \"white\", \"ticks\": \"\"}, \"bgcolor\": \"#E5ECF6\", \"caxis\": {\"gridcolor\": \"white\", \"linecolor\": \"white\", \"ticks\": \"\"}}, \"title\": {\"x\": 0.05}, \"xaxis\": {\"automargin\": true, \"gridcolor\": \"white\", \"linecolor\": \"white\", \"ticks\": \"\", \"title\": {\"standoff\": 15}, \"zerolinecolor\": \"white\", \"zerolinewidth\": 2}, \"yaxis\": {\"automargin\": true, \"gridcolor\": \"white\", \"linecolor\": \"white\", \"ticks\": \"\", \"title\": {\"standoff\": 15}, \"zerolinecolor\": \"white\", \"zerolinewidth\": 2}}}, \"title\": {\"font\": {\"size\": 20}, \"text\": \"Profit per Genre\"}, \"uniformtext\": {\"minsize\": 8, \"mode\": \"hide\"}, \"xaxis\": {\"anchor\": \"y\", \"domain\": [0.0, 1.0], \"title\": {\"text\": \"Genres\"}}, \"yaxis\": {\"anchor\": \"x\", \"domain\": [0.0, 1.0], \"title\": {\"text\": \"Profit in 100M\"}}},                        {\"responsive\": true}                    ).then(function(){\n",
       "                            \n",
       "var gd = document.getElementById('a7e356b9-39db-4f65-a061-e799c398d859');\n",
       "var x = new MutationObserver(function (mutations, observer) {{\n",
       "        var display = window.getComputedStyle(gd).display;\n",
       "        if (!display || display === 'none') {{\n",
       "            console.log([gd, 'removed!']);\n",
       "            Plotly.purge(gd);\n",
       "            observer.disconnect();\n",
       "        }}\n",
       "}});\n",
       "\n",
       "// Listen for the removal of the full notebook cells\n",
       "var notebookContainer = gd.closest('#notebook-container');\n",
       "if (notebookContainer) {{\n",
       "    x.observe(notebookContainer, {childList: true});\n",
       "}}\n",
       "\n",
       "// Listen for the clearing of the current output cell\n",
       "var outputEl = gd.closest('.output');\n",
       "if (outputEl) {{\n",
       "    x.observe(outputEl, {childList: true});\n",
       "}}\n",
       "\n",
       "                        })                };                });            </script>        </div>"
      ]
     },
     "metadata": {},
     "output_type": "display_data"
    }
   ],
   "source": [
    "import plotly.express as px\n",
    "\n",
    "fig = px.bar(genre_bar_df, x = genre_bar_df.index, y = 'world_profit', text='world_profit',\n",
    "            labels={\n",
    "                     \"genres\":\"Genres\",\n",
    "                     \"world_profit\": \"Profit in 100M\",\n",
    "                 },\n",
    "            color=\"world_profit\", color_continuous_scale=px.colors.sequential.Tealgrn)\n",
    "\n",
    "\n",
    "fig.update_layout(\n",
    "    title=dict(text=\"Profit per Genre\", font=dict(size=20)),\n",
    "    font=dict(\n",
    "        size=14,)\n",
    ")\n",
    "\n",
    "\n",
    "\n",
    "fig.update_traces(texttemplate='%{text:.4s}', textposition='outside')\n",
    "fig.update_layout(uniformtext_minsize=8, uniformtext_mode='hide')\n",
    "fig.show()"
   ]
  },
  {
   "cell_type": "code",
   "execution_count": null,
   "metadata": {},
   "outputs": [],
   "source": []
  }
 ],
 "metadata": {
  "kernelspec": {
   "display_name": "Python (learn-env)",
   "language": "python",
   "name": "learn-env"
  },
  "language_info": {
   "codemirror_mode": {
    "name": "ipython",
    "version": 3
   },
   "file_extension": ".py",
   "mimetype": "text/x-python",
   "name": "python",
   "nbconvert_exporter": "python",
   "pygments_lexer": "ipython3",
   "version": "3.8.5"
  }
 },
 "nbformat": 4,
 "nbformat_minor": 4
}
