{
 "cells": [
  {
   "cell_type": "markdown",
   "metadata": {},
   "source": [
    "# Is there a correlation between the runtime(minutes) of a movie and the amount of money it can make, Do people like to watch longer movies?"
   ]
  },
  {
   "cell_type": "code",
   "execution_count": 13,
   "metadata": {},
   "outputs": [],
   "source": [
    "import pandas as pd\n",
    "import matplotlib.pyplot as plt\n",
    "import seaborn as sns\n",
    "pd.set_option('display.float_format', lambda x: '%.5f' %x)"
   ]
  },
  {
   "cell_type": "code",
   "execution_count": 14,
   "metadata": {},
   "outputs": [],
   "source": [
    "# importing the most profitable genres from question 1\n",
    "df = pd.read_csv('world_profit_per_six_genres.csv')"
   ]
  },
  {
   "cell_type": "code",
   "execution_count": 15,
   "metadata": {},
   "outputs": [],
   "source": [
    "# dropping the unnamed column\n",
    "df = df.drop('Unnamed: 0', axis=1) "
   ]
  },
  {
   "cell_type": "code",
   "execution_count": 16,
   "metadata": {},
   "outputs": [
    {
     "data": {
      "text/html": [
       "<div>\n",
       "<style scoped>\n",
       "    .dataframe tbody tr th:only-of-type {\n",
       "        vertical-align: middle;\n",
       "    }\n",
       "\n",
       "    .dataframe tbody tr th {\n",
       "        vertical-align: top;\n",
       "    }\n",
       "\n",
       "    .dataframe thead th {\n",
       "        text-align: right;\n",
       "    }\n",
       "</style>\n",
       "<table border=\"1\" class=\"dataframe\">\n",
       "  <thead>\n",
       "    <tr style=\"text-align: right;\">\n",
       "      <th></th>\n",
       "      <th>title</th>\n",
       "      <th>start_year</th>\n",
       "      <th>runtime_minutes</th>\n",
       "      <th>genres</th>\n",
       "      <th>id</th>\n",
       "      <th>release_date</th>\n",
       "      <th>production_budget</th>\n",
       "      <th>domestic_gross</th>\n",
       "      <th>worldwide_gross</th>\n",
       "      <th>world_profit</th>\n",
       "    </tr>\n",
       "  </thead>\n",
       "  <tbody>\n",
       "    <tr>\n",
       "      <th>0</th>\n",
       "      <td>Titanic</td>\n",
       "      <td>2018</td>\n",
       "      <td>115.00000</td>\n",
       "      <td>Family</td>\n",
       "      <td>43</td>\n",
       "      <td>Dec 19, 1997</td>\n",
       "      <td>200000000.00000</td>\n",
       "      <td>659363944.00000</td>\n",
       "      <td>2208208395.00000</td>\n",
       "      <td>2008208395.00000</td>\n",
       "    </tr>\n",
       "    <tr>\n",
       "      <th>1</th>\n",
       "      <td>Avengers: Infinity War</td>\n",
       "      <td>2018</td>\n",
       "      <td>149.00000</td>\n",
       "      <td>Sci-Fi</td>\n",
       "      <td>7</td>\n",
       "      <td>Apr 27, 2018</td>\n",
       "      <td>300000000.00000</td>\n",
       "      <td>678815482.00000</td>\n",
       "      <td>2048134200.00000</td>\n",
       "      <td>1748134200.00000</td>\n",
       "    </tr>\n",
       "    <tr>\n",
       "      <th>2</th>\n",
       "      <td>Avengers: Infinity War</td>\n",
       "      <td>2018</td>\n",
       "      <td>149.00000</td>\n",
       "      <td>Adventure</td>\n",
       "      <td>7</td>\n",
       "      <td>Apr 27, 2018</td>\n",
       "      <td>300000000.00000</td>\n",
       "      <td>678815482.00000</td>\n",
       "      <td>2048134200.00000</td>\n",
       "      <td>1748134200.00000</td>\n",
       "    </tr>\n",
       "    <tr>\n",
       "      <th>3</th>\n",
       "      <td>Avengers: Infinity War</td>\n",
       "      <td>2018</td>\n",
       "      <td>149.00000</td>\n",
       "      <td>Action</td>\n",
       "      <td>7</td>\n",
       "      <td>Apr 27, 2018</td>\n",
       "      <td>300000000.00000</td>\n",
       "      <td>678815482.00000</td>\n",
       "      <td>2048134200.00000</td>\n",
       "      <td>1748134200.00000</td>\n",
       "    </tr>\n",
       "    <tr>\n",
       "      <th>4</th>\n",
       "      <td>Jurassic World</td>\n",
       "      <td>2015</td>\n",
       "      <td>124.00000</td>\n",
       "      <td>Sci-Fi</td>\n",
       "      <td>34</td>\n",
       "      <td>Jun 12, 2015</td>\n",
       "      <td>215000000.00000</td>\n",
       "      <td>652270625.00000</td>\n",
       "      <td>1648854864.00000</td>\n",
       "      <td>1433854864.00000</td>\n",
       "    </tr>\n",
       "    <tr>\n",
       "      <th>...</th>\n",
       "      <td>...</td>\n",
       "      <td>...</td>\n",
       "      <td>...</td>\n",
       "      <td>...</td>\n",
       "      <td>...</td>\n",
       "      <td>...</td>\n",
       "      <td>...</td>\n",
       "      <td>...</td>\n",
       "      <td>...</td>\n",
       "      <td>...</td>\n",
       "    </tr>\n",
       "    <tr>\n",
       "      <th>1833</th>\n",
       "      <td>Mars Needs Moms</td>\n",
       "      <td>2011</td>\n",
       "      <td>88.00000</td>\n",
       "      <td>Animation</td>\n",
       "      <td>94</td>\n",
       "      <td>Mar 11, 2011</td>\n",
       "      <td>150000000.00000</td>\n",
       "      <td>21392758.00000</td>\n",
       "      <td>39549758.00000</td>\n",
       "      <td>-110450242.00000</td>\n",
       "    </tr>\n",
       "    <tr>\n",
       "      <th>1834</th>\n",
       "      <td>Mars Needs Moms</td>\n",
       "      <td>2011</td>\n",
       "      <td>88.00000</td>\n",
       "      <td>Adventure</td>\n",
       "      <td>94</td>\n",
       "      <td>Mar 11, 2011</td>\n",
       "      <td>150000000.00000</td>\n",
       "      <td>21392758.00000</td>\n",
       "      <td>39549758.00000</td>\n",
       "      <td>-110450242.00000</td>\n",
       "    </tr>\n",
       "    <tr>\n",
       "      <th>1835</th>\n",
       "      <td>Dark Phoenix</td>\n",
       "      <td>2019</td>\n",
       "      <td>113.00000</td>\n",
       "      <td>Sci-Fi</td>\n",
       "      <td>3</td>\n",
       "      <td>Jun 7, 2019</td>\n",
       "      <td>350000000.00000</td>\n",
       "      <td>42762350.00000</td>\n",
       "      <td>149762350.00000</td>\n",
       "      <td>-200237650.00000</td>\n",
       "    </tr>\n",
       "    <tr>\n",
       "      <th>1836</th>\n",
       "      <td>Dark Phoenix</td>\n",
       "      <td>2019</td>\n",
       "      <td>113.00000</td>\n",
       "      <td>Adventure</td>\n",
       "      <td>3</td>\n",
       "      <td>Jun 7, 2019</td>\n",
       "      <td>350000000.00000</td>\n",
       "      <td>42762350.00000</td>\n",
       "      <td>149762350.00000</td>\n",
       "      <td>-200237650.00000</td>\n",
       "    </tr>\n",
       "    <tr>\n",
       "      <th>1837</th>\n",
       "      <td>Dark Phoenix</td>\n",
       "      <td>2019</td>\n",
       "      <td>113.00000</td>\n",
       "      <td>Action</td>\n",
       "      <td>3</td>\n",
       "      <td>Jun 7, 2019</td>\n",
       "      <td>350000000.00000</td>\n",
       "      <td>42762350.00000</td>\n",
       "      <td>149762350.00000</td>\n",
       "      <td>-200237650.00000</td>\n",
       "    </tr>\n",
       "  </tbody>\n",
       "</table>\n",
       "<p>1838 rows × 10 columns</p>\n",
       "</div>"
      ],
      "text/plain": [
       "                       title  start_year  runtime_minutes     genres  id  \\\n",
       "0                    Titanic        2018        115.00000     Family  43   \n",
       "1     Avengers: Infinity War        2018        149.00000     Sci-Fi   7   \n",
       "2     Avengers: Infinity War        2018        149.00000  Adventure   7   \n",
       "3     Avengers: Infinity War        2018        149.00000     Action   7   \n",
       "4             Jurassic World        2015        124.00000     Sci-Fi  34   \n",
       "...                      ...         ...              ...        ...  ..   \n",
       "1833         Mars Needs Moms        2011         88.00000  Animation  94   \n",
       "1834         Mars Needs Moms        2011         88.00000  Adventure  94   \n",
       "1835            Dark Phoenix        2019        113.00000     Sci-Fi   3   \n",
       "1836            Dark Phoenix        2019        113.00000  Adventure   3   \n",
       "1837            Dark Phoenix        2019        113.00000     Action   3   \n",
       "\n",
       "      release_date  production_budget  domestic_gross  worldwide_gross  \\\n",
       "0     Dec 19, 1997    200000000.00000 659363944.00000 2208208395.00000   \n",
       "1     Apr 27, 2018    300000000.00000 678815482.00000 2048134200.00000   \n",
       "2     Apr 27, 2018    300000000.00000 678815482.00000 2048134200.00000   \n",
       "3     Apr 27, 2018    300000000.00000 678815482.00000 2048134200.00000   \n",
       "4     Jun 12, 2015    215000000.00000 652270625.00000 1648854864.00000   \n",
       "...            ...                ...             ...              ...   \n",
       "1833  Mar 11, 2011    150000000.00000  21392758.00000   39549758.00000   \n",
       "1834  Mar 11, 2011    150000000.00000  21392758.00000   39549758.00000   \n",
       "1835   Jun 7, 2019    350000000.00000  42762350.00000  149762350.00000   \n",
       "1836   Jun 7, 2019    350000000.00000  42762350.00000  149762350.00000   \n",
       "1837   Jun 7, 2019    350000000.00000  42762350.00000  149762350.00000   \n",
       "\n",
       "         world_profit  \n",
       "0    2008208395.00000  \n",
       "1    1748134200.00000  \n",
       "2    1748134200.00000  \n",
       "3    1748134200.00000  \n",
       "4    1433854864.00000  \n",
       "...               ...  \n",
       "1833 -110450242.00000  \n",
       "1834 -110450242.00000  \n",
       "1835 -200237650.00000  \n",
       "1836 -200237650.00000  \n",
       "1837 -200237650.00000  \n",
       "\n",
       "[1838 rows x 10 columns]"
      ]
     },
     "execution_count": 16,
     "metadata": {},
     "output_type": "execute_result"
    }
   ],
   "source": [
    "df"
   ]
  },
  {
   "cell_type": "code",
   "execution_count": 17,
   "metadata": {
    "scrolled": true
   },
   "outputs": [
    {
     "data": {
      "text/plain": [
       "Action       647\n",
       "Adventure    469\n",
       "Sci-Fi       212\n",
       "Family       189\n",
       "Fantasy      184\n",
       "Animation    137\n",
       "Name: genres, dtype: int64"
      ]
     },
     "execution_count": 17,
     "metadata": {},
     "output_type": "execute_result"
    }
   ],
   "source": [
    "# how many of each genres there is from the genres column\n",
    "df['genres'].value_counts()"
   ]
  },
  {
   "cell_type": "code",
   "execution_count": 30,
   "metadata": {
    "scrolled": false
   },
   "outputs": [
    {
     "data": {
      "image/png": "[encoded data removed]",
      "text/plain": [
       "<Figure size 1080x504 with 1 Axes>"
      ]
     },
     "metadata": {
      "needs_background": "light"
     },
     "output_type": "display_data"
    }
   ],
   "source": [
    "# scatter plot for the runtime and profit for the top 6 most profitable genres\n",
    "\n",
    "fig, ax = plt.subplots(figsize = (15,7))\n",
    "sns.scatterplot(x='runtime_minutes',y='world_profit',hue='genres', data=df, ax=ax)\n",
    "ax.set_title('Runtime and Profit of Movie in the last Decade.', fontsize=20)\n",
    "ax.set_xlabel('Runtime in Minutes', fontsize=15)\n",
    "ax.set_ylabel('Profit in 100M', fontsize=15)\n",
    "plt.legend(bbox_to_anchor=(1.02, 1), loc='upper left', borderaxespad=0)\n",
    "fig.tight_layout();            \n",
    "# recommod movie that, it should run from 75 to 145 mintues."
   ]
  },
  {
   "cell_type": "code",
   "execution_count": 8,
   "metadata": {
    "scrolled": false
   },
   "outputs": [
    {
     "data": {
      "image/png": "[encoded data removed]",
      "text/plain": [
       "<Figure size 360x2160 with 6 Axes>"
      ]
     },
     "metadata": {
      "needs_background": "light"
     },
     "output_type": "display_data"
    }
   ],
   "source": [
    "# created a relplot to seperate each genre \n",
    "sns.relplot(x = 'runtime_minutes', y = 'world_profit',  row = 'genres', data = df)\n",
    "plt.show()\n",
    "# to show a seprate way of show the run time and profit per movie, by genres"
   ]
  },
  {
   "cell_type": "code",
   "execution_count": 10,
   "metadata": {},
   "outputs": [],
   "source": [
    "# grouping by the genres and getting the average, then sortting the values by the world_profit from higest to lowest\n",
    "df_genre_mean = round(df.groupby('genres').mean().sort_values(by='world_profit', ascending=False),3)"
   ]
  },
  {
   "cell_type": "code",
   "execution_count": 11,
   "metadata": {},
   "outputs": [
    {
     "data": {
      "text/html": [
       "<div>\n",
       "<style scoped>\n",
       "    .dataframe tbody tr th:only-of-type {\n",
       "        vertical-align: middle;\n",
       "    }\n",
       "\n",
       "    .dataframe tbody tr th {\n",
       "        vertical-align: top;\n",
       "    }\n",
       "\n",
       "    .dataframe thead th {\n",
       "        text-align: right;\n",
       "    }\n",
       "</style>\n",
       "<table border=\"1\" class=\"dataframe\">\n",
       "  <thead>\n",
       "    <tr style=\"text-align: right;\">\n",
       "      <th></th>\n",
       "      <th>runtime_minutes</th>\n",
       "      <th>production_budget</th>\n",
       "      <th>worldwide_gross</th>\n",
       "      <th>world_profit</th>\n",
       "    </tr>\n",
       "    <tr>\n",
       "      <th>genres</th>\n",
       "      <th></th>\n",
       "      <th></th>\n",
       "      <th></th>\n",
       "      <th></th>\n",
       "    </tr>\n",
       "  </thead>\n",
       "  <tbody>\n",
       "    <tr>\n",
       "      <th>Animation</th>\n",
       "      <td>89.01500</td>\n",
       "      <td>83208593.04400</td>\n",
       "      <td>309584024.68600</td>\n",
       "      <td>226375431.64200</td>\n",
       "    </tr>\n",
       "    <tr>\n",
       "      <th>Adventure</th>\n",
       "      <td>106.36700</td>\n",
       "      <td>88734038.60600</td>\n",
       "      <td>284518742.32000</td>\n",
       "      <td>195784703.71400</td>\n",
       "    </tr>\n",
       "    <tr>\n",
       "      <th>Sci-Fi</th>\n",
       "      <td>107.17000</td>\n",
       "      <td>67721530.06100</td>\n",
       "      <td>238311481.42500</td>\n",
       "      <td>170589951.36300</td>\n",
       "    </tr>\n",
       "    <tr>\n",
       "      <th>Fantasy</th>\n",
       "      <td>107.33200</td>\n",
       "      <td>68741245.90800</td>\n",
       "      <td>220873233.27700</td>\n",
       "      <td>152131987.37000</td>\n",
       "    </tr>\n",
       "    <tr>\n",
       "      <th>Action</th>\n",
       "      <td>109.32300</td>\n",
       "      <td>64847820.71100</td>\n",
       "      <td>186538758.79400</td>\n",
       "      <td>121690938.08300</td>\n",
       "    </tr>\n",
       "    <tr>\n",
       "      <th>Family</th>\n",
       "      <td>90.66100</td>\n",
       "      <td>48025990.72500</td>\n",
       "      <td>161485053.47100</td>\n",
       "      <td>113459062.74600</td>\n",
       "    </tr>\n",
       "  </tbody>\n",
       "</table>\n",
       "</div>"
      ],
      "text/plain": [
       "           runtime_minutes  production_budget  worldwide_gross    world_profit\n",
       "genres                                                                        \n",
       "Animation         89.01500     83208593.04400  309584024.68600 226375431.64200\n",
       "Adventure        106.36700     88734038.60600  284518742.32000 195784703.71400\n",
       "Sci-Fi           107.17000     67721530.06100  238311481.42500 170589951.36300\n",
       "Fantasy          107.33200     68741245.90800  220873233.27700 152131987.37000\n",
       "Action           109.32300     64847820.71100  186538758.79400 121690938.08300\n",
       "Family            90.66100     48025990.72500  161485053.47100 113459062.74600"
      ]
     },
     "execution_count": 11,
     "metadata": {},
     "output_type": "execute_result"
    }
   ],
   "source": [
    "# checking the above code\n",
    "df_genre_mean.loc[:, ('runtime_minutes', 'production_budget', 'worldwide_gross', 'world_profit')]"
   ]
  },
  {
   "cell_type": "code",
   "execution_count": 51,
   "metadata": {},
   "outputs": [
    {
     "data": {
      "application/vnd.plotly.v1+json": {
       "config": {
        "plotlyServerURL": "https://plot.ly"
       },
       "data": [
        {
         "customdata": [
          [
           "Titanic"
          ],
          [
           "Beauty and the Beast"
          ],
          [
           "Beauty and the Beast"
          ],
          [
           "Alice in Wonderland"
          ],
          [
           "The Jungle Book"
          ],
          [
           "The Hobbit: An Unexpected Journey"
          ],
          [
           "Inside Out"
          ],
          [
           "Fantastic Beasts and Where to Find Them"
          ],
          [
           "Beauty and the Beast"
          ],
          [
           "Beauty and the Beast"
          ],
          [
           "Maleficent"
          ],
          [
           "Sing"
          ],
          [
           "Logan"
          ],
          [
           "Aladdin"
          ],
          [
           "Despicable Me"
          ],
          [
           "Fantastic Beasts: The Crimes of Grindelwald"
          ],
          [
           "Cinderella"
          ],
          [
           "Aladdin"
          ],
          [
           "Iron Man"
          ],
          [
           "Hotel Transylvania 2"
          ],
          [
           "The Mask"
          ],
          [
           "Ice Age"
          ],
          [
           "The Karate Kid"
          ],
          [
           "Hotel Transylvania"
          ],
          [
           "Oz the Great and Powerful"
          ],
          [
           "Wonder"
          ],
          [
           "The Chronicles of Narnia: The Voyage of the Dawn Treader"
          ],
          [
           "The Rock"
          ],
          [
           "Cinderella"
          ],
          [
           "Home"
          ],
          [
           "Home"
          ],
          [
           "Home"
          ],
          [
           "Dinosaur"
          ],
          [
           "Night at the Museum: Secret of the Tomb"
          ],
          [
           "Mary Poppins Returns"
          ],
          [
           "Paddington"
          ],
          [
           "Snow White and the Seven Dwarfs"
          ],
          [
           "Dumbo"
          ],
          [
           "The Last Airbender"
          ],
          [
           "Epic"
          ],
          [
           "Real Steel"
          ],
          [
           "Percy Jackson & the Olympians: The Lightning Thief"
          ],
          [
           "Gulliver's Travels"
          ],
          [
           "The Muppets"
          ],
          [
           "Percy Jackson: Sea of Monsters"
          ],
          [
           "Alice Through the Looking Glass"
          ],
          [
           "Goosebumps"
          ],
          [
           "Parental Guidance"
          ],
          [
           "Zookeeper"
          ],
          [
           "The Karate Kid"
          ],
          [
           "Pinocchio"
          ],
          [
           "I Can Only Imagine"
          ],
          [
           "Annie"
          ],
          [
           "The Strangers"
          ],
          [
           "Alexander and the Terrible, Horrible, No Good, Very Bad Day"
          ],
          [
           "We Bought a Zoo"
          ],
          [
           "Tooth Fairy"
          ],
          [
           "Diary of a Wimpy Kid"
          ],
          [
           "Wolf"
          ],
          [
           "Begin Again"
          ],
          [
           "Miracles from Heaven"
          ],
          [
           "The BFG"
          ],
          [
           "Monster"
          ],
          [
           "Dolphin Tale"
          ],
          [
           "Goosebumps 2: Haunted Halloween"
          ],
          [
           "The Sorcerer's Apprentice"
          ],
          [
           "Diary of a Wimpy Kid: Rodrick Rules"
          ],
          [
           "Diary of a Wimpy Kid: Dog Days"
          ],
          [
           "Alpha"
          ],
          [
           "Home"
          ],
          [
           "Home"
          ],
          [
           "Home"
          ],
          [
           "One Day"
          ],
          [
           "Frankenweenie"
          ],
          [
           "Fences"
          ],
          [
           "Marmaduke"
          ],
          [
           "Shutter"
          ],
          [
           "The Nutcracker and the Four Realms"
          ],
          [
           "Milk"
          ],
          [
           "Tomorrowland"
          ],
          [
           "Miracle"
          ],
          [
           "Little Women"
          ],
          [
           "Benji"
          ],
          [
           "A Wrinkle in Time"
          ],
          [
           "Quarantine"
          ],
          [
           "Coming Home"
          ],
          [
           "Earth to Echo"
          ],
          [
           "Soul Surfer"
          ],
          [
           "Cats & Dogs: The Revenge of Kitty Galore"
          ],
          [
           "Where the Heart Is"
          ],
          [
           "Secretariat"
          ],
          [
           "A Man for All Seasons"
          ],
          [
           "Friday"
          ],
          [
           "The Three Stooges"
          ],
          [
           "Max"
          ],
          [
           "Dolphin Tale 2"
          ],
          [
           "Monte Carlo"
          ],
          [
           "The Spy Next Door"
          ],
          [
           "The Adventures of Huck Finn"
          ],
          [
           "The Jungle Book"
          ],
          [
           "The Odd Life of Timothy Green"
          ],
          [
           "The Visitor"
          ],
          [
           "When the Game Stands Tall"
          ],
          [
           "Middle School: The Worst Years of My Life"
          ],
          [
           "Diary of a Wimpy Kid: The Long Haul"
          ],
          [
           "You Again"
          ],
          [
           "Ramona and Beezus"
          ],
          [
           "Magnolia"
          ],
          [
           "Youth"
          ],
          [
           "Heavy Metal"
          ],
          [
           "Bella"
          ],
          [
           "Khumba"
          ],
          [
           "The Perfect Match"
          ],
          [
           "The Kid"
          ],
          [
           "Furry Vengeance"
          ],
          [
           "Bernie"
          ],
          [
           "Brick"
          ],
          [
           "Oddball"
          ],
          [
           "Prom"
          ],
          [
           "Happiness"
          ],
          [
           "Venus"
          ],
          [
           "Home Run"
          ],
          [
           "Pan"
          ],
          [
           "The Resurrection of Gavin Stone"
          ],
          [
           "Letters to God"
          ],
          [
           "Iris"
          ],
          [
           "Hugo"
          ],
          [
           "Sunday"
          ],
          [
           "The Brain That Sings"
          ],
          [
           "The Calling"
          ],
          [
           "Horse Camp"
          ],
          [
           "The Christmas Bunny"
          ],
          [
           "Home Movies"
          ],
          [
           "Rotor DR1"
          ],
          [
           "23 Blast"
          ],
          [
           "The Journey"
          ],
          [
           "Rodeo Girl"
          ],
          [
           "Walter"
          ],
          [
           "Karachi se Lahore"
          ],
          [
           "Underdogs"
          ],
          [
           "Underdogs"
          ],
          [
           "The Square"
          ],
          [
           "Chloe"
          ],
          [
           "Under the Rainbow"
          ],
          [
           "Forget Me Not"
          ],
          [
           "The Square"
          ],
          [
           "The Lost Medallion: The Adventures of Billy Stone"
          ],
          [
           "Circle"
          ],
          [
           "Lucky Dog"
          ],
          [
           "Frontera"
          ],
          [
           "Christmas Mail"
          ],
          [
           "The Calling"
          ],
          [
           "Jem and the Holograms"
          ],
          [
           "Alice in Wonderland"
          ],
          [
           "The Messenger"
          ],
          [
           "Henry & Me"
          ],
          [
           "Running Forever"
          ],
          [
           "The Christmas Candle"
          ],
          [
           "Max Steel"
          ],
          [
           "Beautiful"
          ],
          [
           "Aberdeen"
          ],
          [
           "Greater"
          ],
          [
           "A.C.O.R.N.S.: Operation Crackdown"
          ],
          [
           "The Return"
          ],
          [
           "The Return"
          ],
          [
           "Redemption"
          ],
          [
           "Black Nativity"
          ],
          [
           "Triangle"
          ],
          [
           "Brother"
          ],
          [
           "Home"
          ],
          [
           "Home"
          ],
          [
           "Home"
          ],
          [
           "Almost Famous"
          ],
          [
           "Pinocchio"
          ],
          [
           "Big Miracle"
          ],
          [
           "The Pledge"
          ],
          [
           "Driven"
          ],
          [
           "Molly"
          ],
          [
           "Sgt. Stubby: An American Hero"
          ],
          [
           "Unfinished Business"
          ],
          [
           "Blood Ties"
          ],
          [
           "Upside Down"
          ],
          [
           "The Adventurer: The Curse of the Midas Box"
          ],
          [
           "The Kid Who Would Be King"
          ],
          [
           "The Last Shot"
          ],
          [
           "Virus"
          ],
          [
           "Midway"
          ],
          [
           "The Nutcracker in 3D"
          ],
          [
           "Mars Needs Moms"
          ]
         ],
         "hovertemplate": "Genre=Family<br>Runtime=%{x}<br>Profit in 100M=%{y}<br>Budget=%{marker.size}<br>title=%{customdata[0]}<extra></extra>",
         "legendgroup": "Family",
         "marker": {
          "color": "#636efa",
          "size": [
           200000000,
           160000000,
           160000000,
           200000000,
           175000000,
           250000000,
           175000000,
           180000000,
           20000000,
           20000000,
           180000000,
           75000000,
           127000000,
           28000000,
           69000000,
           200000000,
           95000000,
           182000000,
           186000000,
           80000000,
           18000000,
           65000000,
           40000000,
           85000000,
           200000000,
           20000000,
           155000000,
           75000000,
           2900000,
           130000000,
           130000000,
           130000000,
           127500000,
           127000000,
           130000000,
           55000000,
           1488000,
           170000000,
           150000000,
           100000000,
           110000000,
           95000000,
           112000000,
           45000000,
           90000000,
           170000000,
           58000000,
           25000000,
           80000000,
           8000000,
           2289247,
           7000000,
           65000000,
           9000000,
           28000000,
           50000000,
           48000000,
           15000000,
           70000000,
           8000000,
           13000000,
           140000000,
           5000000,
           37000000,
           35000000,
           160000000,
           18000000,
           22000000,
           51000000,
           500000,
           500000,
           500000,
           15000000,
           39000000,
           24000000,
           50000000,
           8000000,
           132900000,
           20000000,
           170000000,
           28000000,
           15000000,
           500000,
           103000000,
           12000000,
           3000000,
           13000000,
           18000000,
           85000000,
           15000000,
           35000000,
           3900000,
           3500000,
           30000000,
           20000000,
           36000000,
           20000000,
           28000000,
           6500000,
           27000000,
           40000000,
           4000000,
           15000000,
           8500000,
           22000000,
           20000000,
           15000000,
           37000000,
           13000000,
           9300000,
           3300000,
           15000000,
           5000000,
           65000000,
           35000000,
           6000000,
           450000,
           7000000,
           8000000,
           3000000,
           6000000,
           1200000,
           150000000,
           2000000,
           3000000,
           5500000,
           180000000,
           450000,
           125000,
           160000,
           250000,
           250000,
           400000,
           350000,
           1000000,
           500000,
           500000,
           700000,
           1000000,
           2500000,
           2500000,
           1900000,
           13000000,
           20000000,
           1300000,
           1500000,
           2500000,
           2000000,
           2000000,
           2300000,
           2500000,
           2500000,
           5000000,
           3000000,
           6500000,
           5000000,
           5000000,
           7000000,
           10000000,
           9000000,
           6500000,
           9000000,
           8500000,
           15000000,
           15000000,
           23000000,
           17500000,
           12000000,
           12000000,
           12000000,
           12000000,
           12000000,
           60000000,
           45000000,
           40000000,
           45000000,
           72000000,
           21000000,
           25000000,
           35000000,
           26000000,
           50000000,
           25000000,
           59000000,
           40000000,
           75000000,
           59500000,
           90000000,
           150000000
          ],
          "sizemode": "area",
          "sizeref": 1026500,
          "symbol": "circle"
         },
         "mode": "markers",
         "name": "Family",
         "showlegend": true,
         "type": "scattergl",
         "x": [
          115,
          129,
          60,
          108,
          106,
          169,
          59,
          132,
          129,
          60,
          97,
          108,
          94,
          128,
          95,
          134,
          105,
          128,
          84,
          89,
          9,
          106,
          140,
          91,
          130,
          113,
          113,
          9,
          105,
          7,
          5,
          35,
          5,
          98,
          130,
          95,
          49,
          112,
          103,
          102,
          127,
          118,
          85,
          103,
          106,
          113,
          103,
          105,
          102,
          140,
          75,
          110,
          118,
          81,
          81,
          124,
          101,
          94,
          87,
          68,
          109,
          117,
          139,
          113,
          90,
          109,
          99,
          94,
          96,
          35,
          5,
          7,
          90,
          87,
          117,
          87,
          123,
          99,
          91,
          130,
          74,
          112,
          87,
          109,
          15,
          50,
          91,
          112,
          82,
          50,
          123,
          43,
          117,
          92,
          111,
          107,
          109,
          94,
          99,
          106,
          105,
          127,
          115,
          92,
          91,
          105,
          103,
          85,
          75,
          50,
          80,
          85,
          87,
          49,
          92,
          155,
          93,
          95,
          104,
          80,
          95,
          82,
          111,
          91,
          110,
          85,
          126,
          11,
          62,
          92,
          108,
          98,
          77,
          98,
          98,
          103,
          108,
          32,
          143,
          102,
          106,
          75,
          6,
          12,
          90,
          75,
          97,
          70,
          88,
          82,
          89,
          92,
          118,
          108,
          89,
          67,
          88,
          100,
          92,
          120,
          97,
          130,
          83,
          81,
          96,
          110,
          93,
          62,
          97,
          35,
          5,
          7,
          95,
          75,
          107,
          118,
          27,
          128,
          84,
          107,
          83,
          70,
          100,
          120,
          101,
          30,
          85,
          110,
          88
         ],
         "xaxis": "x",
         "y": [
          2008208395,
          1099199706,
          1099199706,
          825491110,
          787854547,
          767003568,
          679235992,
          622402853,
          588431132,
          588431132,
          578536735,
          559454789,
          488461394,
          476050219,
          474464573,
          452220086,
          439551353,
          437234314,
          399171547,
          389500298,
          333620129,
          321116343,
          311774938,
          293505812,
          290359051,
          284604712,
          263186950,
          261069511,
          260691415,
          255997896,
          255997896,
          255997896,
          228648063,
          226756621,
          211528518,
          203789097,
          183437486,
          175004422,
          169713881,
          162794441,
          153880341,
          128050874,
          120017848,
          115971922,
          110859554,
          106928112,
          100905324,
          95832383,
          90805525,
          82815558,
          82010753,
          78604221,
          74829625,
          74051676,
          73379287,
          68729073,
          64610386,
          61954311,
          61011757,
          60838736,
          60798736,
          59646680,
          59240813,
          59068724,
          58291478,
          57986320,
          55695194,
          55229695,
          48624873,
          44293168,
          44293168,
          44293168,
          44168692,
          42150788,
          40282881,
          39895930,
          39782426,
          37393899,
          37293371,
          36627518,
          36474705,
          35003303,
          31059560,
          30401882,
          29924774,
          29653000,
          29174545,
          29158652,
          28026383,
          25862054,
          25376247,
          24450000,
          24436778,
          24052249,
          23658157,
          21824533,
          19686769,
          18752858,
          17603594,
          17342956,
          15249159,
          15174817,
          15138912,
          14811293,
          13609577,
          12838945,
          12469621,
          11446802,
          11001573,
          10271091,
          9105473,
          5898221,
          5182050,
          4688384,
          4340177,
          4106975,
          3793996,
          3237229,
          2763183,
          2746453,
          1818479,
          1659955,
          1525973,
          303792,
          237452,
          80479,
          47784,
          349,
          -125000,
          -127908,
          -250000,
          -250000,
          -310866,
          -350000,
          -450815,
          -480200,
          -500000,
          -700000,
          -982279,
          -1107351,
          -1107351,
          -1159068,
          -1168869,
          -1173510,
          -1286535,
          -1323738,
          -1950368,
          -1989976,
          -2000000,
          -2240304,
          -2500000,
          -2500000,
          -2631063,
          -3000000,
          -4755048,
          -5000000,
          -5000000,
          -5066171,
          -5436920,
          -5865491,
          -6435852,
          -6999907,
          -7146713,
          -9046114,
          -9046114,
          -9406527,
          -10214865,
          -10405045,
          -11549406,
          -12000000,
          -12000000,
          -12000000,
          -12628809,
          -13318189,
          -14731320,
          -15593868,
          -17383131,
          -20982604,
          -21354043,
          -21785949,
          -23076041,
          -23612961,
          -25000000,
          -30651554,
          -39536270,
          -44373310,
          -59500000,
          -69533984,
          -110450242
         ],
         "yaxis": "y"
        },
        {
         "customdata": [
          [
           "Avengers: Infinity War"
          ],
          [
           "Jurassic World"
          ],
          [
           "The Avengers"
          ],
          [
           "Black Panther"
          ],
          [
           "Jurassic World: Fallen Kingdom"
          ],
          [
           "Avengers: Age of Ultron"
          ],
          [
           "Iron Man 3"
          ],
          [
           "Captain Marvel"
          ],
          [
           "Transformers: Dark of the Moon"
          ],
          [
           "Transformers: Age of Extinction"
          ],
          [
           "Captain America: Civil War"
          ],
          [
           "Rogue One: A Star Wars Story"
          ],
          [
           "Venom"
          ],
          [
           "The Hunger Games: Catching Fire"
          ],
          [
           "Spider-Man: Homecoming"
          ],
          [
           "Inception"
          ],
          [
           "Wonder Woman"
          ],
          [
           "The Hunger Games: Mockingjay - Part 1"
          ],
          [
           "The Hunger Games"
          ],
          [
           "Gravity"
          ],
          [
           "X-Men: Days of Future Past"
          ],
          [
           "The Martian"
          ],
          [
           "Captain America: The Winter Soldier"
          ],
          [
           "The Amazing Spider-Man"
          ],
          [
           "The Amazing Spider-Man 2"
          ],
          [
           "Interstellar"
          ],
          [
           "The Hunger Games: Mockingjay - Part 2"
          ],
          [
           "Logan"
          ],
          [
           "War of the Worlds"
          ],
          [
           "Iron Man 2"
          ],
          [
           "Man of Steel"
          ],
          [
           "Ready Player One"
          ],
          [
           "Lucy"
          ],
          [
           "Transformers: The Last Knight"
          ],
          [
           "Rise of the Planet of the Apes"
          ],
          [
           "Godzilla"
          ],
          [
           "X-Men: Apocalypse"
          ],
          [
           "Bumblebee"
          ],
          [
           "The Meg"
          ],
          [
           "A Quiet Place"
          ],
          [
           "The Maze Runner"
          ],
          [
           "What Women Want"
          ],
          [
           "Rampage"
          ],
          [
           "The Wolverine"
          ],
          [
           "Prometheus"
          ],
          [
           "Star Trek Into Darkness"
          ],
          [
           "Resident Evil: The Final Chapter"
          ],
          [
           "Godzilla"
          ],
          [
           "Maze Runner: The Scorch Trials"
          ],
          [
           "G.I. Joe: Retaliation"
          ],
          [
           "Alita: Battle Angel"
          ],
          [
           "Captain America: The First Avenger"
          ],
          [
           "Glass"
          ],
          [
           "Glass"
          ],
          [
           "Pacific Rim"
          ],
          [
           "Mad Max: Fury Road"
          ],
          [
           "Independence Day: Resurgence"
          ],
          [
           "Super 8"
          ],
          [
           "X-Men: First Class"
          ],
          [
           "Edge of Tomorrow"
          ],
          [
           "Passengers"
          ],
          [
           "Resident Evil: Retribution"
          ],
          [
           "Oblivion"
          ],
          [
           "Aliens"
          ],
          [
           "Elysium"
          ],
          [
           "Arrival"
          ],
          [
           "Pixels"
          ],
          [
           "Star Trek Beyond"
          ],
          [
           "Alien: Covenant"
          ],
          [
           "Pacific Rim: Uprising"
          ],
          [
           "Limitless"
          ],
          [
           "The First Purge"
          ],
          [
           "RoboCop"
          ],
          [
           "Geostorm"
          ],
          [
           "Chronicle"
          ],
          [
           "The Purge: Election Year"
          ],
          [
           "Source Code"
          ],
          [
           "The Purge: Anarchy"
          ],
          [
           "Battleship"
          ],
          [
           "Predators"
          ],
          [
           "The Adjustment Bureau"
          ],
          [
           "Blade Runner 2049"
          ],
          [
           "The Predator"
          ],
          [
           "Earth"
          ],
          [
           "Frankenstein"
          ],
          [
           "Paul"
          ],
          [
           "Monster"
          ],
          [
           "Skyline"
          ],
          [
           "Ghost in the Shell"
          ],
          [
           "Riddick"
          ],
          [
           "Abduction"
          ],
          [
           "Snowpiercer"
          ],
          [
           "One Day"
          ],
          [
           "Life"
          ],
          [
           "Mirrors"
          ],
          [
           "The Giver"
          ],
          [
           "RoboCop"
          ],
          [
           "Frequency"
          ],
          [
           "As Above, So Below"
          ],
          [
           "The Lazarus Effect"
          ],
          [
           "Hot Tub Time Machine"
          ],
          [
           "Earth to Echo"
          ],
          [
           "The World's End"
          ],
          [
           "Ex Machina"
          ],
          [
           "Her"
          ],
          [
           "The Guardian"
          ],
          [
           "Dark Skies"
          ],
          [
           "Darkness"
          ],
          [
           "The Circle"
          ],
          [
           "Power Rangers"
          ],
          [
           "Apollo 18"
          ],
          [
           "Project Almanac"
          ],
          [
           "The Player"
          ],
          [
           "Green Lantern"
          ],
          [
           "Evolution"
          ],
          [
           "Exodus"
          ],
          [
           "The Black Hole"
          ],
          [
           "Hardcore Henry"
          ],
          [
           "Sorry to Bother You"
          ],
          [
           "Lockout"
          ],
          [
           "The Gambler"
          ],
          [
           "Upgrade"
          ],
          [
           "Melancholia"
          ],
          [
           "Vice"
          ],
          [
           "Pulse"
          ],
          [
           "The Founder"
          ],
          [
           "John Carter"
          ],
          [
           "Monsters"
          ],
          [
           "Sleight"
          ],
          [
           "Transcendence"
          ],
          [
           "Jupiter Ascending"
          ],
          [
           "Control"
          ],
          [
           "American Ultra"
          ],
          [
           "Another Earth"
          ],
          [
           "Serenity"
          ],
          [
           "The Signal"
          ],
          [
           "Sound of My Voice"
          ],
          [
           "Red 11"
          ],
          [
           "All Superheroes Must Die"
          ],
          [
           "Absentia"
          ],
          [
           "Dawn of the Crescent Moon"
          ],
          [
           "Sugar Town"
          ],
          [
           "Queen Crab"
          ],
          [
           "The Night Visitor"
          ],
          [
           "Echo Dr."
          ],
          [
           "I Origins"
          ],
          [
           "H."
          ],
          [
           "Rotor DR1"
          ],
          [
           "Higher Power"
          ],
          [
           "Enter Nowhere"
          ],
          [
           "Morgan"
          ],
          [
           "Banshee Chapter"
          ],
          [
           "Creative Control"
          ],
          [
           "Beyond the Black Rainbow"
          ],
          [
           "The Dead Undead"
          ],
          [
           "Hot Tub Time Machine 2"
          ],
          [
           "The Signal"
          ],
          [
           "Life"
          ],
          [
           "Mutant World"
          ],
          [
           "Stranded"
          ],
          [
           "Machete Kills"
          ],
          [
           "Independence Daysaster"
          ],
          [
           "Circle"
          ],
          [
           "Infected"
          ],
          [
           "Infected"
          ],
          [
           "Hotel Artemis"
          ],
          [
           "Alien Uprising"
          ],
          [
           "Creature"
          ],
          [
           "The Divide"
          ],
          [
           "The Gambler"
          ],
          [
           "Antiviral"
          ],
          [
           "Unnatural"
          ],
          [
           "Anna"
          ],
          [
           "Stake Land"
          ],
          [
           "Dredd"
          ],
          [
           "Never Let Me Go"
          ],
          [
           "Cargo"
          ],
          [
           "Nothing"
          ],
          [
           "The Veil"
          ],
          [
           "Replicas"
          ],
          [
           "Atlas Shrugged: Who Is John Galt?"
          ],
          [
           "Wonderland"
          ],
          [
           "Grabbers"
          ],
          [
           "Area 51"
          ],
          [
           "Icarus"
          ],
          [
           "Under the Skin"
          ],
          [
           "Attack the Block"
          ],
          [
           "The Shadow"
          ],
          [
           "Victor Frankenstein"
          ],
          [
           "Ravenous"
          ],
          [
           "The Last Days on Mars"
          ],
          [
           "The Thing"
          ],
          [
           "Doomsday"
          ],
          [
           "The Avengers"
          ],
          [
           "Womb"
          ],
          [
           "Downsizing"
          ],
          [
           "Serenity"
          ],
          [
           "Repo Men"
          ],
          [
           "Restoration"
          ],
          [
           "Captive State"
          ],
          [
           "Red Dawn"
          ],
          [
           "Stone"
          ],
          [
           "Forsaken"
          ],
          [
           "Bird Box"
          ],
          [
           "Kin"
          ],
          [
           "Molly"
          ],
          [
           "Venom"
          ],
          [
           "Space Pirate Captain Harlock"
          ],
          [
           "Dragonfly"
          ],
          [
           "Freaks of Nature"
          ],
          [
           "Supernova"
          ],
          [
           "Dark Phoenix"
          ]
         ],
         "hovertemplate": "Genre=Sci-Fi<br>Runtime=%{x}<br>Profit in 100M=%{y}<br>Budget=%{marker.size}<br>title=%{customdata[0]}<extra></extra>",
         "legendgroup": "Sci-Fi",
         "marker": {
          "color": "#EF553B",
          "size": [
           300000000,
           215000000,
           225000000,
           200000000,
           170000000,
           330600000,
           200000000,
           175000000,
           195000000,
           210000000,
           250000000,
           200000000,
           116000000,
           130000000,
           175000000,
           160000000,
           150000000,
           125000000,
           80000000,
           110000000,
           200000000,
           108000000,
           170000000,
           220000000,
           200000000,
           165000000,
           160000000,
           127000000,
           132000000,
           170000000,
           225000000,
           150000000,
           40000000,
           217000000,
           93000000,
           160000000,
           178000000,
           102000000,
           178000000,
           17000000,
           34000000,
           65000000,
           120000000,
           115000000,
           125000000,
           190000000,
           40000000,
           125000000,
           61000000,
           140000000,
           170000000,
           140000000,
           20000000,
           20000000,
           190000000,
           150000000,
           165000000,
           50000000,
           160000000,
           178000000,
           110000000,
           65000000,
           120000000,
           17000000,
           120000000,
           47000000,
           90000000,
           185000000,
           97000000,
           155000000,
           27000000,
           13000000,
           120000000,
           100000000,
           12000000,
           10000000,
           32000000,
           9000000,
           220000000,
           40000000,
           50200000,
           185000000,
           88000000,
           47000000,
           45000000,
           40000000,
           5000000,
           10000000,
           110000000,
           38000000,
           35000000,
           40000000,
           15000000,
           58000000,
           35000000,
           25000000,
           13000000,
           31000000,
           5000000,
           5000000,
           36000000,
           13000000,
           20000000,
           13000000,
           23000000,
           70000000,
           3500000,
           10600000,
           18000000,
           120000000,
           5000000,
           12000000,
           8000000,
           200000000,
           80000000,
           4000000,
           20000000,
           2000000,
           3200000,
           20000000,
           25000000,
           3000000,
           9400000,
           60000000,
           20500000,
           15000000,
           275000000,
           500000,
           250000,
           100000000,
           179000000,
           6400000,
           28000000,
           175000,
           39000000,
           50000,
           135000,
           7000,
           20000,
           70000,
           75000,
           250000,
           75000,
           100000,
           100000,
           1000000,
           200000,
           350000,
           500000,
           500000,
           8000000,
           950000,
           1000000,
           1100000,
           1100000,
           14000000,
           4000000,
           75000000,
           1500000,
           1900000,
           20000000,
           1800000,
           2000000,
           2100000,
           2100000,
           15000000,
           2500000,
           3000000,
           3000000,
           3000000,
           3100000,
           3000000,
           4357373,
           4000000,
           45000000,
           15000000,
           4200000,
           4000000,
           4000000,
           4000000,
           5000000,
           5500000,
           5300000,
           5000000,
           6000000,
           13300000,
           13000000,
           40000000,
           40000000,
           12000000,
           10600000,
           38000000,
           33000000,
           60000000,
           13000000,
           68000000,
           25000000,
           32000000,
           18000000,
           25000000,
           65000000,
           22000000,
           18000000,
           19800000,
           30000000,
           21000000,
           25000000,
           30000000,
           60000000,
           33000000,
           60000000,
           350000000
          ],
          "sizemode": "area",
          "sizeref": 1026500,
          "symbol": "circle"
         },
         "mode": "markers",
         "name": "Sci-Fi",
         "showlegend": true,
         "type": "scattergl",
         "x": [
          149,
          124,
          143,
          134,
          128,
          141,
          130,
          123,
          154,
          165,
          147,
          133,
          112,
          146,
          133,
          148,
          60,
          123,
          142,
          91,
          132,
          144,
          136,
          136,
          142,
          169,
          137,
          137,
          50,
          124,
          143,
          140,
          89,
          154,
          105,
          123,
          144,
          114,
          113,
          90,
          113,
          116,
          107,
          126,
          124,
          132,
          107,
          123,
          131,
          110,
          122,
          124,
          105,
          129,
          131,
          120,
          120,
          112,
          131,
          113,
          116,
          95,
          124,
          88,
          109,
          116,
          105,
          122,
          122,
          111,
          105,
          98,
          117,
          109,
          84,
          108,
          93,
          103,
          131,
          107,
          106,
          164,
          107,
          60,
          89,
          104,
          86,
          92,
          107,
          119,
          106,
          126,
          93,
          104,
          90,
          97,
          117,
          60,
          10,
          83,
          101,
          91,
          109,
          108,
          126,
          72,
          97,
          98,
          110,
          124,
          86,
          106,
          90,
          114,
          81,
          74,
          111,
          96,
          111,
          95,
          121,
          100,
          135,
          96,
          84,
          108,
          132,
          94,
          89,
          119,
          127,
          90,
          96,
          92,
          106,
          97,
          85,
          77,
          78,
          60,
          95,
          75,
          80,
          91,
          81,
          106,
          93,
          98,
          93,
          90,
          92,
          87,
          97,
          110,
          89,
          93,
          97,
          104,
          82,
          84,
          107,
          90,
          87,
          95,
          116,
          94,
          101,
          134,
          112,
          121,
          108,
          89,
          99,
          98,
          95,
          103,
          105,
          75,
          93,
          107,
          99,
          80,
          94,
          91,
          90,
          108,
          88,
          70,
          110,
          104,
          98,
          103,
          95,
          143,
          111,
          135,
          106,
          111,
          50,
          109,
          93,
          114,
          95,
          124,
          102,
          91,
          112,
          100,
          75,
          92,
          135,
          113
         ],
         "xaxis": "x",
         "y": [
          1748134200,
          1433854864,
          1292935897,
          1148258224,
          1135772799,
          1072413963,
          1015392272,
          948061550,
          928790543,
          894039076,
          890069413,
          849102856,
          737628605,
          734868047,
          705166350,
          675524642,
          671133378,
          641575131,
          597923379,
          583698673,
          547862775,
          547271443,
          544401889,
          537890267,
          508996336,
          501379375,
          488986787,
          488461394,
          474836535,
          451156389,
          442999518,
          429290136,
          417507776,
          385893340,
          377986200,
          369076069,
          364537546,
          363195589,
          351530715,
          317522294,
          314319861,
          309105123,
          308056280,
          301456852,
          277448265,
          277381584,
          274101190,
          251000000,
          249566162,
          235740705,
          232976036,
          230569776,
          225303505,
          225303505,
          221002906,
          220098020,
          219169424,
          207972745,
          195408305,
          192541256,
          192239672,
          175647629,
          167916633,
          166316455,
          166192091,
          156127894,
          154041804,
          150802233,
          141521247,
          135930148,
          128564919,
          123617305,
          122981799,
          120796009,
          111681790,
          108514727,
          108428499,
          102534881,
          93477717,
          87234389,
          76731325,
          74357408,
          71487563,
          69773317,
          67006296,
          61162106,
          59240813,
          58264973,
          57910690,
          56763758,
          51648359,
          48069880,
          44168692,
          42929666,
          42220596,
          41540205,
          40424681,
          37079671,
          36824066,
          33359310,
          29967750,
          29174545,
          27508505,
          25358392,
          25163815,
          24973540,
          24204111,
          23809206,
          22651864,
          22531552,
          21517819,
          20909437,
          20876702,
          19535492,
          18341932,
          17750000,
          15841901,
          15187434,
          15085560,
          13943049,
          13718031,
          13553285,
          12417298,
          10883171,
          9741435,
          9403192,
          7778100,
          5139730,
          3684450,
          3039258,
          2982519,
          2502141,
          2295028,
          1927779,
          1319440,
          356299,
          294448,
          -7000,
          -20000,
          -61445,
          -66201,
          -71905,
          -75000,
          -100000,
          -100000,
          -147601,
          -200000,
          -350000,
          -499472,
          -500000,
          -701214,
          -871878,
          -936986,
          -1043509,
          -1100000,
          -1173356,
          -1334678,
          -1478413,
          -1500000,
          -1614407,
          -1726991,
          -1800000,
          -1989976,
          -2100000,
          -2100000,
          -2241201,
          -2500000,
          -2669000,
          -2843638,
          -2898227,
          -2976593,
          -3000000,
          -3157373,
          -3320518,
          -3532394,
          -3826282,
          -3886770,
          -3936820,
          -4000000,
          -4000000,
          -4148310,
          -4439488,
          -4859179,
          -4992444,
          -6000000,
          -6070067,
          -6540817,
          -8164400,
          -8875633,
          -9937594,
          -10338636,
          -10426922,
          -11378812,
          -11414584,
          -13000000,
          -13537029,
          -13632971,
          -13804762,
          -13900000,
          -16006700,
          -16835850,
          -17934980,
          -18000000,
          -19800000,
          -19903179,
          -20982604,
          -24118255,
          -29689015,
          -29936195,
          -32929042,
          -45183506,
          -200237650
         ],
         "yaxis": "y"
        },
        {
         "customdata": [
          [
           "Avengers: Infinity War"
          ],
          [
           "Jurassic World"
          ],
          [
           "The Avengers"
          ],
          [
           "Black Panther"
          ],
          [
           "Jurassic World: Fallen Kingdom"
          ],
          [
           "Frozen"
          ],
          [
           "Frozen"
          ],
          [
           "Minions"
          ],
          [
           "Avengers: Age of Ultron"
          ],
          [
           "Incredibles 2"
          ],
          [
           "Iron Man 3"
          ],
          [
           "Aquaman"
          ],
          [
           "Despicable Me 3"
          ],
          [
           "Captain Marvel"
          ],
          [
           "Transformers: Dark of the Moon"
          ],
          [
           "Skyfall"
          ],
          [
           "Despicable Me 2"
          ],
          [
           "Transformers: Age of Extinction"
          ],
          [
           "Captain America: Civil War"
          ],
          [
           "Jumanji: Welcome to the Jungle"
          ],
          [
           "Zootopia"
          ],
          [
           "Toy Story 3"
          ],
          [
           "Rogue One: A Star Wars Story"
          ],
          [
           "Alice in Wonderland"
          ],
          [
           "Finding Dory"
          ],
          [
           "The Secret Life of Pets"
          ],
          [
           "The Jungle Book"
          ],
          [
           "Ice Age: Continental Drift"
          ],
          [
           "The Hobbit: An Unexpected Journey"
          ],
          [
           "Deadpool"
          ],
          [
           "The Hunger Games: Catching Fire"
          ],
          [
           "The Hobbit: The Desolation of Smaug"
          ],
          [
           "Spider-Man: Homecoming"
          ],
          [
           "The Hobbit: The Battle of the Five Armies"
          ],
          [
           "Inside Out"
          ],
          [
           "Deadpool 2"
          ],
          [
           "Inception"
          ],
          [
           "Wonder Woman"
          ],
          [
           "Thor: Ragnarok"
          ],
          [
           "The Hunger Games: Mockingjay - Part 1"
          ],
          [
           "The Twilight Saga: Eclipse"
          ],
          [
           "Pirates of the Caribbean: On Stranger Tides"
          ],
          [
           "Coco"
          ],
          [
           "Fantastic Beasts and Where to Find Them"
          ],
          [
           "Batman v Superman: Dawn of Justice"
          ],
          [
           "Madagascar 3: Europe's Most Wanted"
          ],
          [
           "Guardians of the Galaxy"
          ],
          [
           "The Hunger Games"
          ],
          [
           "Shrek Forever After"
          ],
          [
           "Spectre"
          ],
          [
           "Maleficent"
          ],
          [
           "Suicide Squad"
          ],
          [
           "Pirates of the Caribbean: Dead Men Tell No Tales"
          ],
          [
           "X-Men: Days of Future Past"
          ],
          [
           "The Martian"
          ],
          [
           "Captain America: The Winter Soldier"
          ],
          [
           "Monsters University"
          ],
          [
           "Dawn of the Planet of the Apes"
          ],
          [
           "The Amazing Spider-Man"
          ],
          [
           "Kung Fu Panda 2"
          ],
          [
           "Doctor Strange"
          ],
          [
           "The Amazing Spider-Man 2"
          ],
          [
           "Interstellar"
          ],
          [
           "Life of Pi"
          ],
          [
           "Thor: The Dark World"
          ],
          [
           "Ant-Man and the Wasp"
          ],
          [
           "The Hunger Games: Mockingjay - Part 2"
          ],
          [
           "Moana"
          ],
          [
           "Big Hero 6"
          ],
          [
           "Aladdin"
          ],
          [
           "How to Train Your Dragon 2"
          ],
          [
           "Hotel Transylvania 3: Summer Vacation"
          ],
          [
           "The Smurfs"
          ],
          [
           "Fantastic Beasts: The Crimes of Grindelwald"
          ],
          [
           "Iron Man 2"
          ],
          [
           "Man of Steel"
          ],
          [
           "Men in Black 3"
          ],
          [
           "The Croods"
          ],
          [
           "Aladdin"
          ],
          [
           "Ready Player One"
          ],
          [
           "Puss in Boots"
          ],
          [
           "Sherlock Holmes: A Game of Shadows"
          ],
          [
           "Sherlock Holmes"
          ],
          [
           "The Revenant"
          ],
          [
           "The Lego Movie"
          ],
          [
           "Rio"
          ],
          [
           "How to Train Your Dragon: The Hidden World"
          ],
          [
           "Ant-Man"
          ],
          [
           "Transformers: The Last Knight"
          ],
          [
           "The Boss Baby"
          ],
          [
           "Kung Fu Panda 3"
          ],
          [
           "Kong: Skull Island"
          ],
          [
           "Brave"
          ],
          [
           "Godzilla"
          ],
          [
           "Clash of the Titans"
          ],
          [
           "X-Men: Apocalypse"
          ],
          [
           "Bumblebee"
          ],
          [
           "Rio 2"
          ],
          [
           "Cars 2"
          ],
          [
           "Teenage Mutant Ninja Turtles"
          ],
          [
           "Justice League"
          ],
          [
           "San Andreas"
          ],
          [
           "Cast Away"
          ],
          [
           "World War Z"
          ],
          [
           "War for the Planet of the Apes"
          ],
          [
           "The Mummy"
          ],
          [
           "Wreck-It Ralph"
          ],
          [
           "How to Train Your Dragon"
          ],
          [
           "Tangled"
          ],
          [
           "Kingsman: The Secret Service"
          ],
          [
           "Rampage"
          ],
          [
           "Kingsman: The Golden Circle"
          ],
          [
           "Tarzan"
          ],
          [
           "The Wolverine"
          ],
          [
           "Thor"
          ],
          [
           "Ice Age: Collision Course"
          ],
          [
           "Peter Rabbit"
          ],
          [
           "Oz the Great and Powerful"
          ],
          [
           "Shazam!"
          ],
          [
           "Prometheus"
          ],
          [
           "Star Trek Into Darkness"
          ],
          [
           "Alvin and the Chipmunks: Chipwrecked"
          ],
          [
           "Warcraft"
          ],
          [
           "The Chronicles of Narnia: The Voyage of the Dawn Treader"
          ],
          [
           "xXx: Return of Xander Cage"
          ],
          [
           "Home"
          ],
          [
           "Godzilla"
          ],
          [
           "Fantastic Four"
          ],
          [
           "The Adventures of Tintin"
          ],
          [
           "Journey 2: The Mysterious Island"
          ],
          [
           "The Smurfs 2"
          ],
          [
           "Resident Evil: Afterlife"
          ],
          [
           "Now You See Me 2"
          ],
          [
           "The SpongeBob Movie: Sponge Out of Water"
          ],
          [
           "G.I. Joe: Retaliation"
          ],
          [
           "Penguins of Madagascar"
          ],
          [
           "Alita: Battle Angel"
          ],
          [
           "Snow White and the Huntsman"
          ],
          [
           "Captain America: The First Avenger"
          ],
          [
           "Night at the Museum: Secret of the Tomb"
          ],
          [
           "Noah"
          ],
          [
           "Pacific Rim"
          ],
          [
           "Mad Max: Fury Road"
          ],
          [
           "Independence Day: Resurgence"
          ],
          [
           "Trolls"
          ],
          [
           "True Grit"
          ],
          [
           "The Mummy"
          ],
          [
           "The Expendables 2"
          ],
          [
           "Cars 3"
          ],
          [
           "Paddington"
          ],
          [
           "Twins"
          ],
          [
           "Total Recall"
          ],
          [
           "Cloudy with a Chance of Meatballs 2"
          ],
          [
           "X-Men: First Class"
          ],
          [
           "Divergent"
          ],
          [
           "Teenage Mutant Ninja Turtles"
          ],
          [
           "The Expendables"
          ],
          [
           "The Great Wall"
          ],
          [
           "Tomb Raider"
          ],
          [
           "Hercules"
          ],
          [
           "Skyscraper"
          ],
          [
           "Ferdinand"
          ],
          [
           "The Tourist"
          ],
          [
           "The Shape of Water"
          ],
          [
           "Dumbo"
          ],
          [
           "Unbreakable"
          ],
          [
           "The Last Airbender"
          ],
          [
           "The Legend of Tarzan"
          ],
          [
           "Oblivion"
          ],
          [
           "The Emoji Movie"
          ],
          [
           "Epic"
          ],
          [
           "Rise of the Guardians"
          ],
          [
           "Traffic"
          ],
          [
           "Traffic"
          ],
          [
           "Alvin and the Chipmunks: The Road Chip"
          ],
          [
           "Into the Woods"
          ],
          [
           "Everest"
          ],
          [
           "The Bourne Legacy"
          ],
          [
           "Wrath of the Titans"
          ],
          [
           "Turbo"
          ],
          [
           "The Peanuts Movie"
          ],
          [
           "Star Trek Beyond"
          ],
          [
           "Due Date"
          ],
          [
           "The Good Dinosaur"
          ],
          [
           "Inferno"
          ],
          [
           "Hercules"
          ],
          [
           "Knight and Day"
          ],
          [
           "Identity Thief"
          ],
          [
           "Smurfs: The Lost Village"
          ],
          [
           "Pacific Rim: Uprising"
          ],
          [
           "Smallfoot"
          ],
          [
           "The Grand Budapest Hotel"
          ],
          [
           "The Bucket List"
          ],
          [
           "Godzilla: King of the Monsters"
          ],
          [
           "Exodus: Gods and Kings"
          ],
          [
           "Percy Jackson & the Olympians: The Lightning Thief"
          ],
          [
           "Hop"
          ],
          [
           "Mr. Peabody & Sherman"
          ],
          [
           "Yogi Bear"
          ],
          [
           "Safe House"
          ],
          [
           "Christopher Robin"
          ],
          [
           "Sausage Party"
          ],
          [
           "After Earth"
          ],
          [
           "Gulliver's Travels"
          ],
          [
           "Johnny English Reborn"
          ],
          [
           "Solo: A Star Wars Story"
          ],
          [
           "Dumb and Dumber To"
          ],
          [
           "The Muppets"
          ],
          [
           "Dragon Ball Super: Broly"
          ],
          [
           "Storks"
          ],
          [
           "Robin Hood"
          ],
          [
           "Robin Hood"
          ],
          [
           "Robin Hood"
          ],
          [
           "Percy Jackson: Sea of Monsters"
          ],
          [
           "Rango"
          ],
          [
           "Teenage Mutant Ninja Turtles: Out of the Shadows"
          ],
          [
           "The Expendables 3"
          ],
          [
           "Alice Through the Looking Glass"
          ],
          [
           "Goosebumps"
          ],
          [
           "Into the Storm"
          ],
          [
           "A Bad Moms Christmas"
          ],
          [
           "The Secret Life of Walter Mitty"
          ],
          [
           "Battleship"
          ],
          [
           "The Nut Job"
          ],
          [
           "Mirror Mirror"
          ],
          [
           "Predators"
          ],
          [
           "Total Recall"
          ],
          [
           "The Pirates! Band of Misfits"
          ],
          [
           "Sanctum"
          ],
          [
           "The Book of Eli"
          ],
          [
           "The 5th Wave"
          ],
          [
           "The Magnificent Seven"
          ],
          [
           "The Predator"
          ],
          [
           "Vacation"
          ],
          [
           "Act of Valor"
          ],
          [
           "Mechanic: Resurrection"
          ],
          [
           "The A-Team"
          ],
          [
           "Arthur Christmas"
          ],
          [
           "Paul"
          ],
          [
           "The BFG"
          ],
          [
           "Monster"
          ],
          [
           "Conan the Barbarian"
          ],
          [
           "Goosebumps 2: Haunted Halloween"
          ],
          [
           "Ben-Hur"
          ],
          [
           "The Sorcerer's Apprentice"
          ],
          [
           "Riddick"
          ],
          [
           "The Grey"
          ],
          [
           "Free Birds"
          ],
          [
           "The Dark Tower"
          ],
          [
           "Moonrise Kingdom"
          ],
          [
           "The Lego Ninjago Movie"
          ],
          [
           "Letters to Juliet"
          ],
          [
           "The Boxtrolls"
          ],
          [
           "Get Him to the Greek"
          ],
          [
           "Season of the Witch"
          ],
          [
           "The Last Witch Hunter"
          ],
          [
           "Nerve"
          ],
          [
           "The Three Musketeers"
          ],
          [
           "The Three Musketeers"
          ],
          [
           "Tag"
          ],
          [
           "Alpha"
          ],
          [
           "ParaNorman"
          ],
          [
           "Sky High"
          ],
          [
           "Fantastic Four"
          ],
          [
           "The Transporter Refueled"
          ],
          [
           "The Book of Life"
          ],
          [
           "Hitman: Agent 47"
          ],
          [
           "Underworld: Blood Wars"
          ],
          [
           "Home"
          ],
          [
           "Mike and Dave Need Wedding Dates"
          ],
          [
           "The Star"
          ],
          [
           "127 Hours"
          ],
          [
           "Slender Man"
          ],
          [
           "Down to Earth"
          ],
          [
           "Hellboy"
          ],
          [
           "Legend of the Guardians: The Owls of Ga'Hoole"
          ],
          [
           "Wild"
          ],
          [
           "The Nutcracker and the Four Realms"
          ],
          [
           "As Above, So Below"
          ],
          [
           "Tomorrowland"
          ],
          [
           "Valerian and the City of a Thousand Planets"
          ],
          [
           "The Secret Life of Pets 2"
          ],
          [
           "Mile 22"
          ],
          [
           "A Wrinkle in Time"
          ],
          [
           "The Game"
          ],
          [
           "Clash of the Titans"
          ],
          [
           "Earth to Echo"
          ],
          [
           "A Walk in the Woods"
          ],
          [
           "Thunder and the House of Magic"
          ],
          [
           "Sherlock Gnomes"
          ],
          [
           "Pompeii"
          ],
          [
           "Lawless"
          ],
          [
           "The Darkest Hour"
          ],
          [
           "The Night Before"
          ],
          [
           "The Walk"
          ],
          [
           "Risen"
          ],
          [
           "The Little Prince"
          ],
          [
           "Muppets Most Wanted"
          ],
          [
           "Priest"
          ],
          [
           "Max"
          ],
          [
           "Happy Feet Two"
          ],
          [
           "Adrift"
          ],
          [
           "The Circle"
          ],
          [
           "Kubo and the Two Strings"
          ],
          [
           "Power Rangers"
          ],
          [
           "Posledniy bogatyr"
          ],
          [
           "New in Town"
          ],
          [
           "Beasts of the Southern Wild"
          ],
          [
           "Hunt for the Wilderpeople"
          ],
          [
           "White Fang"
          ],
          [
           "Paul, Apostle of Christ"
          ],
          [
           "Winnie the Pooh"
          ],
          [
           "Monte Carlo"
          ],
          [
           "Green Lantern"
          ],
          [
           "Admiral"
          ],
          [
           "Ender's Game"
          ],
          [
           "The Adventures of Huck Finn"
          ],
          [
           "The Nut Job 2: Nutty by Nature"
          ],
          [
           "The Jungle Book"
          ],
          [
           "A Very Harold & Kumar 3D Christmas"
          ],
          [
           "Snatched"
          ],
          [
           "Hardcore Henry"
          ],
          [
           "The Visitor"
          ],
          [
           "Wonder Park"
          ],
          [
           "Sucker Punch"
          ],
          [
           "The Host"
          ],
          [
           "Zambezia"
          ],
          [
           "The Eagle"
          ],
          [
           "Seventh Son"
          ],
          [
           "Nebraska"
          ],
          [
           "Norm of the North"
          ],
          [
           "Ramona and Beezus"
          ],
          [
           "The Green Inferno"
          ],
          [
           "Vice"
          ],
          [
           "Viy"
          ],
          [
           "John Carter"
          ],
          [
           "Man on a Ledge"
          ],
          [
           "Khumba"
          ],
          [
           "Lowriders"
          ],
          [
           "The Reef"
          ],
          [
           "The Losers"
          ],
          [
           "The Darkest Minds"
          ],
          [
           "Alive"
          ],
          [
           "The Road"
          ],
          [
           "Oddball"
          ],
          [
           "Jupiter Ascending"
          ],
          [
           "Swiss Army Man"
          ],
          [
           "Jack the Giant Slayer"
          ],
          [
           "Bound"
          ],
          [
           "Seeking a Friend for the End of the World"
          ],
          [
           "No Man's Land"
          ],
          [
           "Pan"
          ],
          [
           "Henry V"
          ],
          [
           "Hugo"
          ],
          [
           "Ten"
          ],
          [
           "Holmes & Watson"
          ],
          [
           "Closure"
          ],
          [
           "The Love Letter"
          ],
          [
           "Western Religion"
          ],
          [
           "Death Calls"
          ],
          [
           "The Hammer"
          ],
          [
           "The Journey"
          ],
          [
           "Detention of the Dead"
          ],
          [
           "Rodeo Girl"
          ],
          [
           "Antarctica: A Year on Ice"
          ],
          [
           "Vessel"
          ],
          [
           "American Honey"
          ],
          [
           "Karachi se Lahore"
          ],
          [
           "The Party's Over"
          ],
          [
           "Above and Beyond"
          ],
          [
           "Yes"
          ],
          [
           "Underdogs"
          ],
          [
           "Gods of Egypt"
          ],
          [
           "Forget Me Not"
          ],
          [
           "Bone Tomahawk"
          ],
          [
           "Independence Daysaster"
          ],
          [
           "Super"
          ],
          [
           "The Lost Medallion: The Adventures of Billy Stone"
          ],
          [
           "Rockaway"
          ],
          [
           "Shark Lake"
          ],
          [
           "Wings"
          ],
          [
           "Highway"
          ],
          [
           "The Timber"
          ],
          [
           "Stung"
          ],
          [
           "Jem and the Holograms"
          ],
          [
           "Reign of Assassins"
          ],
          [
           "Fun Size"
          ],
          [
           "The Cave"
          ],
          [
           "Alice in Wonderland"
          ],
          [
           "Blackthorn"
          ],
          [
           "Ben-Hur"
          ],
          [
           "The East"
          ],
          [
           "A Lonely Place to Die"
          ],
          [
           "Father Figures"
          ],
          [
           "The Veil"
          ],
          [
           "The Perfect Wave"
          ],
          [
           "The Runaways"
          ],
          [
           "Wonderland"
          ],
          [
           "Falcon Rising"
          ],
          [
           "The Incredible Burt Wonderstone"
          ],
          [
           "Early Man"
          ],
          [
           "The Hatching"
          ],
          [
           "Birth"
          ],
          [
           "Max Steel"
          ],
          [
           "Trash"
          ],
          [
           "Lean on Pete"
          ],
          [
           "The Love Letter"
          ],
          [
           "The Brothers Grimsby"
          ],
          [
           "Tracker"
          ],
          [
           "Two Lovers and a Bear"
          ],
          [
           "Centurion"
          ],
          [
           "Red Tails"
          ],
          [
           "The Hunted"
          ],
          [
           "Burn Your Maps"
          ],
          [
           "Wanderlust"
          ],
          [
           "Gun Shy"
          ],
          [
           "The Hurricane Heist"
          ],
          [
           "The Return"
          ],
          [
           "Hellboy"
          ],
          [
           "Redemption"
          ],
          [
           "Redemption"
          ],
          [
           "Jungle Shuffle"
          ],
          [
           "Kicks"
          ],
          [
           "Into the Grizzly Maze"
          ],
          [
           "In the Heart of the Sea"
          ],
          [
           "The Last Days on Mars"
          ],
          [
           "The Legend of Hercules"
          ],
          [
           "The Avengers"
          ],
          [
           "Annihilation"
          ],
          [
           "Home"
          ],
          [
           "The Lost City of Z"
          ],
          [
           "The Space Between Us"
          ],
          [
           "Robin Hood"
          ],
          [
           "Robin Hood"
          ],
          [
           "Robin Hood"
          ],
          [
           "Mortal Engines"
          ],
          [
           "The Lone Ranger"
          ],
          [
           "On the Road"
          ],
          [
           "Forsaken"
          ],
          [
           "Survivor"
          ],
          [
           "Bait"
          ],
          [
           "Ironclad"
          ],
          [
           "UglyDolls"
          ],
          [
           "Ali"
          ],
          [
           "Sgt. Stubby: An American Hero"
          ],
          [
           "Silence"
          ],
          [
           "Trapped"
          ],
          [
           "47 Ronin"
          ],
          [
           "Sahara"
          ],
          [
           "Your Highness"
          ],
          [
           "The Sisters Brothers"
          ],
          [
           "The Adventurer: The Curse of the Midas Box"
          ],
          [
           "Conan the Barbarian"
          ],
          [
           "Unhinged"
          ],
          [
           "Bilal: A New Breed of Hero"
          ],
          [
           "Dragonfly"
          ],
          [
           "The Kid Who Would Be King"
          ],
          [
           "The Young and Prodigious T.S. Spivet"
          ],
          [
           "Pirates"
          ],
          [
           "Queen of the Desert"
          ],
          [
           "The Lovers"
          ],
          [
           "King Arthur: Legend of the Sword"
          ],
          [
           "Rock Dog"
          ],
          [
           "R.I.P.D."
          ],
          [
           "Monster Trucks"
          ],
          [
           "Air Strike"
          ],
          [
           "Men in Black: International"
          ],
          [
           "Mars Needs Moms"
          ],
          [
           "Dark Phoenix"
          ]
         ],
         "hovertemplate": "Genre=Adventure<br>Runtime=%{x}<br>Profit in 100M=%{y}<br>Budget=%{marker.size}<br>title=%{customdata[0]}<extra></extra>",
         "legendgroup": "Adventure",
         "marker": {
          "color": "#00cc96",
          "size": [
           300000000,
           215000000,
           225000000,
           200000000,
           170000000,
           150000000,
           150000000,
           74000000,
           330600000,
           200000000,
           200000000,
           160000000,
           75000000,
           175000000,
           195000000,
           200000000,
           76000000,
           210000000,
           250000000,
           90000000,
           150000000,
           200000000,
           200000000,
           200000000,
           200000000,
           75000000,
           175000000,
           95000000,
           250000000,
           58000000,
           130000000,
           250000000,
           175000000,
           250000000,
           175000000,
           110000000,
           160000000,
           150000000,
           180000000,
           125000000,
           68000000,
           410600000,
           175000000,
           180000000,
           250000000,
           145000000,
           170000000,
           80000000,
           165000000,
           300000000,
           180000000,
           175000000,
           230000000,
           200000000,
           108000000,
           170000000,
           200000000,
           170000000,
           220000000,
           150000000,
           165000000,
           200000000,
           165000000,
           120000000,
           150000000,
           130000000,
           160000000,
           150000000,
           165000000,
           28000000,
           145000000,
           65000000,
           110000000,
           200000000,
           170000000,
           225000000,
           215000000,
           135000000,
           182000000,
           150000000,
           130000000,
           125000000,
           90000000,
           135000000,
           60000000,
           90000000,
           129000000,
           130000000,
           217000000,
           125000000,
           140000000,
           185000000,
           185000000,
           160000000,
           125000000,
           178000000,
           102000000,
           130000000,
           200000000,
           125000000,
           300000000,
           110000000,
           85000000,
           190000000,
           152000000,
           80000000,
           165000000,
           165000000,
           260000000,
           94000000,
           120000000,
           104000000,
           145000000,
           115000000,
           150000000,
           105000000,
           50000000,
           200000000,
           85000000,
           125000000,
           190000000,
           80000000,
           160000000,
           155000000,
           85000000,
           130000000,
           125000000,
           87500000,
           130000000,
           79000000,
           110000000,
           57500000,
           90000000,
           74000000,
           140000000,
           132000000,
           170000000,
           170000000,
           140000000,
           127000000,
           130000000,
           190000000,
           150000000,
           165000000,
           125000000,
           35000000,
           195000000,
           100000000,
           175000000,
           55000000,
           15000000,
           65000000,
           78000000,
           160000000,
           85000000,
           13500000,
           82000000,
           150000000,
           90000000,
           70000000,
           125000000,
           111000000,
           100000000,
           19500000,
           170000000,
           73243106,
           150000000,
           180000000,
           120000000,
           50000000,
           100000000,
           145000000,
           48000000,
           48000000,
           90000000,
           56200000,
           65000000,
           125000000,
           150000000,
           135000000,
           99000000,
           185000000,
           65000000,
           187500000,
           75000000,
           100000000,
           117000000,
           35000000,
           60000000,
           155000000,
           80000000,
           31000000,
           45000000,
           170000000,
           140000000,
           95000000,
           63000000,
           145000000,
           80000000,
           85000000,
           75000000,
           19000000,
           130000000,
           112000000,
           45000000,
           275000000,
           40000000,
           45000000,
           8500000,
           70000000,
           210000000,
           210000000,
           210000000,
           90000000,
           135000000,
           135000000,
           100000000,
           170000000,
           58000000,
           50000000,
           28000000,
           91000000,
           220000000,
           30000000,
           85000000,
           40000000,
           125000000,
           55000000,
           30000000,
           80000000,
           38000000,
           90000000,
           88000000,
           31000000,
           12000000,
           40000000,
           110000000,
           85000000,
           40000000,
           140000000,
           5000000,
           20000000,
           35000000,
           15000000,
           160000000,
           38000000,
           25000000,
           55000000,
           60000000,
           16000000,
           70000000,
           30000000,
           60000000,
           40000000,
           40000000,
           80000000,
           20000000,
           90000000,
           90000000,
           28000000,
           51000000,
           60000000,
           35000000,
           120000000,
           22000000,
           50000000,
           35000000,
           35000000,
           500000,
           33000000,
           20000000,
           18000000,
           10000000,
           30000000,
           60000000,
           100000000,
           15000000,
           132900000,
           5000000,
           170000000,
           180000000,
           80000000,
           35000000,
           103000000,
           50000000,
           15000000,
           13000000,
           8000000,
           34000000,
           59000000,
           80000000,
           26000000,
           34800000,
           25000000,
           35000000,
           20000000,
           77500000,
           55000000,
           60000000,
           20000000,
           135000000,
           35000000,
           18000000,
           55000000,
           120000000,
           8500000,
           8000000,
           1800000,
           2500000,
           14000000,
           5000000,
           30000000,
           20000000,
           200000000,
           20000000,
           110000000,
           6500000,
           40000000,
           27000000,
           20000000,
           42000000,
           2000000,
           4000000,
           100000000,
           75000000,
           50000000,
           20000000,
           25000000,
           95000000,
           12000000,
           18000000,
           15000000,
           1000000,
           60000000,
           26000000,
           275000000,
           42000000,
           15000000,
           916000,
           10000000,
           25000000,
           34000000,
           32000000,
           25000000,
           7000000,
           179000000,
           3000000,
           195000000,
           4500000,
           10000000,
           1000000,
           150000000,
           9000000,
           180000000,
           25000,
           42000000,
           100000,
           250000,
           250000,
           290000,
           850000,
           500000,
           500000,
           500000,
           1000000,
           800000,
           3500000,
           1000000,
           1000000,
           1300000,
           1700000,
           2500000,
           140000000,
           1300000,
           2000000,
           1800000,
           2500000,
           2500000,
           2000000,
           2000000,
           2000000,
           2000000,
           2100000,
           2500000,
           5000000,
           14000000,
           14000000,
           30000000,
           3000000,
           4500000,
           95000000,
           6500000,
           4000000,
           25000000,
           4000000,
           4000000,
           9500000,
           5500000,
           4500000,
           32000000,
           50000000,
           5000000,
           20000000,
           10000000,
           12000000,
           8000000,
           15000000,
           35000000,
           6500000,
           6840000,
           15000000,
           58000000,
           55000000,
           8000000,
           32500000,
           10000000,
           40000000,
           15000000,
           50000000,
           23000000,
           23000000,
           10000000,
           10000000,
           10000000,
           100000000,
           10600000,
           70000000,
           60000000,
           55000000,
           12000000,
           30000000,
           30000000,
           99000000,
           99000000,
           99000000,
           100000000,
           275000000,
           25000000,
           18000000,
           20000000,
           35000000,
           25000000,
           45000000,
           109000000,
           25000000,
           46500000,
           30000000,
           175000000,
           145000000,
           50000000,
           38000000,
           25000000,
           90000000,
           29000000,
           30000000,
           60000000,
           59000000,
           33000000,
           40000000,
           36000000,
           35000000,
           175000000,
           60000000,
           130000000,
           125000000,
           65000000,
           110000000,
           150000000,
           350000000
          ],
          "sizemode": "area",
          "sizeref": 1026500,
          "symbol": "circle"
         },
         "mode": "markers",
         "name": "Adventure",
         "showlegend": true,
         "type": "scattergl",
         "x": [
          149,
          124,
          143,
          134,
          128,
          93,
          102,
          91,
          141,
          118,
          130,
          143,
          89,
          123,
          154,
          143,
          98,
          165,
          147,
          119,
          108,
          103,
          133,
          108,
          97,
          87,
          106,
          88,
          169,
          108,
          146,
          161,
          133,
          144,
          95,
          119,
          148,
          141,
          130,
          123,
          124,
          136,
          105,
          132,
          151,
          93,
          121,
          142,
          93,
          148,
          97,
          123,
          129,
          132,
          144,
          136,
          104,
          130,
          136,
          90,
          115,
          142,
          169,
          127,
          112,
          118,
          137,
          107,
          102,
          128,
          102,
          97,
          103,
          134,
          124,
          143,
          106,
          98,
          128,
          140,
          90,
          129,
          77,
          156,
          100,
          96,
          104,
          117,
          154,
          97,
          95,
          118,
          93,
          123,
          106,
          144,
          114,
          101,
          106,
          101,
          120,
          114,
          90,
          116,
          140,
          110,
          101,
          98,
          100,
          129,
          107,
          141,
          94,
          126,
          115,
          94,
          95,
          130,
          132,
          124,
          132,
          87,
          123,
          113,
          107,
          94,
          123,
          100,
          107,
          94,
          105,
          96,
          129,
          92,
          110,
          92,
          122,
          127,
          124,
          98,
          138,
          131,
          120,
          120,
          92,
          110,
          110,
          103,
          102,
          95,
          8,
          118,
          95,
          131,
          139,
          101,
          103,
          103,
          119,
          98,
          102,
          108,
          103,
          123,
          112,
          80,
          103,
          110,
          124,
          86,
          102,
          97,
          122,
          104,
          92,
          125,
          121,
          135,
          99,
          96,
          88,
          122,
          95,
          93,
          121,
          98,
          109,
          111,
          90,
          111,
          96,
          99,
          60,
          132,
          150,
          118,
          95,
          92,
          80,
          115,
          104,
          89,
          100,
          85,
          101,
          135,
          109,
          103,
          100,
          87,
          140,
          116,
          60,
          106,
          107,
          112,
          126,
          113,
          103,
          89,
          104,
          114,
          131,
          85,
          106,
          107,
          118,
          88,
          108,
          118,
          112,
          132,
          107,
          99,
          110,
          98,
          117,
          97,
          104,
          117,
          85,
          113,
          90,
          123,
          109,
          119,
          117,
          91,
          95,
          94,
          101,
          105,
          96,
          109,
          95,
          106,
          96,
          110,
          112,
          5,
          96,
          92,
          70,
          100,
          96,
          95,
          96,
          91,
          94,
          98,
          86,
          94,
          52,
          90,
          120,
          97,
          115,
          99,
          93,
          130,
          137,
          86,
          94,
          109,
          95,
          106,
          91,
          104,
          85,
          86,
          105,
          90,
          89,
          101,
          123,
          107,
          108,
          107,
          87,
          111,
          100,
          96,
          48,
          101,
          124,
          114,
          95,
          93,
          101,
          85,
          108,
          63,
          109,
          114,
          151,
          114,
          99,
          91,
          106,
          90,
          90,
          96,
          74,
          85,
          110,
          125,
          83,
          114,
          102,
          115,
          90,
          103,
          100,
          96,
          127,
          132,
          102,
          85,
          98,
          94,
          97,
          104,
          95,
          43,
          95,
          127,
          97,
          114,
          50,
          101,
          118,
          111,
          122,
          126,
          83,
          90,
          76,
          12,
          105,
          90,
          75,
          112,
          87,
          108,
          91,
          90,
          163,
          143,
          80,
          90,
          80,
          106,
          127,
          102,
          132,
          90,
          92,
          97,
          90,
          92,
          84,
          101,
          81,
          87,
          118,
          117,
          86,
          15,
          108,
          102,
          123,
          116,
          99,
          113,
          93,
          94,
          108,
          120,
          103,
          100,
          89,
          90,
          9,
          92,
          114,
          121,
          12,
          83,
          102,
          96,
          97,
          125,
          90,
          102,
          3,
          92,
          103,
          100,
          120,
          97,
          44,
          85,
          80,
          94,
          122,
          98,
          99,
          143,
          115,
          94,
          141,
          120,
          60,
          140,
          116,
          128,
          150,
          124,
          95,
          93,
          93,
          121,
          87,
          130,
          84,
          161,
          92,
          128,
          86,
          102,
          122,
          100,
          113,
          12,
          105,
          75,
          120,
          105,
          130,
          128,
          109,
          126,
          90,
          96,
          104,
          120,
          115,
          88,
          113
         ],
         "xaxis": "x",
         "y": [
          1748134200,
          1433854864,
          1292935897,
          1148258224,
          1135772799,
          1122469910,
          1122469910,
          1086336173,
          1072413963,
          1042520711,
          1015392272,
          986894640,
          959727750,
          948061550,
          928790543,
          910526981,
          899216835,
          894039076,
          890069413,
          874496193,
          869429616,
          868879522,
          849102856,
          825491110,
          821215193,
          811750534,
          787854547,
          784765137,
          767003568,
          743025593,
          734868047,
          710366855,
          705166350,
          695577621,
          679235992,
          676680557,
          675524642,
          671133378,
          666980024,
          641575131,
          638102828,
          635063875,
          623008101,
          622402853,
          617500281,
          601921271,
          600867516,
          597923379,
          591244673,
          579620923,
          578536735,
          571059887,
          558241137,
          547862775,
          547271443,
          544401889,
          543588329,
          540644566,
          537890267,
          514837547,
          511404566,
          508996336,
          501379375,
          500912003,
          494602516,
          493144660,
          488986787,
          487517365,
          487127828,
          476050219,
          469586270,
          462079962,
          453749323,
          452220086,
          451156389,
          442999518,
          439213485,
          438068425,
          437234314,
          429290136,
          424987477,
          410663443,
          408438212,
          397938302,
          397729388,
          397519809,
          390258283,
          388858449,
          385893340,
          385878762,
          377599142,
          376072059,
          369606532,
          369076069,
          368214888,
          364537546,
          363195589,
          362846291,
          360155383,
          360004754,
          355945209,
          346258539,
          342230516,
          341514650,
          337592267,
          336385488,
          331511521,
          329870992,
          326477240,
          310561724,
          308056280,
          304803696,
          303191819,
          301456852,
          299326618,
          297156682,
          297136477,
          290359051,
          277899733,
          277448265,
          277381584,
          269088523,
          265522281,
          263186950,
          260033359,
          255997896,
          251000000,
          245632750,
          243993951,
          239146162,
          238547523,
          238374190,
          238325007,
          237013181,
          235740705,
          234942531,
          232976036,
          231021746,
          230569776,
          226756621,
          222831065,
          221002906,
          220098020,
          219169424,
          219150134,
          217276928,
          214953905,
          211979256,
          208541369,
          203789097,
          201600000,
          196400000,
          196392649,
          195408305,
          191014965,
          188500000,
          186268174,
          184486852,
          183477501,
          180700000,
          179115534,
          178847930,
          178731369,
          176290794,
          175004422,
          174856037,
          169713881,
          168902025,
          167916633,
          166562312,
          162794441,
          161900902,
          160300000,
          160300000,
          159517956,
          156916401,
          156297061,
          155355920,
          155270083,
          151896578,
          151091610,
          150802233,
          146739043,
          146271037,
          144519367,
          143388614,
          141751370,
          140361578,
          137578586,
          135930148,
          133691277,
          132981261,
          129807445,
          129276941,
          128314513,
          128050874,
          125657593,
          124806430,
          124774690,
          123542162,
          122504758,
          122344255,
          121499665,
          120017848,
          119640401,
          118151347,
          116553592,
          115971922,
          114247755,
          113353431,
          112459006,
          112459006,
          112459006,
          110859554,
          110724600,
          110328374,
          109461378,
          106928112,
          100905324,
          100429371,
          99710550,
          96861183,
          93477717,
          92529966,
          88613482,
          87234389,
          86856088,
          81143605,
          78957098,
          78750817,
          73336398,
          72525156,
          71487563,
          71306500,
          70497035,
          69738840,
          67241171,
          64717124,
          61162106,
          59646680,
          59240813,
          59114085,
          58291478,
          58259017,
          57986320,
          56763758,
          56249176,
          55387072,
          53461527,
          52848446,
          52737201,
          52148538,
          51946251,
          51455875,
          51126600,
          50818912,
          50652284,
          49877913,
          49877913,
          49026186,
          48624873,
          48119662,
          48109359,
          47849187,
          47698495,
          47651543,
          47182803,
          46209222,
          44293168,
          42898100,
          42758010,
          42217171,
          41723644,
          41172251,
          39823958,
          39716717,
          37460543,
          37393899,
          36824066,
          36627518,
          35098356,
          33351496,
          31295121,
          30401882,
          30369970,
          29400000,
          29174545,
          29119358,
          28582520,
          28527651,
          28469033,
          28393687,
          28031715,
          27427346,
          26492104,
          26255763,
          24528919,
          24312301,
          24154026,
          23658157,
          22956466,
          22897191,
          22651864,
          22548122,
          22531552,
          22200192,
          21937909,
          21465132,
          21345533,
          20729091,
          20529498,
          20145607,
          19686769,
          19535492,
          18585047,
          17983283,
          17603594,
          17438389,
          17342956,
          16265745,
          15852177,
          15187434,
          15174817,
          15149422,
          14758389,
          14477051,
          14454336,
          13993548,
          13874967,
          12761360,
          12535660,
          12469621,
          11931420,
          10883171,
          8246770,
          7778100,
          7621440,
          5898221,
          5272421,
          5037867,
          4863840,
          4361428,
          4299670,
          4206732,
          3237229,
          2982519,
          2837111,
          2687603,
          2511317,
          1766959,
          1684207,
          1525973,
          1176701,
          47784,
          -25000,
          -73395,
          -100000,
          -250000,
          -250000,
          -290000,
          -407362,
          -480200,
          -498222,
          -500000,
          -711243,
          -800000,
          -888250,
          -982279,
          -1000000,
          -1011249,
          -1038779,
          -1107351,
          -1163244,
          -1286535,
          -1524154,
          -1800000,
          -1906067,
          -1950368,
          -2000000,
          -2000000,
          -2000000,
          -2000000,
          -2100000,
          -2500000,
          -2631063,
          -2645770,
          -2833385,
          -2852009,
          -3000000,
          -3282693,
          -3330352,
          -3472044,
          -3557450,
          -3961559,
          -4000000,
          -4000000,
          -4221368,
          -4439488,
          -4488226,
          -4607391,
          -4714110,
          -5000000,
          -5396999,
          -5436920,
          -5446814,
          -5544973,
          -5989020,
          -6279530,
          -6496851,
          -6817727,
          -7114952,
          -7634502,
          -7786905,
          -8000000,
          -8340066,
          -8361798,
          -9036316,
          -9046114,
          -9274508,
          -9406527,
          -9406527,
          -9639102,
          -9849809,
          -10000000,
          -10306691,
          -10338636,
          -11046681,
          -11414584,
          -11929085,
          -12000000,
          -12878177,
          -13518595,
          -14252559,
          -14252559,
          -14252559,
          -14712583,
          -14997885,
          -15686698,
          -18000000,
          -18296719,
          -19528031,
          -19702589,
          -20355336,
          -21316034,
          -21354043,
          -22773374,
          -23083131,
          -23283185,
          -23328075,
          -23878362,
          -24856944,
          -25000000,
          -26643867,
          -29000000,
          -29351401,
          -29936195,
          -30651554,
          -32642313,
          -33658175,
          -34421457,
          -34946101,
          -35369664,
          -35851512,
          -50923322,
          -63357202,
          -64483721,
          -106900000,
          -110450242,
          -200237650
         ],
         "yaxis": "y"
        },
        {
         "customdata": [
          [
           "Avengers: Infinity War"
          ],
          [
           "Jurassic World"
          ],
          [
           "Furious 7"
          ],
          [
           "The Avengers"
          ],
          [
           "Black Panther"
          ],
          [
           "Jurassic World: Fallen Kingdom"
          ],
          [
           "Avengers: Age of Ultron"
          ],
          [
           "Incredibles 2"
          ],
          [
           "Iron Man 3"
          ],
          [
           "Aquaman"
          ],
          [
           "The Fate of the Furious"
          ],
          [
           "Captain Marvel"
          ],
          [
           "Transformers: Dark of the Moon"
          ],
          [
           "Skyfall"
          ],
          [
           "Transformers: Age of Extinction"
          ],
          [
           "Captain America: Civil War"
          ],
          [
           "Jumanji: Welcome to the Jungle"
          ],
          [
           "Rogue One: A Star Wars Story"
          ],
          [
           "The Dark Knight Rises"
          ],
          [
           "Deadpool"
          ],
          [
           "Venom"
          ],
          [
           "The Hunger Games: Catching Fire"
          ],
          [
           "Spider-Man: Homecoming"
          ],
          [
           "Deadpool 2"
          ],
          [
           "Inception"
          ],
          [
           "Wonder Woman"
          ],
          [
           "Thor: Ragnarok"
          ],
          [
           "The Hunger Games: Mockingjay - Part 1"
          ],
          [
           "Pirates of the Caribbean: On Stranger Tides"
          ],
          [
           "Batman v Superman: Dawn of Justice"
          ],
          [
           "Guardians of the Galaxy"
          ],
          [
           "The Hunger Games"
          ],
          [
           "Spectre"
          ],
          [
           "Maleficent"
          ],
          [
           "Suicide Squad"
          ],
          [
           "Pirates of the Caribbean: Dead Men Tell No Tales"
          ],
          [
           "X-Men: Days of Future Past"
          ],
          [
           "Captain America: The Winter Soldier"
          ],
          [
           "Dawn of the Planet of the Apes"
          ],
          [
           "The Amazing Spider-Man"
          ],
          [
           "Kung Fu Panda 2"
          ],
          [
           "Doctor Strange"
          ],
          [
           "The Amazing Spider-Man 2"
          ],
          [
           "Fast Five"
          ],
          [
           "Thor: The Dark World"
          ],
          [
           "Ant-Man and the Wasp"
          ],
          [
           "American Sniper"
          ],
          [
           "The Hunger Games: Mockingjay - Part 2"
          ],
          [
           "Logan"
          ],
          [
           "Big Hero 6"
          ],
          [
           "How to Train Your Dragon 2"
          ],
          [
           "Iron Man 2"
          ],
          [
           "Man of Steel"
          ],
          [
           "Men in Black 3"
          ],
          [
           "The Croods"
          ],
          [
           "Ready Player One"
          ],
          [
           "Puss in Boots"
          ],
          [
           "Lucy"
          ],
          [
           "Sherlock Holmes: A Game of Shadows"
          ],
          [
           "The Revenant"
          ],
          [
           "The Lego Movie"
          ],
          [
           "How to Train Your Dragon: The Hidden World"
          ],
          [
           "Ant-Man"
          ],
          [
           "Transformers: The Last Knight"
          ],
          [
           "Rise of the Planet of the Apes"
          ],
          [
           "Kung Fu Panda 3"
          ],
          [
           "Kong: Skull Island"
          ],
          [
           "Godzilla"
          ],
          [
           "Clash of the Titans"
          ],
          [
           "X-Men: Apocalypse"
          ],
          [
           "Bumblebee"
          ],
          [
           "Teenage Mutant Ninja Turtles"
          ],
          [
           "Justice League"
          ],
          [
           "The Meg"
          ],
          [
           "Dunkirk"
          ],
          [
           "San Andreas"
          ],
          [
           "World War Z"
          ],
          [
           "War for the Planet of the Apes"
          ],
          [
           "The Mummy"
          ],
          [
           "Taken 2"
          ],
          [
           "How to Train Your Dragon"
          ],
          [
           "The Maze Runner"
          ],
          [
           "The Karate Kid"
          ],
          [
           "Kingsman: The Secret Service"
          ],
          [
           "Rampage"
          ],
          [
           "Kingsman: The Golden Circle"
          ],
          [
           "The Wolverine"
          ],
          [
           "Thor"
          ],
          [
           "Jason Bourne"
          ],
          [
           "Dangal"
          ],
          [
           "22 Jump Street"
          ],
          [
           "Taken 3"
          ],
          [
           "The Angry Birds Movie"
          ],
          [
           "Shazam!"
          ],
          [
           "Star Trek Into Darkness"
          ],
          [
           "Resident Evil: The Final Chapter"
          ],
          [
           "Split"
          ],
          [
           "Wanted"
          ],
          [
           "Wanted"
          ],
          [
           "Warcraft"
          ],
          [
           "Ghostbusters"
          ],
          [
           "xXx: Return of Xander Cage"
          ],
          [
           "Godzilla"
          ],
          [
           "Maze Runner: The Scorch Trials"
          ],
          [
           "Fantastic Four"
          ],
          [
           "The Adventures of Tintin"
          ],
          [
           "Journey 2: The Mysterious Island"
          ],
          [
           "Resident Evil: Afterlife"
          ],
          [
           "Now You See Me 2"
          ],
          [
           "G.I. Joe: Retaliation"
          ],
          [
           "Baahubali 2: The Conclusion"
          ],
          [
           "Alita: Battle Angel"
          ],
          [
           "Snow White and the Huntsman"
          ],
          [
           "The Lego Batman Movie"
          ],
          [
           "Captain America: The First Avenger"
          ],
          [
           "Rocky"
          ],
          [
           "Noah"
          ],
          [
           "Pacific Rim"
          ],
          [
           "300: Rise of an Empire"
          ],
          [
           "Mad Max: Fury Road"
          ],
          [
           "Independence Day: Resurgence"
          ],
          [
           "The Mummy"
          ],
          [
           "A Good Day to Die Hard"
          ],
          [
           "The Expendables 2"
          ],
          [
           "Total Recall"
          ],
          [
           "X-Men: First Class"
          ],
          [
           "Baby Driver"
          ],
          [
           "Edge of Tomorrow"
          ],
          [
           "Megamind"
          ],
          [
           "Divergent"
          ],
          [
           "Teenage Mutant Ninja Turtles"
          ],
          [
           "The Heat"
          ],
          [
           "The Expendables"
          ],
          [
           "The Great Wall"
          ],
          [
           "Tomb Raider"
          ],
          [
           "Hercules"
          ],
          [
           "Skyscraper"
          ],
          [
           "The Tourist"
          ],
          [
           "Resident Evil: Retribution"
          ],
          [
           "Non-Stop"
          ],
          [
           "The Last Airbender"
          ],
          [
           "The Legend of Tarzan"
          ],
          [
           "Oblivion"
          ],
          [
           "Central Intelligence"
          ],
          [
           "Elysium"
          ],
          [
           "Hansel & Gretel: Witch Hunters"
          ],
          [
           "Rise of the Guardians"
          ],
          [
           "21 Jump Street"
          ],
          [
           "Salt"
          ],
          [
           "Traffic"
          ],
          [
           "Jack Reacher"
          ],
          [
           "Everest"
          ],
          [
           "The Bourne Legacy"
          ],
          [
           "Wrath of the Titans"
          ],
          [
           "Pixels"
          ],
          [
           "Pixels"
          ],
          [
           "Real Steel"
          ],
          [
           "Jackass 3D"
          ],
          [
           "Star Trek Beyond"
          ],
          [
           "Dracula Untold"
          ],
          [
           "Unforgiven"
          ],
          [
           "Inferno"
          ],
          [
           "Hercules"
          ],
          [
           "Knight and Day"
          ],
          [
           "Looper"
          ],
          [
           "The Equalizer"
          ],
          [
           "Lion"
          ],
          [
           "Immortals"
          ],
          [
           "Pacific Rim: Uprising"
          ],
          [
           "London Has Fallen"
          ],
          [
           "Fury"
          ],
          [
           "In Time"
          ],
          [
           "Godzilla: King of the Monsters"
          ],
          [
           "Ride Along"
          ],
          [
           "Ride Along"
          ],
          [
           "Exodus: Gods and Kings"
          ],
          [
           "Need for Speed"
          ],
          [
           "The First Purge"
          ],
          [
           "Safe House"
          ],
          [
           "RoboCop"
          ],
          [
           "After Earth"
          ],
          [
           "Geostorm"
          ],
          [
           "Johnny English Reborn"
          ],
          [
           "The Green Hornet"
          ],
          [
           "Solo: A Star Wars Story"
          ],
          [
           "Baywatch"
          ],
          [
           "Dragon Ball Super: Broly"
          ],
          [
           "The Queen"
          ],
          [
           "The Equalizer 2"
          ],
          [
           "The Accountant"
          ],
          [
           "Robin Hood"
          ],
          [
           "Robin Hood"
          ],
          [
           "Robin Hood"
          ],
          [
           "Robin Hood"
          ],
          [
           "Payback"
          ],
          [
           "Payback"
          ],
          [
           "Payback"
          ],
          [
           "Teenage Mutant Ninja Turtles: Out of the Shadows"
          ],
          [
           "Lone Survivor"
          ],
          [
           "The Expendables 3"
          ],
          [
           "Bajrangi Bhaijaan"
          ],
          [
           "The Purge: Election Year"
          ],
          [
           "Source Code"
          ],
          [
           "The Foreigner"
          ],
          [
           "The Foreigner"
          ],
          [
           "Olympus Has Fallen"
          ],
          [
           "The Purge: Anarchy"
          ],
          [
           "Into the Storm"
          ],
          [
           "Jack Reacher: Never Go Back"
          ],
          [
           "Hide and Seek"
          ],
          [
           "Unknown"
          ],
          [
           "Battleship"
          ],
          [
           "Ghost Rider: Spirit of Vengeance"
          ],
          [
           "This Means War"
          ],
          [
           "The Bounty Hunter"
          ],
          [
           "Boomerang"
          ],
          [
           "Captain Underpants: The First Epic Movie"
          ],
          [
           "Predators"
          ],
          [
           "Total Recall"
          ],
          [
           "American Made"
          ],
          [
           "Ghostbusters"
          ],
          [
           "Ride Along 2"
          ],
          [
           "The Karate Kid"
          ],
          [
           "Game Night"
          ],
          [
           "The Book of Eli"
          ],
          [
           "The Color Purple"
          ],
          [
           "Contagion"
          ],
          [
           "Hostel"
          ],
          [
           "Red Sparrow"
          ],
          [
           "Hitman"
          ],
          [
           "Hitman"
          ],
          [
           "Contraband"
          ],
          [
           "The 5th Wave"
          ],
          [
           "The Magnificent Seven"
          ],
          [
           "2 Guns"
          ],
          [
           "The Predator"
          ],
          [
           "Jack Ryan: Shadow Recruit"
          ],
          [
           "The Other Guys"
          ],
          [
           "Unstoppable"
          ],
          [
           "Unstoppable"
          ],
          [
           "Act of Valor"
          ],
          [
           "Abraham Lincoln: Vampire Hunter"
          ],
          [
           "Mechanic: Resurrection"
          ],
          [
           "Paul Blart: Mall Cop 2"
          ],
          [
           "Kick-Ass"
          ],
          [
           "Atomic Blonde"
          ],
          [
           "The A-Team"
          ],
          [
           "Drive"
          ],
          [
           "Tower Heist"
          ],
          [
           "Sultan"
          ],
          [
           "The Commuter"
          ],
          [
           "Wolf"
          ],
          [
           "Wolf"
          ],
          [
           "Rush"
          ],
          [
           "Rush"
          ],
          [
           "Point Break"
          ],
          [
           "Monster"
          ],
          [
           "Monster"
          ],
          [
           "Conan the Barbarian"
          ],
          [
           "Skyline"
          ],
          [
           "Ben-Hur"
          ],
          [
           "The Sorcerer's Apprentice"
          ],
          [
           "Ghost in the Shell"
          ],
          [
           "RED 2"
          ],
          [
           "Riddick"
          ],
          [
           "The Grey"
          ],
          [
           "Chappie"
          ],
          [
           "White House Down"
          ],
          [
           "Pain & Gain"
          ],
          [
           "Sicario"
          ],
          [
           "The Gift"
          ],
          [
           "Big Fish"
          ],
          [
           "Witness"
          ],
          [
           "The Dark Tower"
          ],
          [
           "The Lego Ninjago Movie"
          ],
          [
           "Abduction"
          ],
          [
           "Abduction"
          ],
          [
           "Abduction"
          ],
          [
           "Season of the Witch"
          ],
          [
           "The Last Witch Hunter"
          ],
          [
           "Nerve"
          ],
          [
           "Big Mommas: Like Father, Like Son"
          ],
          [
           "Den of Thieves"
          ],
          [
           "The Three Musketeers"
          ],
          [
           "Snow Day"
          ],
          [
           "Tag"
          ],
          [
           "Tag"
          ],
          [
           "Snowpiercer"
          ],
          [
           "Fantastic Four"
          ],
          [
           "The Transporter Refueled"
          ],
          [
           "Hitman: Agent 47"
          ],
          [
           "John Wick"
          ],
          [
           "Underworld: Blood Wars"
          ],
          [
           "Brick Mansions"
          ],
          [
           "Breaking In"
          ],
          [
           "Beowulf"
          ],
          [
           "Crossroads"
          ],
          [
           "Gangster Squad"
          ],
          [
           "The Island"
          ],
          [
           "Snitch"
          ],
          [
           "End of Watch"
          ],
          [
           "Legion"
          ],
          [
           "No Good Deed"
          ],
          [
           "Sicario: Day of the Soldado"
          ],
          [
           "RoboCop"
          ],
          [
           "Hellboy"
          ],
          [
           "Legend of the Guardians: The Owls of Ga'Hoole"
          ],
          [
           "Takers"
          ],
          [
           "No Escape"
          ],
          [
           "The Next Three Days"
          ],
          [
           "Tomorrowland"
          ],
          [
           "12 Strong"
          ],
          [
           "Shooter"
          ],
          [
           "Derailed"
          ],
          [
           "Hanna"
          ],
          [
           "Kick-Ass 2"
          ],
          [
           "Valerian and the City of a Thousand Planets"
          ],
          [
           "The Gift"
          ],
          [
           "A Walk Among the Tombstones"
          ],
          [
           "Machete"
          ],
          [
           "The Mechanic"
          ],
          [
           "Escape Plan"
          ],
          [
           "Assassins"
          ],
          [
           "Colombiana"
          ],
          [
           "Mile 22"
          ],
          [
           "Here Comes the Boom"
          ],
          [
           "The Game"
          ],
          [
           "Homefront"
          ],
          [
           "Clash of the Titans"
          ],
          [
           "Cloud Atlas"
          ],
          [
           "Pompeii"
          ],
          [
           "Lawless"
          ],
          [
           "The Darkest Hour"
          ],
          [
           "Cats & Dogs: The Revenge of Kitty Galore"
          ],
          [
           "Jackie"
          ],
          [
           "The World's End"
          ],
          [
           "Peppermint"
          ],
          [
           "Point Break"
          ],
          [
           "Risen"
          ],
          [
           "You're Next"
          ],
          [
           "Hell or High Water"
          ],
          [
           "Commando"
          ],
          [
           "The Guardian"
          ],
          [
           "The Guardian"
          ],
          [
           "Hero"
          ],
          [
           "Hero"
          ],
          [
           "The Little Prince"
          ],
          [
           "Priest"
          ],
          [
           "Adrift"
          ],
          [
           "Kubo and the Two Strings"
          ],
          [
           "Power Rangers"
          ],
          [
           "Posledniy bogatyr"
          ],
          [
           "Killers"
          ],
          [
           "Killers"
          ],
          [
           "The November Man"
          ],
          [
           "Green Lantern"
          ],
          [
           "Brothers"
          ],
          [
           "Brothers"
          ],
          [
           "Cop Out"
          ],
          [
           "The Spy Next Door"
          ],
          [
           "Admiral"
          ],
          [
           "Death Wish"
          ],
          [
           "The Last Stand"
          ],
          [
           "Ender's Game"
          ],
          [
           "Legend"
          ],
          [
           "Run All Night"
          ],
          [
           "Sleeper"
          ],
          [
           "Sleeper"
          ],
          [
           "The Mortal Instruments: City of Bones"
          ],
          [
           "Snatched"
          ],
          [
           "Hardcore Henry"
          ],
          [
           "Sucker Punch"
          ],
          [
           "The Host"
          ],
          [
           "The Eagle"
          ],
          [
           "Lockout"
          ],
          [
           "Seventh Son"
          ],
          [
           "The Gambler"
          ],
          [
           "Upgrade"
          ],
          [
           "Parker"
          ],
          [
           "Haywire"
          ],
          [
           "Allied"
          ],
          [
           "Action Jackson"
          ],
          [
           "The Master"
          ],
          [
           "Black or White"
          ],
          [
           "30 Minutes or Less"
          ],
          [
           "Patriots Day"
          ],
          [
           "The Watch"
          ],
          [
           "Red Dog"
          ],
          [
           "Faster"
          ],
          [
           "3 Days to Kill"
          ],
          [
           "Vice"
          ],
          [
           "Hot Pursuit"
          ],
          [
           "Maniac"
          ],
          [
           "The Nice Guys"
          ],
          [
           "I, Frankenstein"
          ],
          [
           "Khiladi 786"
          ],
          [
           "Safe"
          ],
          [
           "Kites"
          ],
          [
           "Fighting"
          ],
          [
           "John Carter"
          ],
          [
           "Man on a Ledge"
          ],
          [
           "The Collector"
          ],
          [
           "Criminal"
          ],
          [
           "The Man with the Iron Fists"
          ],
          [
           "Dum Maaro Dum"
          ],
          [
           "Moby Dick"
          ],
          [
           "Traitor"
          ],
          [
           "Keanu"
          ],
          [
           "The Cold Light of Day"
          ],
          [
           "American Assassin"
          ],
          [
           "The Losers"
          ],
          [
           "Brothers"
          ],
          [
           "Brothers"
          ],
          [
           "Left Behind"
          ],
          [
           "Compadres"
          ],
          [
           "The Darkest Minds"
          ],
          [
           "Sleight"
          ],
          [
           "The Sweeney"
          ],
          [
           "Lost Souls"
          ],
          [
           "Oldboy"
          ],
          [
           "Transcendence"
          ],
          [
           "Jupiter Ascending"
          ],
          [
           "Cold Pursuit"
          ],
          [
           "Control"
          ],
          [
           "American Ultra"
          ],
          [
           "The Wall"
          ],
          [
           "Weekend"
          ],
          [
           "Captive"
          ],
          [
           "Captive"
          ],
          [
           "Choke"
          ],
          [
           "Scouts Guide to the Zombie Apocalypse"
          ],
          [
           "Simon"
          ],
          [
           "Alex Cross"
          ],
          [
           "Miss Bala"
          ],
          [
           "Queen Crab"
          ],
          [
           "Echo Dr."
          ],
          [
           "The Calling"
          ],
          [
           "Heroes of Dirt"
          ],
          [
           "Death Calls"
          ],
          [
           "Teeth and Blood"
          ],
          [
           "Midnight Cabaret"
          ],
          [
           "Amidst the Devil's Wings"
          ],
          [
           "Unknown"
          ],
          [
           "Jackpot"
          ],
          [
           "The Hammer"
          ],
          [
           "Born to Fly: Elizabeth Streb vs. Gravity"
          ],
          [
           "Detention of the Dead"
          ],
          [
           "Higher Power"
          ],
          [
           "Diamond Ruff"
          ],
          [
           "Fight to the Finish"
          ],
          [
           "Crossroads"
          ],
          [
           "Going Under"
          ],
          [
           "Subconscious"
          ],
          [
           "Light from the Darkroom"
          ],
          [
           "Morgan"
          ],
          [
           "Bad Company"
          ],
          [
           "Snitch"
          ],
          [
           "Hardflip"
          ],
          [
           "Jesse"
          ],
          [
           "Unsullied"
          ],
          [
           "American Hero"
          ],
          [
           "Por amor en el caserio"
          ],
          [
           "Zombie Hunter"
          ],
          [
           "The Dead Undead"
          ],
          [
           "The Collection"
          ],
          [
           "Gods of Egypt"
          ],
          [
           "The Algerian"
          ],
          [
           "MacGruber"
          ],
          [
           "Teefa in Trouble"
          ],
          [
           "Legend"
          ],
          [
           "Checkmate"
          ],
          [
           "Machete Kills"
          ],
          [
           "Independence Daysaster"
          ],
          [
           "Super"
          ],
          [
           "Highway"
          ],
          [
           "Shark Lake"
          ],
          [
           "Wind Walkers"
          ],
          [
           "Red State"
          ],
          [
           "The Timber"
          ],
          [
           "Infected"
          ],
          [
           "Infected"
          ],
          [
           "Hobo with a Shotgun"
          ],
          [
           "Frontera"
          ],
          [
           "Hotel Artemis"
          ],
          [
           "Green Zone"
          ],
          [
           "The Calling"
          ],
          [
           "Stung"
          ],
          [
           "Reign of Assassins"
          ],
          [
           "Creature"
          ],
          [
           "Wild Target"
          ],
          [
           "The Gambler"
          ],
          [
           "Open Road"
          ],
          [
           "Unnatural"
          ],
          [
           "AWOL-72"
          ],
          [
           "Close Range"
          ],
          [
           "Point Blank"
          ],
          [
           "Blackthorn"
          ],
          [
           "The Masked Saint"
          ],
          [
           "Ben-Hur"
          ],
          [
           "Paparazzi"
          ],
          [
           "The Kick"
          ],
          [
           "Dredd"
          ],
          [
           "Premium Rush"
          ],
          [
           "Inescapable"
          ],
          [
           "Chain of Command"
          ],
          [
           "The Veil"
          ],
          [
           "Falcon Rising"
          ],
          [
           "Mandy"
          ],
          [
           "Killer Elite"
          ],
          [
           "Hit & Run"
          ],
          [
           "Z Storm"
          ],
          [
           "Yoga Hosers"
          ],
          [
           "The Hatching"
          ],
          [
           "Born of War"
          ],
          [
           "Destroyer"
          ],
          [
           "The Rover"
          ],
          [
           "Max Steel"
          ],
          [
           "Salvation Boulevard"
          ],
          [
           "Heist"
          ],
          [
           "Heist"
          ],
          [
           "Heist"
          ],
          [
           "One for the Money"
          ],
          [
           "The Hit List"
          ],
          [
           "Heist"
          ],
          [
           "Heist"
          ],
          [
           "Heist"
          ],
          [
           "Getaway"
          ],
          [
           "Free Fire"
          ],
          [
           "The Brothers Grimsby"
          ],
          [
           "The Island"
          ],
          [
           "Tracker"
          ],
          [
           "Attack the Block"
          ],
          [
           "Centurion"
          ],
          [
           "Black November"
          ],
          [
           "Pound of Flesh"
          ],
          [
           "Red Tails"
          ],
          [
           "American Heist"
          ],
          [
           "The Hunted"
          ],
          [
           "Swelter"
          ],
          [
           "Code of Honor"
          ],
          [
           "Proud Mary"
          ],
          [
           "Gun Shy"
          ],
          [
           "All or Nothing"
          ],
          [
           "Drive Angry"
          ],
          [
           "Skin Trade"
          ],
          [
           "The Hurricane Heist"
          ],
          [
           "The Return"
          ],
          [
           "The Return"
          ],
          [
           "Hellboy"
          ],
          [
           "Redemption"
          ],
          [
           "Plastic"
          ],
          [
           "Gunless"
          ],
          [
           "Re-Kill"
          ],
          [
           "Genius"
          ],
          [
           "Into the Grizzly Maze"
          ],
          [
           "In the Heart of the Sea"
          ],
          [
           "Midnight Special"
          ],
          [
           "Dead Man Down"
          ],
          [
           "Firestorm"
          ],
          [
           "The Legend of Hercules"
          ],
          [
           "Pride and Prejudice and Zombies"
          ],
          [
           "Doomsday"
          ],
          [
           "The Avengers"
          ],
          [
           "Anonymous"
          ],
          [
           "5 Days of War"
          ],
          [
           "Drive Hard"
          ],
          [
           "Dhoom 3"
          ],
          [
           "Baahubali: The Beginning"
          ],
          [
           "Only the Brave"
          ],
          [
           "Freedom"
          ],
          [
           "Straw Dogs"
          ],
          [
           "Repo Men"
          ],
          [
           "The Son of No One"
          ],
          [
           "Dylan Dog: Dead of Night"
          ],
          [
           "Robin Hood"
          ],
          [
           "Robin Hood"
          ],
          [
           "Robin Hood"
          ],
          [
           "Robin Hood"
          ],
          [
           "Left Behind"
          ],
          [
           "Mortal Engines"
          ],
          [
           "Hands of Stone"
          ],
          [
           "Broken Horses"
          ],
          [
           "The Lone Ranger"
          ],
          [
           "Just Getting Started"
          ],
          [
           "Sabotage"
          ],
          [
           "Phantom"
          ],
          [
           "Red Dawn"
          ],
          [
           "Stolen"
          ],
          [
           "I Am Wrath"
          ],
          [
           "Wolves"
          ],
          [
           "Stone"
          ],
          [
           "Forsaken"
          ],
          [
           "The Prince"
          ],
          [
           "Survivor"
          ],
          [
           "Survivor"
          ],
          [
           "Rogue"
          ],
          [
           "Middle Men"
          ],
          [
           "Bait"
          ],
          [
           "Ironclad"
          ],
          [
           "Kin"
          ],
          [
           "Fight Valley"
          ],
          [
           "The Finest Hours"
          ],
          [
           "Molly"
          ],
          [
           "Stronger"
          ],
          [
           "Jane Got a Gun"
          ],
          [
           "The Gunman"
          ],
          [
           "Blood Ties"
          ],
          [
           "Blood Ties"
          ],
          [
           "Trapped"
          ],
          [
           "47 Ronin"
          ],
          [
           "Collide"
          ],
          [
           "Birth of the Dragon"
          ],
          [
           "Venom"
          ],
          [
           "Red Sky"
          ],
          [
           "Wild Card"
          ],
          [
           "Machine Gun Preacher"
          ],
          [
           "Conan the Barbarian"
          ],
          [
           "The Missing"
          ],
          [
           "Free State of Jones"
          ],
          [
           "Bilal: A New Breed of Hero"
          ],
          [
           "Mortdecai"
          ],
          [
           "Dragonfly"
          ],
          [
           "The Kid Who Would Be King"
          ],
          [
           "Bullet to the Head"
          ],
          [
           "The Young and Prodigious T.S. Spivet"
          ],
          [
           "Deepwater Horizon"
          ],
          [
           "The Warrior's Way"
          ],
          [
           "Pirates"
          ],
          [
           "The Lovers"
          ],
          [
           "King Arthur: Legend of the Sword"
          ],
          [
           "Jonah Hex"
          ],
          [
           "USS Indianapolis: Men of Courage"
          ],
          [
           "The Last Shot"
          ],
          [
           "Live by Night"
          ],
          [
           "Turbulence"
          ],
          [
           "Virus"
          ],
          [
           "Foodfight!"
          ],
          [
           "Father's Day"
          ],
          [
           "Blackhat"
          ],
          [
           "R.I.P.D."
          ],
          [
           "Stealth"
          ],
          [
           "Monster Trucks"
          ],
          [
           "Air Strike"
          ],
          [
           "The Nutcracker in 3D"
          ],
          [
           "Bright"
          ],
          [
           "Men in Black: International"
          ],
          [
           "Dark Phoenix"
          ]
         ],
         "hovertemplate": "Genre=Action<br>Runtime=%{x}<br>Profit in 100M=%{y}<br>Budget=%{marker.size}<br>title=%{customdata[0]}<extra></extra>",
         "legendgroup": "Action",
         "marker": {
          "color": "#ab63fa",
          "size": [
           300000000,
           215000000,
           190000000,
           225000000,
           200000000,
           170000000,
           330600000,
           200000000,
           200000000,
           160000000,
           250000000,
           175000000,
           195000000,
           200000000,
           210000000,
           250000000,
           90000000,
           200000000,
           275000000,
           58000000,
           116000000,
           130000000,
           175000000,
           110000000,
           160000000,
           150000000,
           180000000,
           125000000,
           410600000,
           250000000,
           170000000,
           80000000,
           300000000,
           180000000,
           175000000,
           230000000,
           200000000,
           170000000,
           170000000,
           220000000,
           150000000,
           165000000,
           200000000,
           125000000,
           150000000,
           130000000,
           58000000,
           160000000,
           127000000,
           165000000,
           145000000,
           170000000,
           225000000,
           215000000,
           135000000,
           150000000,
           130000000,
           40000000,
           125000000,
           135000000,
           60000000,
           129000000,
           130000000,
           217000000,
           93000000,
           140000000,
           185000000,
           160000000,
           125000000,
           178000000,
           102000000,
           125000000,
           300000000,
           178000000,
           150000000,
           110000000,
           190000000,
           152000000,
           80000000,
           45000000,
           165000000,
           34000000,
           40000000,
           94000000,
           120000000,
           104000000,
           115000000,
           150000000,
           120000000,
           9500000,
           50000000,
           48000000,
           73000000,
           85000000,
           190000000,
           40000000,
           5000000,
           75000000,
           75000000,
           160000000,
           30000000,
           85000000,
           125000000,
           61000000,
           87500000,
           130000000,
           79000000,
           57500000,
           90000000,
           140000000,
           30000000,
           170000000,
           170000000,
           80000000,
           140000000,
           1000000,
           130000000,
           190000000,
           110000000,
           150000000,
           165000000,
           195000000,
           92000000,
           100000000,
           65000000,
           160000000,
           34000000,
           178000000,
           130000000,
           85000000,
           13500000,
           43000000,
           82000000,
           150000000,
           90000000,
           70000000,
           125000000,
           100000000,
           65000000,
           50000000,
           150000000,
           180000000,
           120000000,
           50000000,
           120000000,
           50000000,
           145000000,
           42000000,
           130000000,
           48000000,
           60000000,
           65000000,
           125000000,
           150000000,
           90000000,
           90000000,
           110000000,
           20000000,
           185000000,
           70000000,
           14400000,
           75000000,
           100000000,
           117000000,
           30000000,
           55000000,
           12000000,
           75000000,
           155000000,
           60000000,
           80000000,
           35000000,
           170000000,
           25000000,
           25000000,
           140000000,
           66000000,
           13000000,
           85000000,
           120000000,
           130000000,
           100000000,
           45000000,
           110000000,
           275000000,
           60000000,
           8500000,
           15000000,
           77000000,
           40000000,
           210000000,
           210000000,
           210000000,
           210000000,
           50000000,
           50000000,
           50000000,
           135000000,
           40000000,
           100000000,
           13000000,
           10000000,
           32000000,
           35000000,
           35000000,
           70000000,
           9000000,
           50000000,
           60000000,
           25000000,
           40000000,
           220000000,
           57000000,
           65000000,
           45000000,
           42000000,
           38000000,
           40000000,
           125000000,
           50000000,
           144000000,
           40000000,
           8000000,
           37000000,
           80000000,
           15000000,
           60000000,
           4800000,
           69000000,
           24000000,
           24000000,
           25000000,
           38000000,
           90000000,
           61000000,
           88000000,
           60000000,
           100000000,
           95000000,
           95000000,
           12000000,
           67500000,
           40000000,
           38000000,
           28000000,
           30000000,
           110000000,
           15000000,
           85000000,
           11000000,
           40000000,
           70000000,
           70000000,
           38000000,
           38000000,
           24000000,
           5000000,
           5000000,
           20000000,
           10000000,
           15000000,
           160000000,
           110000000,
           84000000,
           38000000,
           25000000,
           49000000,
           150000000,
           26000000,
           30000000,
           5000000,
           70000000,
           12000000,
           60000000,
           70000000,
           35000000,
           35000000,
           35000000,
           40000000,
           80000000,
           20000000,
           32000000,
           30000000,
           90000000,
           13000000,
           28000000,
           28000000,
           40000000,
           120000000,
           22000000,
           35000000,
           30000000,
           35000000,
           28000000,
           6000000,
           150000000,
           12000000,
           60000000,
           120000000,
           15000000,
           15000000,
           26000000,
           13200000,
           35000000,
           13000000,
           60000000,
           100000000,
           32000000,
           5000000,
           30000000,
           170000000,
           35000000,
           60000000,
           22000000,
           30000000,
           28000000,
           180000000,
           10000000,
           28000000,
           12500000,
           42500000,
           70000000,
           50000000,
           40000000,
           35000000,
           42000000,
           50000000,
           22000000,
           15000000,
           102000000,
           80000000,
           26000000,
           34800000,
           85000000,
           9000000,
           20000000,
           25000000,
           100000000,
           20000000,
           1000000,
           12000000,
           10000000,
           70000000,
           70000000,
           42000000,
           42000000,
           77500000,
           60000000,
           35000000,
           55000000,
           120000000,
           8500000,
           75000000,
           75000000,
           15000000,
           200000000,
           26000000,
           26000000,
           37000000,
           28000000,
           20000000,
           30000000,
           30000000,
           110000000,
           25000000,
           50000000,
           2000000,
           2000000,
           60000000,
           42000000,
           2000000,
           75000000,
           50000000,
           25000000,
           20000000,
           95000000,
           25000000,
           3000000,
           35000000,
           23000000,
           106000000,
           7000000,
           37500000,
           9000000,
           28000000,
           40000000,
           55000000,
           9100000,
           24000000,
           28000000,
           60000000,
           35000000,
           350000,
           50000000,
           65000000,
           5600000,
           33000000,
           9200000,
           25000000,
           275000000,
           42000000,
           3000000,
           31500000,
           15000000,
           5200000,
           4500000,
           22000000,
           15000000,
           20000000,
           63000000,
           25000000,
           13000000,
           13000000,
           16000000,
           3000000,
           34000000,
           250000,
           4500000,
           28000000,
           3000000,
           100000000,
           179000000,
           60000000,
           6400000,
           28000000,
           3000000,
           190000,
           2000000,
           2000000,
           3400000,
           15000000,
           1300000,
           35000000,
           15000000,
           75000,
           100000,
           160000,
           175000,
           290000,
           300000,
           300000,
           300000,
           3700000,
           400000,
           850000,
           500000,
           500000,
           500000,
           500000,
           500000,
           500000,
           500000,
           500000,
           600000,
           8000000,
           70000000,
           850000,
           1000000,
           950000,
           1500000,
           1000000,
           1000000,
           1000000,
           1100000,
           10000000,
           140000000,
           1300000,
           10000000,
           1500000,
           25000000,
           1500000,
           20000000,
           1800000,
           2500000,
           2000000,
           2000000,
           2000000,
           4000000,
           2100000,
           2100000,
           2100000,
           3000000,
           2300000,
           15000000,
           100000000,
           2500000,
           2500000,
           14000000,
           3000000,
           8000000,
           3000000,
           3000000,
           3000000,
           3000000,
           3000000,
           3000000,
           4500000,
           3500000,
           95000000,
           20000000,
           3500000,
           45000000,
           35000000,
           4000000,
           4000000,
           4000000,
           4500000,
           6000000,
           70000000,
           22000000,
           7000000,
           5000000,
           5000000,
           5000000,
           9000000,
           8500000,
           10000000,
           5500000,
           8900000,
           8900000,
           8900000,
           42000000,
           6000000,
           35000000,
           35000000,
           35000000,
           18000000,
           10000000,
           35000000,
           22000000,
           6500000,
           13000000,
           15000000,
           7500000,
           7500000,
           58000000,
           10000000,
           55000000,
           8000000,
           8000000,
           30000000,
           10000000,
           9000000,
           50000000,
           9000000,
           40000000,
           15000000,
           15000000,
           50000000,
           23000000,
           10000000,
           9900000,
           9500000,
           17000000,
           10000000,
           100000000,
           18000000,
           30000000,
           19000000,
           70000000,
           28000000,
           33000000,
           60000000,
           27500000,
           12000000,
           12000000,
           24000000,
           40000000,
           38000000,
           14500000,
           25000000,
           32000000,
           15000000,
           20000000,
           99000000,
           99000000,
           99000000,
           99000000,
           18500000,
           100000000,
           20000000,
           15000000,
           275000000,
           22000000,
           35000000,
           18000000,
           65000000,
           35000000,
           18000000,
           18000000,
           22000000,
           18000000,
           18000000,
           20000000,
           20000000,
           23000000,
           20000000,
           35000000,
           25000000,
           30000000,
           20000000,
           70000000,
           21000000,
           30000000,
           25000000,
           40000000,
           26000000,
           26000000,
           30000000,
           175000000,
           29200000,
           31000000,
           25000000,
           25000000,
           30000000,
           30000000,
           90000000,
           65000000,
           50000000,
           30000000,
           60000000,
           60000000,
           59000000,
           55000000,
           33000000,
           156000000,
           42000000,
           40000000,
           35000000,
           175000000,
           47000000,
           40000000,
           40000000,
           65000000,
           55000000,
           75000000,
           45000000,
           85000000,
           70000000,
           130000000,
           138000000,
           125000000,
           65000000,
           90000000,
           90000000,
           110000000,
           350000000
          ],
          "sizemode": "area",
          "sizeref": 1026500,
          "symbol": "circle"
         },
         "mode": "markers",
         "name": "Action",
         "showlegend": true,
         "type": "scattergl",
         "x": [
          149,
          124,
          137,
          143,
          134,
          128,
          141,
          118,
          130,
          143,
          136,
          123,
          154,
          143,
          165,
          147,
          119,
          133,
          164,
          108,
          112,
          146,
          133,
          119,
          148,
          141,
          130,
          123,
          136,
          151,
          121,
          142,
          148,
          97,
          123,
          129,
          132,
          136,
          130,
          136,
          90,
          115,
          142,
          130,
          112,
          118,
          133,
          137,
          137,
          102,
          102,
          124,
          143,
          106,
          98,
          140,
          90,
          89,
          129,
          156,
          100,
          104,
          117,
          154,
          105,
          95,
          118,
          123,
          106,
          144,
          114,
          101,
          120,
          113,
          106,
          114,
          116,
          140,
          110,
          92,
          98,
          113,
          140,
          129,
          107,
          141,
          126,
          115,
          123,
          161,
          112,
          108,
          97,
          132,
          132,
          107,
          123,
          110,
          160,
          123,
          116,
          107,
          123,
          131,
          100,
          107,
          94,
          96,
          129,
          110,
          167,
          122,
          127,
          104,
          124,
          136,
          138,
          131,
          102,
          120,
          120,
          110,
          98,
          103,
          118,
          131,
          113,
          113,
          95,
          139,
          101,
          117,
          103,
          103,
          119,
          98,
          102,
          103,
          95,
          106,
          103,
          110,
          124,
          107,
          109,
          88,
          97,
          109,
          100,
          122,
          130,
          121,
          135,
          99,
          100,
          105,
          127,
          95,
          122,
          92,
          135,
          121,
          98,
          109,
          113,
          132,
          143,
          110,
          111,
          99,
          134,
          109,
          132,
          99,
          87,
          150,
          132,
          98,
          115,
          117,
          100,
          109,
          101,
          119,
          135,
          116,
          100,
          104,
          121,
          128,
          92,
          140,
          116,
          60,
          115,
          77,
          80,
          112,
          121,
          126,
          163,
          108,
          93,
          113,
          145,
          119,
          103,
          89,
          118,
          107,
          113,
          131,
          96,
          103,
          110,
          120,
          89,
          107,
          118,
          115,
          116,
          102,
          140,
          100,
          118,
          97,
          106,
          111,
          140,
          147,
          95,
          109,
          112,
          132,
          109,
          107,
          105,
          107,
          116,
          98,
          110,
          105,
          98,
          94,
          117,
          115,
          117,
          147,
          104,
          170,
          105,
          80,
          98,
          123,
          10,
          114,
          113,
          85,
          113,
          92,
          123,
          109,
          107,
          116,
          119,
          117,
          120,
          131,
          129,
          121,
          113,
          103,
          96,
          95,
          101,
          90,
          106,
          106,
          95,
          106,
          96,
          107,
          140,
          110,
          60,
          46,
          85,
          126,
          100,
          96,
          96,
          101,
          91,
          90,
          88,
          80,
          87,
          113,
          94,
          112,
          109,
          100,
          84,
          122,
          117,
          120,
          97,
          107,
          103,
          133,
          130,
          130,
          130,
          107,
          111,
          103,
          137,
          113,
          114,
          105,
          93,
          115,
          84,
          108,
          94,
          105,
          95,
          100,
          106,
          172,
          105,
          90,
          89,
          82,
          126,
          109,
          101,
          114,
          107,
          95,
          102,
          124,
          93,
          72,
          145,
          163,
          93,
          87,
          96,
          101,
          124,
          114,
          100,
          137,
          108,
          114,
          156,
          95,
          107,
          94,
          151,
          107,
          107,
          114,
          168,
          114,
          100,
          86,
          130,
          90,
          96,
          110,
          125,
          114,
          95,
          102,
          121,
          100,
          118,
          93,
          124,
          144,
          86,
          135,
          83,
          133,
          102,
          99,
          98,
          117,
          96,
          87,
          160,
          116,
          92,
          141,
          94,
          123,
          91,
          132,
          102,
          94,
          113,
          95,
          128,
          112,
          110,
          100,
          93,
          112,
          97,
          95,
          156,
          110,
          101,
          104,
          89,
          112,
          84,
          104,
          119,
          127,
          119,
          127,
          96,
          88,
          121,
          88,
          97,
          122,
          93,
          85,
          101,
          104,
          80,
          81,
          92,
          98,
          90,
          96,
          78,
          90,
          113,
          86,
          75,
          82,
          87,
          93,
          82,
          94,
          87,
          83,
          122,
          90,
          92,
          90,
          112,
          112,
          120,
          93,
          86,
          100,
          93,
          89,
          82,
          127,
          99,
          90,
          155,
          168,
          102,
          107,
          90,
          96,
          101,
          92,
          93,
          88,
          81,
          116,
          95,
          86,
          98,
          94,
          115,
          92,
          87,
          117,
          134,
          98,
          121,
          85,
          89,
          82,
          80,
          81,
          102,
          105,
          123,
          110,
          94,
          95,
          91,
          93,
          88,
          93,
          103,
          121,
          116,
          114,
          92,
          88,
          90,
          109,
          121,
          103,
          92,
          96,
          73,
          93,
          47,
          91,
          90,
          93,
          73,
          47,
          90,
          91,
          83,
          94,
          102,
          88,
          97,
          95,
          104,
          125,
          94,
          90,
          96,
          106,
          89,
          92,
          61,
          104,
          96,
          103,
          105,
          78,
          120,
          100,
          102,
          89,
          88,
          165,
          94,
          122,
          112,
          118,
          118,
          99,
          108,
          95,
          143,
          60,
          113,
          92,
          172,
          159,
          134,
          48,
          110,
          111,
          90,
          107,
          60,
          140,
          92,
          116,
          110,
          128,
          111,
          101,
          150,
          91,
          109,
          136,
          93,
          96,
          92,
          91,
          114,
          90,
          93,
          93,
          96,
          134,
          82,
          93,
          121,
          102,
          90,
          117,
          91,
          47,
          98,
          115,
          127,
          120,
          105,
          128,
          99,
          95,
          112,
          100,
          92,
          129,
          113,
          95,
          139,
          105,
          107,
          75,
          120,
          92,
          105,
          107,
          100,
          130,
          109,
          126,
          81,
          128,
          47,
          129,
          120,
          98,
          91,
          99,
          133,
          96,
          51,
          104,
          120,
          110,
          117,
          115,
          113
         ],
         "xaxis": "x",
         "y": [
          1748134200,
          1433854864,
          1328722794,
          1292935897,
          1148258224,
          1135772799,
          1072413963,
          1042520711,
          1015392272,
          986894640,
          984846267,
          948061550,
          928790543,
          910526981,
          894039076,
          890069413,
          874496193,
          849102856,
          809439099,
          743025593,
          737628605,
          734868047,
          705166350,
          676680557,
          675524642,
          671133378,
          666980024,
          641575131,
          635063875,
          617500281,
          600867516,
          597923379,
          579620923,
          578536735,
          571059887,
          558241137,
          547862775,
          544401889,
          540644566,
          537890267,
          514837547,
          511404566,
          508996336,
          505163454,
          494602516,
          493144660,
          489326372,
          488986787,
          488461394,
          487127828,
          469586270,
          451156389,
          442999518,
          439213485,
          438068425,
          429290136,
          424987477,
          417507776,
          410663443,
          397938302,
          397729388,
          390258283,
          388858449,
          385893340,
          377986200,
          377599142,
          376072059,
          369076069,
          368214888,
          364537546,
          363195589,
          360004754,
          355945209,
          351530715,
          349837368,
          346258539,
          341514650,
          337592267,
          336385488,
          332807404,
          329870992,
          314319861,
          311774938,
          310561724,
          308056280,
          304803696,
          301456852,
          299326618,
          296168316,
          285154618,
          281333876,
          279656424,
          279327887,
          277899733,
          277381584,
          274101190,
          273964806,
          267416460,
          267416460,
          265522281,
          265212467,
          260033359,
          251000000,
          249566162,
          245632750,
          243993951,
          239146162,
          238374190,
          238325007,
          235740705,
          233502914,
          232976036,
          231021746,
          230660018,
          230569776,
          224000000,
          222831065,
          221002906,
          220780051,
          220098020,
          219169424,
          214953905,
          212249198,
          211979256,
          196400000,
          195408305,
          194104185,
          192541256,
          191887208,
          191014965,
          188500000,
          186727774,
          186268174,
          184486852,
          183477501,
          180700000,
          179115534,
          178731369,
          175647629,
          172383055,
          169713881,
          168902025,
          167916633,
          167194805,
          166192091,
          164949716,
          161900902,
          160812429,
          160650494,
          160300000,
          157370736,
          156297061,
          155355920,
          155270083,
          154041804,
          154041804,
          153880341,
          151685793,
          150802233,
          150241723,
          144757447,
          144519367,
          143388614,
          141751370,
          140466405,
          137903624,
          137570720,
          136562435,
          135930148,
          135194085,
          130315681,
          130103952,
          129276941,
          128733800,
          128733800,
          128314513,
          128169619,
          123617305,
          123542162,
          122981799,
          121499665,
          120796009,
          119640401,
          119155503,
          118151347,
          115863783,
          114247755,
          113885873,
          113453132,
          112962083,
          112459006,
          112459006,
          112459006,
          112459006,
          111626121,
          111626121,
          111626121,
          110328374,
          109804632,
          109461378,
          108778347,
          108514727,
          108428499,
          105783360,
          105783360,
          102878928,
          102534881,
          100429371,
          99946489,
          98696741,
          96123083,
          93477717,
          92217355,
          91974557,
          90808837,
          89052444,
          88577874,
          87234389,
          86856088,
          85569212,
          85008658,
          84827316,
          82815558,
          80378084,
          78750817,
          78589701,
          77551594,
          77441110,
          76951861,
          75135571,
          75135571,
          73406855,
          73336398,
          72525156,
          71493015,
          71487563,
          71377412,
          70936470,
          70720921,
          70720921,
          70497035,
          69989730,
          69738840,
          69650646,
          69531134,
          68345423,
          67241171,
          66357930,
          65422946,
          61989781,
          61985431,
          61011757,
          61011757,
          60230839,
          60230839,
          59531958,
          59240813,
          59240813,
          59114085,
          58264973,
          58259017,
          57986320,
          57910690,
          57507355,
          56763758,
          56249176,
          56002056,
          55440387,
          55275291,
          54393749,
          53978477,
          53954323,
          53532576,
          53461527,
          52737201,
          51648359,
          51648359,
          51648359,
          51126600,
          50818912,
          50652284,
          50332450,
          50131391,
          49877913,
          49452927,
          49026186,
          49026186,
          48069880,
          47849187,
          47698495,
          47182803,
          46235001,
          46209222,
          45421224,
          45411620,
          45080579,
          45000000,
          44100903,
          43018913,
          42907734,
          42586606,
          41647574,
          41123210,
          40885196,
          40424681,
          39823958,
          39716717,
          38587268,
          37844516,
          37255916,
          36627518,
          36118378,
          35538560,
          35520063,
          35343694,
          35129909,
          35098356,
          34567606,
          34108587,
          33870970,
          33847393,
          33735965,
          33306268,
          32295262,
          31295121,
          31239258,
          30369970,
          29695362,
          29400000,
          28673154,
          28469033,
          28393687,
          28031715,
          28026383,
          27588512,
          27508505,
          26800758,
          26704591,
          26255763,
          25887177,
          25584304,
          25073978,
          24973540,
          24973540,
          24787173,
          24787173,
          24528919,
          24154026,
          22897191,
          22548122,
          22531552,
          22200192,
          20572749,
          20572749,
          19820335,
          19535492,
          19043870,
          19043870,
          18909910,
          18752858,
          18585047,
          18575965,
          18330757,
          17983283,
          17425450,
          16961644,
          16344729,
          16344729,
          15965567,
          15852177,
          15187434,
          14758389,
          14477051,
          13993548,
          13943049,
          13874967,
          13718031,
          13553285,
          13543388,
          13374700,
          13266661,
          13257000,
          13147416,
          12971021,
          12966716,
          12837989,
          12130045,
          11827794,
          11792945,
          10959900,
          10883171,
          10671512,
          9650000,
          9596747,
          9575290,
          9083763,
          8495213,
          7955193,
          7831707,
          7778100,
          7621440,
          7473836,
          7271262,
          7018988,
          6433427,
          5900000,
          5882226,
          5688141,
          5361206,
          5310140,
          4863840,
          4856688,
          4856688,
          4769209,
          4445044,
          4361428,
          3684450,
          3500366,
          3320293,
          3239723,
          3039258,
          2982519,
          2599159,
          2502141,
          2295028,
          1495262,
          1387585,
          791973,
          791973,
          724277,
          554855,
          438663,
          426759,
          362298,
          -75000,
          -100000,
          -127908,
          -175000,
          -290000,
          -300000,
          -300000,
          -300000,
          -344952,
          -355548,
          -407362,
          -498178,
          -498222,
          -499472,
          -500000,
          -500000,
          -500000,
          -500000,
          -500000,
          -600000,
          -701214,
          -842984,
          -850000,
          -903266,
          -950000,
          -989043,
          -999974,
          -1000000,
          -1000000,
          -1100000,
          -1109906,
          -1163244,
          -1300000,
          -1370105,
          -1401194,
          -1493763,
          -1500000,
          -1726991,
          -1800000,
          -1906067,
          -2000000,
          -2000000,
          -2000000,
          -2016404,
          -2100000,
          -2100000,
          -2100000,
          -2165047,
          -2240304,
          -2241201,
          -2476980,
          -2500000,
          -2500000,
          -2645770,
          -2669000,
          -2685806,
          -2898227,
          -2952531,
          -3000000,
          -3000000,
          -3000000,
          -3000000,
          -3282693,
          -3317305,
          -3330352,
          -3387928,
          -3459378,
          -3532394,
          -3606799,
          -3995673,
          -4000000,
          -4000000,
          -4488226,
          -4572344,
          -4590954,
          -4783045,
          -4946670,
          -4977042,
          -5000000,
          -5000000,
          -5318904,
          -5319748,
          -5436920,
          -5471532,
          -5575869,
          -5575869,
          -5575869,
          -5802779,
          -6000000,
          -6093183,
          -6093183,
          -6093183,
          -6186011,
          -6206261,
          -6279530,
          -6283172,
          -6496851,
          -6540817,
          -7114952,
          -7467428,
          -7500000,
          -7634502,
          -7658782,
          -7786905,
          -7955803,
          -8000000,
          -8290461,
          -8361798,
          -8815745,
          -8957417,
          -8998758,
          -9036316,
          -9046114,
          -9046114,
          -9274508,
          -9406527,
          -9424629,
          -9441946,
          -9500000,
          -9734717,
          -10000000,
          -10306691,
          -10319750,
          -10400026,
          -10876140,
          -11046681,
          -11361700,
          -11378812,
          -11414584,
          -11684491,
          -11912207,
          -12000000,
          -12276380,
          -13263335,
          -13444823,
          -13627243,
          -13746179,
          -13804762,
          -13851422,
          -13906275,
          -14252559,
          -14252559,
          -14252559,
          -14252559,
          -14278659,
          -14712583,
          -14968025,
          -14996529,
          -14997885,
          -15243588,
          -16623557,
          -16800490,
          -16835850,
          -17032254,
          -17690392,
          -17905047,
          -17934980,
          -18000000,
          -18000000,
          -18296719,
          -18296719,
          -18326623,
          -19245699,
          -19528031,
          -19702589,
          -19903179,
          -20000000,
          -20747239,
          -20982604,
          -21213248,
          -21228655,
          -21405773,
          -23076041,
          -23076041,
          -23083131,
          -23283185,
          -23733302,
          -23779510,
          -24118255,
          -24908884,
          -25684211,
          -26278012,
          -26643867,
          -26746567,
          -26762748,
          -29351401,
          -29603866,
          -29936195,
          -30651554,
          -32402031,
          -32642313,
          -33396176,
          -33485675,
          -33658175,
          -34946101,
          -35369664,
          -35977304,
          -38336215,
          -39536270,
          -43225568,
          -43467226,
          -44373310,
          -44926294,
          -49318920,
          -50334996,
          -50923322,
          -61583254,
          -63357202,
          -64483721,
          -69533984,
          -90000000,
          -106900000,
          -200237650
         ],
         "yaxis": "y"
        },
        {
         "customdata": [
          [
           "Frozen"
          ],
          [
           "Minions"
          ],
          [
           "Incredibles 2"
          ],
          [
           "Despicable Me 3"
          ],
          [
           "Despicable Me 2"
          ],
          [
           "Zootopia"
          ],
          [
           "Toy Story 3"
          ],
          [
           "Finding Dory"
          ],
          [
           "The Secret Life of Pets"
          ],
          [
           "The Jungle Book"
          ],
          [
           "Ice Age: Continental Drift"
          ],
          [
           "Inside Out"
          ],
          [
           "Coco"
          ],
          [
           "Madagascar 3: Europe's Most Wanted"
          ],
          [
           "Shrek Forever After"
          ],
          [
           "Sing"
          ],
          [
           "Monsters University"
          ],
          [
           "Kung Fu Panda 2"
          ],
          [
           "Moana"
          ],
          [
           "Big Hero 6"
          ],
          [
           "Despicable Me"
          ],
          [
           "How to Train Your Dragon 2"
          ],
          [
           "Hotel Transylvania 3: Summer Vacation"
          ],
          [
           "The Smurfs"
          ],
          [
           "The Croods"
          ],
          [
           "Puss in Boots"
          ],
          [
           "Lucy"
          ],
          [
           "The Lego Movie"
          ],
          [
           "Rio"
          ],
          [
           "How to Train Your Dragon: The Hidden World"
          ],
          [
           "Hotel Transylvania 2"
          ],
          [
           "The Boss Baby"
          ],
          [
           "Kung Fu Panda 3"
          ],
          [
           "Brave"
          ],
          [
           "Rio 2"
          ],
          [
           "Cars 2"
          ],
          [
           "Wreck-It Ralph"
          ],
          [
           "How to Train Your Dragon"
          ],
          [
           "Tangled"
          ],
          [
           "Tarzan"
          ],
          [
           "Ice Age: Collision Course"
          ],
          [
           "Peter Rabbit"
          ],
          [
           "Hotel Transylvania"
          ],
          [
           "The Angry Birds Movie"
          ],
          [
           "Alvin and the Chipmunks: Chipwrecked"
          ],
          [
           "Home"
          ],
          [
           "Home"
          ],
          [
           "The Adventures of Tintin"
          ],
          [
           "The Smurfs 2"
          ],
          [
           "The SpongeBob Movie: Sponge Out of Water"
          ],
          [
           "Penguins of Madagascar"
          ],
          [
           "The Lego Batman Movie"
          ],
          [
           "Dinosaur"
          ],
          [
           "Dinosaur"
          ],
          [
           "Trolls"
          ],
          [
           "Cars 3"
          ],
          [
           "Cloudy with a Chance of Meatballs 2"
          ],
          [
           "Megamind"
          ],
          [
           "Snow White and the Seven Dwarfs"
          ],
          [
           "Ferdinand"
          ],
          [
           "The Emoji Movie"
          ],
          [
           "Epic"
          ],
          [
           "Rise of the Guardians"
          ],
          [
           "Alvin and the Chipmunks: The Road Chip"
          ],
          [
           "Turbo"
          ],
          [
           "The Peanuts Movie"
          ],
          [
           "The Good Dinosaur"
          ],
          [
           "Smurfs: The Lost Village"
          ],
          [
           "Smallfoot"
          ],
          [
           "Hop"
          ],
          [
           "Mr. Peabody & Sherman"
          ],
          [
           "Yogi Bear"
          ],
          [
           "Christopher Robin"
          ],
          [
           "Sausage Party"
          ],
          [
           "Dragon Ball Super: Broly"
          ],
          [
           "Storks"
          ],
          [
           "Rango"
          ],
          [
           "The Nut Job"
          ],
          [
           "Captain Underpants: The First Epic Movie"
          ],
          [
           "Pinocchio"
          ],
          [
           "The Pirates! Band of Misfits"
          ],
          [
           "The Illusionist"
          ],
          [
           "Arthur Christmas"
          ],
          [
           "Free Birds"
          ],
          [
           "The Lego Ninjago Movie"
          ],
          [
           "The Boxtrolls"
          ],
          [
           "Tag"
          ],
          [
           "ParaNorman"
          ],
          [
           "The Book of Life"
          ],
          [
           "Home"
          ],
          [
           "Home"
          ],
          [
           "The Star"
          ],
          [
           "Frankenweenie"
          ],
          [
           "Legend of the Guardians: The Owls of Ga'Hoole"
          ],
          [
           "As Above, So Below"
          ],
          [
           "The Secret Life of Pets 2"
          ],
          [
           "Thunder and the House of Magic"
          ],
          [
           "Sherlock Gnomes"
          ],
          [
           "The Guardian"
          ],
          [
           "The Little Prince"
          ],
          [
           "Happy Feet Two"
          ],
          [
           "Kubo and the Two Strings"
          ],
          [
           "White Fang"
          ],
          [
           "Winnie the Pooh"
          ],
          [
           "The Nut Job 2: Nutty by Nature"
          ],
          [
           "The Jungle Book"
          ],
          [
           "The Apostle"
          ],
          [
           "Wonder Park"
          ],
          [
           "Zambezia"
          ],
          [
           "Norm of the North"
          ],
          [
           "Khumba"
          ],
          [
           "A Monster Calls"
          ],
          [
           "Underdogs"
          ],
          [
           "The Lion of Judah"
          ],
          [
           "Wings"
          ],
          [
           "Anomalisa"
          ],
          [
           "Eden"
          ],
          [
           "The Cave"
          ],
          [
           "Early Man"
          ],
          [
           "Henry & Me"
          ],
          [
           "A.C.O.R.N.S.: Operation Crackdown"
          ],
          [
           "Lost and Found"
          ],
          [
           "The House"
          ],
          [
           "Jungle Shuffle"
          ],
          [
           "Home"
          ],
          [
           "Home"
          ],
          [
           "Pinocchio"
          ],
          [
           "Dwegons and Leprechauns"
          ],
          [
           "UglyDolls"
          ],
          [
           "Sgt. Stubby: An American Hero"
          ],
          [
           "Zoom"
          ],
          [
           "Sahara"
          ],
          [
           "Bilal: A New Breed of Hero"
          ],
          [
           "Space Pirate Captain Harlock"
          ],
          [
           "Rock Dog"
          ],
          [
           "Foodfight!"
          ],
          [
           "Mars Needs Moms"
          ]
         ],
         "hovertemplate": "Genre=Animation<br>Runtime=%{x}<br>Profit in 100M=%{y}<br>Budget=%{marker.size}<br>title=%{customdata[0]}<extra></extra>",
         "legendgroup": "Animation",
         "marker": {
          "color": "#FFA15A",
          "size": [
           150000000,
           74000000,
           200000000,
           75000000,
           76000000,
           150000000,
           200000000,
           200000000,
           75000000,
           175000000,
           95000000,
           175000000,
           175000000,
           145000000,
           165000000,
           75000000,
           200000000,
           150000000,
           150000000,
           165000000,
           69000000,
           145000000,
           65000000,
           110000000,
           135000000,
           130000000,
           40000000,
           60000000,
           90000000,
           129000000,
           80000000,
           125000000,
           140000000,
           185000000,
           130000000,
           200000000,
           165000000,
           165000000,
           260000000,
           145000000,
           105000000,
           50000000,
           85000000,
           73000000,
           80000000,
           130000000,
           130000000,
           130000000,
           110000000,
           74000000,
           132000000,
           80000000,
           127500000,
           127500000,
           125000000,
           175000000,
           78000000,
           130000000,
           1488000,
           111000000,
           50000000,
           100000000,
           145000000,
           90000000,
           135000000,
           99000000,
           187500000,
           60000000,
           80000000,
           63000000,
           145000000,
           80000000,
           75000000,
           19000000,
           8500000,
           70000000,
           135000000,
           30000000,
           38000000,
           2289247,
           55000000,
           16500000,
           85000000,
           55000000,
           70000000,
           60000000,
           28000000,
           60000000,
           50000000,
           500000,
           500000,
           20000000,
           39000000,
           100000000,
           5000000,
           80000000,
           34000000,
           59000000,
           70000000,
           77500000,
           135000000,
           55000000,
           14000000,
           30000000,
           40000000,
           27000000,
           5000000,
           100000000,
           20000000,
           18000000,
           15000000,
           43000000,
           2500000,
           1500000,
           2000000,
           8000000,
           2300000,
           30000000,
           50000000,
           5000000,
           8500000,
           14000000,
           40000000,
           10000000,
           12000000,
           12000000,
           45000000,
           20000000,
           45000000,
           25000000,
           35000000,
           145000000,
           30000000,
           30000000,
           60000000,
           45000000,
           150000000
          ],
          "sizemode": "area",
          "sizeref": 1026500,
          "symbol": "circle"
         },
         "mode": "markers",
         "name": "Animation",
         "showlegend": true,
         "type": "scattergl",
         "x": [
          102,
          91,
          118,
          89,
          98,
          108,
          103,
          97,
          87,
          64,
          88,
          95,
          105,
          93,
          93,
          108,
          104,
          90,
          107,
          102,
          95,
          102,
          97,
          103,
          98,
          90,
          9,
          100,
          96,
          104,
          89,
          97,
          95,
          93,
          101,
          106,
          101,
          98,
          100,
          94,
          94,
          95,
          91,
          97,
          87,
          94,
          35,
          107,
          105,
          92,
          92,
          104,
          5,
          77,
          92,
          102,
          95,
          95,
          49,
          108,
          86,
          102,
          97,
          92,
          96,
          88,
          93,
          90,
          96,
          95,
          92,
          80,
          104,
          89,
          100,
          87,
          107,
          85,
          89,
          75,
          88,
          80,
          97,
          91,
          101,
          96,
          76,
          92,
          95,
          35,
          94,
          86,
          87,
          97,
          10,
          86,
          85,
          86,
          93,
          108,
          100,
          101,
          85,
          63,
          91,
          64,
          80,
          85,
          83,
          90,
          85,
          108,
          106,
          87,
          84,
          90,
          90,
          15,
          89,
          67,
          83,
          111,
          72,
          85,
          35,
          94,
          75,
          98,
          87,
          84,
          96,
          86,
          105,
          100,
          90,
          91,
          88
         ],
         "xaxis": "x",
         "y": [
          1122469910,
          1086336173,
          1042520711,
          959727750,
          899216835,
          869429616,
          868879522,
          821215193,
          811750534,
          787854547,
          784765137,
          679235992,
          623008101,
          601921271,
          591244673,
          559454789,
          543588329,
          514837547,
          487517365,
          487127828,
          474464573,
          469586270,
          462079962,
          453749323,
          438068425,
          424987477,
          417507776,
          397729388,
          397519809,
          390258283,
          389500298,
          385878762,
          377599142,
          369606532,
          362846291,
          360155383,
          331511521,
          329870992,
          326477240,
          303191819,
          297156682,
          297136477,
          293505812,
          279327887,
          269088523,
          255997896,
          255997896,
          243993951,
          238547523,
          237013181,
          234942531,
          230660018,
          228648063,
          228648063,
          219150134,
          208541369,
          196392649,
          191887208,
          183437486,
          178847930,
          166562312,
          162794441,
          161900902,
          159517956,
          151896578,
          151091610,
          146271037,
          137578586,
          133691277,
          125657593,
          124806430,
          124774690,
          122504758,
          122344255,
          114247755,
          113353431,
          110724600,
          92529966,
          88577874,
          82010753,
          81143605,
          67292062,
          64717124,
          55387072,
          52737201,
          51946251,
          49026186,
          48119662,
          47651543,
          44293168,
          44293168,
          42758010,
          42150788,
          39716717,
          36824066,
          33351496,
          28582520,
          28527651,
          24973540,
          24528919,
          22956466,
          22548122,
          20729091,
          20145607,
          17438389,
          17342956,
          16277770,
          15149422,
          14454336,
          12535660,
          5898221,
          3414530,
          -1107351,
          -1500000,
          -2000000,
          -2293832,
          -2300000,
          -2852009,
          -4714110,
          -5000000,
          -7146713,
          -7447745,
          -8807575,
          -9639102,
          -12000000,
          -12000000,
          -13318189,
          -20000000,
          -20355336,
          -21354043,
          -22493812,
          -23328075,
          -29351401,
          -29689015,
          -35851512,
          -44926294,
          -110450242
         ],
         "yaxis": "y"
        },
        {
         "customdata": [
          [
           "Frozen"
          ],
          [
           "Beauty and the Beast"
          ],
          [
           "Beauty and the Beast"
          ],
          [
           "Beauty and the Beast"
          ],
          [
           "Aquaman"
          ],
          [
           "Alice in Wonderland"
          ],
          [
           "Alice in Wonderland"
          ],
          [
           "The Hobbit: An Unexpected Journey"
          ],
          [
           "The Hobbit: The Desolation of Smaug"
          ],
          [
           "The Hobbit: The Battle of the Five Armies"
          ],
          [
           "Wonder Woman"
          ],
          [
           "The Twilight Saga: Eclipse"
          ],
          [
           "Pirates of the Caribbean: On Stranger Tides"
          ],
          [
           "Fantastic Beasts and Where to Find Them"
          ],
          [
           "Batman v Superman: Dawn of Justice"
          ],
          [
           "Beauty and the Beast"
          ],
          [
           "Beauty and the Beast"
          ],
          [
           "Beauty and the Beast"
          ],
          [
           "Suicide Squad"
          ],
          [
           "Pirates of the Caribbean: Dead Men Tell No Tales"
          ],
          [
           "Doctor Strange"
          ],
          [
           "Ted"
          ],
          [
           "Life of Pi"
          ],
          [
           "Ghost"
          ],
          [
           "Thor: The Dark World"
          ],
          [
           "Fantastic Beasts: The Crimes of Grindelwald"
          ],
          [
           "Cinderella"
          ],
          [
           "Cinderella"
          ],
          [
           "Kong: Skull Island"
          ],
          [
           "Clash of the Titans"
          ],
          [
           "Justice League"
          ],
          [
           "The Mummy"
          ],
          [
           "The Mask"
          ],
          [
           "Thor"
          ],
          [
           "Oz the Great and Powerful"
          ],
          [
           "Split"
          ],
          [
           "Warcraft"
          ],
          [
           "Ghostbusters"
          ],
          [
           "The Chronicles of Narnia: The Voyage of the Dawn Treader"
          ],
          [
           "Cinderella"
          ],
          [
           "Cinderella"
          ],
          [
           "300: Rise of an Empire"
          ],
          [
           "The Mummy"
          ],
          [
           "Mary Poppins Returns"
          ],
          [
           "The Great Wall"
          ],
          [
           "Tomb Raider"
          ],
          [
           "Hercules"
          ],
          [
           "The Shape of Water"
          ],
          [
           "Dumbo"
          ],
          [
           "Hansel & Gretel: Witch Hunters"
          ],
          [
           "Wrath of the Titans"
          ],
          [
           "Dracula Untold"
          ],
          [
           "Hercules"
          ],
          [
           "Immortals"
          ],
          [
           "Midnight in Paris"
          ],
          [
           "Godzilla: King of the Monsters"
          ],
          [
           "Percy Jackson & the Olympians: The Lightning Thief"
          ],
          [
           "Solo: A Star Wars Story"
          ],
          [
           "The Woman in Black"
          ],
          [
           "Percy Jackson: Sea of Monsters"
          ],
          [
           "Alice Through the Looking Glass"
          ],
          [
           "Ghost Rider: Spirit of Vengeance"
          ],
          [
           "Dark Shadows"
          ],
          [
           "Ghostbusters"
          ],
          [
           "Pinocchio"
          ],
          [
           "Evil Dead"
          ],
          [
           "About Time"
          ],
          [
           "Abraham Lincoln: Vampire Hunter"
          ],
          [
           "Earth"
          ],
          [
           "If I Stay"
          ],
          [
           "Tooth Fairy"
          ],
          [
           "The BFG"
          ],
          [
           "Conan the Barbarian"
          ],
          [
           "Hereafter"
          ],
          [
           "A Haunted House"
          ],
          [
           "The Dark Tower"
          ],
          [
           "Season of the Witch"
          ],
          [
           "The Last Witch Hunter"
          ],
          [
           "What Men Want"
          ],
          [
           "Red Riding Hood"
          ],
          [
           "Tag"
          ],
          [
           "Alpha"
          ],
          [
           "Krampus"
          ],
          [
           "Underworld: Blood Wars"
          ],
          [
           "Beowulf"
          ],
          [
           "One Day"
          ],
          [
           "Legion"
          ],
          [
           "Winchester"
          ],
          [
           "Hellboy"
          ],
          [
           "The Age of Adaline"
          ],
          [
           "The Nutcracker and the Four Realms"
          ],
          [
           "Valerian and the City of a Thousand Planets"
          ],
          [
           "The Forest"
          ],
          [
           "A Wrinkle in Time"
          ],
          [
           "Clash of the Titans"
          ],
          [
           "The Night Before"
          ],
          [
           "The Tree of Life"
          ],
          [
           "The Guardian"
          ],
          [
           "Love the Coopers"
          ],
          [
           "Priest"
          ],
          [
           "The Change-Up"
          ],
          [
           "The Bye Bye Man"
          ],
          [
           "The Circle"
          ],
          [
           "New in Town"
          ],
          [
           "Beasts of the Southern Wild"
          ],
          [
           "Beastly"
          ],
          [
           "Crimson Peak"
          ],
          [
           "Ender's Game"
          ],
          [
           "A Haunted House 2"
          ],
          [
           "The Mortal Instruments: City of Bones"
          ],
          [
           "Sorry to Bother You"
          ],
          [
           "Sucker Punch"
          ],
          [
           "Don't Be Afraid of the Dark"
          ],
          [
           "Before I Fall"
          ],
          [
           "Seventh Son"
          ],
          [
           "Do You Believe?"
          ],
          [
           "Wish Upon"
          ],
          [
           "Beautiful Creatures"
          ],
          [
           "Pulse"
          ],
          [
           "I, Frankenstein"
          ],
          [
           "Let Me In"
          ],
          [
           "Viy"
          ],
          [
           "Sardaar Ji"
          ],
          [
           "Left Behind"
          ],
          [
           "Charlie St. Cloud"
          ],
          [
           "Animal Kingdom"
          ],
          [
           "A Monster Calls"
          ],
          [
           "Cirque du Soleil: Worlds Away"
          ],
          [
           "Jack the Giant Slayer"
          ],
          [
           "A Ghost Story"
          ],
          [
           "The Wall"
          ],
          [
           "Vampires"
          ],
          [
           "The Future"
          ],
          [
           "Holy Motors"
          ],
          [
           "Rubber"
          ],
          [
           "Lovesick"
          ],
          [
           "Lost River"
          ],
          [
           "November"
          ],
          [
           "Western Religion"
          ],
          [
           "The Looking Glass"
          ],
          [
           "Escape from Tomorrow"
          ],
          [
           "The Brass Teapot"
          ],
          [
           "After"
          ],
          [
           "Bang Bang Baby"
          ],
          [
           "Gods of Egypt"
          ],
          [
           "The Lost Medallion: The Adventures of Billy Stone"
          ],
          [
           "The Ghastly Love of Johnny X"
          ],
          [
           "Alice in Wonderland"
          ],
          [
           "Alice in Wonderland"
          ],
          [
           "Red Lights"
          ],
          [
           "Wonderland"
          ],
          [
           "Wonderland"
          ],
          [
           "The Final Girls"
          ],
          [
           "Mandy"
          ],
          [
           "The Incredible Burt Wonderstone"
          ],
          [
           "Yoga Hosers"
          ],
          [
           "Gracie"
          ],
          [
           "Animals"
          ],
          [
           "Twixt"
          ],
          [
           "Showtime"
          ],
          [
           "The Wolfman"
          ],
          [
           "It's a Wonderful Afterlife"
          ],
          [
           "Drive Angry"
          ],
          [
           "Hellboy"
          ],
          [
           "The Young Messiah"
          ],
          [
           "Triangle"
          ],
          [
           "The Legend of Hercules"
          ],
          [
           "A Little Bit of Heaven"
          ],
          [
           "Suspiria"
          ],
          [
           "Pinocchio"
          ],
          [
           "Left Behind"
          ],
          [
           "Mortal Engines"
          ],
          [
           "Wolves"
          ],
          [
           "Survivor"
          ],
          [
           "The Tempest"
          ],
          [
           "Upside Down"
          ],
          [
           "Your Highness"
          ],
          [
           "The Adventurer: The Curse of the Midas Box"
          ],
          [
           "Conan the Barbarian"
          ],
          [
           "The Warrior's Way"
          ],
          [
           "Jonah Hex"
          ],
          [
           "Nomad"
          ],
          [
           "The Nutcracker in 3D"
          ],
          [
           "Bright"
          ]
         ],
         "hovertemplate": "Genre=Fantasy<br>Runtime=%{x}<br>Profit in 100M=%{y}<br>Budget=%{marker.size}<br>title=%{customdata[0]}<extra></extra>",
         "legendgroup": "Fantasy",
         "marker": {
          "color": "#19d3f3",
          "size": [
           150000000,
           160000000,
           160000000,
           160000000,
           160000000,
           200000000,
           200000000,
           250000000,
           250000000,
           250000000,
           150000000,
           68000000,
           410600000,
           180000000,
           250000000,
           20000000,
           20000000,
           20000000,
           175000000,
           230000000,
           165000000,
           50000000,
           120000000,
           22000000,
           150000000,
           200000000,
           95000000,
           95000000,
           185000000,
           125000000,
           300000000,
           80000000,
           18000000,
           150000000,
           200000000,
           5000000,
           160000000,
           30000000,
           155000000,
           2900000,
           2900000,
           110000000,
           195000000,
           130000000,
           150000000,
           90000000,
           70000000,
           19500000,
           170000000,
           50000000,
           150000000,
           70000000,
           100000000,
           75000000,
           30000000,
           170000000,
           95000000,
           275000000,
           15000000,
           90000000,
           170000000,
           57000000,
           150000000,
           144000000,
           2289247,
           17000000,
           12000000,
           67500000,
           47000000,
           11000000,
           48000000,
           140000000,
           20000000,
           50000000,
           2500000,
           60000000,
           40000000,
           80000000,
           20000000,
           42000000,
           28000000,
           51000000,
           15000000,
           35000000,
           150000000,
           15000000,
           26000000,
           3500000,
           60000000,
           30000000,
           132900000,
           180000000,
           10000000,
           103000000,
           15000000,
           25000000,
           35000000,
           70000000,
           18000000,
           60000000,
           52000000,
           7400000,
           18000000,
           8000000,
           1800000,
           17000000,
           55000000,
           110000000,
           4000000,
           60000000,
           3200000,
           75000000,
           25000000,
           5000000,
           95000000,
           2300000,
           12000000,
           50000000,
           20500000,
           65000000,
           20000000,
           26000000,
           2700000,
           16000000,
           44000000,
           4200000,
           43000000,
           25000000,
           195000000,
           100000,
           3000000,
           20000000,
           1000000,
           4000000,
           500000,
           10100000,
           2000000,
           250000,
           250000,
           300000,
           650000,
           900000,
           650000,
           1000000,
           140000000,
           2500000,
           2000000,
           3000000,
           3000000,
           17700000,
           5500000,
           5500000,
           4500000,
           6000000,
           32000000,
           5000000,
           9000000,
           5500000,
           7000000,
           85000000,
           150000000,
           10000000,
           50000000,
           50000000,
           16800000,
           12000000,
           70000000,
           12500000,
           20000000,
           45000000,
           18500000,
           100000000,
           18000000,
           20000000,
           20000000,
           50000000,
           50000000,
           25000000,
           90000000,
           42000000,
           47000000,
           40000000,
           90000000,
           90000000
          ],
          "sizemode": "area",
          "sizeref": 1026500,
          "symbol": "circle"
         },
         "mode": "markers",
         "name": "Fantasy",
         "showlegend": true,
         "type": "scattergl",
         "x": [
          92,
          60,
          112,
          129,
          143,
          108,
          99,
          169,
          161,
          144,
          141,
          124,
          136,
          132,
          151,
          129,
          60,
          112,
          123,
          129,
          115,
          106,
          127,
          115,
          112,
          134,
          105,
          113,
          118,
          106,
          120,
          110,
          139,
          115,
          130,
          127,
          123,
          116,
          113,
          105,
          113,
          102,
          110,
          130,
          103,
          119,
          98,
          123,
          112,
          88,
          99,
          92,
          98,
          110,
          94,
          132,
          118,
          135,
          95,
          106,
          113,
          96,
          113,
          116,
          75,
          91,
          123,
          105,
          64,
          107,
          101,
          117,
          113,
          129,
          86,
          95,
          95,
          106,
          117,
          100,
          85,
          90,
          98,
          91,
          80,
          118,
          100,
          99,
          120,
          112,
          99,
          137,
          109,
          109,
          106,
          101,
          139,
          93,
          107,
          87,
          112,
          96,
          144,
          95,
          93,
          86,
          119,
          114,
          86,
          130,
          111,
          110,
          99,
          98,
          102,
          71,
          90,
          124,
          84,
          92,
          116,
          127,
          141,
          110,
          99,
          121,
          108,
          91,
          114,
          92,
          108,
          88,
          91,
          115,
          82,
          90,
          95,
          115,
          105,
          80,
          90,
          101,
          90,
          90,
          127,
          97,
          106,
          108,
          99,
          114,
          120,
          80,
          88,
          121,
          100,
          88,
          71,
          94,
          88,
          100,
          103,
          100,
          104,
          120,
          111,
          62,
          99,
          106,
          152,
          75,
          110,
          128,
          91,
          93,
          110,
          109,
          102,
          100,
          113,
          100,
          81,
          115,
          110,
          117
         ],
         "xaxis": "x",
         "y": [
          1122469910,
          1099199706,
          1099199706,
          1099199706,
          986894640,
          825491110,
          825491110,
          767003568,
          710366855,
          695577621,
          671133378,
          638102828,
          635063875,
          622402853,
          617500281,
          588431132,
          588431132,
          588431132,
          571059887,
          558241137,
          511404566,
          506016627,
          500912003,
          495600000,
          494602516,
          452220086,
          439551353,
          439551353,
          376072059,
          368214888,
          355945209,
          336385488,
          333620129,
          299326618,
          290359051,
          273964806,
          265522281,
          265212467,
          263186950,
          260691415,
          260691415,
          220780051,
          214953905,
          211528518,
          184486852,
          183477501,
          180700000,
          176290794,
          175004422,
          164949716,
          155270083,
          150241723,
          143388614,
          136562435,
          132502774,
          129276941,
          128050874,
          118151347,
          113955898,
          110859554,
          106928112,
          92217355,
          88202668,
          85008658,
          82010753,
          80778356,
          77309178,
          69989730,
          69773317,
          67356170,
          64610386,
          59646680,
          59114085,
          58660270,
          57422558,
          53461527,
          51126600,
          50818912,
          49911903,
          49678442,
          49026186,
          48624873,
          46788393,
          46209222,
          45080579,
          44168692,
          41647574,
          40878040,
          39823958,
          38984536,
          37393899,
          35098356,
          30749230,
          30401882,
          29400000,
          27427346,
          26721826,
          24973540,
          24227490,
          24154026,
          23997067,
          23787727,
          22651864,
          21937909,
          21465132,
          21028230,
          19966854,
          17983283,
          17206861,
          15965567,
          15085560,
          14758389,
          14126427,
          13945682,
          13874967,
          12004931,
          11477345,
          10282876,
          9741435,
          9575290,
          8270399,
          8246770,
          5500000,
          4769209,
          4478084,
          3878683,
          3414530,
          3012862,
          2687603,
          2669782,
          1495262,
          268825,
          239174,
          230426,
          180914,
          43618,
          9644,
          -58138,
          -250000,
          -298289,
          -478038,
          -486267,
          -650000,
          -1000000,
          -1163244,
          -1950368,
          -1997564,
          -3000000,
          -3000000,
          -3181116,
          -4439488,
          -4439488,
          -4500000,
          -4572344,
          -4607391,
          -4977042,
          -5077957,
          -5500000,
          -5731654,
          -6051235,
          -7365642,
          -8357061,
          -8957417,
          -9274508,
          -9486303,
          -10405045,
          -11046681,
          -11399713,
          -12965385,
          -13318189,
          -14278659,
          -14712583,
          -17905047,
          -18296719,
          -19722057,
          -23612961,
          -23878362,
          -25000000,
          -26643867,
          -33485675,
          -35977304,
          -39920877,
          -69533984,
          -90000000
         ],
         "yaxis": "y"
        }
       ],
       "layout": {
        "font": {
         "size": 14
        },
        "legend": {
         "itemsizing": "constant",
         "title": {
          "text": "Genre"
         },
         "tracegroupgap": 0
        },
        "margin": {
         "t": 60
        },
        "template": {
         "data": {
          "bar": [
           {
            "error_x": {
             "color": "#2a3f5f"
            },
            "error_y": {
             "color": "#2a3f5f"
            },
            "marker": {
             "line": {
              "color": "#E5ECF6",
              "width": 0.5
             },
             "pattern": {
              "fillmode": "overlay",
              "size": 10,
              "solidity": 0.2
             }
            },
            "type": "bar"
           }
          ],
          "barpolar": [
           {
            "marker": {
             "line": {
              "color": "#E5ECF6",
              "width": 0.5
             },
             "pattern": {
              "fillmode": "overlay",
              "size": 10,
              "solidity": 0.2
             }
            },
            "type": "barpolar"
           }
          ],
          "carpet": [
           {
            "aaxis": {
             "endlinecolor": "#2a3f5f",
             "gridcolor": "white",
             "linecolor": "white",
             "minorgridcolor": "white",
             "startlinecolor": "#2a3f5f"
            },
            "baxis": {
             "endlinecolor": "#2a3f5f",
             "gridcolor": "white",
             "linecolor": "white",
             "minorgridcolor": "white",
             "startlinecolor": "#2a3f5f"
            },
            "type": "carpet"
           }
          ],
          "choropleth": [
           {
            "colorbar": {
             "outlinewidth": 0,
             "ticks": ""
            },
            "type": "choropleth"
           }
          ],
          "contour": [
           {
            "colorbar": {
             "outlinewidth": 0,
             "ticks": ""
            },
            "colorscale": [
             [
              0,
              "#0d0887"
             ],
             [
              0.1111111111111111,
              "#46039f"
             ],
             [
              0.2222222222222222,
              "#7201a8"
             ],
             [
              0.3333333333333333,
              "#9c179e"
             ],
             [
              0.4444444444444444,
              "#bd3786"
             ],
             [
              0.5555555555555556,
              "#d8576b"
             ],
             [
              0.6666666666666666,
              "#ed7953"
             ],
             [
              0.7777777777777778,
              "#fb9f3a"
             ],
             [
              0.8888888888888888,
              "#fdca26"
             ],
             [
              1,
              "#f0f921"
             ]
            ],
            "type": "contour"
           }
          ],
          "contourcarpet": [
           {
            "colorbar": {
             "outlinewidth": 0,
             "ticks": ""
            },
            "type": "contourcarpet"
           }
          ],
          "heatmap": [
           {
            "colorbar": {
             "outlinewidth": 0,
             "ticks": ""
            },
            "colorscale": [
             [
              0,
              "#0d0887"
             ],
             [
              0.1111111111111111,
              "#46039f"
             ],
             [
              0.2222222222222222,
              "#7201a8"
             ],
             [
              0.3333333333333333,
              "#9c179e"
             ],
             [
              0.4444444444444444,
              "#bd3786"
             ],
             [
              0.5555555555555556,
              "#d8576b"
             ],
             [
              0.6666666666666666,
              "#ed7953"
             ],
             [
              0.7777777777777778,
              "#fb9f3a"
             ],
             [
              0.8888888888888888,
              "#fdca26"
             ],
             [
              1,
              "#f0f921"
             ]
            ],
            "type": "heatmap"
           }
          ],
          "heatmapgl": [
           {
            "colorbar": {
             "outlinewidth": 0,
             "ticks": ""
            },
            "colorscale": [
             [
              0,
              "#0d0887"
             ],
             [
              0.1111111111111111,
              "#46039f"
             ],
             [
              0.2222222222222222,
              "#7201a8"
             ],
             [
              0.3333333333333333,
              "#9c179e"
             ],
             [
              0.4444444444444444,
              "#bd3786"
             ],
             [
              0.5555555555555556,
              "#d8576b"
             ],
             [
              0.6666666666666666,
              "#ed7953"
             ],
             [
              0.7777777777777778,
              "#fb9f3a"
             ],
             [
              0.8888888888888888,
              "#fdca26"
             ],
             [
              1,
              "#f0f921"
             ]
            ],
            "type": "heatmapgl"
           }
          ],
          "histogram": [
           {
            "marker": {
             "pattern": {
              "fillmode": "overlay",
              "size": 10,
              "solidity": 0.2
             }
            },
            "type": "histogram"
           }
          ],
          "histogram2d": [
           {
            "colorbar": {
             "outlinewidth": 0,
             "ticks": ""
            },
            "colorscale": [
             [
              0,
              "#0d0887"
             ],
             [
              0.1111111111111111,
              "#46039f"
             ],
             [
              0.2222222222222222,
              "#7201a8"
             ],
             [
              0.3333333333333333,
              "#9c179e"
             ],
             [
              0.4444444444444444,
              "#bd3786"
             ],
             [
              0.5555555555555556,
              "#d8576b"
             ],
             [
              0.6666666666666666,
              "#ed7953"
             ],
             [
              0.7777777777777778,
              "#fb9f3a"
             ],
             [
              0.8888888888888888,
              "#fdca26"
             ],
             [
              1,
              "#f0f921"
             ]
            ],
            "type": "histogram2d"
           }
          ],
          "histogram2dcontour": [
           {
            "colorbar": {
             "outlinewidth": 0,
             "ticks": ""
            },
            "colorscale": [
             [
              0,
              "#0d0887"
             ],
             [
              0.1111111111111111,
              "#46039f"
             ],
             [
              0.2222222222222222,
              "#7201a8"
             ],
             [
              0.3333333333333333,
              "#9c179e"
             ],
             [
              0.4444444444444444,
              "#bd3786"
             ],
             [
              0.5555555555555556,
              "#d8576b"
             ],
             [
              0.6666666666666666,
              "#ed7953"
             ],
             [
              0.7777777777777778,
              "#fb9f3a"
             ],
             [
              0.8888888888888888,
              "#fdca26"
             ],
             [
              1,
              "#f0f921"
             ]
            ],
            "type": "histogram2dcontour"
           }
          ],
          "mesh3d": [
           {
            "colorbar": {
             "outlinewidth": 0,
             "ticks": ""
            },
            "type": "mesh3d"
           }
          ],
          "parcoords": [
           {
            "line": {
             "colorbar": {
              "outlinewidth": 0,
              "ticks": ""
             }
            },
            "type": "parcoords"
           }
          ],
          "pie": [
           {
            "automargin": true,
            "type": "pie"
           }
          ],
          "scatter": [
           {
            "fillpattern": {
             "fillmode": "overlay",
             "size": 10,
             "solidity": 0.2
            },
            "type": "scatter"
           }
          ],
          "scatter3d": [
           {
            "line": {
             "colorbar": {
              "outlinewidth": 0,
              "ticks": ""
             }
            },
            "marker": {
             "colorbar": {
              "outlinewidth": 0,
              "ticks": ""
             }
            },
            "type": "scatter3d"
           }
          ],
          "scattercarpet": [
           {
            "marker": {
             "colorbar": {
              "outlinewidth": 0,
              "ticks": ""
             }
            },
            "type": "scattercarpet"
           }
          ],
          "scattergeo": [
           {
            "marker": {
             "colorbar": {
              "outlinewidth": 0,
              "ticks": ""
             }
            },
            "type": "scattergeo"
           }
          ],
          "scattergl": [
           {
            "marker": {
             "colorbar": {
              "outlinewidth": 0,
              "ticks": ""
             }
            },
            "type": "scattergl"
           }
          ],
          "scattermapbox": [
           {
            "marker": {
             "colorbar": {
              "outlinewidth": 0,
              "ticks": ""
             }
            },
            "type": "scattermapbox"
           }
          ],
          "scatterpolar": [
           {
            "marker": {
             "colorbar": {
              "outlinewidth": 0,
              "ticks": ""
             }
            },
            "type": "scatterpolar"
           }
          ],
          "scatterpolargl": [
           {
            "marker": {
             "colorbar": {
              "outlinewidth": 0,
              "ticks": ""
             }
            },
            "type": "scatterpolargl"
           }
          ],
          "scatterternary": [
           {
            "marker": {
             "colorbar": {
              "outlinewidth": 0,
              "ticks": ""
             }
            },
            "type": "scatterternary"
           }
          ],
          "surface": [
           {
            "colorbar": {
             "outlinewidth": 0,
             "ticks": ""
            },
            "colorscale": [
             [
              0,
              "#0d0887"
             ],
             [
              0.1111111111111111,
              "#46039f"
             ],
             [
              0.2222222222222222,
              "#7201a8"
             ],
             [
              0.3333333333333333,
              "#9c179e"
             ],
             [
              0.4444444444444444,
              "#bd3786"
             ],
             [
              0.5555555555555556,
              "#d8576b"
             ],
             [
              0.6666666666666666,
              "#ed7953"
             ],
             [
              0.7777777777777778,
              "#fb9f3a"
             ],
             [
              0.8888888888888888,
              "#fdca26"
             ],
             [
              1,
              "#f0f921"
             ]
            ],
            "type": "surface"
           }
          ],
          "table": [
           {
            "cells": {
             "fill": {
              "color": "#EBF0F8"
             },
             "line": {
              "color": "white"
             }
            },
            "header": {
             "fill": {
              "color": "#C8D4E3"
             },
             "line": {
              "color": "white"
             }
            },
            "type": "table"
           }
          ]
         },
         "layout": {
          "annotationdefaults": {
           "arrowcolor": "#2a3f5f",
           "arrowhead": 0,
           "arrowwidth": 1
          },
          "autotypenumbers": "strict",
          "coloraxis": {
           "colorbar": {
            "outlinewidth": 0,
            "ticks": ""
           }
          },
          "colorscale": {
           "diverging": [
            [
             0,
             "#8e0152"
            ],
            [
             0.1,
             "#c51b7d"
            ],
            [
             0.2,
             "#de77ae"
            ],
            [
             0.3,
             "#f1b6da"
            ],
            [
             0.4,
             "#fde0ef"
            ],
            [
             0.5,
             "#f7f7f7"
            ],
            [
             0.6,
             "#e6f5d0"
            ],
            [
             0.7,
             "#b8e186"
            ],
            [
             0.8,
             "#7fbc41"
            ],
            [
             0.9,
             "#4d9221"
            ],
            [
             1,
             "#276419"
            ]
           ],
           "sequential": [
            [
             0,
             "#0d0887"
            ],
            [
             0.1111111111111111,
             "#46039f"
            ],
            [
             0.2222222222222222,
             "#7201a8"
            ],
            [
             0.3333333333333333,
             "#9c179e"
            ],
            [
             0.4444444444444444,
             "#bd3786"
            ],
            [
             0.5555555555555556,
             "#d8576b"
            ],
            [
             0.6666666666666666,
             "#ed7953"
            ],
            [
             0.7777777777777778,
             "#fb9f3a"
            ],
            [
             0.8888888888888888,
             "#fdca26"
            ],
            [
             1,
             "#f0f921"
            ]
           ],
           "sequentialminus": [
            [
             0,
             "#0d0887"
            ],
            [
             0.1111111111111111,
             "#46039f"
            ],
            [
             0.2222222222222222,
             "#7201a8"
            ],
            [
             0.3333333333333333,
             "#9c179e"
            ],
            [
             0.4444444444444444,
             "#bd3786"
            ],
            [
             0.5555555555555556,
             "#d8576b"
            ],
            [
             0.6666666666666666,
             "#ed7953"
            ],
            [
             0.7777777777777778,
             "#fb9f3a"
            ],
            [
             0.8888888888888888,
             "#fdca26"
            ],
            [
             1,
             "#f0f921"
            ]
           ]
          },
          "colorway": [
           "#636efa",
           "#EF553B",
           "#00cc96",
           "#ab63fa",
           "#FFA15A",
           "#19d3f3",
           "#FF6692",
           "#B6E880",
           "#FF97FF",
           "#FECB52"
          ],
          "font": {
           "color": "#2a3f5f"
          },
          "geo": {
           "bgcolor": "white",
           "lakecolor": "white",
           "landcolor": "#E5ECF6",
           "showlakes": true,
           "showland": true,
           "subunitcolor": "white"
          },
          "hoverlabel": {
           "align": "left"
          },
          "hovermode": "closest",
          "mapbox": {
           "style": "light"
          },
          "paper_bgcolor": "white",
          "plot_bgcolor": "#E5ECF6",
          "polar": {
           "angularaxis": {
            "gridcolor": "white",
            "linecolor": "white",
            "ticks": ""
           },
           "bgcolor": "#E5ECF6",
           "radialaxis": {
            "gridcolor": "white",
            "linecolor": "white",
            "ticks": ""
           }
          },
          "scene": {
           "xaxis": {
            "backgroundcolor": "#E5ECF6",
            "gridcolor": "white",
            "gridwidth": 2,
            "linecolor": "white",
            "showbackground": true,
            "ticks": "",
            "zerolinecolor": "white"
           },
           "yaxis": {
            "backgroundcolor": "#E5ECF6",
            "gridcolor": "white",
            "gridwidth": 2,
            "linecolor": "white",
            "showbackground": true,
            "ticks": "",
            "zerolinecolor": "white"
           },
           "zaxis": {
            "backgroundcolor": "#E5ECF6",
            "gridcolor": "white",
            "gridwidth": 2,
            "linecolor": "white",
            "showbackground": true,
            "ticks": "",
            "zerolinecolor": "white"
           }
          },
          "shapedefaults": {
           "line": {
            "color": "#2a3f5f"
           }
          },
          "ternary": {
           "aaxis": {
            "gridcolor": "white",
            "linecolor": "white",
            "ticks": ""
           },
           "baxis": {
            "gridcolor": "white",
            "linecolor": "white",
            "ticks": ""
           },
           "bgcolor": "#E5ECF6",
           "caxis": {
            "gridcolor": "white",
            "linecolor": "white",
            "ticks": ""
           }
          },
          "title": {
           "x": 0.05
          },
          "xaxis": {
           "automargin": true,
           "gridcolor": "white",
           "linecolor": "white",
           "ticks": "",
           "title": {
            "standoff": 15
           },
           "zerolinecolor": "white",
           "zerolinewidth": 2
          },
          "yaxis": {
           "automargin": true,
           "gridcolor": "white",
           "linecolor": "white",
           "ticks": "",
           "title": {
            "standoff": 15
           },
           "zerolinecolor": "white",
           "zerolinewidth": 2
          }
         }
        },
        "title": {
         "font": {
          "size": 20
         },
         "text": "Runtime vs. Profit of Movie per Genre"
        },
        "xaxis": {
         "anchor": "y",
         "domain": [
          0,
          1
         ],
         "title": {
          "text": "Runtime"
         }
        },
        "yaxis": {
         "anchor": "x",
         "domain": [
          0,
          1
         ],
         "title": {
          "text": "Profit in 100M"
         }
        }
       }
      },
      "text/html": [
       "<div>                            <div id=\"610a794d-3b6c-43ad-831d-6831d422b4ea\" class=\"plotly-graph-div\" style=\"height:525px; width:100%;\"></div>            <script type=\"text/javascript\">                require([\"plotly\"], function(Plotly) {                    window.PLOTLYENV=window.PLOTLYENV || {};                                    if (document.getElementById(\"610a794d-3b6c-43ad-831d-6831d422b4ea\")) {                    Plotly.newPlot(                        \"610a794d-3b6c-43ad-831d-6831d422b4ea\",                        [{\"customdata\":[[\"Titanic\"],[\"Beauty and the Beast\"],[\"Beauty and the Beast\"],[\"Alice in Wonderland\"],[\"The Jungle Book\"],[\"The Hobbit: An Unexpected Journey\"],[\"Inside Out\"],[\"Fantastic Beasts and Where to Find Them\"],[\"Beauty and the Beast\"],[\"Beauty and the Beast\"],[\"Maleficent\"],[\"Sing\"],[\"Logan\"],[\"Aladdin\"],[\"Despicable Me\"],[\"Fantastic Beasts: The Crimes of Grindelwald\"],[\"Cinderella\"],[\"Aladdin\"],[\"Iron Man\"],[\"Hotel Transylvania 2\"],[\"The Mask\"],[\"Ice Age\"],[\"The Karate Kid\"],[\"Hotel Transylvania\"],[\"Oz the Great and Powerful\"],[\"Wonder\"],[\"The Chronicles of Narnia: The Voyage of the Dawn Treader\"],[\"The Rock\"],[\"Cinderella\"],[\"Home\"],[\"Home\"],[\"Home\"],[\"Dinosaur\"],[\"Night at the Museum: Secret of the Tomb\"],[\"Mary Poppins Returns\"],[\"Paddington\"],[\"Snow White and the Seven Dwarfs\"],[\"Dumbo\"],[\"The Last Airbender\"],[\"Epic\"],[\"Real Steel\"],[\"Percy Jackson & the Olympians: The Lightning Thief\"],[\"Gulliver's Travels\"],[\"The Muppets\"],[\"Percy Jackson: Sea of Monsters\"],[\"Alice Through the Looking Glass\"],[\"Goosebumps\"],[\"Parental Guidance\"],[\"Zookeeper\"],[\"The Karate Kid\"],[\"Pinocchio\"],[\"I Can Only Imagine\"],[\"Annie\"],[\"The Strangers\"],[\"Alexander and the Terrible, Horrible, No Good, Very Bad Day\"],[\"We Bought a Zoo\"],[\"Tooth Fairy\"],[\"Diary of a Wimpy Kid\"],[\"Wolf\"],[\"Begin Again\"],[\"Miracles from Heaven\"],[\"The BFG\"],[\"Monster\"],[\"Dolphin Tale\"],[\"Goosebumps 2: Haunted Halloween\"],[\"The Sorcerer's Apprentice\"],[\"Diary of a Wimpy Kid: Rodrick Rules\"],[\"Diary of a Wimpy Kid: Dog Days\"],[\"Alpha\"],[\"Home\"],[\"Home\"],[\"Home\"],[\"One Day\"],[\"Frankenweenie\"],[\"Fences\"],[\"Marmaduke\"],[\"Shutter\"],[\"The Nutcracker and the Four Realms\"],[\"Milk\"],[\"Tomorrowland\"],[\"Miracle\"],[\"Little Women\"],[\"Benji\"],[\"A Wrinkle in Time\"],[\"Quarantine\"],[\"Coming Home\"],[\"Earth to Echo\"],[\"Soul Surfer\"],[\"Cats & Dogs: The Revenge of Kitty Galore\"],[\"Where the Heart Is\"],[\"Secretariat\"],[\"A Man for All Seasons\"],[\"Friday\"],[\"The Three Stooges\"],[\"Max\"],[\"Dolphin Tale 2\"],[\"Monte Carlo\"],[\"The Spy Next Door\"],[\"The Adventures of Huck Finn\"],[\"The Jungle Book\"],[\"The Odd Life of Timothy Green\"],[\"The Visitor\"],[\"When the Game Stands Tall\"],[\"Middle School: The Worst Years of My Life\"],[\"Diary of a Wimpy Kid: The Long Haul\"],[\"You Again\"],[\"Ramona and Beezus\"],[\"Magnolia\"],[\"Youth\"],[\"Heavy Metal\"],[\"Bella\"],[\"Khumba\"],[\"The Perfect Match\"],[\"The Kid\"],[\"Furry Vengeance\"],[\"Bernie\"],[\"Brick\"],[\"Oddball\"],[\"Prom\"],[\"Happiness\"],[\"Venus\"],[\"Home Run\"],[\"Pan\"],[\"The Resurrection of Gavin Stone\"],[\"Letters to God\"],[\"Iris\"],[\"Hugo\"],[\"Sunday\"],[\"The Brain That Sings\"],[\"The Calling\"],[\"Horse Camp\"],[\"The Christmas Bunny\"],[\"Home Movies\"],[\"Rotor DR1\"],[\"23 Blast\"],[\"The Journey\"],[\"Rodeo Girl\"],[\"Walter\"],[\"Karachi se Lahore\"],[\"Underdogs\"],[\"Underdogs\"],[\"The Square\"],[\"Chloe\"],[\"Under the Rainbow\"],[\"Forget Me Not\"],[\"The Square\"],[\"The Lost Medallion: The Adventures of Billy Stone\"],[\"Circle\"],[\"Lucky Dog\"],[\"Frontera\"],[\"Christmas Mail\"],[\"The Calling\"],[\"Jem and the Holograms\"],[\"Alice in Wonderland\"],[\"The Messenger\"],[\"Henry & Me\"],[\"Running Forever\"],[\"The Christmas Candle\"],[\"Max Steel\"],[\"Beautiful\"],[\"Aberdeen\"],[\"Greater\"],[\"A.C.O.R.N.S.: Operation Crackdown\"],[\"The Return\"],[\"The Return\"],[\"Redemption\"],[\"Black Nativity\"],[\"Triangle\"],[\"Brother\"],[\"Home\"],[\"Home\"],[\"Home\"],[\"Almost Famous\"],[\"Pinocchio\"],[\"Big Miracle\"],[\"The Pledge\"],[\"Driven\"],[\"Molly\"],[\"Sgt. Stubby: An American Hero\"],[\"Unfinished Business\"],[\"Blood Ties\"],[\"Upside Down\"],[\"The Adventurer: The Curse of the Midas Box\"],[\"The Kid Who Would Be King\"],[\"The Last Shot\"],[\"Virus\"],[\"Midway\"],[\"The Nutcracker in 3D\"],[\"Mars Needs Moms\"]],\"hovertemplate\":\"Genre=Family<br>Runtime=%{x}<br>Profit in 100M=%{y}<br>Budget=%{marker.size}<br>title=%{customdata[0]}<extra></extra>\",\"legendgroup\":\"Family\",\"marker\":{\"color\":\"#636efa\",\"size\":[200000000.0,160000000.0,160000000.0,200000000.0,175000000.0,250000000.0,175000000.0,180000000.0,20000000.0,20000000.0,180000000.0,75000000.0,127000000.0,28000000.0,69000000.0,200000000.0,95000000.0,182000000.0,186000000.0,80000000.0,18000000.0,65000000.0,40000000.0,85000000.0,200000000.0,20000000.0,155000000.0,75000000.0,2900000.0,130000000.0,130000000.0,130000000.0,127500000.0,127000000.0,130000000.0,55000000.0,1488000.0,170000000.0,150000000.0,100000000.0,110000000.0,95000000.0,112000000.0,45000000.0,90000000.0,170000000.0,58000000.0,25000000.0,80000000.0,8000000.0,2289247.0,7000000.0,65000000.0,9000000.0,28000000.0,50000000.0,48000000.0,15000000.0,70000000.0,8000000.0,13000000.0,140000000.0,5000000.0,37000000.0,35000000.0,160000000.0,18000000.0,22000000.0,51000000.0,500000.0,500000.0,500000.0,15000000.0,39000000.0,24000000.0,50000000.0,8000000.0,132900000.0,20000000.0,170000000.0,28000000.0,15000000.0,500000.0,103000000.0,12000000.0,3000000.0,13000000.0,18000000.0,85000000.0,15000000.0,35000000.0,3900000.0,3500000.0,30000000.0,20000000.0,36000000.0,20000000.0,28000000.0,6500000.0,27000000.0,40000000.0,4000000.0,15000000.0,8500000.0,22000000.0,20000000.0,15000000.0,37000000.0,13000000.0,9300000.0,3300000.0,15000000.0,5000000.0,65000000.0,35000000.0,6000000.0,450000.0,7000000.0,8000000.0,3000000.0,6000000.0,1200000.0,150000000.0,2000000.0,3000000.0,5500000.0,180000000.0,450000.0,125000.0,160000.0,250000.0,250000.0,400000.0,350000.0,1000000.0,500000.0,500000.0,700000.0,1000000.0,2500000.0,2500000.0,1900000.0,13000000.0,20000000.0,1300000.0,1500000.0,2500000.0,2000000.0,2000000.0,2300000.0,2500000.0,2500000.0,5000000.0,3000000.0,6500000.0,5000000.0,5000000.0,7000000.0,10000000.0,9000000.0,6500000.0,9000000.0,8500000.0,15000000.0,15000000.0,23000000.0,17500000.0,12000000.0,12000000.0,12000000.0,12000000.0,12000000.0,60000000.0,45000000.0,40000000.0,45000000.0,72000000.0,21000000.0,25000000.0,35000000.0,26000000.0,50000000.0,25000000.0,59000000.0,40000000.0,75000000.0,59500000.0,90000000.0,150000000.0],\"sizemode\":\"area\",\"sizeref\":1026500.0,\"symbol\":\"circle\"},\"mode\":\"markers\",\"name\":\"Family\",\"showlegend\":true,\"x\":[115.0,129.0,60.0,108.0,106.0,169.0,59.0,132.0,129.0,60.0,97.0,108.0,94.0,128.0,95.0,134.0,105.0,128.0,84.0,89.0,9.0,106.0,140.0,91.0,130.0,113.0,113.0,9.0,105.0,7.0,5.0,35.0,5.0,98.0,130.0,95.0,49.0,112.0,103.0,102.0,127.0,118.0,85.0,103.0,106.0,113.0,103.0,105.0,102.0,140.0,75.0,110.0,118.0,81.0,81.0,124.0,101.0,94.0,87.0,68.0,109.0,117.0,139.0,113.0,90.0,109.0,99.0,94.0,96.0,35.0,5.0,7.0,90.0,87.0,117.0,87.0,123.0,99.0,91.0,130.0,74.0,112.0,87.0,109.0,15.0,50.0,91.0,112.0,82.0,50.0,123.0,43.0,117.0,92.0,111.0,107.0,109.0,94.0,99.0,106.0,105.0,127.0,115.0,92.0,91.0,105.0,103.0,85.0,75.0,50.0,80.0,85.0,87.0,49.0,92.0,155.0,93.0,95.0,104.0,80.0,95.0,82.0,111.0,91.0,110.0,85.0,126.0,11.0,62.0,92.0,108.0,98.0,77.0,98.0,98.0,103.0,108.0,32.0,143.0,102.0,106.0,75.0,6.0,12.0,90.0,75.0,97.0,70.0,88.0,82.0,89.0,92.0,118.0,108.0,89.0,67.0,88.0,100.0,92.0,120.0,97.0,130.0,83.0,81.0,96.0,110.0,93.0,62.0,97.0,35.0,5.0,7.0,95.0,75.0,107.0,118.0,27.0,128.0,84.0,107.0,83.0,70.0,100.0,120.0,101.0,30.0,85.0,110.0,88.0],\"xaxis\":\"x\",\"y\":[2008208395.0,1099199706.0,1099199706.0,825491110.0,787854547.0,767003568.0,679235992.0,622402853.0,588431132.0,588431132.0,578536735.0,559454789.0,488461394.0,476050219.0,474464573.0,452220086.0,439551353.0,437234314.0,399171547.0,389500298.0,333620129.0,321116343.0,311774938.0,293505812.0,290359051.0,284604712.0,263186950.0,261069511.0,260691415.0,255997896.0,255997896.0,255997896.0,228648063.0,226756621.0,211528518.0,203789097.0,183437486.0,175004422.0,169713881.0,162794441.0,153880341.0,128050874.0,120017848.0,115971922.0,110859554.0,106928112.0,100905324.0,95832383.0,90805525.0,82815558.0,82010753.0,78604221.0,74829625.0,74051676.0,73379287.0,68729073.0,64610386.0,61954311.0,61011757.0,60838736.0,60798736.0,59646680.0,59240813.0,59068724.0,58291478.0,57986320.0,55695194.0,55229695.0,48624873.0,44293168.0,44293168.0,44293168.0,44168692.0,42150788.0,40282881.0,39895930.0,39782426.0,37393899.0,37293371.0,36627518.0,36474705.0,35003303.0,31059560.0,30401882.0,29924774.0,29653000.0,29174545.0,29158652.0,28026383.0,25862054.0,25376247.0,24450000.0,24436778.0,24052249.0,23658157.0,21824533.0,19686769.0,18752858.0,17603594.0,17342956.0,15249159.0,15174817.0,15138912.0,14811293.0,13609577.0,12838945.0,12469621.0,11446802.0,11001573.0,10271091.0,9105473.0,5898221.0,5182050.0,4688384.0,4340177.0,4106975.0,3793996.0,3237229.0,2763183.0,2746453.0,1818479.0,1659955.0,1525973.0,303792.0,237452.0,80479.0,47784.0,349.0,-125000.0,-127908.0,-250000.0,-250000.0,-310866.0,-350000.0,-450815.0,-480200.0,-500000.0,-700000.0,-982279.0,-1107351.0,-1107351.0,-1159068.0,-1168869.0,-1173510.0,-1286535.0,-1323738.0,-1950368.0,-1989976.0,-2000000.0,-2240304.0,-2500000.0,-2500000.0,-2631063.0,-3000000.0,-4755048.0,-5000000.0,-5000000.0,-5066171.0,-5436920.0,-5865491.0,-6435852.0,-6999907.0,-7146713.0,-9046114.0,-9046114.0,-9406527.0,-10214865.0,-10405045.0,-11549406.0,-12000000.0,-12000000.0,-12000000.0,-12628809.0,-13318189.0,-14731320.0,-15593868.0,-17383131.0,-20982604.0,-21354043.0,-21785949.0,-23076041.0,-23612961.0,-25000000.0,-30651554.0,-39536270.0,-44373310.0,-59500000.0,-69533984.0,-110450242.0],\"yaxis\":\"y\",\"type\":\"scattergl\"},{\"customdata\":[[\"Avengers: Infinity War\"],[\"Jurassic World\"],[\"The Avengers\"],[\"Black Panther\"],[\"Jurassic World: Fallen Kingdom\"],[\"Avengers: Age of Ultron\"],[\"Iron Man 3\"],[\"Captain Marvel\"],[\"Transformers: Dark of the Moon\"],[\"Transformers: Age of Extinction\"],[\"Captain America: Civil War\"],[\"Rogue One: A Star Wars Story\"],[\"Venom\"],[\"The Hunger Games: Catching Fire\"],[\"Spider-Man: Homecoming\"],[\"Inception\"],[\"Wonder Woman\"],[\"The Hunger Games: Mockingjay - Part 1\"],[\"The Hunger Games\"],[\"Gravity\"],[\"X-Men: Days of Future Past\"],[\"The Martian\"],[\"Captain America: The Winter Soldier\"],[\"The Amazing Spider-Man\"],[\"The Amazing Spider-Man 2\"],[\"Interstellar\"],[\"The Hunger Games: Mockingjay - Part 2\"],[\"Logan\"],[\"War of the Worlds\"],[\"Iron Man 2\"],[\"Man of Steel\"],[\"Ready Player One\"],[\"Lucy\"],[\"Transformers: The Last Knight\"],[\"Rise of the Planet of the Apes\"],[\"Godzilla\"],[\"X-Men: Apocalypse\"],[\"Bumblebee\"],[\"The Meg\"],[\"A Quiet Place\"],[\"The Maze Runner\"],[\"What Women Want\"],[\"Rampage\"],[\"The Wolverine\"],[\"Prometheus\"],[\"Star Trek Into Darkness\"],[\"Resident Evil: The Final Chapter\"],[\"Godzilla\"],[\"Maze Runner: The Scorch Trials\"],[\"G.I. Joe: Retaliation\"],[\"Alita: Battle Angel\"],[\"Captain America: The First Avenger\"],[\"Glass\"],[\"Glass\"],[\"Pacific Rim\"],[\"Mad Max: Fury Road\"],[\"Independence Day: Resurgence\"],[\"Super 8\"],[\"X-Men: First Class\"],[\"Edge of Tomorrow\"],[\"Passengers\"],[\"Resident Evil: Retribution\"],[\"Oblivion\"],[\"Aliens\"],[\"Elysium\"],[\"Arrival\"],[\"Pixels\"],[\"Star Trek Beyond\"],[\"Alien: Covenant\"],[\"Pacific Rim: Uprising\"],[\"Limitless\"],[\"The First Purge\"],[\"RoboCop\"],[\"Geostorm\"],[\"Chronicle\"],[\"The Purge: Election Year\"],[\"Source Code\"],[\"The Purge: Anarchy\"],[\"Battleship\"],[\"Predators\"],[\"The Adjustment Bureau\"],[\"Blade Runner 2049\"],[\"The Predator\"],[\"Earth\"],[\"Frankenstein\"],[\"Paul\"],[\"Monster\"],[\"Skyline\"],[\"Ghost in the Shell\"],[\"Riddick\"],[\"Abduction\"],[\"Snowpiercer\"],[\"One Day\"],[\"Life\"],[\"Mirrors\"],[\"The Giver\"],[\"RoboCop\"],[\"Frequency\"],[\"As Above, So Below\"],[\"The Lazarus Effect\"],[\"Hot Tub Time Machine\"],[\"Earth to Echo\"],[\"The World's End\"],[\"Ex Machina\"],[\"Her\"],[\"The Guardian\"],[\"Dark Skies\"],[\"Darkness\"],[\"The Circle\"],[\"Power Rangers\"],[\"Apollo 18\"],[\"Project Almanac\"],[\"The Player\"],[\"Green Lantern\"],[\"Evolution\"],[\"Exodus\"],[\"The Black Hole\"],[\"Hardcore Henry\"],[\"Sorry to Bother You\"],[\"Lockout\"],[\"The Gambler\"],[\"Upgrade\"],[\"Melancholia\"],[\"Vice\"],[\"Pulse\"],[\"The Founder\"],[\"John Carter\"],[\"Monsters\"],[\"Sleight\"],[\"Transcendence\"],[\"Jupiter Ascending\"],[\"Control\"],[\"American Ultra\"],[\"Another Earth\"],[\"Serenity\"],[\"The Signal\"],[\"Sound of My Voice\"],[\"Red 11\"],[\"All Superheroes Must Die\"],[\"Absentia\"],[\"Dawn of the Crescent Moon\"],[\"Sugar Town\"],[\"Queen Crab\"],[\"The Night Visitor\"],[\"Echo Dr.\"],[\"I Origins\"],[\"H.\"],[\"Rotor DR1\"],[\"Higher Power\"],[\"Enter Nowhere\"],[\"Morgan\"],[\"Banshee Chapter\"],[\"Creative Control\"],[\"Beyond the Black Rainbow\"],[\"The Dead Undead\"],[\"Hot Tub Time Machine 2\"],[\"The Signal\"],[\"Life\"],[\"Mutant World\"],[\"Stranded\"],[\"Machete Kills\"],[\"Independence Daysaster\"],[\"Circle\"],[\"Infected\"],[\"Infected\"],[\"Hotel Artemis\"],[\"Alien Uprising\"],[\"Creature\"],[\"The Divide\"],[\"The Gambler\"],[\"Antiviral\"],[\"Unnatural\"],[\"Anna\"],[\"Stake Land\"],[\"Dredd\"],[\"Never Let Me Go\"],[\"Cargo\"],[\"Nothing\"],[\"The Veil\"],[\"Replicas\"],[\"Atlas Shrugged: Who Is John Galt?\"],[\"Wonderland\"],[\"Grabbers\"],[\"Area 51\"],[\"Icarus\"],[\"Under the Skin\"],[\"Attack the Block\"],[\"The Shadow\"],[\"Victor Frankenstein\"],[\"Ravenous\"],[\"The Last Days on Mars\"],[\"The Thing\"],[\"Doomsday\"],[\"The Avengers\"],[\"Womb\"],[\"Downsizing\"],[\"Serenity\"],[\"Repo Men\"],[\"Restoration\"],[\"Captive State\"],[\"Red Dawn\"],[\"Stone\"],[\"Forsaken\"],[\"Bird Box\"],[\"Kin\"],[\"Molly\"],[\"Venom\"],[\"Space Pirate Captain Harlock\"],[\"Dragonfly\"],[\"Freaks of Nature\"],[\"Supernova\"],[\"Dark Phoenix\"]],\"hovertemplate\":\"Genre=Sci-Fi<br>Runtime=%{x}<br>Profit in 100M=%{y}<br>Budget=%{marker.size}<br>title=%{customdata[0]}<extra></extra>\",\"legendgroup\":\"Sci-Fi\",\"marker\":{\"color\":\"#EF553B\",\"size\":[300000000.0,215000000.0,225000000.0,200000000.0,170000000.0,330600000.0,200000000.0,175000000.0,195000000.0,210000000.0,250000000.0,200000000.0,116000000.0,130000000.0,175000000.0,160000000.0,150000000.0,125000000.0,80000000.0,110000000.0,200000000.0,108000000.0,170000000.0,220000000.0,200000000.0,165000000.0,160000000.0,127000000.0,132000000.0,170000000.0,225000000.0,150000000.0,40000000.0,217000000.0,93000000.0,160000000.0,178000000.0,102000000.0,178000000.0,17000000.0,34000000.0,65000000.0,120000000.0,115000000.0,125000000.0,190000000.0,40000000.0,125000000.0,61000000.0,140000000.0,170000000.0,140000000.0,20000000.0,20000000.0,190000000.0,150000000.0,165000000.0,50000000.0,160000000.0,178000000.0,110000000.0,65000000.0,120000000.0,17000000.0,120000000.0,47000000.0,90000000.0,185000000.0,97000000.0,155000000.0,27000000.0,13000000.0,120000000.0,100000000.0,12000000.0,10000000.0,32000000.0,9000000.0,220000000.0,40000000.0,50200000.0,185000000.0,88000000.0,47000000.0,45000000.0,40000000.0,5000000.0,10000000.0,110000000.0,38000000.0,35000000.0,40000000.0,15000000.0,58000000.0,35000000.0,25000000.0,13000000.0,31000000.0,5000000.0,5000000.0,36000000.0,13000000.0,20000000.0,13000000.0,23000000.0,70000000.0,3500000.0,10600000.0,18000000.0,120000000.0,5000000.0,12000000.0,8000000.0,200000000.0,80000000.0,4000000.0,20000000.0,2000000.0,3200000.0,20000000.0,25000000.0,3000000.0,9400000.0,60000000.0,20500000.0,15000000.0,275000000.0,500000.0,250000.0,100000000.0,179000000.0,6400000.0,28000000.0,175000.0,39000000.0,50000.0,135000.0,7000.0,20000.0,70000.0,75000.0,250000.0,75000.0,100000.0,100000.0,1000000.0,200000.0,350000.0,500000.0,500000.0,8000000.0,950000.0,1000000.0,1100000.0,1100000.0,14000000.0,4000000.0,75000000.0,1500000.0,1900000.0,20000000.0,1800000.0,2000000.0,2100000.0,2100000.0,15000000.0,2500000.0,3000000.0,3000000.0,3000000.0,3100000.0,3000000.0,4357373.0,4000000.0,45000000.0,15000000.0,4200000.0,4000000.0,4000000.0,4000000.0,5000000.0,5500000.0,5300000.0,5000000.0,6000000.0,13300000.0,13000000.0,40000000.0,40000000.0,12000000.0,10600000.0,38000000.0,33000000.0,60000000.0,13000000.0,68000000.0,25000000.0,32000000.0,18000000.0,25000000.0,65000000.0,22000000.0,18000000.0,19800000.0,30000000.0,21000000.0,25000000.0,30000000.0,60000000.0,33000000.0,60000000.0,350000000.0],\"sizemode\":\"area\",\"sizeref\":1026500.0,\"symbol\":\"circle\"},\"mode\":\"markers\",\"name\":\"Sci-Fi\",\"showlegend\":true,\"x\":[149.0,124.0,143.0,134.0,128.0,141.0,130.0,123.0,154.0,165.0,147.0,133.0,112.0,146.0,133.0,148.0,60.0,123.0,142.0,91.0,132.0,144.0,136.0,136.0,142.0,169.0,137.0,137.0,50.0,124.0,143.0,140.0,89.0,154.0,105.0,123.0,144.0,114.0,113.0,90.0,113.0,116.0,107.0,126.0,124.0,132.0,107.0,123.0,131.0,110.0,122.0,124.0,105.0,129.0,131.0,120.0,120.0,112.0,131.0,113.0,116.0,95.0,124.0,88.0,109.0,116.0,105.0,122.0,122.0,111.0,105.0,98.0,117.0,109.0,84.0,108.0,93.0,103.0,131.0,107.0,106.0,164.0,107.0,60.0,89.0,104.0,86.0,92.0,107.0,119.0,106.0,126.0,93.0,104.0,90.0,97.0,117.0,60.0,10.0,83.0,101.0,91.0,109.0,108.0,126.0,72.0,97.0,98.0,110.0,124.0,86.0,106.0,90.0,114.0,81.0,74.0,111.0,96.0,111.0,95.0,121.0,100.0,135.0,96.0,84.0,108.0,132.0,94.0,89.0,119.0,127.0,90.0,96.0,92.0,106.0,97.0,85.0,77.0,78.0,60.0,95.0,75.0,80.0,91.0,81.0,106.0,93.0,98.0,93.0,90.0,92.0,87.0,97.0,110.0,89.0,93.0,97.0,104.0,82.0,84.0,107.0,90.0,87.0,95.0,116.0,94.0,101.0,134.0,112.0,121.0,108.0,89.0,99.0,98.0,95.0,103.0,105.0,75.0,93.0,107.0,99.0,80.0,94.0,91.0,90.0,108.0,88.0,70.0,110.0,104.0,98.0,103.0,95.0,143.0,111.0,135.0,106.0,111.0,50.0,109.0,93.0,114.0,95.0,124.0,102.0,91.0,112.0,100.0,75.0,92.0,135.0,113.0],\"xaxis\":\"x\",\"y\":[1748134200.0,1433854864.0,1292935897.0,1148258224.0,1135772799.0,1072413963.0,1015392272.0,948061550.0,928790543.0,894039076.0,890069413.0,849102856.0,737628605.0,734868047.0,705166350.0,675524642.0,671133378.0,641575131.0,597923379.0,583698673.0,547862775.0,547271443.0,544401889.0,537890267.0,508996336.0,501379375.0,488986787.0,488461394.0,474836535.0,451156389.0,442999518.0,429290136.0,417507776.0,385893340.0,377986200.0,369076069.0,364537546.0,363195589.0,351530715.0,317522294.0,314319861.0,309105123.0,308056280.0,301456852.0,277448265.0,277381584.0,274101190.0,251000000.0,249566162.0,235740705.0,232976036.0,230569776.0,225303505.0,225303505.0,221002906.0,220098020.0,219169424.0,207972745.0,195408305.0,192541256.0,192239672.0,175647629.0,167916633.0,166316455.0,166192091.0,156127894.0,154041804.0,150802233.0,141521247.0,135930148.0,128564919.0,123617305.0,122981799.0,120796009.0,111681790.0,108514727.0,108428499.0,102534881.0,93477717.0,87234389.0,76731325.0,74357408.0,71487563.0,69773317.0,67006296.0,61162106.0,59240813.0,58264973.0,57910690.0,56763758.0,51648359.0,48069880.0,44168692.0,42929666.0,42220596.0,41540205.0,40424681.0,37079671.0,36824066.0,33359310.0,29967750.0,29174545.0,27508505.0,25358392.0,25163815.0,24973540.0,24204111.0,23809206.0,22651864.0,22531552.0,21517819.0,20909437.0,20876702.0,19535492.0,18341932.0,17750000.0,15841901.0,15187434.0,15085560.0,13943049.0,13718031.0,13553285.0,12417298.0,10883171.0,9741435.0,9403192.0,7778100.0,5139730.0,3684450.0,3039258.0,2982519.0,2502141.0,2295028.0,1927779.0,1319440.0,356299.0,294448.0,-7000.0,-20000.0,-61445.0,-66201.0,-71905.0,-75000.0,-100000.0,-100000.0,-147601.0,-200000.0,-350000.0,-499472.0,-500000.0,-701214.0,-871878.0,-936986.0,-1043509.0,-1100000.0,-1173356.0,-1334678.0,-1478413.0,-1500000.0,-1614407.0,-1726991.0,-1800000.0,-1989976.0,-2100000.0,-2100000.0,-2241201.0,-2500000.0,-2669000.0,-2843638.0,-2898227.0,-2976593.0,-3000000.0,-3157373.0,-3320518.0,-3532394.0,-3826282.0,-3886770.0,-3936820.0,-4000000.0,-4000000.0,-4148310.0,-4439488.0,-4859179.0,-4992444.0,-6000000.0,-6070067.0,-6540817.0,-8164400.0,-8875633.0,-9937594.0,-10338636.0,-10426922.0,-11378812.0,-11414584.0,-13000000.0,-13537029.0,-13632971.0,-13804762.0,-13900000.0,-16006700.0,-16835850.0,-17934980.0,-18000000.0,-19800000.0,-19903179.0,-20982604.0,-24118255.0,-29689015.0,-29936195.0,-32929042.0,-45183506.0,-200237650.0],\"yaxis\":\"y\",\"type\":\"scattergl\"},{\"customdata\":[[\"Avengers: Infinity War\"],[\"Jurassic World\"],[\"The Avengers\"],[\"Black Panther\"],[\"Jurassic World: Fallen Kingdom\"],[\"Frozen\"],[\"Frozen\"],[\"Minions\"],[\"Avengers: Age of Ultron\"],[\"Incredibles 2\"],[\"Iron Man 3\"],[\"Aquaman\"],[\"Despicable Me 3\"],[\"Captain Marvel\"],[\"Transformers: Dark of the Moon\"],[\"Skyfall\"],[\"Despicable Me 2\"],[\"Transformers: Age of Extinction\"],[\"Captain America: Civil War\"],[\"Jumanji: Welcome to the Jungle\"],[\"Zootopia\"],[\"Toy Story 3\"],[\"Rogue One: A Star Wars Story\"],[\"Alice in Wonderland\"],[\"Finding Dory\"],[\"The Secret Life of Pets\"],[\"The Jungle Book\"],[\"Ice Age: Continental Drift\"],[\"The Hobbit: An Unexpected Journey\"],[\"Deadpool\"],[\"The Hunger Games: Catching Fire\"],[\"The Hobbit: The Desolation of Smaug\"],[\"Spider-Man: Homecoming\"],[\"The Hobbit: The Battle of the Five Armies\"],[\"Inside Out\"],[\"Deadpool 2\"],[\"Inception\"],[\"Wonder Woman\"],[\"Thor: Ragnarok\"],[\"The Hunger Games: Mockingjay - Part 1\"],[\"The Twilight Saga: Eclipse\"],[\"Pirates of the Caribbean: On Stranger Tides\"],[\"Coco\"],[\"Fantastic Beasts and Where to Find Them\"],[\"Batman v Superman: Dawn of Justice\"],[\"Madagascar 3: Europe's Most Wanted\"],[\"Guardians of the Galaxy\"],[\"The Hunger Games\"],[\"Shrek Forever After\"],[\"Spectre\"],[\"Maleficent\"],[\"Suicide Squad\"],[\"Pirates of the Caribbean: Dead Men Tell No Tales\"],[\"X-Men: Days of Future Past\"],[\"The Martian\"],[\"Captain America: The Winter Soldier\"],[\"Monsters University\"],[\"Dawn of the Planet of the Apes\"],[\"The Amazing Spider-Man\"],[\"Kung Fu Panda 2\"],[\"Doctor Strange\"],[\"The Amazing Spider-Man 2\"],[\"Interstellar\"],[\"Life of Pi\"],[\"Thor: The Dark World\"],[\"Ant-Man and the Wasp\"],[\"The Hunger Games: Mockingjay - Part 2\"],[\"Moana\"],[\"Big Hero 6\"],[\"Aladdin\"],[\"How to Train Your Dragon 2\"],[\"Hotel Transylvania 3: Summer Vacation\"],[\"The Smurfs\"],[\"Fantastic Beasts: The Crimes of Grindelwald\"],[\"Iron Man 2\"],[\"Man of Steel\"],[\"Men in Black 3\"],[\"The Croods\"],[\"Aladdin\"],[\"Ready Player One\"],[\"Puss in Boots\"],[\"Sherlock Holmes: A Game of Shadows\"],[\"Sherlock Holmes\"],[\"The Revenant\"],[\"The Lego Movie\"],[\"Rio\"],[\"How to Train Your Dragon: The Hidden World\"],[\"Ant-Man\"],[\"Transformers: The Last Knight\"],[\"The Boss Baby\"],[\"Kung Fu Panda 3\"],[\"Kong: Skull Island\"],[\"Brave\"],[\"Godzilla\"],[\"Clash of the Titans\"],[\"X-Men: Apocalypse\"],[\"Bumblebee\"],[\"Rio 2\"],[\"Cars 2\"],[\"Teenage Mutant Ninja Turtles\"],[\"Justice League\"],[\"San Andreas\"],[\"Cast Away\"],[\"World War Z\"],[\"War for the Planet of the Apes\"],[\"The Mummy\"],[\"Wreck-It Ralph\"],[\"How to Train Your Dragon\"],[\"Tangled\"],[\"Kingsman: The Secret Service\"],[\"Rampage\"],[\"Kingsman: The Golden Circle\"],[\"Tarzan\"],[\"The Wolverine\"],[\"Thor\"],[\"Ice Age: Collision Course\"],[\"Peter Rabbit\"],[\"Oz the Great and Powerful\"],[\"Shazam!\"],[\"Prometheus\"],[\"Star Trek Into Darkness\"],[\"Alvin and the Chipmunks: Chipwrecked\"],[\"Warcraft\"],[\"The Chronicles of Narnia: The Voyage of the Dawn Treader\"],[\"xXx: Return of Xander Cage\"],[\"Home\"],[\"Godzilla\"],[\"Fantastic Four\"],[\"The Adventures of Tintin\"],[\"Journey 2: The Mysterious Island\"],[\"The Smurfs 2\"],[\"Resident Evil: Afterlife\"],[\"Now You See Me 2\"],[\"The SpongeBob Movie: Sponge Out of Water\"],[\"G.I. Joe: Retaliation\"],[\"Penguins of Madagascar\"],[\"Alita: Battle Angel\"],[\"Snow White and the Huntsman\"],[\"Captain America: The First Avenger\"],[\"Night at the Museum: Secret of the Tomb\"],[\"Noah\"],[\"Pacific Rim\"],[\"Mad Max: Fury Road\"],[\"Independence Day: Resurgence\"],[\"Trolls\"],[\"True Grit\"],[\"The Mummy\"],[\"The Expendables 2\"],[\"Cars 3\"],[\"Paddington\"],[\"Twins\"],[\"Total Recall\"],[\"Cloudy with a Chance of Meatballs 2\"],[\"X-Men: First Class\"],[\"Divergent\"],[\"Teenage Mutant Ninja Turtles\"],[\"The Expendables\"],[\"The Great Wall\"],[\"Tomb Raider\"],[\"Hercules\"],[\"Skyscraper\"],[\"Ferdinand\"],[\"The Tourist\"],[\"The Shape of Water\"],[\"Dumbo\"],[\"Unbreakable\"],[\"The Last Airbender\"],[\"The Legend of Tarzan\"],[\"Oblivion\"],[\"The Emoji Movie\"],[\"Epic\"],[\"Rise of the Guardians\"],[\"Traffic\"],[\"Traffic\"],[\"Alvin and the Chipmunks: The Road Chip\"],[\"Into the Woods\"],[\"Everest\"],[\"The Bourne Legacy\"],[\"Wrath of the Titans\"],[\"Turbo\"],[\"The Peanuts Movie\"],[\"Star Trek Beyond\"],[\"Due Date\"],[\"The Good Dinosaur\"],[\"Inferno\"],[\"Hercules\"],[\"Knight and Day\"],[\"Identity Thief\"],[\"Smurfs: The Lost Village\"],[\"Pacific Rim: Uprising\"],[\"Smallfoot\"],[\"The Grand Budapest Hotel\"],[\"The Bucket List\"],[\"Godzilla: King of the Monsters\"],[\"Exodus: Gods and Kings\"],[\"Percy Jackson & the Olympians: The Lightning Thief\"],[\"Hop\"],[\"Mr. Peabody & Sherman\"],[\"Yogi Bear\"],[\"Safe House\"],[\"Christopher Robin\"],[\"Sausage Party\"],[\"After Earth\"],[\"Gulliver's Travels\"],[\"Johnny English Reborn\"],[\"Solo: A Star Wars Story\"],[\"Dumb and Dumber To\"],[\"The Muppets\"],[\"Dragon Ball Super: Broly\"],[\"Storks\"],[\"Robin Hood\"],[\"Robin Hood\"],[\"Robin Hood\"],[\"Percy Jackson: Sea of Monsters\"],[\"Rango\"],[\"Teenage Mutant Ninja Turtles: Out of the Shadows\"],[\"The Expendables 3\"],[\"Alice Through the Looking Glass\"],[\"Goosebumps\"],[\"Into the Storm\"],[\"A Bad Moms Christmas\"],[\"The Secret Life of Walter Mitty\"],[\"Battleship\"],[\"The Nut Job\"],[\"Mirror Mirror\"],[\"Predators\"],[\"Total Recall\"],[\"The Pirates! Band of Misfits\"],[\"Sanctum\"],[\"The Book of Eli\"],[\"The 5th Wave\"],[\"The Magnificent Seven\"],[\"The Predator\"],[\"Vacation\"],[\"Act of Valor\"],[\"Mechanic: Resurrection\"],[\"The A-Team\"],[\"Arthur Christmas\"],[\"Paul\"],[\"The BFG\"],[\"Monster\"],[\"Conan the Barbarian\"],[\"Goosebumps 2: Haunted Halloween\"],[\"Ben-Hur\"],[\"The Sorcerer's Apprentice\"],[\"Riddick\"],[\"The Grey\"],[\"Free Birds\"],[\"The Dark Tower\"],[\"Moonrise Kingdom\"],[\"The Lego Ninjago Movie\"],[\"Letters to Juliet\"],[\"The Boxtrolls\"],[\"Get Him to the Greek\"],[\"Season of the Witch\"],[\"The Last Witch Hunter\"],[\"Nerve\"],[\"The Three Musketeers\"],[\"The Three Musketeers\"],[\"Tag\"],[\"Alpha\"],[\"ParaNorman\"],[\"Sky High\"],[\"Fantastic Four\"],[\"The Transporter Refueled\"],[\"The Book of Life\"],[\"Hitman: Agent 47\"],[\"Underworld: Blood Wars\"],[\"Home\"],[\"Mike and Dave Need Wedding Dates\"],[\"The Star\"],[\"127 Hours\"],[\"Slender Man\"],[\"Down to Earth\"],[\"Hellboy\"],[\"Legend of the Guardians: The Owls of Ga'Hoole\"],[\"Wild\"],[\"The Nutcracker and the Four Realms\"],[\"As Above, So Below\"],[\"Tomorrowland\"],[\"Valerian and the City of a Thousand Planets\"],[\"The Secret Life of Pets 2\"],[\"Mile 22\"],[\"A Wrinkle in Time\"],[\"The Game\"],[\"Clash of the Titans\"],[\"Earth to Echo\"],[\"A Walk in the Woods\"],[\"Thunder and the House of Magic\"],[\"Sherlock Gnomes\"],[\"Pompeii\"],[\"Lawless\"],[\"The Darkest Hour\"],[\"The Night Before\"],[\"The Walk\"],[\"Risen\"],[\"The Little Prince\"],[\"Muppets Most Wanted\"],[\"Priest\"],[\"Max\"],[\"Happy Feet Two\"],[\"Adrift\"],[\"The Circle\"],[\"Kubo and the Two Strings\"],[\"Power Rangers\"],[\"Posledniy bogatyr\"],[\"New in Town\"],[\"Beasts of the Southern Wild\"],[\"Hunt for the Wilderpeople\"],[\"White Fang\"],[\"Paul, Apostle of Christ\"],[\"Winnie the Pooh\"],[\"Monte Carlo\"],[\"Green Lantern\"],[\"Admiral\"],[\"Ender's Game\"],[\"The Adventures of Huck Finn\"],[\"The Nut Job 2: Nutty by Nature\"],[\"The Jungle Book\"],[\"A Very Harold & Kumar 3D Christmas\"],[\"Snatched\"],[\"Hardcore Henry\"],[\"The Visitor\"],[\"Wonder Park\"],[\"Sucker Punch\"],[\"The Host\"],[\"Zambezia\"],[\"The Eagle\"],[\"Seventh Son\"],[\"Nebraska\"],[\"Norm of the North\"],[\"Ramona and Beezus\"],[\"The Green Inferno\"],[\"Vice\"],[\"Viy\"],[\"John Carter\"],[\"Man on a Ledge\"],[\"Khumba\"],[\"Lowriders\"],[\"The Reef\"],[\"The Losers\"],[\"The Darkest Minds\"],[\"Alive\"],[\"The Road\"],[\"Oddball\"],[\"Jupiter Ascending\"],[\"Swiss Army Man\"],[\"Jack the Giant Slayer\"],[\"Bound\"],[\"Seeking a Friend for the End of the World\"],[\"No Man's Land\"],[\"Pan\"],[\"Henry V\"],[\"Hugo\"],[\"Ten\"],[\"Holmes & Watson\"],[\"Closure\"],[\"The Love Letter\"],[\"Western Religion\"],[\"Death Calls\"],[\"The Hammer\"],[\"The Journey\"],[\"Detention of the Dead\"],[\"Rodeo Girl\"],[\"Antarctica: A Year on Ice\"],[\"Vessel\"],[\"American Honey\"],[\"Karachi se Lahore\"],[\"The Party's Over\"],[\"Above and Beyond\"],[\"Yes\"],[\"Underdogs\"],[\"Gods of Egypt\"],[\"Forget Me Not\"],[\"Bone Tomahawk\"],[\"Independence Daysaster\"],[\"Super\"],[\"The Lost Medallion: The Adventures of Billy Stone\"],[\"Rockaway\"],[\"Shark Lake\"],[\"Wings\"],[\"Highway\"],[\"The Timber\"],[\"Stung\"],[\"Jem and the Holograms\"],[\"Reign of Assassins\"],[\"Fun Size\"],[\"The Cave\"],[\"Alice in Wonderland\"],[\"Blackthorn\"],[\"Ben-Hur\"],[\"The East\"],[\"A Lonely Place to Die\"],[\"Father Figures\"],[\"The Veil\"],[\"The Perfect Wave\"],[\"The Runaways\"],[\"Wonderland\"],[\"Falcon Rising\"],[\"The Incredible Burt Wonderstone\"],[\"Early Man\"],[\"The Hatching\"],[\"Birth\"],[\"Max Steel\"],[\"Trash\"],[\"Lean on Pete\"],[\"The Love Letter\"],[\"The Brothers Grimsby\"],[\"Tracker\"],[\"Two Lovers and a Bear\"],[\"Centurion\"],[\"Red Tails\"],[\"The Hunted\"],[\"Burn Your Maps\"],[\"Wanderlust\"],[\"Gun Shy\"],[\"The Hurricane Heist\"],[\"The Return\"],[\"Hellboy\"],[\"Redemption\"],[\"Redemption\"],[\"Jungle Shuffle\"],[\"Kicks\"],[\"Into the Grizzly Maze\"],[\"In the Heart of the Sea\"],[\"The Last Days on Mars\"],[\"The Legend of Hercules\"],[\"The Avengers\"],[\"Annihilation\"],[\"Home\"],[\"The Lost City of Z\"],[\"The Space Between Us\"],[\"Robin Hood\"],[\"Robin Hood\"],[\"Robin Hood\"],[\"Mortal Engines\"],[\"The Lone Ranger\"],[\"On the Road\"],[\"Forsaken\"],[\"Survivor\"],[\"Bait\"],[\"Ironclad\"],[\"UglyDolls\"],[\"Ali\"],[\"Sgt. Stubby: An American Hero\"],[\"Silence\"],[\"Trapped\"],[\"47 Ronin\"],[\"Sahara\"],[\"Your Highness\"],[\"The Sisters Brothers\"],[\"The Adventurer: The Curse of the Midas Box\"],[\"Conan the Barbarian\"],[\"Unhinged\"],[\"Bilal: A New Breed of Hero\"],[\"Dragonfly\"],[\"The Kid Who Would Be King\"],[\"The Young and Prodigious T.S. Spivet\"],[\"Pirates\"],[\"Queen of the Desert\"],[\"The Lovers\"],[\"King Arthur: Legend of the Sword\"],[\"Rock Dog\"],[\"R.I.P.D.\"],[\"Monster Trucks\"],[\"Air Strike\"],[\"Men in Black: International\"],[\"Mars Needs Moms\"],[\"Dark Phoenix\"]],\"hovertemplate\":\"Genre=Adventure<br>Runtime=%{x}<br>Profit in 100M=%{y}<br>Budget=%{marker.size}<br>title=%{customdata[0]}<extra></extra>\",\"legendgroup\":\"Adventure\",\"marker\":{\"color\":\"#00cc96\",\"size\":[300000000.0,215000000.0,225000000.0,200000000.0,170000000.0,150000000.0,150000000.0,74000000.0,330600000.0,200000000.0,200000000.0,160000000.0,75000000.0,175000000.0,195000000.0,200000000.0,76000000.0,210000000.0,250000000.0,90000000.0,150000000.0,200000000.0,200000000.0,200000000.0,200000000.0,75000000.0,175000000.0,95000000.0,250000000.0,58000000.0,130000000.0,250000000.0,175000000.0,250000000.0,175000000.0,110000000.0,160000000.0,150000000.0,180000000.0,125000000.0,68000000.0,410600000.0,175000000.0,180000000.0,250000000.0,145000000.0,170000000.0,80000000.0,165000000.0,300000000.0,180000000.0,175000000.0,230000000.0,200000000.0,108000000.0,170000000.0,200000000.0,170000000.0,220000000.0,150000000.0,165000000.0,200000000.0,165000000.0,120000000.0,150000000.0,130000000.0,160000000.0,150000000.0,165000000.0,28000000.0,145000000.0,65000000.0,110000000.0,200000000.0,170000000.0,225000000.0,215000000.0,135000000.0,182000000.0,150000000.0,130000000.0,125000000.0,90000000.0,135000000.0,60000000.0,90000000.0,129000000.0,130000000.0,217000000.0,125000000.0,140000000.0,185000000.0,185000000.0,160000000.0,125000000.0,178000000.0,102000000.0,130000000.0,200000000.0,125000000.0,300000000.0,110000000.0,85000000.0,190000000.0,152000000.0,80000000.0,165000000.0,165000000.0,260000000.0,94000000.0,120000000.0,104000000.0,145000000.0,115000000.0,150000000.0,105000000.0,50000000.0,200000000.0,85000000.0,125000000.0,190000000.0,80000000.0,160000000.0,155000000.0,85000000.0,130000000.0,125000000.0,87500000.0,130000000.0,79000000.0,110000000.0,57500000.0,90000000.0,74000000.0,140000000.0,132000000.0,170000000.0,170000000.0,140000000.0,127000000.0,130000000.0,190000000.0,150000000.0,165000000.0,125000000.0,35000000.0,195000000.0,100000000.0,175000000.0,55000000.0,15000000.0,65000000.0,78000000.0,160000000.0,85000000.0,13500000.0,82000000.0,150000000.0,90000000.0,70000000.0,125000000.0,111000000.0,100000000.0,19500000.0,170000000.0,73243106.0,150000000.0,180000000.0,120000000.0,50000000.0,100000000.0,145000000.0,48000000.0,48000000.0,90000000.0,56200000.0,65000000.0,125000000.0,150000000.0,135000000.0,99000000.0,185000000.0,65000000.0,187500000.0,75000000.0,100000000.0,117000000.0,35000000.0,60000000.0,155000000.0,80000000.0,31000000.0,45000000.0,170000000.0,140000000.0,95000000.0,63000000.0,145000000.0,80000000.0,85000000.0,75000000.0,19000000.0,130000000.0,112000000.0,45000000.0,275000000.0,40000000.0,45000000.0,8500000.0,70000000.0,210000000.0,210000000.0,210000000.0,90000000.0,135000000.0,135000000.0,100000000.0,170000000.0,58000000.0,50000000.0,28000000.0,91000000.0,220000000.0,30000000.0,85000000.0,40000000.0,125000000.0,55000000.0,30000000.0,80000000.0,38000000.0,90000000.0,88000000.0,31000000.0,12000000.0,40000000.0,110000000.0,85000000.0,40000000.0,140000000.0,5000000.0,20000000.0,35000000.0,15000000.0,160000000.0,38000000.0,25000000.0,55000000.0,60000000.0,16000000.0,70000000.0,30000000.0,60000000.0,40000000.0,40000000.0,80000000.0,20000000.0,90000000.0,90000000.0,28000000.0,51000000.0,60000000.0,35000000.0,120000000.0,22000000.0,50000000.0,35000000.0,35000000.0,500000.0,33000000.0,20000000.0,18000000.0,10000000.0,30000000.0,60000000.0,100000000.0,15000000.0,132900000.0,5000000.0,170000000.0,180000000.0,80000000.0,35000000.0,103000000.0,50000000.0,15000000.0,13000000.0,8000000.0,34000000.0,59000000.0,80000000.0,26000000.0,34800000.0,25000000.0,35000000.0,20000000.0,77500000.0,55000000.0,60000000.0,20000000.0,135000000.0,35000000.0,18000000.0,55000000.0,120000000.0,8500000.0,8000000.0,1800000.0,2500000.0,14000000.0,5000000.0,30000000.0,20000000.0,200000000.0,20000000.0,110000000.0,6500000.0,40000000.0,27000000.0,20000000.0,42000000.0,2000000.0,4000000.0,100000000.0,75000000.0,50000000.0,20000000.0,25000000.0,95000000.0,12000000.0,18000000.0,15000000.0,1000000.0,60000000.0,26000000.0,275000000.0,42000000.0,15000000.0,916000.0,10000000.0,25000000.0,34000000.0,32000000.0,25000000.0,7000000.0,179000000.0,3000000.0,195000000.0,4500000.0,10000000.0,1000000.0,150000000.0,9000000.0,180000000.0,25000.0,42000000.0,100000.0,250000.0,250000.0,290000.0,850000.0,500000.0,500000.0,500000.0,1000000.0,800000.0,3500000.0,1000000.0,1000000.0,1300000.0,1700000.0,2500000.0,140000000.0,1300000.0,2000000.0,1800000.0,2500000.0,2500000.0,2000000.0,2000000.0,2000000.0,2000000.0,2100000.0,2500000.0,5000000.0,14000000.0,14000000.0,30000000.0,3000000.0,4500000.0,95000000.0,6500000.0,4000000.0,25000000.0,4000000.0,4000000.0,9500000.0,5500000.0,4500000.0,32000000.0,50000000.0,5000000.0,20000000.0,10000000.0,12000000.0,8000000.0,15000000.0,35000000.0,6500000.0,6840000.0,15000000.0,58000000.0,55000000.0,8000000.0,32500000.0,10000000.0,40000000.0,15000000.0,50000000.0,23000000.0,23000000.0,10000000.0,10000000.0,10000000.0,100000000.0,10600000.0,70000000.0,60000000.0,55000000.0,12000000.0,30000000.0,30000000.0,99000000.0,99000000.0,99000000.0,100000000.0,275000000.0,25000000.0,18000000.0,20000000.0,35000000.0,25000000.0,45000000.0,109000000.0,25000000.0,46500000.0,30000000.0,175000000.0,145000000.0,50000000.0,38000000.0,25000000.0,90000000.0,29000000.0,30000000.0,60000000.0,59000000.0,33000000.0,40000000.0,36000000.0,35000000.0,175000000.0,60000000.0,130000000.0,125000000.0,65000000.0,110000000.0,150000000.0,350000000.0],\"sizemode\":\"area\",\"sizeref\":1026500.0,\"symbol\":\"circle\"},\"mode\":\"markers\",\"name\":\"Adventure\",\"showlegend\":true,\"x\":[149.0,124.0,143.0,134.0,128.0,93.0,102.0,91.0,141.0,118.0,130.0,143.0,89.0,123.0,154.0,143.0,98.0,165.0,147.0,119.0,108.0,103.0,133.0,108.0,97.0,87.0,106.0,88.0,169.0,108.0,146.0,161.0,133.0,144.0,95.0,119.0,148.0,141.0,130.0,123.0,124.0,136.0,105.0,132.0,151.0,93.0,121.0,142.0,93.0,148.0,97.0,123.0,129.0,132.0,144.0,136.0,104.0,130.0,136.0,90.0,115.0,142.0,169.0,127.0,112.0,118.0,137.0,107.0,102.0,128.0,102.0,97.0,103.0,134.0,124.0,143.0,106.0,98.0,128.0,140.0,90.0,129.0,77.0,156.0,100.0,96.0,104.0,117.0,154.0,97.0,95.0,118.0,93.0,123.0,106.0,144.0,114.0,101.0,106.0,101.0,120.0,114.0,90.0,116.0,140.0,110.0,101.0,98.0,100.0,129.0,107.0,141.0,94.0,126.0,115.0,94.0,95.0,130.0,132.0,124.0,132.0,87.0,123.0,113.0,107.0,94.0,123.0,100.0,107.0,94.0,105.0,96.0,129.0,92.0,110.0,92.0,122.0,127.0,124.0,98.0,138.0,131.0,120.0,120.0,92.0,110.0,110.0,103.0,102.0,95.0,8.0,118.0,95.0,131.0,139.0,101.0,103.0,103.0,119.0,98.0,102.0,108.0,103.0,123.0,112.0,80.0,103.0,110.0,124.0,86.0,102.0,97.0,122.0,104.0,92.0,125.0,121.0,135.0,99.0,96.0,88.0,122.0,95.0,93.0,121.0,98.0,109.0,111.0,90.0,111.0,96.0,99.0,60.0,132.0,150.0,118.0,95.0,92.0,80.0,115.0,104.0,89.0,100.0,85.0,101.0,135.0,109.0,103.0,100.0,87.0,140.0,116.0,60.0,106.0,107.0,112.0,126.0,113.0,103.0,89.0,104.0,114.0,131.0,85.0,106.0,107.0,118.0,88.0,108.0,118.0,112.0,132.0,107.0,99.0,110.0,98.0,117.0,97.0,104.0,117.0,85.0,113.0,90.0,123.0,109.0,119.0,117.0,91.0,95.0,94.0,101.0,105.0,96.0,109.0,95.0,106.0,96.0,110.0,112.0,5.0,96.0,92.0,70.0,100.0,96.0,95.0,96.0,91.0,94.0,98.0,86.0,94.0,52.0,90.0,120.0,97.0,115.0,99.0,93.0,130.0,137.0,86.0,94.0,109.0,95.0,106.0,91.0,104.0,85.0,86.0,105.0,90.0,89.0,101.0,123.0,107.0,108.0,107.0,87.0,111.0,100.0,96.0,48.0,101.0,124.0,114.0,95.0,93.0,101.0,85.0,108.0,63.0,109.0,114.0,151.0,114.0,99.0,91.0,106.0,90.0,90.0,96.0,74.0,85.0,110.0,125.0,83.0,114.0,102.0,115.0,90.0,103.0,100.0,96.0,127.0,132.0,102.0,85.0,98.0,94.0,97.0,104.0,95.0,43.0,95.0,127.0,97.0,114.0,50.0,101.0,118.0,111.0,122.0,126.0,83.0,90.0,76.0,12.0,105.0,90.0,75.0,112.0,87.0,108.0,91.0,90.0,163.0,143.0,80.0,90.0,80.0,106.0,127.0,102.0,132.0,90.0,92.0,97.0,90.0,92.0,84.0,101.0,81.0,87.0,118.0,117.0,86.0,15.0,108.0,102.0,123.0,116.0,99.0,113.0,93.0,94.0,108.0,120.0,103.0,100.0,89.0,90.0,9.0,92.0,114.0,121.0,12.0,83.0,102.0,96.0,97.0,125.0,90.0,102.0,3.0,92.0,103.0,100.0,120.0,97.0,44.0,85.0,80.0,94.0,122.0,98.0,99.0,143.0,115.0,94.0,141.0,120.0,60.0,140.0,116.0,128.0,150.0,124.0,95.0,93.0,93.0,121.0,87.0,130.0,84.0,161.0,92.0,128.0,86.0,102.0,122.0,100.0,113.0,12.0,105.0,75.0,120.0,105.0,130.0,128.0,109.0,126.0,90.0,96.0,104.0,120.0,115.0,88.0,113.0],\"xaxis\":\"x\",\"y\":[1748134200.0,1433854864.0,1292935897.0,1148258224.0,1135772799.0,1122469910.0,1122469910.0,1086336173.0,1072413963.0,1042520711.0,1015392272.0,986894640.0,959727750.0,948061550.0,928790543.0,910526981.0,899216835.0,894039076.0,890069413.0,874496193.0,869429616.0,868879522.0,849102856.0,825491110.0,821215193.0,811750534.0,787854547.0,784765137.0,767003568.0,743025593.0,734868047.0,710366855.0,705166350.0,695577621.0,679235992.0,676680557.0,675524642.0,671133378.0,666980024.0,641575131.0,638102828.0,635063875.0,623008101.0,622402853.0,617500281.0,601921271.0,600867516.0,597923379.0,591244673.0,579620923.0,578536735.0,571059887.0,558241137.0,547862775.0,547271443.0,544401889.0,543588329.0,540644566.0,537890267.0,514837547.0,511404566.0,508996336.0,501379375.0,500912003.0,494602516.0,493144660.0,488986787.0,487517365.0,487127828.0,476050219.0,469586270.0,462079962.0,453749323.0,452220086.0,451156389.0,442999518.0,439213485.0,438068425.0,437234314.0,429290136.0,424987477.0,410663443.0,408438212.0,397938302.0,397729388.0,397519809.0,390258283.0,388858449.0,385893340.0,385878762.0,377599142.0,376072059.0,369606532.0,369076069.0,368214888.0,364537546.0,363195589.0,362846291.0,360155383.0,360004754.0,355945209.0,346258539.0,342230516.0,341514650.0,337592267.0,336385488.0,331511521.0,329870992.0,326477240.0,310561724.0,308056280.0,304803696.0,303191819.0,301456852.0,299326618.0,297156682.0,297136477.0,290359051.0,277899733.0,277448265.0,277381584.0,269088523.0,265522281.0,263186950.0,260033359.0,255997896.0,251000000.0,245632750.0,243993951.0,239146162.0,238547523.0,238374190.0,238325007.0,237013181.0,235740705.0,234942531.0,232976036.0,231021746.0,230569776.0,226756621.0,222831065.0,221002906.0,220098020.0,219169424.0,219150134.0,217276928.0,214953905.0,211979256.0,208541369.0,203789097.0,201600000.0,196400000.0,196392649.0,195408305.0,191014965.0,188500000.0,186268174.0,184486852.0,183477501.0,180700000.0,179115534.0,178847930.0,178731369.0,176290794.0,175004422.0,174856037.0,169713881.0,168902025.0,167916633.0,166562312.0,162794441.0,161900902.0,160300000.0,160300000.0,159517956.0,156916401.0,156297061.0,155355920.0,155270083.0,151896578.0,151091610.0,150802233.0,146739043.0,146271037.0,144519367.0,143388614.0,141751370.0,140361578.0,137578586.0,135930148.0,133691277.0,132981261.0,129807445.0,129276941.0,128314513.0,128050874.0,125657593.0,124806430.0,124774690.0,123542162.0,122504758.0,122344255.0,121499665.0,120017848.0,119640401.0,118151347.0,116553592.0,115971922.0,114247755.0,113353431.0,112459006.0,112459006.0,112459006.0,110859554.0,110724600.0,110328374.0,109461378.0,106928112.0,100905324.0,100429371.0,99710550.0,96861183.0,93477717.0,92529966.0,88613482.0,87234389.0,86856088.0,81143605.0,78957098.0,78750817.0,73336398.0,72525156.0,71487563.0,71306500.0,70497035.0,69738840.0,67241171.0,64717124.0,61162106.0,59646680.0,59240813.0,59114085.0,58291478.0,58259017.0,57986320.0,56763758.0,56249176.0,55387072.0,53461527.0,52848446.0,52737201.0,52148538.0,51946251.0,51455875.0,51126600.0,50818912.0,50652284.0,49877913.0,49877913.0,49026186.0,48624873.0,48119662.0,48109359.0,47849187.0,47698495.0,47651543.0,47182803.0,46209222.0,44293168.0,42898100.0,42758010.0,42217171.0,41723644.0,41172251.0,39823958.0,39716717.0,37460543.0,37393899.0,36824066.0,36627518.0,35098356.0,33351496.0,31295121.0,30401882.0,30369970.0,29400000.0,29174545.0,29119358.0,28582520.0,28527651.0,28469033.0,28393687.0,28031715.0,27427346.0,26492104.0,26255763.0,24528919.0,24312301.0,24154026.0,23658157.0,22956466.0,22897191.0,22651864.0,22548122.0,22531552.0,22200192.0,21937909.0,21465132.0,21345533.0,20729091.0,20529498.0,20145607.0,19686769.0,19535492.0,18585047.0,17983283.0,17603594.0,17438389.0,17342956.0,16265745.0,15852177.0,15187434.0,15174817.0,15149422.0,14758389.0,14477051.0,14454336.0,13993548.0,13874967.0,12761360.0,12535660.0,12469621.0,11931420.0,10883171.0,8246770.0,7778100.0,7621440.0,5898221.0,5272421.0,5037867.0,4863840.0,4361428.0,4299670.0,4206732.0,3237229.0,2982519.0,2837111.0,2687603.0,2511317.0,1766959.0,1684207.0,1525973.0,1176701.0,47784.0,-25000.0,-73395.0,-100000.0,-250000.0,-250000.0,-290000.0,-407362.0,-480200.0,-498222.0,-500000.0,-711243.0,-800000.0,-888250.0,-982279.0,-1000000.0,-1011249.0,-1038779.0,-1107351.0,-1163244.0,-1286535.0,-1524154.0,-1800000.0,-1906067.0,-1950368.0,-2000000.0,-2000000.0,-2000000.0,-2000000.0,-2100000.0,-2500000.0,-2631063.0,-2645770.0,-2833385.0,-2852009.0,-3000000.0,-3282693.0,-3330352.0,-3472044.0,-3557450.0,-3961559.0,-4000000.0,-4000000.0,-4221368.0,-4439488.0,-4488226.0,-4607391.0,-4714110.0,-5000000.0,-5396999.0,-5436920.0,-5446814.0,-5544973.0,-5989020.0,-6279530.0,-6496851.0,-6817727.0,-7114952.0,-7634502.0,-7786905.0,-8000000.0,-8340066.0,-8361798.0,-9036316.0,-9046114.0,-9274508.0,-9406527.0,-9406527.0,-9639102.0,-9849809.0,-10000000.0,-10306691.0,-10338636.0,-11046681.0,-11414584.0,-11929085.0,-12000000.0,-12878177.0,-13518595.0,-14252559.0,-14252559.0,-14252559.0,-14712583.0,-14997885.0,-15686698.0,-18000000.0,-18296719.0,-19528031.0,-19702589.0,-20355336.0,-21316034.0,-21354043.0,-22773374.0,-23083131.0,-23283185.0,-23328075.0,-23878362.0,-24856944.0,-25000000.0,-26643867.0,-29000000.0,-29351401.0,-29936195.0,-30651554.0,-32642313.0,-33658175.0,-34421457.0,-34946101.0,-35369664.0,-35851512.0,-50923322.0,-63357202.0,-64483721.0,-106900000.0,-110450242.0,-200237650.0],\"yaxis\":\"y\",\"type\":\"scattergl\"},{\"customdata\":[[\"Avengers: Infinity War\"],[\"Jurassic World\"],[\"Furious 7\"],[\"The Avengers\"],[\"Black Panther\"],[\"Jurassic World: Fallen Kingdom\"],[\"Avengers: Age of Ultron\"],[\"Incredibles 2\"],[\"Iron Man 3\"],[\"Aquaman\"],[\"The Fate of the Furious\"],[\"Captain Marvel\"],[\"Transformers: Dark of the Moon\"],[\"Skyfall\"],[\"Transformers: Age of Extinction\"],[\"Captain America: Civil War\"],[\"Jumanji: Welcome to the Jungle\"],[\"Rogue One: A Star Wars Story\"],[\"The Dark Knight Rises\"],[\"Deadpool\"],[\"Venom\"],[\"The Hunger Games: Catching Fire\"],[\"Spider-Man: Homecoming\"],[\"Deadpool 2\"],[\"Inception\"],[\"Wonder Woman\"],[\"Thor: Ragnarok\"],[\"The Hunger Games: Mockingjay - Part 1\"],[\"Pirates of the Caribbean: On Stranger Tides\"],[\"Batman v Superman: Dawn of Justice\"],[\"Guardians of the Galaxy\"],[\"The Hunger Games\"],[\"Spectre\"],[\"Maleficent\"],[\"Suicide Squad\"],[\"Pirates of the Caribbean: Dead Men Tell No Tales\"],[\"X-Men: Days of Future Past\"],[\"Captain America: The Winter Soldier\"],[\"Dawn of the Planet of the Apes\"],[\"The Amazing Spider-Man\"],[\"Kung Fu Panda 2\"],[\"Doctor Strange\"],[\"The Amazing Spider-Man 2\"],[\"Fast Five\"],[\"Thor: The Dark World\"],[\"Ant-Man and the Wasp\"],[\"American Sniper\"],[\"The Hunger Games: Mockingjay - Part 2\"],[\"Logan\"],[\"Big Hero 6\"],[\"How to Train Your Dragon 2\"],[\"Iron Man 2\"],[\"Man of Steel\"],[\"Men in Black 3\"],[\"The Croods\"],[\"Ready Player One\"],[\"Puss in Boots\"],[\"Lucy\"],[\"Sherlock Holmes: A Game of Shadows\"],[\"The Revenant\"],[\"The Lego Movie\"],[\"How to Train Your Dragon: The Hidden World\"],[\"Ant-Man\"],[\"Transformers: The Last Knight\"],[\"Rise of the Planet of the Apes\"],[\"Kung Fu Panda 3\"],[\"Kong: Skull Island\"],[\"Godzilla\"],[\"Clash of the Titans\"],[\"X-Men: Apocalypse\"],[\"Bumblebee\"],[\"Teenage Mutant Ninja Turtles\"],[\"Justice League\"],[\"The Meg\"],[\"Dunkirk\"],[\"San Andreas\"],[\"World War Z\"],[\"War for the Planet of the Apes\"],[\"The Mummy\"],[\"Taken 2\"],[\"How to Train Your Dragon\"],[\"The Maze Runner\"],[\"The Karate Kid\"],[\"Kingsman: The Secret Service\"],[\"Rampage\"],[\"Kingsman: The Golden Circle\"],[\"The Wolverine\"],[\"Thor\"],[\"Jason Bourne\"],[\"Dangal\"],[\"22 Jump Street\"],[\"Taken 3\"],[\"The Angry Birds Movie\"],[\"Shazam!\"],[\"Star Trek Into Darkness\"],[\"Resident Evil: The Final Chapter\"],[\"Split\"],[\"Wanted\"],[\"Wanted\"],[\"Warcraft\"],[\"Ghostbusters\"],[\"xXx: Return of Xander Cage\"],[\"Godzilla\"],[\"Maze Runner: The Scorch Trials\"],[\"Fantastic Four\"],[\"The Adventures of Tintin\"],[\"Journey 2: The Mysterious Island\"],[\"Resident Evil: Afterlife\"],[\"Now You See Me 2\"],[\"G.I. Joe: Retaliation\"],[\"Baahubali 2: The Conclusion\"],[\"Alita: Battle Angel\"],[\"Snow White and the Huntsman\"],[\"The Lego Batman Movie\"],[\"Captain America: The First Avenger\"],[\"Rocky\"],[\"Noah\"],[\"Pacific Rim\"],[\"300: Rise of an Empire\"],[\"Mad Max: Fury Road\"],[\"Independence Day: Resurgence\"],[\"The Mummy\"],[\"A Good Day to Die Hard\"],[\"The Expendables 2\"],[\"Total Recall\"],[\"X-Men: First Class\"],[\"Baby Driver\"],[\"Edge of Tomorrow\"],[\"Megamind\"],[\"Divergent\"],[\"Teenage Mutant Ninja Turtles\"],[\"The Heat\"],[\"The Expendables\"],[\"The Great Wall\"],[\"Tomb Raider\"],[\"Hercules\"],[\"Skyscraper\"],[\"The Tourist\"],[\"Resident Evil: Retribution\"],[\"Non-Stop\"],[\"The Last Airbender\"],[\"The Legend of Tarzan\"],[\"Oblivion\"],[\"Central Intelligence\"],[\"Elysium\"],[\"Hansel & Gretel: Witch Hunters\"],[\"Rise of the Guardians\"],[\"21 Jump Street\"],[\"Salt\"],[\"Traffic\"],[\"Jack Reacher\"],[\"Everest\"],[\"The Bourne Legacy\"],[\"Wrath of the Titans\"],[\"Pixels\"],[\"Pixels\"],[\"Real Steel\"],[\"Jackass 3D\"],[\"Star Trek Beyond\"],[\"Dracula Untold\"],[\"Unforgiven\"],[\"Inferno\"],[\"Hercules\"],[\"Knight and Day\"],[\"Looper\"],[\"The Equalizer\"],[\"Lion\"],[\"Immortals\"],[\"Pacific Rim: Uprising\"],[\"London Has Fallen\"],[\"Fury\"],[\"In Time\"],[\"Godzilla: King of the Monsters\"],[\"Ride Along\"],[\"Ride Along\"],[\"Exodus: Gods and Kings\"],[\"Need for Speed\"],[\"The First Purge\"],[\"Safe House\"],[\"RoboCop\"],[\"After Earth\"],[\"Geostorm\"],[\"Johnny English Reborn\"],[\"The Green Hornet\"],[\"Solo: A Star Wars Story\"],[\"Baywatch\"],[\"Dragon Ball Super: Broly\"],[\"The Queen\"],[\"The Equalizer 2\"],[\"The Accountant\"],[\"Robin Hood\"],[\"Robin Hood\"],[\"Robin Hood\"],[\"Robin Hood\"],[\"Payback\"],[\"Payback\"],[\"Payback\"],[\"Teenage Mutant Ninja Turtles: Out of the Shadows\"],[\"Lone Survivor\"],[\"The Expendables 3\"],[\"Bajrangi Bhaijaan\"],[\"The Purge: Election Year\"],[\"Source Code\"],[\"The Foreigner\"],[\"The Foreigner\"],[\"Olympus Has Fallen\"],[\"The Purge: Anarchy\"],[\"Into the Storm\"],[\"Jack Reacher: Never Go Back\"],[\"Hide and Seek\"],[\"Unknown\"],[\"Battleship\"],[\"Ghost Rider: Spirit of Vengeance\"],[\"This Means War\"],[\"The Bounty Hunter\"],[\"Boomerang\"],[\"Captain Underpants: The First Epic Movie\"],[\"Predators\"],[\"Total Recall\"],[\"American Made\"],[\"Ghostbusters\"],[\"Ride Along 2\"],[\"The Karate Kid\"],[\"Game Night\"],[\"The Book of Eli\"],[\"The Color Purple\"],[\"Contagion\"],[\"Hostel\"],[\"Red Sparrow\"],[\"Hitman\"],[\"Hitman\"],[\"Contraband\"],[\"The 5th Wave\"],[\"The Magnificent Seven\"],[\"2 Guns\"],[\"The Predator\"],[\"Jack Ryan: Shadow Recruit\"],[\"The Other Guys\"],[\"Unstoppable\"],[\"Unstoppable\"],[\"Act of Valor\"],[\"Abraham Lincoln: Vampire Hunter\"],[\"Mechanic: Resurrection\"],[\"Paul Blart: Mall Cop 2\"],[\"Kick-Ass\"],[\"Atomic Blonde\"],[\"The A-Team\"],[\"Drive\"],[\"Tower Heist\"],[\"Sultan\"],[\"The Commuter\"],[\"Wolf\"],[\"Wolf\"],[\"Rush\"],[\"Rush\"],[\"Point Break\"],[\"Monster\"],[\"Monster\"],[\"Conan the Barbarian\"],[\"Skyline\"],[\"Ben-Hur\"],[\"The Sorcerer's Apprentice\"],[\"Ghost in the Shell\"],[\"RED 2\"],[\"Riddick\"],[\"The Grey\"],[\"Chappie\"],[\"White House Down\"],[\"Pain & Gain\"],[\"Sicario\"],[\"The Gift\"],[\"Big Fish\"],[\"Witness\"],[\"The Dark Tower\"],[\"The Lego Ninjago Movie\"],[\"Abduction\"],[\"Abduction\"],[\"Abduction\"],[\"Season of the Witch\"],[\"The Last Witch Hunter\"],[\"Nerve\"],[\"Big Mommas: Like Father, Like Son\"],[\"Den of Thieves\"],[\"The Three Musketeers\"],[\"Snow Day\"],[\"Tag\"],[\"Tag\"],[\"Snowpiercer\"],[\"Fantastic Four\"],[\"The Transporter Refueled\"],[\"Hitman: Agent 47\"],[\"John Wick\"],[\"Underworld: Blood Wars\"],[\"Brick Mansions\"],[\"Breaking In\"],[\"Beowulf\"],[\"Crossroads\"],[\"Gangster Squad\"],[\"The Island\"],[\"Snitch\"],[\"End of Watch\"],[\"Legion\"],[\"No Good Deed\"],[\"Sicario: Day of the Soldado\"],[\"RoboCop\"],[\"Hellboy\"],[\"Legend of the Guardians: The Owls of Ga'Hoole\"],[\"Takers\"],[\"No Escape\"],[\"The Next Three Days\"],[\"Tomorrowland\"],[\"12 Strong\"],[\"Shooter\"],[\"Derailed\"],[\"Hanna\"],[\"Kick-Ass 2\"],[\"Valerian and the City of a Thousand Planets\"],[\"The Gift\"],[\"A Walk Among the Tombstones\"],[\"Machete\"],[\"The Mechanic\"],[\"Escape Plan\"],[\"Assassins\"],[\"Colombiana\"],[\"Mile 22\"],[\"Here Comes the Boom\"],[\"The Game\"],[\"Homefront\"],[\"Clash of the Titans\"],[\"Cloud Atlas\"],[\"Pompeii\"],[\"Lawless\"],[\"The Darkest Hour\"],[\"Cats & Dogs: The Revenge of Kitty Galore\"],[\"Jackie\"],[\"The World's End\"],[\"Peppermint\"],[\"Point Break\"],[\"Risen\"],[\"You're Next\"],[\"Hell or High Water\"],[\"Commando\"],[\"The Guardian\"],[\"The Guardian\"],[\"Hero\"],[\"Hero\"],[\"The Little Prince\"],[\"Priest\"],[\"Adrift\"],[\"Kubo and the Two Strings\"],[\"Power Rangers\"],[\"Posledniy bogatyr\"],[\"Killers\"],[\"Killers\"],[\"The November Man\"],[\"Green Lantern\"],[\"Brothers\"],[\"Brothers\"],[\"Cop Out\"],[\"The Spy Next Door\"],[\"Admiral\"],[\"Death Wish\"],[\"The Last Stand\"],[\"Ender's Game\"],[\"Legend\"],[\"Run All Night\"],[\"Sleeper\"],[\"Sleeper\"],[\"The Mortal Instruments: City of Bones\"],[\"Snatched\"],[\"Hardcore Henry\"],[\"Sucker Punch\"],[\"The Host\"],[\"The Eagle\"],[\"Lockout\"],[\"Seventh Son\"],[\"The Gambler\"],[\"Upgrade\"],[\"Parker\"],[\"Haywire\"],[\"Allied\"],[\"Action Jackson\"],[\"The Master\"],[\"Black or White\"],[\"30 Minutes or Less\"],[\"Patriots Day\"],[\"The Watch\"],[\"Red Dog\"],[\"Faster\"],[\"3 Days to Kill\"],[\"Vice\"],[\"Hot Pursuit\"],[\"Maniac\"],[\"The Nice Guys\"],[\"I, Frankenstein\"],[\"Khiladi 786\"],[\"Safe\"],[\"Kites\"],[\"Fighting\"],[\"John Carter\"],[\"Man on a Ledge\"],[\"The Collector\"],[\"Criminal\"],[\"The Man with the Iron Fists\"],[\"Dum Maaro Dum\"],[\"Moby Dick\"],[\"Traitor\"],[\"Keanu\"],[\"The Cold Light of Day\"],[\"American Assassin\"],[\"The Losers\"],[\"Brothers\"],[\"Brothers\"],[\"Left Behind\"],[\"Compadres\"],[\"The Darkest Minds\"],[\"Sleight\"],[\"The Sweeney\"],[\"Lost Souls\"],[\"Oldboy\"],[\"Transcendence\"],[\"Jupiter Ascending\"],[\"Cold Pursuit\"],[\"Control\"],[\"American Ultra\"],[\"The Wall\"],[\"Weekend\"],[\"Captive\"],[\"Captive\"],[\"Choke\"],[\"Scouts Guide to the Zombie Apocalypse\"],[\"Simon\"],[\"Alex Cross\"],[\"Miss Bala\"],[\"Queen Crab\"],[\"Echo Dr.\"],[\"The Calling\"],[\"Heroes of Dirt\"],[\"Death Calls\"],[\"Teeth and Blood\"],[\"Midnight Cabaret\"],[\"Amidst the Devil's Wings\"],[\"Unknown\"],[\"Jackpot\"],[\"The Hammer\"],[\"Born to Fly: Elizabeth Streb vs. Gravity\"],[\"Detention of the Dead\"],[\"Higher Power\"],[\"Diamond Ruff\"],[\"Fight to the Finish\"],[\"Crossroads\"],[\"Going Under\"],[\"Subconscious\"],[\"Light from the Darkroom\"],[\"Morgan\"],[\"Bad Company\"],[\"Snitch\"],[\"Hardflip\"],[\"Jesse\"],[\"Unsullied\"],[\"American Hero\"],[\"Por amor en el caserio\"],[\"Zombie Hunter\"],[\"The Dead Undead\"],[\"The Collection\"],[\"Gods of Egypt\"],[\"The Algerian\"],[\"MacGruber\"],[\"Teefa in Trouble\"],[\"Legend\"],[\"Checkmate\"],[\"Machete Kills\"],[\"Independence Daysaster\"],[\"Super\"],[\"Highway\"],[\"Shark Lake\"],[\"Wind Walkers\"],[\"Red State\"],[\"The Timber\"],[\"Infected\"],[\"Infected\"],[\"Hobo with a Shotgun\"],[\"Frontera\"],[\"Hotel Artemis\"],[\"Green Zone\"],[\"The Calling\"],[\"Stung\"],[\"Reign of Assassins\"],[\"Creature\"],[\"Wild Target\"],[\"The Gambler\"],[\"Open Road\"],[\"Unnatural\"],[\"AWOL-72\"],[\"Close Range\"],[\"Point Blank\"],[\"Blackthorn\"],[\"The Masked Saint\"],[\"Ben-Hur\"],[\"Paparazzi\"],[\"The Kick\"],[\"Dredd\"],[\"Premium Rush\"],[\"Inescapable\"],[\"Chain of Command\"],[\"The Veil\"],[\"Falcon Rising\"],[\"Mandy\"],[\"Killer Elite\"],[\"Hit & Run\"],[\"Z Storm\"],[\"Yoga Hosers\"],[\"The Hatching\"],[\"Born of War\"],[\"Destroyer\"],[\"The Rover\"],[\"Max Steel\"],[\"Salvation Boulevard\"],[\"Heist\"],[\"Heist\"],[\"Heist\"],[\"One for the Money\"],[\"The Hit List\"],[\"Heist\"],[\"Heist\"],[\"Heist\"],[\"Getaway\"],[\"Free Fire\"],[\"The Brothers Grimsby\"],[\"The Island\"],[\"Tracker\"],[\"Attack the Block\"],[\"Centurion\"],[\"Black November\"],[\"Pound of Flesh\"],[\"Red Tails\"],[\"American Heist\"],[\"The Hunted\"],[\"Swelter\"],[\"Code of Honor\"],[\"Proud Mary\"],[\"Gun Shy\"],[\"All or Nothing\"],[\"Drive Angry\"],[\"Skin Trade\"],[\"The Hurricane Heist\"],[\"The Return\"],[\"The Return\"],[\"Hellboy\"],[\"Redemption\"],[\"Plastic\"],[\"Gunless\"],[\"Re-Kill\"],[\"Genius\"],[\"Into the Grizzly Maze\"],[\"In the Heart of the Sea\"],[\"Midnight Special\"],[\"Dead Man Down\"],[\"Firestorm\"],[\"The Legend of Hercules\"],[\"Pride and Prejudice and Zombies\"],[\"Doomsday\"],[\"The Avengers\"],[\"Anonymous\"],[\"5 Days of War\"],[\"Drive Hard\"],[\"Dhoom 3\"],[\"Baahubali: The Beginning\"],[\"Only the Brave\"],[\"Freedom\"],[\"Straw Dogs\"],[\"Repo Men\"],[\"The Son of No One\"],[\"Dylan Dog: Dead of Night\"],[\"Robin Hood\"],[\"Robin Hood\"],[\"Robin Hood\"],[\"Robin Hood\"],[\"Left Behind\"],[\"Mortal Engines\"],[\"Hands of Stone\"],[\"Broken Horses\"],[\"The Lone Ranger\"],[\"Just Getting Started\"],[\"Sabotage\"],[\"Phantom\"],[\"Red Dawn\"],[\"Stolen\"],[\"I Am Wrath\"],[\"Wolves\"],[\"Stone\"],[\"Forsaken\"],[\"The Prince\"],[\"Survivor\"],[\"Survivor\"],[\"Rogue\"],[\"Middle Men\"],[\"Bait\"],[\"Ironclad\"],[\"Kin\"],[\"Fight Valley\"],[\"The Finest Hours\"],[\"Molly\"],[\"Stronger\"],[\"Jane Got a Gun\"],[\"The Gunman\"],[\"Blood Ties\"],[\"Blood Ties\"],[\"Trapped\"],[\"47 Ronin\"],[\"Collide\"],[\"Birth of the Dragon\"],[\"Venom\"],[\"Red Sky\"],[\"Wild Card\"],[\"Machine Gun Preacher\"],[\"Conan the Barbarian\"],[\"The Missing\"],[\"Free State of Jones\"],[\"Bilal: A New Breed of Hero\"],[\"Mortdecai\"],[\"Dragonfly\"],[\"The Kid Who Would Be King\"],[\"Bullet to the Head\"],[\"The Young and Prodigious T.S. Spivet\"],[\"Deepwater Horizon\"],[\"The Warrior's Way\"],[\"Pirates\"],[\"The Lovers\"],[\"King Arthur: Legend of the Sword\"],[\"Jonah Hex\"],[\"USS Indianapolis: Men of Courage\"],[\"The Last Shot\"],[\"Live by Night\"],[\"Turbulence\"],[\"Virus\"],[\"Foodfight!\"],[\"Father's Day\"],[\"Blackhat\"],[\"R.I.P.D.\"],[\"Stealth\"],[\"Monster Trucks\"],[\"Air Strike\"],[\"The Nutcracker in 3D\"],[\"Bright\"],[\"Men in Black: International\"],[\"Dark Phoenix\"]],\"hovertemplate\":\"Genre=Action<br>Runtime=%{x}<br>Profit in 100M=%{y}<br>Budget=%{marker.size}<br>title=%{customdata[0]}<extra></extra>\",\"legendgroup\":\"Action\",\"marker\":{\"color\":\"#ab63fa\",\"size\":[300000000.0,215000000.0,190000000.0,225000000.0,200000000.0,170000000.0,330600000.0,200000000.0,200000000.0,160000000.0,250000000.0,175000000.0,195000000.0,200000000.0,210000000.0,250000000.0,90000000.0,200000000.0,275000000.0,58000000.0,116000000.0,130000000.0,175000000.0,110000000.0,160000000.0,150000000.0,180000000.0,125000000.0,410600000.0,250000000.0,170000000.0,80000000.0,300000000.0,180000000.0,175000000.0,230000000.0,200000000.0,170000000.0,170000000.0,220000000.0,150000000.0,165000000.0,200000000.0,125000000.0,150000000.0,130000000.0,58000000.0,160000000.0,127000000.0,165000000.0,145000000.0,170000000.0,225000000.0,215000000.0,135000000.0,150000000.0,130000000.0,40000000.0,125000000.0,135000000.0,60000000.0,129000000.0,130000000.0,217000000.0,93000000.0,140000000.0,185000000.0,160000000.0,125000000.0,178000000.0,102000000.0,125000000.0,300000000.0,178000000.0,150000000.0,110000000.0,190000000.0,152000000.0,80000000.0,45000000.0,165000000.0,34000000.0,40000000.0,94000000.0,120000000.0,104000000.0,115000000.0,150000000.0,120000000.0,9500000.0,50000000.0,48000000.0,73000000.0,85000000.0,190000000.0,40000000.0,5000000.0,75000000.0,75000000.0,160000000.0,30000000.0,85000000.0,125000000.0,61000000.0,87500000.0,130000000.0,79000000.0,57500000.0,90000000.0,140000000.0,30000000.0,170000000.0,170000000.0,80000000.0,140000000.0,1000000.0,130000000.0,190000000.0,110000000.0,150000000.0,165000000.0,195000000.0,92000000.0,100000000.0,65000000.0,160000000.0,34000000.0,178000000.0,130000000.0,85000000.0,13500000.0,43000000.0,82000000.0,150000000.0,90000000.0,70000000.0,125000000.0,100000000.0,65000000.0,50000000.0,150000000.0,180000000.0,120000000.0,50000000.0,120000000.0,50000000.0,145000000.0,42000000.0,130000000.0,48000000.0,60000000.0,65000000.0,125000000.0,150000000.0,90000000.0,90000000.0,110000000.0,20000000.0,185000000.0,70000000.0,14400000.0,75000000.0,100000000.0,117000000.0,30000000.0,55000000.0,12000000.0,75000000.0,155000000.0,60000000.0,80000000.0,35000000.0,170000000.0,25000000.0,25000000.0,140000000.0,66000000.0,13000000.0,85000000.0,120000000.0,130000000.0,100000000.0,45000000.0,110000000.0,275000000.0,60000000.0,8500000.0,15000000.0,77000000.0,40000000.0,210000000.0,210000000.0,210000000.0,210000000.0,50000000.0,50000000.0,50000000.0,135000000.0,40000000.0,100000000.0,13000000.0,10000000.0,32000000.0,35000000.0,35000000.0,70000000.0,9000000.0,50000000.0,60000000.0,25000000.0,40000000.0,220000000.0,57000000.0,65000000.0,45000000.0,42000000.0,38000000.0,40000000.0,125000000.0,50000000.0,144000000.0,40000000.0,8000000.0,37000000.0,80000000.0,15000000.0,60000000.0,4800000.0,69000000.0,24000000.0,24000000.0,25000000.0,38000000.0,90000000.0,61000000.0,88000000.0,60000000.0,100000000.0,95000000.0,95000000.0,12000000.0,67500000.0,40000000.0,38000000.0,28000000.0,30000000.0,110000000.0,15000000.0,85000000.0,11000000.0,40000000.0,70000000.0,70000000.0,38000000.0,38000000.0,24000000.0,5000000.0,5000000.0,20000000.0,10000000.0,15000000.0,160000000.0,110000000.0,84000000.0,38000000.0,25000000.0,49000000.0,150000000.0,26000000.0,30000000.0,5000000.0,70000000.0,12000000.0,60000000.0,70000000.0,35000000.0,35000000.0,35000000.0,40000000.0,80000000.0,20000000.0,32000000.0,30000000.0,90000000.0,13000000.0,28000000.0,28000000.0,40000000.0,120000000.0,22000000.0,35000000.0,30000000.0,35000000.0,28000000.0,6000000.0,150000000.0,12000000.0,60000000.0,120000000.0,15000000.0,15000000.0,26000000.0,13200000.0,35000000.0,13000000.0,60000000.0,100000000.0,32000000.0,5000000.0,30000000.0,170000000.0,35000000.0,60000000.0,22000000.0,30000000.0,28000000.0,180000000.0,10000000.0,28000000.0,12500000.0,42500000.0,70000000.0,50000000.0,40000000.0,35000000.0,42000000.0,50000000.0,22000000.0,15000000.0,102000000.0,80000000.0,26000000.0,34800000.0,85000000.0,9000000.0,20000000.0,25000000.0,100000000.0,20000000.0,1000000.0,12000000.0,10000000.0,70000000.0,70000000.0,42000000.0,42000000.0,77500000.0,60000000.0,35000000.0,55000000.0,120000000.0,8500000.0,75000000.0,75000000.0,15000000.0,200000000.0,26000000.0,26000000.0,37000000.0,28000000.0,20000000.0,30000000.0,30000000.0,110000000.0,25000000.0,50000000.0,2000000.0,2000000.0,60000000.0,42000000.0,2000000.0,75000000.0,50000000.0,25000000.0,20000000.0,95000000.0,25000000.0,3000000.0,35000000.0,23000000.0,106000000.0,7000000.0,37500000.0,9000000.0,28000000.0,40000000.0,55000000.0,9100000.0,24000000.0,28000000.0,60000000.0,35000000.0,350000.0,50000000.0,65000000.0,5600000.0,33000000.0,9200000.0,25000000.0,275000000.0,42000000.0,3000000.0,31500000.0,15000000.0,5200000.0,4500000.0,22000000.0,15000000.0,20000000.0,63000000.0,25000000.0,13000000.0,13000000.0,16000000.0,3000000.0,34000000.0,250000.0,4500000.0,28000000.0,3000000.0,100000000.0,179000000.0,60000000.0,6400000.0,28000000.0,3000000.0,190000.0,2000000.0,2000000.0,3400000.0,15000000.0,1300000.0,35000000.0,15000000.0,75000.0,100000.0,160000.0,175000.0,290000.0,300000.0,300000.0,300000.0,3700000.0,400000.0,850000.0,500000.0,500000.0,500000.0,500000.0,500000.0,500000.0,500000.0,500000.0,600000.0,8000000.0,70000000.0,850000.0,1000000.0,950000.0,1500000.0,1000000.0,1000000.0,1000000.0,1100000.0,10000000.0,140000000.0,1300000.0,10000000.0,1500000.0,25000000.0,1500000.0,20000000.0,1800000.0,2500000.0,2000000.0,2000000.0,2000000.0,4000000.0,2100000.0,2100000.0,2100000.0,3000000.0,2300000.0,15000000.0,100000000.0,2500000.0,2500000.0,14000000.0,3000000.0,8000000.0,3000000.0,3000000.0,3000000.0,3000000.0,3000000.0,3000000.0,4500000.0,3500000.0,95000000.0,20000000.0,3500000.0,45000000.0,35000000.0,4000000.0,4000000.0,4000000.0,4500000.0,6000000.0,70000000.0,22000000.0,7000000.0,5000000.0,5000000.0,5000000.0,9000000.0,8500000.0,10000000.0,5500000.0,8900000.0,8900000.0,8900000.0,42000000.0,6000000.0,35000000.0,35000000.0,35000000.0,18000000.0,10000000.0,35000000.0,22000000.0,6500000.0,13000000.0,15000000.0,7500000.0,7500000.0,58000000.0,10000000.0,55000000.0,8000000.0,8000000.0,30000000.0,10000000.0,9000000.0,50000000.0,9000000.0,40000000.0,15000000.0,15000000.0,50000000.0,23000000.0,10000000.0,9900000.0,9500000.0,17000000.0,10000000.0,100000000.0,18000000.0,30000000.0,19000000.0,70000000.0,28000000.0,33000000.0,60000000.0,27500000.0,12000000.0,12000000.0,24000000.0,40000000.0,38000000.0,14500000.0,25000000.0,32000000.0,15000000.0,20000000.0,99000000.0,99000000.0,99000000.0,99000000.0,18500000.0,100000000.0,20000000.0,15000000.0,275000000.0,22000000.0,35000000.0,18000000.0,65000000.0,35000000.0,18000000.0,18000000.0,22000000.0,18000000.0,18000000.0,20000000.0,20000000.0,23000000.0,20000000.0,35000000.0,25000000.0,30000000.0,20000000.0,70000000.0,21000000.0,30000000.0,25000000.0,40000000.0,26000000.0,26000000.0,30000000.0,175000000.0,29200000.0,31000000.0,25000000.0,25000000.0,30000000.0,30000000.0,90000000.0,65000000.0,50000000.0,30000000.0,60000000.0,60000000.0,59000000.0,55000000.0,33000000.0,156000000.0,42000000.0,40000000.0,35000000.0,175000000.0,47000000.0,40000000.0,40000000.0,65000000.0,55000000.0,75000000.0,45000000.0,85000000.0,70000000.0,130000000.0,138000000.0,125000000.0,65000000.0,90000000.0,90000000.0,110000000.0,350000000.0],\"sizemode\":\"area\",\"sizeref\":1026500.0,\"symbol\":\"circle\"},\"mode\":\"markers\",\"name\":\"Action\",\"showlegend\":true,\"x\":[149.0,124.0,137.0,143.0,134.0,128.0,141.0,118.0,130.0,143.0,136.0,123.0,154.0,143.0,165.0,147.0,119.0,133.0,164.0,108.0,112.0,146.0,133.0,119.0,148.0,141.0,130.0,123.0,136.0,151.0,121.0,142.0,148.0,97.0,123.0,129.0,132.0,136.0,130.0,136.0,90.0,115.0,142.0,130.0,112.0,118.0,133.0,137.0,137.0,102.0,102.0,124.0,143.0,106.0,98.0,140.0,90.0,89.0,129.0,156.0,100.0,104.0,117.0,154.0,105.0,95.0,118.0,123.0,106.0,144.0,114.0,101.0,120.0,113.0,106.0,114.0,116.0,140.0,110.0,92.0,98.0,113.0,140.0,129.0,107.0,141.0,126.0,115.0,123.0,161.0,112.0,108.0,97.0,132.0,132.0,107.0,123.0,110.0,160.0,123.0,116.0,107.0,123.0,131.0,100.0,107.0,94.0,96.0,129.0,110.0,167.0,122.0,127.0,104.0,124.0,136.0,138.0,131.0,102.0,120.0,120.0,110.0,98.0,103.0,118.0,131.0,113.0,113.0,95.0,139.0,101.0,117.0,103.0,103.0,119.0,98.0,102.0,103.0,95.0,106.0,103.0,110.0,124.0,107.0,109.0,88.0,97.0,109.0,100.0,122.0,130.0,121.0,135.0,99.0,100.0,105.0,127.0,95.0,122.0,92.0,135.0,121.0,98.0,109.0,113.0,132.0,143.0,110.0,111.0,99.0,134.0,109.0,132.0,99.0,87.0,150.0,132.0,98.0,115.0,117.0,100.0,109.0,101.0,119.0,135.0,116.0,100.0,104.0,121.0,128.0,92.0,140.0,116.0,60.0,115.0,77.0,80.0,112.0,121.0,126.0,163.0,108.0,93.0,113.0,145.0,119.0,103.0,89.0,118.0,107.0,113.0,131.0,96.0,103.0,110.0,120.0,89.0,107.0,118.0,115.0,116.0,102.0,140.0,100.0,118.0,97.0,106.0,111.0,140.0,147.0,95.0,109.0,112.0,132.0,109.0,107.0,105.0,107.0,116.0,98.0,110.0,105.0,98.0,94.0,117.0,115.0,117.0,147.0,104.0,170.0,105.0,80.0,98.0,123.0,10.0,114.0,113.0,85.0,113.0,92.0,123.0,109.0,107.0,116.0,119.0,117.0,120.0,131.0,129.0,121.0,113.0,103.0,96.0,95.0,101.0,90.0,106.0,106.0,95.0,106.0,96.0,107.0,140.0,110.0,60.0,46.0,85.0,126.0,100.0,96.0,96.0,101.0,91.0,90.0,88.0,80.0,87.0,113.0,94.0,112.0,109.0,100.0,84.0,122.0,117.0,120.0,97.0,107.0,103.0,133.0,130.0,130.0,130.0,107.0,111.0,103.0,137.0,113.0,114.0,105.0,93.0,115.0,84.0,108.0,94.0,105.0,95.0,100.0,106.0,172.0,105.0,90.0,89.0,82.0,126.0,109.0,101.0,114.0,107.0,95.0,102.0,124.0,93.0,72.0,145.0,163.0,93.0,87.0,96.0,101.0,124.0,114.0,100.0,137.0,108.0,114.0,156.0,95.0,107.0,94.0,151.0,107.0,107.0,114.0,168.0,114.0,100.0,86.0,130.0,90.0,96.0,110.0,125.0,114.0,95.0,102.0,121.0,100.0,118.0,93.0,124.0,144.0,86.0,135.0,83.0,133.0,102.0,99.0,98.0,117.0,96.0,87.0,160.0,116.0,92.0,141.0,94.0,123.0,91.0,132.0,102.0,94.0,113.0,95.0,128.0,112.0,110.0,100.0,93.0,112.0,97.0,95.0,156.0,110.0,101.0,104.0,89.0,112.0,84.0,104.0,119.0,127.0,119.0,127.0,96.0,88.0,121.0,88.0,97.0,122.0,93.0,85.0,101.0,104.0,80.0,81.0,92.0,98.0,90.0,96.0,78.0,90.0,113.0,86.0,75.0,82.0,87.0,93.0,82.0,94.0,87.0,83.0,122.0,90.0,92.0,90.0,112.0,112.0,120.0,93.0,86.0,100.0,93.0,89.0,82.0,127.0,99.0,90.0,155.0,168.0,102.0,107.0,90.0,96.0,101.0,92.0,93.0,88.0,81.0,116.0,95.0,86.0,98.0,94.0,115.0,92.0,87.0,117.0,134.0,98.0,121.0,85.0,89.0,82.0,80.0,81.0,102.0,105.0,123.0,110.0,94.0,95.0,91.0,93.0,88.0,93.0,103.0,121.0,116.0,114.0,92.0,88.0,90.0,109.0,121.0,103.0,92.0,96.0,73.0,93.0,47.0,91.0,90.0,93.0,73.0,47.0,90.0,91.0,83.0,94.0,102.0,88.0,97.0,95.0,104.0,125.0,94.0,90.0,96.0,106.0,89.0,92.0,61.0,104.0,96.0,103.0,105.0,78.0,120.0,100.0,102.0,89.0,88.0,165.0,94.0,122.0,112.0,118.0,118.0,99.0,108.0,95.0,143.0,60.0,113.0,92.0,172.0,159.0,134.0,48.0,110.0,111.0,90.0,107.0,60.0,140.0,92.0,116.0,110.0,128.0,111.0,101.0,150.0,91.0,109.0,136.0,93.0,96.0,92.0,91.0,114.0,90.0,93.0,93.0,96.0,134.0,82.0,93.0,121.0,102.0,90.0,117.0,91.0,47.0,98.0,115.0,127.0,120.0,105.0,128.0,99.0,95.0,112.0,100.0,92.0,129.0,113.0,95.0,139.0,105.0,107.0,75.0,120.0,92.0,105.0,107.0,100.0,130.0,109.0,126.0,81.0,128.0,47.0,129.0,120.0,98.0,91.0,99.0,133.0,96.0,51.0,104.0,120.0,110.0,117.0,115.0,113.0],\"xaxis\":\"x\",\"y\":[1748134200.0,1433854864.0,1328722794.0,1292935897.0,1148258224.0,1135772799.0,1072413963.0,1042520711.0,1015392272.0,986894640.0,984846267.0,948061550.0,928790543.0,910526981.0,894039076.0,890069413.0,874496193.0,849102856.0,809439099.0,743025593.0,737628605.0,734868047.0,705166350.0,676680557.0,675524642.0,671133378.0,666980024.0,641575131.0,635063875.0,617500281.0,600867516.0,597923379.0,579620923.0,578536735.0,571059887.0,558241137.0,547862775.0,544401889.0,540644566.0,537890267.0,514837547.0,511404566.0,508996336.0,505163454.0,494602516.0,493144660.0,489326372.0,488986787.0,488461394.0,487127828.0,469586270.0,451156389.0,442999518.0,439213485.0,438068425.0,429290136.0,424987477.0,417507776.0,410663443.0,397938302.0,397729388.0,390258283.0,388858449.0,385893340.0,377986200.0,377599142.0,376072059.0,369076069.0,368214888.0,364537546.0,363195589.0,360004754.0,355945209.0,351530715.0,349837368.0,346258539.0,341514650.0,337592267.0,336385488.0,332807404.0,329870992.0,314319861.0,311774938.0,310561724.0,308056280.0,304803696.0,301456852.0,299326618.0,296168316.0,285154618.0,281333876.0,279656424.0,279327887.0,277899733.0,277381584.0,274101190.0,273964806.0,267416460.0,267416460.0,265522281.0,265212467.0,260033359.0,251000000.0,249566162.0,245632750.0,243993951.0,239146162.0,238374190.0,238325007.0,235740705.0,233502914.0,232976036.0,231021746.0,230660018.0,230569776.0,224000000.0,222831065.0,221002906.0,220780051.0,220098020.0,219169424.0,214953905.0,212249198.0,211979256.0,196400000.0,195408305.0,194104185.0,192541256.0,191887208.0,191014965.0,188500000.0,186727774.0,186268174.0,184486852.0,183477501.0,180700000.0,179115534.0,178731369.0,175647629.0,172383055.0,169713881.0,168902025.0,167916633.0,167194805.0,166192091.0,164949716.0,161900902.0,160812429.0,160650494.0,160300000.0,157370736.0,156297061.0,155355920.0,155270083.0,154041804.0,154041804.0,153880341.0,151685793.0,150802233.0,150241723.0,144757447.0,144519367.0,143388614.0,141751370.0,140466405.0,137903624.0,137570720.0,136562435.0,135930148.0,135194085.0,130315681.0,130103952.0,129276941.0,128733800.0,128733800.0,128314513.0,128169619.0,123617305.0,123542162.0,122981799.0,121499665.0,120796009.0,119640401.0,119155503.0,118151347.0,115863783.0,114247755.0,113885873.0,113453132.0,112962083.0,112459006.0,112459006.0,112459006.0,112459006.0,111626121.0,111626121.0,111626121.0,110328374.0,109804632.0,109461378.0,108778347.0,108514727.0,108428499.0,105783360.0,105783360.0,102878928.0,102534881.0,100429371.0,99946489.0,98696741.0,96123083.0,93477717.0,92217355.0,91974557.0,90808837.0,89052444.0,88577874.0,87234389.0,86856088.0,85569212.0,85008658.0,84827316.0,82815558.0,80378084.0,78750817.0,78589701.0,77551594.0,77441110.0,76951861.0,75135571.0,75135571.0,73406855.0,73336398.0,72525156.0,71493015.0,71487563.0,71377412.0,70936470.0,70720921.0,70720921.0,70497035.0,69989730.0,69738840.0,69650646.0,69531134.0,68345423.0,67241171.0,66357930.0,65422946.0,61989781.0,61985431.0,61011757.0,61011757.0,60230839.0,60230839.0,59531958.0,59240813.0,59240813.0,59114085.0,58264973.0,58259017.0,57986320.0,57910690.0,57507355.0,56763758.0,56249176.0,56002056.0,55440387.0,55275291.0,54393749.0,53978477.0,53954323.0,53532576.0,53461527.0,52737201.0,51648359.0,51648359.0,51648359.0,51126600.0,50818912.0,50652284.0,50332450.0,50131391.0,49877913.0,49452927.0,49026186.0,49026186.0,48069880.0,47849187.0,47698495.0,47182803.0,46235001.0,46209222.0,45421224.0,45411620.0,45080579.0,45000000.0,44100903.0,43018913.0,42907734.0,42586606.0,41647574.0,41123210.0,40885196.0,40424681.0,39823958.0,39716717.0,38587268.0,37844516.0,37255916.0,36627518.0,36118378.0,35538560.0,35520063.0,35343694.0,35129909.0,35098356.0,34567606.0,34108587.0,33870970.0,33847393.0,33735965.0,33306268.0,32295262.0,31295121.0,31239258.0,30369970.0,29695362.0,29400000.0,28673154.0,28469033.0,28393687.0,28031715.0,28026383.0,27588512.0,27508505.0,26800758.0,26704591.0,26255763.0,25887177.0,25584304.0,25073978.0,24973540.0,24973540.0,24787173.0,24787173.0,24528919.0,24154026.0,22897191.0,22548122.0,22531552.0,22200192.0,20572749.0,20572749.0,19820335.0,19535492.0,19043870.0,19043870.0,18909910.0,18752858.0,18585047.0,18575965.0,18330757.0,17983283.0,17425450.0,16961644.0,16344729.0,16344729.0,15965567.0,15852177.0,15187434.0,14758389.0,14477051.0,13993548.0,13943049.0,13874967.0,13718031.0,13553285.0,13543388.0,13374700.0,13266661.0,13257000.0,13147416.0,12971021.0,12966716.0,12837989.0,12130045.0,11827794.0,11792945.0,10959900.0,10883171.0,10671512.0,9650000.0,9596747.0,9575290.0,9083763.0,8495213.0,7955193.0,7831707.0,7778100.0,7621440.0,7473836.0,7271262.0,7018988.0,6433427.0,5900000.0,5882226.0,5688141.0,5361206.0,5310140.0,4863840.0,4856688.0,4856688.0,4769209.0,4445044.0,4361428.0,3684450.0,3500366.0,3320293.0,3239723.0,3039258.0,2982519.0,2599159.0,2502141.0,2295028.0,1495262.0,1387585.0,791973.0,791973.0,724277.0,554855.0,438663.0,426759.0,362298.0,-75000.0,-100000.0,-127908.0,-175000.0,-290000.0,-300000.0,-300000.0,-300000.0,-344952.0,-355548.0,-407362.0,-498178.0,-498222.0,-499472.0,-500000.0,-500000.0,-500000.0,-500000.0,-500000.0,-600000.0,-701214.0,-842984.0,-850000.0,-903266.0,-950000.0,-989043.0,-999974.0,-1000000.0,-1000000.0,-1100000.0,-1109906.0,-1163244.0,-1300000.0,-1370105.0,-1401194.0,-1493763.0,-1500000.0,-1726991.0,-1800000.0,-1906067.0,-2000000.0,-2000000.0,-2000000.0,-2016404.0,-2100000.0,-2100000.0,-2100000.0,-2165047.0,-2240304.0,-2241201.0,-2476980.0,-2500000.0,-2500000.0,-2645770.0,-2669000.0,-2685806.0,-2898227.0,-2952531.0,-3000000.0,-3000000.0,-3000000.0,-3000000.0,-3282693.0,-3317305.0,-3330352.0,-3387928.0,-3459378.0,-3532394.0,-3606799.0,-3995673.0,-4000000.0,-4000000.0,-4488226.0,-4572344.0,-4590954.0,-4783045.0,-4946670.0,-4977042.0,-5000000.0,-5000000.0,-5318904.0,-5319748.0,-5436920.0,-5471532.0,-5575869.0,-5575869.0,-5575869.0,-5802779.0,-6000000.0,-6093183.0,-6093183.0,-6093183.0,-6186011.0,-6206261.0,-6279530.0,-6283172.0,-6496851.0,-6540817.0,-7114952.0,-7467428.0,-7500000.0,-7634502.0,-7658782.0,-7786905.0,-7955803.0,-8000000.0,-8290461.0,-8361798.0,-8815745.0,-8957417.0,-8998758.0,-9036316.0,-9046114.0,-9046114.0,-9274508.0,-9406527.0,-9424629.0,-9441946.0,-9500000.0,-9734717.0,-10000000.0,-10306691.0,-10319750.0,-10400026.0,-10876140.0,-11046681.0,-11361700.0,-11378812.0,-11414584.0,-11684491.0,-11912207.0,-12000000.0,-12276380.0,-13263335.0,-13444823.0,-13627243.0,-13746179.0,-13804762.0,-13851422.0,-13906275.0,-14252559.0,-14252559.0,-14252559.0,-14252559.0,-14278659.0,-14712583.0,-14968025.0,-14996529.0,-14997885.0,-15243588.0,-16623557.0,-16800490.0,-16835850.0,-17032254.0,-17690392.0,-17905047.0,-17934980.0,-18000000.0,-18000000.0,-18296719.0,-18296719.0,-18326623.0,-19245699.0,-19528031.0,-19702589.0,-19903179.0,-20000000.0,-20747239.0,-20982604.0,-21213248.0,-21228655.0,-21405773.0,-23076041.0,-23076041.0,-23083131.0,-23283185.0,-23733302.0,-23779510.0,-24118255.0,-24908884.0,-25684211.0,-26278012.0,-26643867.0,-26746567.0,-26762748.0,-29351401.0,-29603866.0,-29936195.0,-30651554.0,-32402031.0,-32642313.0,-33396176.0,-33485675.0,-33658175.0,-34946101.0,-35369664.0,-35977304.0,-38336215.0,-39536270.0,-43225568.0,-43467226.0,-44373310.0,-44926294.0,-49318920.0,-50334996.0,-50923322.0,-61583254.0,-63357202.0,-64483721.0,-69533984.0,-90000000.0,-106900000.0,-200237650.0],\"yaxis\":\"y\",\"type\":\"scattergl\"},{\"customdata\":[[\"Frozen\"],[\"Minions\"],[\"Incredibles 2\"],[\"Despicable Me 3\"],[\"Despicable Me 2\"],[\"Zootopia\"],[\"Toy Story 3\"],[\"Finding Dory\"],[\"The Secret Life of Pets\"],[\"The Jungle Book\"],[\"Ice Age: Continental Drift\"],[\"Inside Out\"],[\"Coco\"],[\"Madagascar 3: Europe's Most Wanted\"],[\"Shrek Forever After\"],[\"Sing\"],[\"Monsters University\"],[\"Kung Fu Panda 2\"],[\"Moana\"],[\"Big Hero 6\"],[\"Despicable Me\"],[\"How to Train Your Dragon 2\"],[\"Hotel Transylvania 3: Summer Vacation\"],[\"The Smurfs\"],[\"The Croods\"],[\"Puss in Boots\"],[\"Lucy\"],[\"The Lego Movie\"],[\"Rio\"],[\"How to Train Your Dragon: The Hidden World\"],[\"Hotel Transylvania 2\"],[\"The Boss Baby\"],[\"Kung Fu Panda 3\"],[\"Brave\"],[\"Rio 2\"],[\"Cars 2\"],[\"Wreck-It Ralph\"],[\"How to Train Your Dragon\"],[\"Tangled\"],[\"Tarzan\"],[\"Ice Age: Collision Course\"],[\"Peter Rabbit\"],[\"Hotel Transylvania\"],[\"The Angry Birds Movie\"],[\"Alvin and the Chipmunks: Chipwrecked\"],[\"Home\"],[\"Home\"],[\"The Adventures of Tintin\"],[\"The Smurfs 2\"],[\"The SpongeBob Movie: Sponge Out of Water\"],[\"Penguins of Madagascar\"],[\"The Lego Batman Movie\"],[\"Dinosaur\"],[\"Dinosaur\"],[\"Trolls\"],[\"Cars 3\"],[\"Cloudy with a Chance of Meatballs 2\"],[\"Megamind\"],[\"Snow White and the Seven Dwarfs\"],[\"Ferdinand\"],[\"The Emoji Movie\"],[\"Epic\"],[\"Rise of the Guardians\"],[\"Alvin and the Chipmunks: The Road Chip\"],[\"Turbo\"],[\"The Peanuts Movie\"],[\"The Good Dinosaur\"],[\"Smurfs: The Lost Village\"],[\"Smallfoot\"],[\"Hop\"],[\"Mr. Peabody & Sherman\"],[\"Yogi Bear\"],[\"Christopher Robin\"],[\"Sausage Party\"],[\"Dragon Ball Super: Broly\"],[\"Storks\"],[\"Rango\"],[\"The Nut Job\"],[\"Captain Underpants: The First Epic Movie\"],[\"Pinocchio\"],[\"The Pirates! Band of Misfits\"],[\"The Illusionist\"],[\"Arthur Christmas\"],[\"Free Birds\"],[\"The Lego Ninjago Movie\"],[\"The Boxtrolls\"],[\"Tag\"],[\"ParaNorman\"],[\"The Book of Life\"],[\"Home\"],[\"Home\"],[\"The Star\"],[\"Frankenweenie\"],[\"Legend of the Guardians: The Owls of Ga'Hoole\"],[\"As Above, So Below\"],[\"The Secret Life of Pets 2\"],[\"Thunder and the House of Magic\"],[\"Sherlock Gnomes\"],[\"The Guardian\"],[\"The Little Prince\"],[\"Happy Feet Two\"],[\"Kubo and the Two Strings\"],[\"White Fang\"],[\"Winnie the Pooh\"],[\"The Nut Job 2: Nutty by Nature\"],[\"The Jungle Book\"],[\"The Apostle\"],[\"Wonder Park\"],[\"Zambezia\"],[\"Norm of the North\"],[\"Khumba\"],[\"A Monster Calls\"],[\"Underdogs\"],[\"The Lion of Judah\"],[\"Wings\"],[\"Anomalisa\"],[\"Eden\"],[\"The Cave\"],[\"Early Man\"],[\"Henry & Me\"],[\"A.C.O.R.N.S.: Operation Crackdown\"],[\"Lost and Found\"],[\"The House\"],[\"Jungle Shuffle\"],[\"Home\"],[\"Home\"],[\"Pinocchio\"],[\"Dwegons and Leprechauns\"],[\"UglyDolls\"],[\"Sgt. Stubby: An American Hero\"],[\"Zoom\"],[\"Sahara\"],[\"Bilal: A New Breed of Hero\"],[\"Space Pirate Captain Harlock\"],[\"Rock Dog\"],[\"Foodfight!\"],[\"Mars Needs Moms\"]],\"hovertemplate\":\"Genre=Animation<br>Runtime=%{x}<br>Profit in 100M=%{y}<br>Budget=%{marker.size}<br>title=%{customdata[0]}<extra></extra>\",\"legendgroup\":\"Animation\",\"marker\":{\"color\":\"#FFA15A\",\"size\":[150000000.0,74000000.0,200000000.0,75000000.0,76000000.0,150000000.0,200000000.0,200000000.0,75000000.0,175000000.0,95000000.0,175000000.0,175000000.0,145000000.0,165000000.0,75000000.0,200000000.0,150000000.0,150000000.0,165000000.0,69000000.0,145000000.0,65000000.0,110000000.0,135000000.0,130000000.0,40000000.0,60000000.0,90000000.0,129000000.0,80000000.0,125000000.0,140000000.0,185000000.0,130000000.0,200000000.0,165000000.0,165000000.0,260000000.0,145000000.0,105000000.0,50000000.0,85000000.0,73000000.0,80000000.0,130000000.0,130000000.0,130000000.0,110000000.0,74000000.0,132000000.0,80000000.0,127500000.0,127500000.0,125000000.0,175000000.0,78000000.0,130000000.0,1488000.0,111000000.0,50000000.0,100000000.0,145000000.0,90000000.0,135000000.0,99000000.0,187500000.0,60000000.0,80000000.0,63000000.0,145000000.0,80000000.0,75000000.0,19000000.0,8500000.0,70000000.0,135000000.0,30000000.0,38000000.0,2289247.0,55000000.0,16500000.0,85000000.0,55000000.0,70000000.0,60000000.0,28000000.0,60000000.0,50000000.0,500000.0,500000.0,20000000.0,39000000.0,100000000.0,5000000.0,80000000.0,34000000.0,59000000.0,70000000.0,77500000.0,135000000.0,55000000.0,14000000.0,30000000.0,40000000.0,27000000.0,5000000.0,100000000.0,20000000.0,18000000.0,15000000.0,43000000.0,2500000.0,1500000.0,2000000.0,8000000.0,2300000.0,30000000.0,50000000.0,5000000.0,8500000.0,14000000.0,40000000.0,10000000.0,12000000.0,12000000.0,45000000.0,20000000.0,45000000.0,25000000.0,35000000.0,145000000.0,30000000.0,30000000.0,60000000.0,45000000.0,150000000.0],\"sizemode\":\"area\",\"sizeref\":1026500.0,\"symbol\":\"circle\"},\"mode\":\"markers\",\"name\":\"Animation\",\"showlegend\":true,\"x\":[102.0,91.0,118.0,89.0,98.0,108.0,103.0,97.0,87.0,64.0,88.0,95.0,105.0,93.0,93.0,108.0,104.0,90.0,107.0,102.0,95.0,102.0,97.0,103.0,98.0,90.0,9.0,100.0,96.0,104.0,89.0,97.0,95.0,93.0,101.0,106.0,101.0,98.0,100.0,94.0,94.0,95.0,91.0,97.0,87.0,94.0,35.0,107.0,105.0,92.0,92.0,104.0,5.0,77.0,92.0,102.0,95.0,95.0,49.0,108.0,86.0,102.0,97.0,92.0,96.0,88.0,93.0,90.0,96.0,95.0,92.0,80.0,104.0,89.0,100.0,87.0,107.0,85.0,89.0,75.0,88.0,80.0,97.0,91.0,101.0,96.0,76.0,92.0,95.0,35.0,94.0,86.0,87.0,97.0,10.0,86.0,85.0,86.0,93.0,108.0,100.0,101.0,85.0,63.0,91.0,64.0,80.0,85.0,83.0,90.0,85.0,108.0,106.0,87.0,84.0,90.0,90.0,15.0,89.0,67.0,83.0,111.0,72.0,85.0,35.0,94.0,75.0,98.0,87.0,84.0,96.0,86.0,105.0,100.0,90.0,91.0,88.0],\"xaxis\":\"x\",\"y\":[1122469910.0,1086336173.0,1042520711.0,959727750.0,899216835.0,869429616.0,868879522.0,821215193.0,811750534.0,787854547.0,784765137.0,679235992.0,623008101.0,601921271.0,591244673.0,559454789.0,543588329.0,514837547.0,487517365.0,487127828.0,474464573.0,469586270.0,462079962.0,453749323.0,438068425.0,424987477.0,417507776.0,397729388.0,397519809.0,390258283.0,389500298.0,385878762.0,377599142.0,369606532.0,362846291.0,360155383.0,331511521.0,329870992.0,326477240.0,303191819.0,297156682.0,297136477.0,293505812.0,279327887.0,269088523.0,255997896.0,255997896.0,243993951.0,238547523.0,237013181.0,234942531.0,230660018.0,228648063.0,228648063.0,219150134.0,208541369.0,196392649.0,191887208.0,183437486.0,178847930.0,166562312.0,162794441.0,161900902.0,159517956.0,151896578.0,151091610.0,146271037.0,137578586.0,133691277.0,125657593.0,124806430.0,124774690.0,122504758.0,122344255.0,114247755.0,113353431.0,110724600.0,92529966.0,88577874.0,82010753.0,81143605.0,67292062.0,64717124.0,55387072.0,52737201.0,51946251.0,49026186.0,48119662.0,47651543.0,44293168.0,44293168.0,42758010.0,42150788.0,39716717.0,36824066.0,33351496.0,28582520.0,28527651.0,24973540.0,24528919.0,22956466.0,22548122.0,20729091.0,20145607.0,17438389.0,17342956.0,16277770.0,15149422.0,14454336.0,12535660.0,5898221.0,3414530.0,-1107351.0,-1500000.0,-2000000.0,-2293832.0,-2300000.0,-2852009.0,-4714110.0,-5000000.0,-7146713.0,-7447745.0,-8807575.0,-9639102.0,-12000000.0,-12000000.0,-13318189.0,-20000000.0,-20355336.0,-21354043.0,-22493812.0,-23328075.0,-29351401.0,-29689015.0,-35851512.0,-44926294.0,-110450242.0],\"yaxis\":\"y\",\"type\":\"scattergl\"},{\"customdata\":[[\"Frozen\"],[\"Beauty and the Beast\"],[\"Beauty and the Beast\"],[\"Beauty and the Beast\"],[\"Aquaman\"],[\"Alice in Wonderland\"],[\"Alice in Wonderland\"],[\"The Hobbit: An Unexpected Journey\"],[\"The Hobbit: The Desolation of Smaug\"],[\"The Hobbit: The Battle of the Five Armies\"],[\"Wonder Woman\"],[\"The Twilight Saga: Eclipse\"],[\"Pirates of the Caribbean: On Stranger Tides\"],[\"Fantastic Beasts and Where to Find Them\"],[\"Batman v Superman: Dawn of Justice\"],[\"Beauty and the Beast\"],[\"Beauty and the Beast\"],[\"Beauty and the Beast\"],[\"Suicide Squad\"],[\"Pirates of the Caribbean: Dead Men Tell No Tales\"],[\"Doctor Strange\"],[\"Ted\"],[\"Life of Pi\"],[\"Ghost\"],[\"Thor: The Dark World\"],[\"Fantastic Beasts: The Crimes of Grindelwald\"],[\"Cinderella\"],[\"Cinderella\"],[\"Kong: Skull Island\"],[\"Clash of the Titans\"],[\"Justice League\"],[\"The Mummy\"],[\"The Mask\"],[\"Thor\"],[\"Oz the Great and Powerful\"],[\"Split\"],[\"Warcraft\"],[\"Ghostbusters\"],[\"The Chronicles of Narnia: The Voyage of the Dawn Treader\"],[\"Cinderella\"],[\"Cinderella\"],[\"300: Rise of an Empire\"],[\"The Mummy\"],[\"Mary Poppins Returns\"],[\"The Great Wall\"],[\"Tomb Raider\"],[\"Hercules\"],[\"The Shape of Water\"],[\"Dumbo\"],[\"Hansel & Gretel: Witch Hunters\"],[\"Wrath of the Titans\"],[\"Dracula Untold\"],[\"Hercules\"],[\"Immortals\"],[\"Midnight in Paris\"],[\"Godzilla: King of the Monsters\"],[\"Percy Jackson & the Olympians: The Lightning Thief\"],[\"Solo: A Star Wars Story\"],[\"The Woman in Black\"],[\"Percy Jackson: Sea of Monsters\"],[\"Alice Through the Looking Glass\"],[\"Ghost Rider: Spirit of Vengeance\"],[\"Dark Shadows\"],[\"Ghostbusters\"],[\"Pinocchio\"],[\"Evil Dead\"],[\"About Time\"],[\"Abraham Lincoln: Vampire Hunter\"],[\"Earth\"],[\"If I Stay\"],[\"Tooth Fairy\"],[\"The BFG\"],[\"Conan the Barbarian\"],[\"Hereafter\"],[\"A Haunted House\"],[\"The Dark Tower\"],[\"Season of the Witch\"],[\"The Last Witch Hunter\"],[\"What Men Want\"],[\"Red Riding Hood\"],[\"Tag\"],[\"Alpha\"],[\"Krampus\"],[\"Underworld: Blood Wars\"],[\"Beowulf\"],[\"One Day\"],[\"Legion\"],[\"Winchester\"],[\"Hellboy\"],[\"The Age of Adaline\"],[\"The Nutcracker and the Four Realms\"],[\"Valerian and the City of a Thousand Planets\"],[\"The Forest\"],[\"A Wrinkle in Time\"],[\"Clash of the Titans\"],[\"The Night Before\"],[\"The Tree of Life\"],[\"The Guardian\"],[\"Love the Coopers\"],[\"Priest\"],[\"The Change-Up\"],[\"The Bye Bye Man\"],[\"The Circle\"],[\"New in Town\"],[\"Beasts of the Southern Wild\"],[\"Beastly\"],[\"Crimson Peak\"],[\"Ender's Game\"],[\"A Haunted House 2\"],[\"The Mortal Instruments: City of Bones\"],[\"Sorry to Bother You\"],[\"Sucker Punch\"],[\"Don't Be Afraid of the Dark\"],[\"Before I Fall\"],[\"Seventh Son\"],[\"Do You Believe?\"],[\"Wish Upon\"],[\"Beautiful Creatures\"],[\"Pulse\"],[\"I, Frankenstein\"],[\"Let Me In\"],[\"Viy\"],[\"Sardaar Ji\"],[\"Left Behind\"],[\"Charlie St. Cloud\"],[\"Animal Kingdom\"],[\"A Monster Calls\"],[\"Cirque du Soleil: Worlds Away\"],[\"Jack the Giant Slayer\"],[\"A Ghost Story\"],[\"The Wall\"],[\"Vampires\"],[\"The Future\"],[\"Holy Motors\"],[\"Rubber\"],[\"Lovesick\"],[\"Lost River\"],[\"November\"],[\"Western Religion\"],[\"The Looking Glass\"],[\"Escape from Tomorrow\"],[\"The Brass Teapot\"],[\"After\"],[\"Bang Bang Baby\"],[\"Gods of Egypt\"],[\"The Lost Medallion: The Adventures of Billy Stone\"],[\"The Ghastly Love of Johnny X\"],[\"Alice in Wonderland\"],[\"Alice in Wonderland\"],[\"Red Lights\"],[\"Wonderland\"],[\"Wonderland\"],[\"The Final Girls\"],[\"Mandy\"],[\"The Incredible Burt Wonderstone\"],[\"Yoga Hosers\"],[\"Gracie\"],[\"Animals\"],[\"Twixt\"],[\"Showtime\"],[\"The Wolfman\"],[\"It's a Wonderful Afterlife\"],[\"Drive Angry\"],[\"Hellboy\"],[\"The Young Messiah\"],[\"Triangle\"],[\"The Legend of Hercules\"],[\"A Little Bit of Heaven\"],[\"Suspiria\"],[\"Pinocchio\"],[\"Left Behind\"],[\"Mortal Engines\"],[\"Wolves\"],[\"Survivor\"],[\"The Tempest\"],[\"Upside Down\"],[\"Your Highness\"],[\"The Adventurer: The Curse of the Midas Box\"],[\"Conan the Barbarian\"],[\"The Warrior's Way\"],[\"Jonah Hex\"],[\"Nomad\"],[\"The Nutcracker in 3D\"],[\"Bright\"]],\"hovertemplate\":\"Genre=Fantasy<br>Runtime=%{x}<br>Profit in 100M=%{y}<br>Budget=%{marker.size}<br>title=%{customdata[0]}<extra></extra>\",\"legendgroup\":\"Fantasy\",\"marker\":{\"color\":\"#19d3f3\",\"size\":[150000000.0,160000000.0,160000000.0,160000000.0,160000000.0,200000000.0,200000000.0,250000000.0,250000000.0,250000000.0,150000000.0,68000000.0,410600000.0,180000000.0,250000000.0,20000000.0,20000000.0,20000000.0,175000000.0,230000000.0,165000000.0,50000000.0,120000000.0,22000000.0,150000000.0,200000000.0,95000000.0,95000000.0,185000000.0,125000000.0,300000000.0,80000000.0,18000000.0,150000000.0,200000000.0,5000000.0,160000000.0,30000000.0,155000000.0,2900000.0,2900000.0,110000000.0,195000000.0,130000000.0,150000000.0,90000000.0,70000000.0,19500000.0,170000000.0,50000000.0,150000000.0,70000000.0,100000000.0,75000000.0,30000000.0,170000000.0,95000000.0,275000000.0,15000000.0,90000000.0,170000000.0,57000000.0,150000000.0,144000000.0,2289247.0,17000000.0,12000000.0,67500000.0,47000000.0,11000000.0,48000000.0,140000000.0,20000000.0,50000000.0,2500000.0,60000000.0,40000000.0,80000000.0,20000000.0,42000000.0,28000000.0,51000000.0,15000000.0,35000000.0,150000000.0,15000000.0,26000000.0,3500000.0,60000000.0,30000000.0,132900000.0,180000000.0,10000000.0,103000000.0,15000000.0,25000000.0,35000000.0,70000000.0,18000000.0,60000000.0,52000000.0,7400000.0,18000000.0,8000000.0,1800000.0,17000000.0,55000000.0,110000000.0,4000000.0,60000000.0,3200000.0,75000000.0,25000000.0,5000000.0,95000000.0,2300000.0,12000000.0,50000000.0,20500000.0,65000000.0,20000000.0,26000000.0,2700000.0,16000000.0,44000000.0,4200000.0,43000000.0,25000000.0,195000000.0,100000.0,3000000.0,20000000.0,1000000.0,4000000.0,500000.0,10100000.0,2000000.0,250000.0,250000.0,300000.0,650000.0,900000.0,650000.0,1000000.0,140000000.0,2500000.0,2000000.0,3000000.0,3000000.0,17700000.0,5500000.0,5500000.0,4500000.0,6000000.0,32000000.0,5000000.0,9000000.0,5500000.0,7000000.0,85000000.0,150000000.0,10000000.0,50000000.0,50000000.0,16800000.0,12000000.0,70000000.0,12500000.0,20000000.0,45000000.0,18500000.0,100000000.0,18000000.0,20000000.0,20000000.0,50000000.0,50000000.0,25000000.0,90000000.0,42000000.0,47000000.0,40000000.0,90000000.0,90000000.0],\"sizemode\":\"area\",\"sizeref\":1026500.0,\"symbol\":\"circle\"},\"mode\":\"markers\",\"name\":\"Fantasy\",\"showlegend\":true,\"x\":[92.0,60.0,112.0,129.0,143.0,108.0,99.0,169.0,161.0,144.0,141.0,124.0,136.0,132.0,151.0,129.0,60.0,112.0,123.0,129.0,115.0,106.0,127.0,115.0,112.0,134.0,105.0,113.0,118.0,106.0,120.0,110.0,139.0,115.0,130.0,127.0,123.0,116.0,113.0,105.0,113.0,102.0,110.0,130.0,103.0,119.0,98.0,123.0,112.0,88.0,99.0,92.0,98.0,110.0,94.0,132.0,118.0,135.0,95.0,106.0,113.0,96.0,113.0,116.0,75.0,91.0,123.0,105.0,64.0,107.0,101.0,117.0,113.0,129.0,86.0,95.0,95.0,106.0,117.0,100.0,85.0,90.0,98.0,91.0,80.0,118.0,100.0,99.0,120.0,112.0,99.0,137.0,109.0,109.0,106.0,101.0,139.0,93.0,107.0,87.0,112.0,96.0,144.0,95.0,93.0,86.0,119.0,114.0,86.0,130.0,111.0,110.0,99.0,98.0,102.0,71.0,90.0,124.0,84.0,92.0,116.0,127.0,141.0,110.0,99.0,121.0,108.0,91.0,114.0,92.0,108.0,88.0,91.0,115.0,82.0,90.0,95.0,115.0,105.0,80.0,90.0,101.0,90.0,90.0,127.0,97.0,106.0,108.0,99.0,114.0,120.0,80.0,88.0,121.0,100.0,88.0,71.0,94.0,88.0,100.0,103.0,100.0,104.0,120.0,111.0,62.0,99.0,106.0,152.0,75.0,110.0,128.0,91.0,93.0,110.0,109.0,102.0,100.0,113.0,100.0,81.0,115.0,110.0,117.0],\"xaxis\":\"x\",\"y\":[1122469910.0,1099199706.0,1099199706.0,1099199706.0,986894640.0,825491110.0,825491110.0,767003568.0,710366855.0,695577621.0,671133378.0,638102828.0,635063875.0,622402853.0,617500281.0,588431132.0,588431132.0,588431132.0,571059887.0,558241137.0,511404566.0,506016627.0,500912003.0,495600000.0,494602516.0,452220086.0,439551353.0,439551353.0,376072059.0,368214888.0,355945209.0,336385488.0,333620129.0,299326618.0,290359051.0,273964806.0,265522281.0,265212467.0,263186950.0,260691415.0,260691415.0,220780051.0,214953905.0,211528518.0,184486852.0,183477501.0,180700000.0,176290794.0,175004422.0,164949716.0,155270083.0,150241723.0,143388614.0,136562435.0,132502774.0,129276941.0,128050874.0,118151347.0,113955898.0,110859554.0,106928112.0,92217355.0,88202668.0,85008658.0,82010753.0,80778356.0,77309178.0,69989730.0,69773317.0,67356170.0,64610386.0,59646680.0,59114085.0,58660270.0,57422558.0,53461527.0,51126600.0,50818912.0,49911903.0,49678442.0,49026186.0,48624873.0,46788393.0,46209222.0,45080579.0,44168692.0,41647574.0,40878040.0,39823958.0,38984536.0,37393899.0,35098356.0,30749230.0,30401882.0,29400000.0,27427346.0,26721826.0,24973540.0,24227490.0,24154026.0,23997067.0,23787727.0,22651864.0,21937909.0,21465132.0,21028230.0,19966854.0,17983283.0,17206861.0,15965567.0,15085560.0,14758389.0,14126427.0,13945682.0,13874967.0,12004931.0,11477345.0,10282876.0,9741435.0,9575290.0,8270399.0,8246770.0,5500000.0,4769209.0,4478084.0,3878683.0,3414530.0,3012862.0,2687603.0,2669782.0,1495262.0,268825.0,239174.0,230426.0,180914.0,43618.0,9644.0,-58138.0,-250000.0,-298289.0,-478038.0,-486267.0,-650000.0,-1000000.0,-1163244.0,-1950368.0,-1997564.0,-3000000.0,-3000000.0,-3181116.0,-4439488.0,-4439488.0,-4500000.0,-4572344.0,-4607391.0,-4977042.0,-5077957.0,-5500000.0,-5731654.0,-6051235.0,-7365642.0,-8357061.0,-8957417.0,-9274508.0,-9486303.0,-10405045.0,-11046681.0,-11399713.0,-12965385.0,-13318189.0,-14278659.0,-14712583.0,-17905047.0,-18296719.0,-19722057.0,-23612961.0,-23878362.0,-25000000.0,-26643867.0,-33485675.0,-35977304.0,-39920877.0,-69533984.0,-90000000.0],\"yaxis\":\"y\",\"type\":\"scattergl\"}],                        {\"template\":{\"data\":{\"histogram2dcontour\":[{\"type\":\"histogram2dcontour\",\"colorbar\":{\"outlinewidth\":0,\"ticks\":\"\"},\"colorscale\":[[0.0,\"#0d0887\"],[0.1111111111111111,\"#46039f\"],[0.2222222222222222,\"#7201a8\"],[0.3333333333333333,\"#9c179e\"],[0.4444444444444444,\"#bd3786\"],[0.5555555555555556,\"#d8576b\"],[0.6666666666666666,\"#ed7953\"],[0.7777777777777778,\"#fb9f3a\"],[0.8888888888888888,\"#fdca26\"],[1.0,\"#f0f921\"]]}],\"choropleth\":[{\"type\":\"choropleth\",\"colorbar\":{\"outlinewidth\":0,\"ticks\":\"\"}}],\"histogram2d\":[{\"type\":\"histogram2d\",\"colorbar\":{\"outlinewidth\":0,\"ticks\":\"\"},\"colorscale\":[[0.0,\"#0d0887\"],[0.1111111111111111,\"#46039f\"],[0.2222222222222222,\"#7201a8\"],[0.3333333333333333,\"#9c179e\"],[0.4444444444444444,\"#bd3786\"],[0.5555555555555556,\"#d8576b\"],[0.6666666666666666,\"#ed7953\"],[0.7777777777777778,\"#fb9f3a\"],[0.8888888888888888,\"#fdca26\"],[1.0,\"#f0f921\"]]}],\"heatmap\":[{\"type\":\"heatmap\",\"colorbar\":{\"outlinewidth\":0,\"ticks\":\"\"},\"colorscale\":[[0.0,\"#0d0887\"],[0.1111111111111111,\"#46039f\"],[0.2222222222222222,\"#7201a8\"],[0.3333333333333333,\"#9c179e\"],[0.4444444444444444,\"#bd3786\"],[0.5555555555555556,\"#d8576b\"],[0.6666666666666666,\"#ed7953\"],[0.7777777777777778,\"#fb9f3a\"],[0.8888888888888888,\"#fdca26\"],[1.0,\"#f0f921\"]]}],\"heatmapgl\":[{\"type\":\"heatmapgl\",\"colorbar\":{\"outlinewidth\":0,\"ticks\":\"\"},\"colorscale\":[[0.0,\"#0d0887\"],[0.1111111111111111,\"#46039f\"],[0.2222222222222222,\"#7201a8\"],[0.3333333333333333,\"#9c179e\"],[0.4444444444444444,\"#bd3786\"],[0.5555555555555556,\"#d8576b\"],[0.6666666666666666,\"#ed7953\"],[0.7777777777777778,\"#fb9f3a\"],[0.8888888888888888,\"#fdca26\"],[1.0,\"#f0f921\"]]}],\"contourcarpet\":[{\"type\":\"contourcarpet\",\"colorbar\":{\"outlinewidth\":0,\"ticks\":\"\"}}],\"contour\":[{\"type\":\"contour\",\"colorbar\":{\"outlinewidth\":0,\"ticks\":\"\"},\"colorscale\":[[0.0,\"#0d0887\"],[0.1111111111111111,\"#46039f\"],[0.2222222222222222,\"#7201a8\"],[0.3333333333333333,\"#9c179e\"],[0.4444444444444444,\"#bd3786\"],[0.5555555555555556,\"#d8576b\"],[0.6666666666666666,\"#ed7953\"],[0.7777777777777778,\"#fb9f3a\"],[0.8888888888888888,\"#fdca26\"],[1.0,\"#f0f921\"]]}],\"surface\":[{\"type\":\"surface\",\"colorbar\":{\"outlinewidth\":0,\"ticks\":\"\"},\"colorscale\":[[0.0,\"#0d0887\"],[0.1111111111111111,\"#46039f\"],[0.2222222222222222,\"#7201a8\"],[0.3333333333333333,\"#9c179e\"],[0.4444444444444444,\"#bd3786\"],[0.5555555555555556,\"#d8576b\"],[0.6666666666666666,\"#ed7953\"],[0.7777777777777778,\"#fb9f3a\"],[0.8888888888888888,\"#fdca26\"],[1.0,\"#f0f921\"]]}],\"mesh3d\":[{\"type\":\"mesh3d\",\"colorbar\":{\"outlinewidth\":0,\"ticks\":\"\"}}],\"scatter\":[{\"fillpattern\":{\"fillmode\":\"overlay\",\"size\":10,\"solidity\":0.2},\"type\":\"scatter\"}],\"parcoords\":[{\"type\":\"parcoords\",\"line\":{\"colorbar\":{\"outlinewidth\":0,\"ticks\":\"\"}}}],\"scatterpolargl\":[{\"type\":\"scatterpolargl\",\"marker\":{\"colorbar\":{\"outlinewidth\":0,\"ticks\":\"\"}}}],\"bar\":[{\"error_x\":{\"color\":\"#2a3f5f\"},\"error_y\":{\"color\":\"#2a3f5f\"},\"marker\":{\"line\":{\"color\":\"#E5ECF6\",\"width\":0.5},\"pattern\":{\"fillmode\":\"overlay\",\"size\":10,\"solidity\":0.2}},\"type\":\"bar\"}],\"scattergeo\":[{\"type\":\"scattergeo\",\"marker\":{\"colorbar\":{\"outlinewidth\":0,\"ticks\":\"\"}}}],\"scatterpolar\":[{\"type\":\"scatterpolar\",\"marker\":{\"colorbar\":{\"outlinewidth\":0,\"ticks\":\"\"}}}],\"histogram\":[{\"marker\":{\"pattern\":{\"fillmode\":\"overlay\",\"size\":10,\"solidity\":0.2}},\"type\":\"histogram\"}],\"scattergl\":[{\"type\":\"scattergl\",\"marker\":{\"colorbar\":{\"outlinewidth\":0,\"ticks\":\"\"}}}],\"scatter3d\":[{\"type\":\"scatter3d\",\"line\":{\"colorbar\":{\"outlinewidth\":0,\"ticks\":\"\"}},\"marker\":{\"colorbar\":{\"outlinewidth\":0,\"ticks\":\"\"}}}],\"scattermapbox\":[{\"type\":\"scattermapbox\",\"marker\":{\"colorbar\":{\"outlinewidth\":0,\"ticks\":\"\"}}}],\"scatterternary\":[{\"type\":\"scatterternary\",\"marker\":{\"colorbar\":{\"outlinewidth\":0,\"ticks\":\"\"}}}],\"scattercarpet\":[{\"type\":\"scattercarpet\",\"marker\":{\"colorbar\":{\"outlinewidth\":0,\"ticks\":\"\"}}}],\"carpet\":[{\"aaxis\":{\"endlinecolor\":\"#2a3f5f\",\"gridcolor\":\"white\",\"linecolor\":\"white\",\"minorgridcolor\":\"white\",\"startlinecolor\":\"#2a3f5f\"},\"baxis\":{\"endlinecolor\":\"#2a3f5f\",\"gridcolor\":\"white\",\"linecolor\":\"white\",\"minorgridcolor\":\"white\",\"startlinecolor\":\"#2a3f5f\"},\"type\":\"carpet\"}],\"table\":[{\"cells\":{\"fill\":{\"color\":\"#EBF0F8\"},\"line\":{\"color\":\"white\"}},\"header\":{\"fill\":{\"color\":\"#C8D4E3\"},\"line\":{\"color\":\"white\"}},\"type\":\"table\"}],\"barpolar\":[{\"marker\":{\"line\":{\"color\":\"#E5ECF6\",\"width\":0.5},\"pattern\":{\"fillmode\":\"overlay\",\"size\":10,\"solidity\":0.2}},\"type\":\"barpolar\"}],\"pie\":[{\"automargin\":true,\"type\":\"pie\"}]},\"layout\":{\"autotypenumbers\":\"strict\",\"colorway\":[\"#636efa\",\"#EF553B\",\"#00cc96\",\"#ab63fa\",\"#FFA15A\",\"#19d3f3\",\"#FF6692\",\"#B6E880\",\"#FF97FF\",\"#FECB52\"],\"font\":{\"color\":\"#2a3f5f\"},\"hovermode\":\"closest\",\"hoverlabel\":{\"align\":\"left\"},\"paper_bgcolor\":\"white\",\"plot_bgcolor\":\"#E5ECF6\",\"polar\":{\"bgcolor\":\"#E5ECF6\",\"angularaxis\":{\"gridcolor\":\"white\",\"linecolor\":\"white\",\"ticks\":\"\"},\"radialaxis\":{\"gridcolor\":\"white\",\"linecolor\":\"white\",\"ticks\":\"\"}},\"ternary\":{\"bgcolor\":\"#E5ECF6\",\"aaxis\":{\"gridcolor\":\"white\",\"linecolor\":\"white\",\"ticks\":\"\"},\"baxis\":{\"gridcolor\":\"white\",\"linecolor\":\"white\",\"ticks\":\"\"},\"caxis\":{\"gridcolor\":\"white\",\"linecolor\":\"white\",\"ticks\":\"\"}},\"coloraxis\":{\"colorbar\":{\"outlinewidth\":0,\"ticks\":\"\"}},\"colorscale\":{\"sequential\":[[0.0,\"#0d0887\"],[0.1111111111111111,\"#46039f\"],[0.2222222222222222,\"#7201a8\"],[0.3333333333333333,\"#9c179e\"],[0.4444444444444444,\"#bd3786\"],[0.5555555555555556,\"#d8576b\"],[0.6666666666666666,\"#ed7953\"],[0.7777777777777778,\"#fb9f3a\"],[0.8888888888888888,\"#fdca26\"],[1.0,\"#f0f921\"]],\"sequentialminus\":[[0.0,\"#0d0887\"],[0.1111111111111111,\"#46039f\"],[0.2222222222222222,\"#7201a8\"],[0.3333333333333333,\"#9c179e\"],[0.4444444444444444,\"#bd3786\"],[0.5555555555555556,\"#d8576b\"],[0.6666666666666666,\"#ed7953\"],[0.7777777777777778,\"#fb9f3a\"],[0.8888888888888888,\"#fdca26\"],[1.0,\"#f0f921\"]],\"diverging\":[[0,\"#8e0152\"],[0.1,\"#c51b7d\"],[0.2,\"#de77ae\"],[0.3,\"#f1b6da\"],[0.4,\"#fde0ef\"],[0.5,\"#f7f7f7\"],[0.6,\"#e6f5d0\"],[0.7,\"#b8e186\"],[0.8,\"#7fbc41\"],[0.9,\"#4d9221\"],[1,\"#276419\"]]},\"xaxis\":{\"gridcolor\":\"white\",\"linecolor\":\"white\",\"ticks\":\"\",\"title\":{\"standoff\":15},\"zerolinecolor\":\"white\",\"automargin\":true,\"zerolinewidth\":2},\"yaxis\":{\"gridcolor\":\"white\",\"linecolor\":\"white\",\"ticks\":\"\",\"title\":{\"standoff\":15},\"zerolinecolor\":\"white\",\"automargin\":true,\"zerolinewidth\":2},\"scene\":{\"xaxis\":{\"backgroundcolor\":\"#E5ECF6\",\"gridcolor\":\"white\",\"linecolor\":\"white\",\"showbackground\":true,\"ticks\":\"\",\"zerolinecolor\":\"white\",\"gridwidth\":2},\"yaxis\":{\"backgroundcolor\":\"#E5ECF6\",\"gridcolor\":\"white\",\"linecolor\":\"white\",\"showbackground\":true,\"ticks\":\"\",\"zerolinecolor\":\"white\",\"gridwidth\":2},\"zaxis\":{\"backgroundcolor\":\"#E5ECF6\",\"gridcolor\":\"white\",\"linecolor\":\"white\",\"showbackground\":true,\"ticks\":\"\",\"zerolinecolor\":\"white\",\"gridwidth\":2}},\"shapedefaults\":{\"line\":{\"color\":\"#2a3f5f\"}},\"annotationdefaults\":{\"arrowcolor\":\"#2a3f5f\",\"arrowhead\":0,\"arrowwidth\":1},\"geo\":{\"bgcolor\":\"white\",\"landcolor\":\"#E5ECF6\",\"subunitcolor\":\"white\",\"showland\":true,\"showlakes\":true,\"lakecolor\":\"white\"},\"title\":{\"x\":0.05},\"mapbox\":{\"style\":\"light\"}}},\"xaxis\":{\"anchor\":\"y\",\"domain\":[0.0,1.0],\"title\":{\"text\":\"Runtime\"}},\"yaxis\":{\"anchor\":\"x\",\"domain\":[0.0,1.0],\"title\":{\"text\":\"Profit in 100M\"}},\"legend\":{\"title\":{\"text\":\"Genre\"},\"tracegroupgap\":0,\"itemsizing\":\"constant\"},\"margin\":{\"t\":60},\"title\":{\"font\":{\"size\":20},\"text\":\"Runtime vs. Profit of Movie per Genre\"},\"font\":{\"size\":14}},                        {\"responsive\": true}                    ).then(function(){\n",
       "                            \n",
       "var gd = document.getElementById('610a794d-3b6c-43ad-831d-6831d422b4ea');\n",
       "var x = new MutationObserver(function (mutations, observer) {{\n",
       "        var display = window.getComputedStyle(gd).display;\n",
       "        if (!display || display === 'none') {{\n",
       "            console.log([gd, 'removed!']);\n",
       "            Plotly.purge(gd);\n",
       "            observer.disconnect();\n",
       "        }}\n",
       "}});\n",
       "\n",
       "// Listen for the removal of the full notebook cells\n",
       "var notebookContainer = gd.closest('#notebook-container');\n",
       "if (notebookContainer) {{\n",
       "    x.observe(notebookContainer, {childList: true});\n",
       "}}\n",
       "\n",
       "// Listen for the clearing of the current output cell\n",
       "var outputEl = gd.closest('.output');\n",
       "if (outputEl) {{\n",
       "    x.observe(outputEl, {childList: true});\n",
       "}}\n",
       "\n",
       "                        })                };                });            </script>        </div>"
      ]
     },
     "metadata": {},
     "output_type": "display_data"
    }
   ],
   "source": [
    "import plotly.express as px\n",
    "df[\"genres\"] = df[\"genres\"].astype(str)\n",
    "fig = px.scatter(df, x=\"runtime_minutes\", y=\"world_profit\", color=\"genres\",\n",
    "                 hover_data=['title'], size='production_budget',\n",
    "                labels={\n",
    "                     \"genres\":\"Genre\",\n",
    "                     \"world_profit\": \"Profit in 100M\",\n",
    "                    \"runtime_minutes\": \"Runtime\",\n",
    "                    \"production_budget\" : \"Budget\"\n",
    "                 },)\n",
    "\n",
    "fig.update_layout(\n",
    "    title=dict(text=\"Runtime vs. Profit of Movie per Genre\", font=dict(size=20)),\n",
    "    font=dict(\n",
    "        size=14,)\n",
    ")\n",
    "fig.show()"
   ]
  },
  {
   "cell_type": "code",
   "execution_count": null,
   "metadata": {},
   "outputs": [],
   "source": []
  }
 ],
 "metadata": {
  "kernelspec": {
   "display_name": "Python (learn-env)",
   "language": "python",
   "name": "learn-env"
  },
  "language_info": {
   "codemirror_mode": {
    "name": "ipython",
    "version": 3
   },
   "file_extension": ".py",
   "mimetype": "text/x-python",
   "name": "python",
   "nbconvert_exporter": "python",
   "pygments_lexer": "ipython3",
   "version": "3.8.5"
  }
 },
 "nbformat": 4,
 "nbformat_minor": 4
}
