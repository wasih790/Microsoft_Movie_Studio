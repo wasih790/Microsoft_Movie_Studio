{
 "cells": [
  {
   "cell_type": "code",
   "execution_count": 71,
   "metadata": {},
   "outputs": [],
   "source": [
    "import pandas as pd\n",
    "import seaborn as sns\n",
    "import matplotlib.pyplot as plt"
   ]
  },
  {
   "cell_type": "code",
   "execution_count": 72,
   "metadata": {},
   "outputs": [],
   "source": [
    "# # taking away sci notation\n",
    "pd.set_option('display.float_format', lambda x: '%.5f' %x)"
   ]
  },
  {
   "cell_type": "code",
   "execution_count": 73,
   "metadata": {},
   "outputs": [],
   "source": [
    "df_director = pd.read_csv('movie_director_wrtier.cvs')"
   ]
  },
  {
   "cell_type": "code",
   "execution_count": 74,
   "metadata": {},
   "outputs": [
    {
     "data": {
      "text/html": [
       "<div>\n",
       "<style scoped>\n",
       "    .dataframe tbody tr th:only-of-type {\n",
       "        vertical-align: middle;\n",
       "    }\n",
       "\n",
       "    .dataframe tbody tr th {\n",
       "        vertical-align: top;\n",
       "    }\n",
       "\n",
       "    .dataframe thead th {\n",
       "        text-align: right;\n",
       "    }\n",
       "</style>\n",
       "<table border=\"1\" class=\"dataframe\">\n",
       "  <thead>\n",
       "    <tr style=\"text-align: right;\">\n",
       "      <th></th>\n",
       "      <th>Unnamed: 0</th>\n",
       "      <th>movie_id</th>\n",
       "      <th>director</th>\n",
       "      <th>primary_title</th>\n",
       "      <th>genres</th>\n",
       "      <th>start_year</th>\n",
       "      <th>averagerating</th>\n",
       "      <th>region</th>\n",
       "      <th>writers</th>\n",
       "    </tr>\n",
       "  </thead>\n",
       "  <tbody>\n",
       "    <tr>\n",
       "      <th>0</th>\n",
       "      <td>0</td>\n",
       "      <td>tt0069049</td>\n",
       "      <td>Orson Welles</td>\n",
       "      <td>The Other Side of the Wind</td>\n",
       "      <td>Drama</td>\n",
       "      <td>2018</td>\n",
       "      <td>6.90000</td>\n",
       "      <td>US</td>\n",
       "      <td>Oja Kodar</td>\n",
       "    </tr>\n",
       "    <tr>\n",
       "      <th>1</th>\n",
       "      <td>1</td>\n",
       "      <td>tt0069049</td>\n",
       "      <td>Orson Welles</td>\n",
       "      <td>The Other Side of the Wind</td>\n",
       "      <td>Drama</td>\n",
       "      <td>2018</td>\n",
       "      <td>6.90000</td>\n",
       "      <td>US</td>\n",
       "      <td>Orson Welles</td>\n",
       "    </tr>\n",
       "    <tr>\n",
       "      <th>2</th>\n",
       "      <td>2</td>\n",
       "      <td>tt0137204</td>\n",
       "      <td>Anthony Harrison</td>\n",
       "      <td>Joe Finds Grace</td>\n",
       "      <td>Adventure,Animation,Comedy</td>\n",
       "      <td>2017</td>\n",
       "      <td>8.10000</td>\n",
       "      <td>CA</td>\n",
       "      <td>Anthony Harrison</td>\n",
       "    </tr>\n",
       "    <tr>\n",
       "      <th>3</th>\n",
       "      <td>3</td>\n",
       "      <td>tt0159369</td>\n",
       "      <td>John Mulholland</td>\n",
       "      <td>Cooper and Hemingway: The True Gen</td>\n",
       "      <td>Documentary</td>\n",
       "      <td>2013</td>\n",
       "      <td>7.60000</td>\n",
       "      <td>US</td>\n",
       "      <td>John Mulholland</td>\n",
       "    </tr>\n",
       "    <tr>\n",
       "      <th>4</th>\n",
       "      <td>4</td>\n",
       "      <td>tt0192528</td>\n",
       "      <td>Stuart Paul</td>\n",
       "      <td>Heaven &amp; Hell</td>\n",
       "      <td>Drama</td>\n",
       "      <td>2018</td>\n",
       "      <td>4.00000</td>\n",
       "      <td>US</td>\n",
       "      <td>Stuart Paul</td>\n",
       "    </tr>\n",
       "    <tr>\n",
       "      <th>...</th>\n",
       "      <td>...</td>\n",
       "      <td>...</td>\n",
       "      <td>...</td>\n",
       "      <td>...</td>\n",
       "      <td>...</td>\n",
       "      <td>...</td>\n",
       "      <td>...</td>\n",
       "      <td>...</td>\n",
       "      <td>...</td>\n",
       "    </tr>\n",
       "    <tr>\n",
       "      <th>46815</th>\n",
       "      <td>77355</td>\n",
       "      <td>tt9825006</td>\n",
       "      <td>Rémi St-Michel</td>\n",
       "      <td>Avant qu'on explose</td>\n",
       "      <td>Comedy</td>\n",
       "      <td>2019</td>\n",
       "      <td>6.90000</td>\n",
       "      <td>CA</td>\n",
       "      <td>Eric K. Boulianne</td>\n",
       "    </tr>\n",
       "    <tr>\n",
       "      <th>46816</th>\n",
       "      <td>77356</td>\n",
       "      <td>tt9845398</td>\n",
       "      <td>Lucio Castro</td>\n",
       "      <td>End of the Century</td>\n",
       "      <td>Drama</td>\n",
       "      <td>2019</td>\n",
       "      <td>7.20000</td>\n",
       "      <td>US</td>\n",
       "      <td>Lucio Castro</td>\n",
       "    </tr>\n",
       "    <tr>\n",
       "      <th>46817</th>\n",
       "      <td>77357</td>\n",
       "      <td>tt9852644</td>\n",
       "      <td>Loïc Darses</td>\n",
       "      <td>La Fin des terres</td>\n",
       "      <td>Documentary</td>\n",
       "      <td>2019</td>\n",
       "      <td>7.00000</td>\n",
       "      <td>CA</td>\n",
       "      <td>Loïc Darses</td>\n",
       "    </tr>\n",
       "    <tr>\n",
       "      <th>46818</th>\n",
       "      <td>77358</td>\n",
       "      <td>tt9866344</td>\n",
       "      <td>Adib Alkhalidey</td>\n",
       "      <td>Mon Ami Walid</td>\n",
       "      <td>Comedy,Drama</td>\n",
       "      <td>2019</td>\n",
       "      <td>5.70000</td>\n",
       "      <td>CA</td>\n",
       "      <td>Adib Alkhalidey</td>\n",
       "    </tr>\n",
       "    <tr>\n",
       "      <th>46819</th>\n",
       "      <td>77359</td>\n",
       "      <td>tt9866344</td>\n",
       "      <td>Adib Alkhalidey</td>\n",
       "      <td>Mon Ami Walid</td>\n",
       "      <td>Comedy,Drama</td>\n",
       "      <td>2019</td>\n",
       "      <td>5.70000</td>\n",
       "      <td>CA</td>\n",
       "      <td>Julien Lacroix</td>\n",
       "    </tr>\n",
       "  </tbody>\n",
       "</table>\n",
       "<p>46820 rows × 9 columns</p>\n",
       "</div>"
      ],
      "text/plain": [
       "       Unnamed: 0   movie_id          director  \\\n",
       "0               0  tt0069049      Orson Welles   \n",
       "1               1  tt0069049      Orson Welles   \n",
       "2               2  tt0137204  Anthony Harrison   \n",
       "3               3  tt0159369   John Mulholland   \n",
       "4               4  tt0192528       Stuart Paul   \n",
       "...           ...        ...               ...   \n",
       "46815       77355  tt9825006    Rémi St-Michel   \n",
       "46816       77356  tt9845398      Lucio Castro   \n",
       "46817       77357  tt9852644       Loïc Darses   \n",
       "46818       77358  tt9866344   Adib Alkhalidey   \n",
       "46819       77359  tt9866344   Adib Alkhalidey   \n",
       "\n",
       "                            primary_title                      genres  \\\n",
       "0              The Other Side of the Wind                       Drama   \n",
       "1              The Other Side of the Wind                       Drama   \n",
       "2                         Joe Finds Grace  Adventure,Animation,Comedy   \n",
       "3      Cooper and Hemingway: The True Gen                 Documentary   \n",
       "4                           Heaven & Hell                       Drama   \n",
       "...                                   ...                         ...   \n",
       "46815                 Avant qu'on explose                      Comedy   \n",
       "46816                  End of the Century                       Drama   \n",
       "46817                   La Fin des terres                 Documentary   \n",
       "46818                       Mon Ami Walid                Comedy,Drama   \n",
       "46819                       Mon Ami Walid                Comedy,Drama   \n",
       "\n",
       "       start_year  averagerating region            writers  \n",
       "0            2018        6.90000     US          Oja Kodar  \n",
       "1            2018        6.90000     US       Orson Welles  \n",
       "2            2017        8.10000     CA   Anthony Harrison  \n",
       "3            2013        7.60000     US    John Mulholland  \n",
       "4            2018        4.00000     US        Stuart Paul  \n",
       "...           ...            ...    ...                ...  \n",
       "46815        2019        6.90000     CA  Eric K. Boulianne  \n",
       "46816        2019        7.20000     US       Lucio Castro  \n",
       "46817        2019        7.00000     CA        Loïc Darses  \n",
       "46818        2019        5.70000     CA    Adib Alkhalidey  \n",
       "46819        2019        5.70000     CA     Julien Lacroix  \n",
       "\n",
       "[46820 rows x 9 columns]"
      ]
     },
     "execution_count": 74,
     "metadata": {},
     "output_type": "execute_result"
    }
   ],
   "source": [
    "df_director\n",
    "# got the director for each for from sql data. "
   ]
  },
  {
   "cell_type": "code",
   "execution_count": 75,
   "metadata": {},
   "outputs": [],
   "source": [
    "profit_df = pd.read_csv('world_profit_per_six_genres.csv')"
   ]
  },
  {
   "cell_type": "code",
   "execution_count": 76,
   "metadata": {},
   "outputs": [
    {
     "data": {
      "text/html": [
       "<div>\n",
       "<style scoped>\n",
       "    .dataframe tbody tr th:only-of-type {\n",
       "        vertical-align: middle;\n",
       "    }\n",
       "\n",
       "    .dataframe tbody tr th {\n",
       "        vertical-align: top;\n",
       "    }\n",
       "\n",
       "    .dataframe thead th {\n",
       "        text-align: right;\n",
       "    }\n",
       "</style>\n",
       "<table border=\"1\" class=\"dataframe\">\n",
       "  <thead>\n",
       "    <tr style=\"text-align: right;\">\n",
       "      <th></th>\n",
       "      <th>Unnamed: 0</th>\n",
       "      <th>title</th>\n",
       "      <th>start_year</th>\n",
       "      <th>runtime_minutes</th>\n",
       "      <th>genres</th>\n",
       "      <th>id</th>\n",
       "      <th>release_date</th>\n",
       "      <th>production_budget</th>\n",
       "      <th>domestic_gross</th>\n",
       "      <th>worldwide_gross</th>\n",
       "      <th>world_profit</th>\n",
       "    </tr>\n",
       "  </thead>\n",
       "  <tbody>\n",
       "    <tr>\n",
       "      <th>0</th>\n",
       "      <td>6538</td>\n",
       "      <td>Titanic</td>\n",
       "      <td>2018</td>\n",
       "      <td>115.00000</td>\n",
       "      <td>Family</td>\n",
       "      <td>43</td>\n",
       "      <td>Dec 19, 1997</td>\n",
       "      <td>200000000.00000</td>\n",
       "      <td>659363944.00000</td>\n",
       "      <td>2208208395.00000</td>\n",
       "      <td>2008208395.00000</td>\n",
       "    </tr>\n",
       "    <tr>\n",
       "      <th>1</th>\n",
       "      <td>535</td>\n",
       "      <td>Avengers: Infinity War</td>\n",
       "      <td>2018</td>\n",
       "      <td>149.00000</td>\n",
       "      <td>Sci-Fi</td>\n",
       "      <td>7</td>\n",
       "      <td>Apr 27, 2018</td>\n",
       "      <td>300000000.00000</td>\n",
       "      <td>678815482.00000</td>\n",
       "      <td>2048134200.00000</td>\n",
       "      <td>1748134200.00000</td>\n",
       "    </tr>\n",
       "    <tr>\n",
       "      <th>2</th>\n",
       "      <td>534</td>\n",
       "      <td>Avengers: Infinity War</td>\n",
       "      <td>2018</td>\n",
       "      <td>149.00000</td>\n",
       "      <td>Adventure</td>\n",
       "      <td>7</td>\n",
       "      <td>Apr 27, 2018</td>\n",
       "      <td>300000000.00000</td>\n",
       "      <td>678815482.00000</td>\n",
       "      <td>2048134200.00000</td>\n",
       "      <td>1748134200.00000</td>\n",
       "    </tr>\n",
       "    <tr>\n",
       "      <th>3</th>\n",
       "      <td>533</td>\n",
       "      <td>Avengers: Infinity War</td>\n",
       "      <td>2018</td>\n",
       "      <td>149.00000</td>\n",
       "      <td>Action</td>\n",
       "      <td>7</td>\n",
       "      <td>Apr 27, 2018</td>\n",
       "      <td>300000000.00000</td>\n",
       "      <td>678815482.00000</td>\n",
       "      <td>2048134200.00000</td>\n",
       "      <td>1748134200.00000</td>\n",
       "    </tr>\n",
       "    <tr>\n",
       "      <th>4</th>\n",
       "      <td>2893</td>\n",
       "      <td>Jurassic World</td>\n",
       "      <td>2015</td>\n",
       "      <td>124.00000</td>\n",
       "      <td>Sci-Fi</td>\n",
       "      <td>34</td>\n",
       "      <td>Jun 12, 2015</td>\n",
       "      <td>215000000.00000</td>\n",
       "      <td>652270625.00000</td>\n",
       "      <td>1648854864.00000</td>\n",
       "      <td>1433854864.00000</td>\n",
       "    </tr>\n",
       "    <tr>\n",
       "      <th>...</th>\n",
       "      <td>...</td>\n",
       "      <td>...</td>\n",
       "      <td>...</td>\n",
       "      <td>...</td>\n",
       "      <td>...</td>\n",
       "      <td>...</td>\n",
       "      <td>...</td>\n",
       "      <td>...</td>\n",
       "      <td>...</td>\n",
       "      <td>...</td>\n",
       "      <td>...</td>\n",
       "    </tr>\n",
       "    <tr>\n",
       "      <th>1833</th>\n",
       "      <td>3350</td>\n",
       "      <td>Mars Needs Moms</td>\n",
       "      <td>2011</td>\n",
       "      <td>88.00000</td>\n",
       "      <td>Animation</td>\n",
       "      <td>94</td>\n",
       "      <td>Mar 11, 2011</td>\n",
       "      <td>150000000.00000</td>\n",
       "      <td>21392758.00000</td>\n",
       "      <td>39549758.00000</td>\n",
       "      <td>-110450242.00000</td>\n",
       "    </tr>\n",
       "    <tr>\n",
       "      <th>1834</th>\n",
       "      <td>3349</td>\n",
       "      <td>Mars Needs Moms</td>\n",
       "      <td>2011</td>\n",
       "      <td>88.00000</td>\n",
       "      <td>Adventure</td>\n",
       "      <td>94</td>\n",
       "      <td>Mar 11, 2011</td>\n",
       "      <td>150000000.00000</td>\n",
       "      <td>21392758.00000</td>\n",
       "      <td>39549758.00000</td>\n",
       "      <td>-110450242.00000</td>\n",
       "    </tr>\n",
       "    <tr>\n",
       "      <th>1835</th>\n",
       "      <td>1344</td>\n",
       "      <td>Dark Phoenix</td>\n",
       "      <td>2019</td>\n",
       "      <td>113.00000</td>\n",
       "      <td>Sci-Fi</td>\n",
       "      <td>3</td>\n",
       "      <td>Jun 7, 2019</td>\n",
       "      <td>350000000.00000</td>\n",
       "      <td>42762350.00000</td>\n",
       "      <td>149762350.00000</td>\n",
       "      <td>-200237650.00000</td>\n",
       "    </tr>\n",
       "    <tr>\n",
       "      <th>1836</th>\n",
       "      <td>1343</td>\n",
       "      <td>Dark Phoenix</td>\n",
       "      <td>2019</td>\n",
       "      <td>113.00000</td>\n",
       "      <td>Adventure</td>\n",
       "      <td>3</td>\n",
       "      <td>Jun 7, 2019</td>\n",
       "      <td>350000000.00000</td>\n",
       "      <td>42762350.00000</td>\n",
       "      <td>149762350.00000</td>\n",
       "      <td>-200237650.00000</td>\n",
       "    </tr>\n",
       "    <tr>\n",
       "      <th>1837</th>\n",
       "      <td>1342</td>\n",
       "      <td>Dark Phoenix</td>\n",
       "      <td>2019</td>\n",
       "      <td>113.00000</td>\n",
       "      <td>Action</td>\n",
       "      <td>3</td>\n",
       "      <td>Jun 7, 2019</td>\n",
       "      <td>350000000.00000</td>\n",
       "      <td>42762350.00000</td>\n",
       "      <td>149762350.00000</td>\n",
       "      <td>-200237650.00000</td>\n",
       "    </tr>\n",
       "  </tbody>\n",
       "</table>\n",
       "<p>1838 rows × 11 columns</p>\n",
       "</div>"
      ],
      "text/plain": [
       "      Unnamed: 0                   title  start_year  runtime_minutes  \\\n",
       "0           6538                 Titanic        2018        115.00000   \n",
       "1            535  Avengers: Infinity War        2018        149.00000   \n",
       "2            534  Avengers: Infinity War        2018        149.00000   \n",
       "3            533  Avengers: Infinity War        2018        149.00000   \n",
       "4           2893          Jurassic World        2015        124.00000   \n",
       "...          ...                     ...         ...              ...   \n",
       "1833        3350         Mars Needs Moms        2011         88.00000   \n",
       "1834        3349         Mars Needs Moms        2011         88.00000   \n",
       "1835        1344            Dark Phoenix        2019        113.00000   \n",
       "1836        1343            Dark Phoenix        2019        113.00000   \n",
       "1837        1342            Dark Phoenix        2019        113.00000   \n",
       "\n",
       "         genres  id  release_date  production_budget  domestic_gross  \\\n",
       "0        Family  43  Dec 19, 1997    200000000.00000 659363944.00000   \n",
       "1        Sci-Fi   7  Apr 27, 2018    300000000.00000 678815482.00000   \n",
       "2     Adventure   7  Apr 27, 2018    300000000.00000 678815482.00000   \n",
       "3        Action   7  Apr 27, 2018    300000000.00000 678815482.00000   \n",
       "4        Sci-Fi  34  Jun 12, 2015    215000000.00000 652270625.00000   \n",
       "...         ...  ..           ...                ...             ...   \n",
       "1833  Animation  94  Mar 11, 2011    150000000.00000  21392758.00000   \n",
       "1834  Adventure  94  Mar 11, 2011    150000000.00000  21392758.00000   \n",
       "1835     Sci-Fi   3   Jun 7, 2019    350000000.00000  42762350.00000   \n",
       "1836  Adventure   3   Jun 7, 2019    350000000.00000  42762350.00000   \n",
       "1837     Action   3   Jun 7, 2019    350000000.00000  42762350.00000   \n",
       "\n",
       "      worldwide_gross     world_profit  \n",
       "0    2208208395.00000 2008208395.00000  \n",
       "1    2048134200.00000 1748134200.00000  \n",
       "2    2048134200.00000 1748134200.00000  \n",
       "3    2048134200.00000 1748134200.00000  \n",
       "4    1648854864.00000 1433854864.00000  \n",
       "...               ...              ...  \n",
       "1833   39549758.00000 -110450242.00000  \n",
       "1834   39549758.00000 -110450242.00000  \n",
       "1835  149762350.00000 -200237650.00000  \n",
       "1836  149762350.00000 -200237650.00000  \n",
       "1837  149762350.00000 -200237650.00000  \n",
       "\n",
       "[1838 rows x 11 columns]"
      ]
     },
     "execution_count": 76,
     "metadata": {},
     "output_type": "execute_result"
    }
   ],
   "source": [
    "profit_df\n",
    "# got profit_df from the question 2 file"
   ]
  },
  {
   "cell_type": "code",
   "execution_count": 77,
   "metadata": {},
   "outputs": [],
   "source": [
    "#dropping columns\n",
    "profit_df = profit_df.drop('Unnamed: 0', axis=1) \n",
    "df_director = df_director.drop('Unnamed: 0', axis=1) "
   ]
  },
  {
   "cell_type": "code",
   "execution_count": 78,
   "metadata": {},
   "outputs": [
    {
     "data": {
      "text/html": [
       "<div>\n",
       "<style scoped>\n",
       "    .dataframe tbody tr th:only-of-type {\n",
       "        vertical-align: middle;\n",
       "    }\n",
       "\n",
       "    .dataframe tbody tr th {\n",
       "        vertical-align: top;\n",
       "    }\n",
       "\n",
       "    .dataframe thead th {\n",
       "        text-align: right;\n",
       "    }\n",
       "</style>\n",
       "<table border=\"1\" class=\"dataframe\">\n",
       "  <thead>\n",
       "    <tr style=\"text-align: right;\">\n",
       "      <th></th>\n",
       "      <th>title</th>\n",
       "      <th>start_year</th>\n",
       "      <th>runtime_minutes</th>\n",
       "      <th>genres</th>\n",
       "      <th>id</th>\n",
       "      <th>release_date</th>\n",
       "      <th>production_budget</th>\n",
       "      <th>domestic_gross</th>\n",
       "      <th>worldwide_gross</th>\n",
       "      <th>world_profit</th>\n",
       "    </tr>\n",
       "  </thead>\n",
       "  <tbody>\n",
       "    <tr>\n",
       "      <th>0</th>\n",
       "      <td>Titanic</td>\n",
       "      <td>2018</td>\n",
       "      <td>115.00000</td>\n",
       "      <td>Family</td>\n",
       "      <td>43</td>\n",
       "      <td>Dec 19, 1997</td>\n",
       "      <td>200000000.00000</td>\n",
       "      <td>659363944.00000</td>\n",
       "      <td>2208208395.00000</td>\n",
       "      <td>2008208395.00000</td>\n",
       "    </tr>\n",
       "    <tr>\n",
       "      <th>1</th>\n",
       "      <td>Avengers: Infinity War</td>\n",
       "      <td>2018</td>\n",
       "      <td>149.00000</td>\n",
       "      <td>Sci-Fi</td>\n",
       "      <td>7</td>\n",
       "      <td>Apr 27, 2018</td>\n",
       "      <td>300000000.00000</td>\n",
       "      <td>678815482.00000</td>\n",
       "      <td>2048134200.00000</td>\n",
       "      <td>1748134200.00000</td>\n",
       "    </tr>\n",
       "    <tr>\n",
       "      <th>2</th>\n",
       "      <td>Avengers: Infinity War</td>\n",
       "      <td>2018</td>\n",
       "      <td>149.00000</td>\n",
       "      <td>Adventure</td>\n",
       "      <td>7</td>\n",
       "      <td>Apr 27, 2018</td>\n",
       "      <td>300000000.00000</td>\n",
       "      <td>678815482.00000</td>\n",
       "      <td>2048134200.00000</td>\n",
       "      <td>1748134200.00000</td>\n",
       "    </tr>\n",
       "    <tr>\n",
       "      <th>3</th>\n",
       "      <td>Avengers: Infinity War</td>\n",
       "      <td>2018</td>\n",
       "      <td>149.00000</td>\n",
       "      <td>Action</td>\n",
       "      <td>7</td>\n",
       "      <td>Apr 27, 2018</td>\n",
       "      <td>300000000.00000</td>\n",
       "      <td>678815482.00000</td>\n",
       "      <td>2048134200.00000</td>\n",
       "      <td>1748134200.00000</td>\n",
       "    </tr>\n",
       "    <tr>\n",
       "      <th>4</th>\n",
       "      <td>Jurassic World</td>\n",
       "      <td>2015</td>\n",
       "      <td>124.00000</td>\n",
       "      <td>Sci-Fi</td>\n",
       "      <td>34</td>\n",
       "      <td>Jun 12, 2015</td>\n",
       "      <td>215000000.00000</td>\n",
       "      <td>652270625.00000</td>\n",
       "      <td>1648854864.00000</td>\n",
       "      <td>1433854864.00000</td>\n",
       "    </tr>\n",
       "  </tbody>\n",
       "</table>\n",
       "</div>"
      ],
      "text/plain": [
       "                    title  start_year  runtime_minutes     genres  id  \\\n",
       "0                 Titanic        2018        115.00000     Family  43   \n",
       "1  Avengers: Infinity War        2018        149.00000     Sci-Fi   7   \n",
       "2  Avengers: Infinity War        2018        149.00000  Adventure   7   \n",
       "3  Avengers: Infinity War        2018        149.00000     Action   7   \n",
       "4          Jurassic World        2015        124.00000     Sci-Fi  34   \n",
       "\n",
       "   release_date  production_budget  domestic_gross  worldwide_gross  \\\n",
       "0  Dec 19, 1997    200000000.00000 659363944.00000 2208208395.00000   \n",
       "1  Apr 27, 2018    300000000.00000 678815482.00000 2048134200.00000   \n",
       "2  Apr 27, 2018    300000000.00000 678815482.00000 2048134200.00000   \n",
       "3  Apr 27, 2018    300000000.00000 678815482.00000 2048134200.00000   \n",
       "4  Jun 12, 2015    215000000.00000 652270625.00000 1648854864.00000   \n",
       "\n",
       "      world_profit  \n",
       "0 2008208395.00000  \n",
       "1 1748134200.00000  \n",
       "2 1748134200.00000  \n",
       "3 1748134200.00000  \n",
       "4 1433854864.00000  "
      ]
     },
     "execution_count": 78,
     "metadata": {},
     "output_type": "execute_result"
    }
   ],
   "source": [
    "# checking drop\n",
    "profit_df.head()"
   ]
  },
  {
   "cell_type": "code",
   "execution_count": 79,
   "metadata": {},
   "outputs": [
    {
     "data": {
      "text/html": [
       "<div>\n",
       "<style scoped>\n",
       "    .dataframe tbody tr th:only-of-type {\n",
       "        vertical-align: middle;\n",
       "    }\n",
       "\n",
       "    .dataframe tbody tr th {\n",
       "        vertical-align: top;\n",
       "    }\n",
       "\n",
       "    .dataframe thead th {\n",
       "        text-align: right;\n",
       "    }\n",
       "</style>\n",
       "<table border=\"1\" class=\"dataframe\">\n",
       "  <thead>\n",
       "    <tr style=\"text-align: right;\">\n",
       "      <th></th>\n",
       "      <th>movie_id</th>\n",
       "      <th>director</th>\n",
       "      <th>primary_title</th>\n",
       "      <th>genres</th>\n",
       "      <th>start_year</th>\n",
       "      <th>averagerating</th>\n",
       "      <th>region</th>\n",
       "      <th>writers</th>\n",
       "    </tr>\n",
       "  </thead>\n",
       "  <tbody>\n",
       "    <tr>\n",
       "      <th>0</th>\n",
       "      <td>tt0069049</td>\n",
       "      <td>Orson Welles</td>\n",
       "      <td>The Other Side of the Wind</td>\n",
       "      <td>Drama</td>\n",
       "      <td>2018</td>\n",
       "      <td>6.90000</td>\n",
       "      <td>US</td>\n",
       "      <td>Oja Kodar</td>\n",
       "    </tr>\n",
       "    <tr>\n",
       "      <th>1</th>\n",
       "      <td>tt0069049</td>\n",
       "      <td>Orson Welles</td>\n",
       "      <td>The Other Side of the Wind</td>\n",
       "      <td>Drama</td>\n",
       "      <td>2018</td>\n",
       "      <td>6.90000</td>\n",
       "      <td>US</td>\n",
       "      <td>Orson Welles</td>\n",
       "    </tr>\n",
       "    <tr>\n",
       "      <th>2</th>\n",
       "      <td>tt0137204</td>\n",
       "      <td>Anthony Harrison</td>\n",
       "      <td>Joe Finds Grace</td>\n",
       "      <td>Adventure,Animation,Comedy</td>\n",
       "      <td>2017</td>\n",
       "      <td>8.10000</td>\n",
       "      <td>CA</td>\n",
       "      <td>Anthony Harrison</td>\n",
       "    </tr>\n",
       "    <tr>\n",
       "      <th>3</th>\n",
       "      <td>tt0159369</td>\n",
       "      <td>John Mulholland</td>\n",
       "      <td>Cooper and Hemingway: The True Gen</td>\n",
       "      <td>Documentary</td>\n",
       "      <td>2013</td>\n",
       "      <td>7.60000</td>\n",
       "      <td>US</td>\n",
       "      <td>John Mulholland</td>\n",
       "    </tr>\n",
       "    <tr>\n",
       "      <th>4</th>\n",
       "      <td>tt0192528</td>\n",
       "      <td>Stuart Paul</td>\n",
       "      <td>Heaven &amp; Hell</td>\n",
       "      <td>Drama</td>\n",
       "      <td>2018</td>\n",
       "      <td>4.00000</td>\n",
       "      <td>US</td>\n",
       "      <td>Stuart Paul</td>\n",
       "    </tr>\n",
       "  </tbody>\n",
       "</table>\n",
       "</div>"
      ],
      "text/plain": [
       "    movie_id          director                       primary_title  \\\n",
       "0  tt0069049      Orson Welles          The Other Side of the Wind   \n",
       "1  tt0069049      Orson Welles          The Other Side of the Wind   \n",
       "2  tt0137204  Anthony Harrison                     Joe Finds Grace   \n",
       "3  tt0159369   John Mulholland  Cooper and Hemingway: The True Gen   \n",
       "4  tt0192528       Stuart Paul                       Heaven & Hell   \n",
       "\n",
       "                       genres  start_year  averagerating region  \\\n",
       "0                       Drama        2018        6.90000     US   \n",
       "1                       Drama        2018        6.90000     US   \n",
       "2  Adventure,Animation,Comedy        2017        8.10000     CA   \n",
       "3                 Documentary        2013        7.60000     US   \n",
       "4                       Drama        2018        4.00000     US   \n",
       "\n",
       "            writers  \n",
       "0         Oja Kodar  \n",
       "1      Orson Welles  \n",
       "2  Anthony Harrison  \n",
       "3   John Mulholland  \n",
       "4       Stuart Paul  "
      ]
     },
     "execution_count": 79,
     "metadata": {},
     "output_type": "execute_result"
    }
   ],
   "source": [
    "# checking drop\n",
    "df_director.head()"
   ]
  },
  {
   "cell_type": "code",
   "execution_count": 80,
   "metadata": {},
   "outputs": [],
   "source": [
    "#dropping unused/un needed columns in df_director\n",
    "df_director = df_director.drop(['genres', 'start_year', 'movie_id', 'region'], axis=1)"
   ]
  },
  {
   "cell_type": "code",
   "execution_count": 81,
   "metadata": {},
   "outputs": [
    {
     "data": {
      "text/html": [
       "<div>\n",
       "<style scoped>\n",
       "    .dataframe tbody tr th:only-of-type {\n",
       "        vertical-align: middle;\n",
       "    }\n",
       "\n",
       "    .dataframe tbody tr th {\n",
       "        vertical-align: top;\n",
       "    }\n",
       "\n",
       "    .dataframe thead th {\n",
       "        text-align: right;\n",
       "    }\n",
       "</style>\n",
       "<table border=\"1\" class=\"dataframe\">\n",
       "  <thead>\n",
       "    <tr style=\"text-align: right;\">\n",
       "      <th></th>\n",
       "      <th>director</th>\n",
       "      <th>primary_title</th>\n",
       "      <th>averagerating</th>\n",
       "      <th>writers</th>\n",
       "    </tr>\n",
       "  </thead>\n",
       "  <tbody>\n",
       "    <tr>\n",
       "      <th>0</th>\n",
       "      <td>Orson Welles</td>\n",
       "      <td>The Other Side of the Wind</td>\n",
       "      <td>6.90000</td>\n",
       "      <td>Oja Kodar</td>\n",
       "    </tr>\n",
       "    <tr>\n",
       "      <th>1</th>\n",
       "      <td>Orson Welles</td>\n",
       "      <td>The Other Side of the Wind</td>\n",
       "      <td>6.90000</td>\n",
       "      <td>Orson Welles</td>\n",
       "    </tr>\n",
       "    <tr>\n",
       "      <th>2</th>\n",
       "      <td>Anthony Harrison</td>\n",
       "      <td>Joe Finds Grace</td>\n",
       "      <td>8.10000</td>\n",
       "      <td>Anthony Harrison</td>\n",
       "    </tr>\n",
       "    <tr>\n",
       "      <th>3</th>\n",
       "      <td>John Mulholland</td>\n",
       "      <td>Cooper and Hemingway: The True Gen</td>\n",
       "      <td>7.60000</td>\n",
       "      <td>John Mulholland</td>\n",
       "    </tr>\n",
       "    <tr>\n",
       "      <th>4</th>\n",
       "      <td>Stuart Paul</td>\n",
       "      <td>Heaven &amp; Hell</td>\n",
       "      <td>4.00000</td>\n",
       "      <td>Stuart Paul</td>\n",
       "    </tr>\n",
       "  </tbody>\n",
       "</table>\n",
       "</div>"
      ],
      "text/plain": [
       "           director                       primary_title  averagerating  \\\n",
       "0      Orson Welles          The Other Side of the Wind        6.90000   \n",
       "1      Orson Welles          The Other Side of the Wind        6.90000   \n",
       "2  Anthony Harrison                     Joe Finds Grace        8.10000   \n",
       "3   John Mulholland  Cooper and Hemingway: The True Gen        7.60000   \n",
       "4       Stuart Paul                       Heaven & Hell        4.00000   \n",
       "\n",
       "            writers  \n",
       "0         Oja Kodar  \n",
       "1      Orson Welles  \n",
       "2  Anthony Harrison  \n",
       "3   John Mulholland  \n",
       "4       Stuart Paul  "
      ]
     },
     "execution_count": 81,
     "metadata": {},
     "output_type": "execute_result"
    }
   ],
   "source": [
    "# checking the drop\n",
    "df_director.head()"
   ]
  },
  {
   "cell_type": "code",
   "execution_count": 82,
   "metadata": {},
   "outputs": [],
   "source": [
    "# joining director with profit columns with a new variable df\n",
    "df = df_director.set_index('primary_title').join(profit_df.set_index('title'), how='inner')"
   ]
  },
  {
   "cell_type": "code",
   "execution_count": 83,
   "metadata": {},
   "outputs": [
    {
     "data": {
      "text/html": [
       "<div>\n",
       "<style scoped>\n",
       "    .dataframe tbody tr th:only-of-type {\n",
       "        vertical-align: middle;\n",
       "    }\n",
       "\n",
       "    .dataframe tbody tr th {\n",
       "        vertical-align: top;\n",
       "    }\n",
       "\n",
       "    .dataframe thead th {\n",
       "        text-align: right;\n",
       "    }\n",
       "</style>\n",
       "<table border=\"1\" class=\"dataframe\">\n",
       "  <thead>\n",
       "    <tr style=\"text-align: right;\">\n",
       "      <th></th>\n",
       "      <th>director</th>\n",
       "      <th>averagerating</th>\n",
       "      <th>writers</th>\n",
       "      <th>start_year</th>\n",
       "      <th>runtime_minutes</th>\n",
       "      <th>genres</th>\n",
       "      <th>id</th>\n",
       "      <th>release_date</th>\n",
       "      <th>production_budget</th>\n",
       "      <th>domestic_gross</th>\n",
       "      <th>worldwide_gross</th>\n",
       "      <th>world_profit</th>\n",
       "    </tr>\n",
       "  </thead>\n",
       "  <tbody>\n",
       "    <tr>\n",
       "      <th>12 Strong</th>\n",
       "      <td>Nicolai Fuglsig</td>\n",
       "      <td>6.60000</td>\n",
       "      <td>Ted Tally</td>\n",
       "      <td>2018</td>\n",
       "      <td>130.00000</td>\n",
       "      <td>Action</td>\n",
       "      <td>64</td>\n",
       "      <td>Jan 19, 2018</td>\n",
       "      <td>35000000.00000</td>\n",
       "      <td>45819713.00000</td>\n",
       "      <td>71118378.00000</td>\n",
       "      <td>36118378.00000</td>\n",
       "    </tr>\n",
       "    <tr>\n",
       "      <th>12 Strong</th>\n",
       "      <td>Nicolai Fuglsig</td>\n",
       "      <td>6.60000</td>\n",
       "      <td>Peter Craig</td>\n",
       "      <td>2018</td>\n",
       "      <td>130.00000</td>\n",
       "      <td>Action</td>\n",
       "      <td>64</td>\n",
       "      <td>Jan 19, 2018</td>\n",
       "      <td>35000000.00000</td>\n",
       "      <td>45819713.00000</td>\n",
       "      <td>71118378.00000</td>\n",
       "      <td>36118378.00000</td>\n",
       "    </tr>\n",
       "    <tr>\n",
       "      <th>12 Strong</th>\n",
       "      <td>Nicolai Fuglsig</td>\n",
       "      <td>6.60000</td>\n",
       "      <td>Doug Stanton</td>\n",
       "      <td>2018</td>\n",
       "      <td>130.00000</td>\n",
       "      <td>Action</td>\n",
       "      <td>64</td>\n",
       "      <td>Jan 19, 2018</td>\n",
       "      <td>35000000.00000</td>\n",
       "      <td>45819713.00000</td>\n",
       "      <td>71118378.00000</td>\n",
       "      <td>36118378.00000</td>\n",
       "    </tr>\n",
       "    <tr>\n",
       "      <th>127 Hours</th>\n",
       "      <td>Danny Boyle</td>\n",
       "      <td>7.60000</td>\n",
       "      <td>Danny Boyle</td>\n",
       "      <td>2010</td>\n",
       "      <td>94.00000</td>\n",
       "      <td>Adventure</td>\n",
       "      <td>6</td>\n",
       "      <td>Nov 5, 2010</td>\n",
       "      <td>18000000.00000</td>\n",
       "      <td>18335230.00000</td>\n",
       "      <td>60217171.00000</td>\n",
       "      <td>42217171.00000</td>\n",
       "    </tr>\n",
       "    <tr>\n",
       "      <th>127 Hours</th>\n",
       "      <td>Danny Boyle</td>\n",
       "      <td>7.60000</td>\n",
       "      <td>Simon Beaufoy</td>\n",
       "      <td>2010</td>\n",
       "      <td>94.00000</td>\n",
       "      <td>Adventure</td>\n",
       "      <td>6</td>\n",
       "      <td>Nov 5, 2010</td>\n",
       "      <td>18000000.00000</td>\n",
       "      <td>18335230.00000</td>\n",
       "      <td>60217171.00000</td>\n",
       "      <td>42217171.00000</td>\n",
       "    </tr>\n",
       "    <tr>\n",
       "      <th>...</th>\n",
       "      <td>...</td>\n",
       "      <td>...</td>\n",
       "      <td>...</td>\n",
       "      <td>...</td>\n",
       "      <td>...</td>\n",
       "      <td>...</td>\n",
       "      <td>...</td>\n",
       "      <td>...</td>\n",
       "      <td>...</td>\n",
       "      <td>...</td>\n",
       "      <td>...</td>\n",
       "      <td>...</td>\n",
       "    </tr>\n",
       "    <tr>\n",
       "      <th>Zootopia</th>\n",
       "      <td>Byron Howard</td>\n",
       "      <td>8.00000</td>\n",
       "      <td>Jennifer Lee</td>\n",
       "      <td>2016</td>\n",
       "      <td>108.00000</td>\n",
       "      <td>Adventure</td>\n",
       "      <td>57</td>\n",
       "      <td>Mar 4, 2016</td>\n",
       "      <td>150000000.00000</td>\n",
       "      <td>341268248.00000</td>\n",
       "      <td>1019429616.00000</td>\n",
       "      <td>869429616.00000</td>\n",
       "    </tr>\n",
       "    <tr>\n",
       "      <th>xXx: Return of Xander Cage</th>\n",
       "      <td>D.J. Caruso</td>\n",
       "      <td>5.20000</td>\n",
       "      <td>Rich Wilkes</td>\n",
       "      <td>2017</td>\n",
       "      <td>107.00000</td>\n",
       "      <td>Action</td>\n",
       "      <td>15</td>\n",
       "      <td>Jan 20, 2017</td>\n",
       "      <td>85000000.00000</td>\n",
       "      <td>44898413.00000</td>\n",
       "      <td>345033359.00000</td>\n",
       "      <td>260033359.00000</td>\n",
       "    </tr>\n",
       "    <tr>\n",
       "      <th>xXx: Return of Xander Cage</th>\n",
       "      <td>D.J. Caruso</td>\n",
       "      <td>5.20000</td>\n",
       "      <td>Rich Wilkes</td>\n",
       "      <td>2017</td>\n",
       "      <td>107.00000</td>\n",
       "      <td>Adventure</td>\n",
       "      <td>15</td>\n",
       "      <td>Jan 20, 2017</td>\n",
       "      <td>85000000.00000</td>\n",
       "      <td>44898413.00000</td>\n",
       "      <td>345033359.00000</td>\n",
       "      <td>260033359.00000</td>\n",
       "    </tr>\n",
       "    <tr>\n",
       "      <th>xXx: Return of Xander Cage</th>\n",
       "      <td>D.J. Caruso</td>\n",
       "      <td>5.20000</td>\n",
       "      <td>F. Scott Frazier</td>\n",
       "      <td>2017</td>\n",
       "      <td>107.00000</td>\n",
       "      <td>Action</td>\n",
       "      <td>15</td>\n",
       "      <td>Jan 20, 2017</td>\n",
       "      <td>85000000.00000</td>\n",
       "      <td>44898413.00000</td>\n",
       "      <td>345033359.00000</td>\n",
       "      <td>260033359.00000</td>\n",
       "    </tr>\n",
       "    <tr>\n",
       "      <th>xXx: Return of Xander Cage</th>\n",
       "      <td>D.J. Caruso</td>\n",
       "      <td>5.20000</td>\n",
       "      <td>F. Scott Frazier</td>\n",
       "      <td>2017</td>\n",
       "      <td>107.00000</td>\n",
       "      <td>Adventure</td>\n",
       "      <td>15</td>\n",
       "      <td>Jan 20, 2017</td>\n",
       "      <td>85000000.00000</td>\n",
       "      <td>44898413.00000</td>\n",
       "      <td>345033359.00000</td>\n",
       "      <td>260033359.00000</td>\n",
       "    </tr>\n",
       "  </tbody>\n",
       "</table>\n",
       "<p>5560 rows × 12 columns</p>\n",
       "</div>"
      ],
      "text/plain": [
       "                                   director  averagerating           writers  \\\n",
       "12 Strong                   Nicolai Fuglsig        6.60000         Ted Tally   \n",
       "12 Strong                   Nicolai Fuglsig        6.60000       Peter Craig   \n",
       "12 Strong                   Nicolai Fuglsig        6.60000      Doug Stanton   \n",
       "127 Hours                       Danny Boyle        7.60000       Danny Boyle   \n",
       "127 Hours                       Danny Boyle        7.60000     Simon Beaufoy   \n",
       "...                                     ...            ...               ...   \n",
       "Zootopia                       Byron Howard        8.00000      Jennifer Lee   \n",
       "xXx: Return of Xander Cage      D.J. Caruso        5.20000       Rich Wilkes   \n",
       "xXx: Return of Xander Cage      D.J. Caruso        5.20000       Rich Wilkes   \n",
       "xXx: Return of Xander Cage      D.J. Caruso        5.20000  F. Scott Frazier   \n",
       "xXx: Return of Xander Cage      D.J. Caruso        5.20000  F. Scott Frazier   \n",
       "\n",
       "                            start_year  runtime_minutes     genres  id  \\\n",
       "12 Strong                         2018        130.00000     Action  64   \n",
       "12 Strong                         2018        130.00000     Action  64   \n",
       "12 Strong                         2018        130.00000     Action  64   \n",
       "127 Hours                         2010         94.00000  Adventure   6   \n",
       "127 Hours                         2010         94.00000  Adventure   6   \n",
       "...                                ...              ...        ...  ..   \n",
       "Zootopia                          2016        108.00000  Adventure  57   \n",
       "xXx: Return of Xander Cage        2017        107.00000     Action  15   \n",
       "xXx: Return of Xander Cage        2017        107.00000  Adventure  15   \n",
       "xXx: Return of Xander Cage        2017        107.00000     Action  15   \n",
       "xXx: Return of Xander Cage        2017        107.00000  Adventure  15   \n",
       "\n",
       "                            release_date  production_budget  domestic_gross  \\\n",
       "12 Strong                   Jan 19, 2018     35000000.00000  45819713.00000   \n",
       "12 Strong                   Jan 19, 2018     35000000.00000  45819713.00000   \n",
       "12 Strong                   Jan 19, 2018     35000000.00000  45819713.00000   \n",
       "127 Hours                    Nov 5, 2010     18000000.00000  18335230.00000   \n",
       "127 Hours                    Nov 5, 2010     18000000.00000  18335230.00000   \n",
       "...                                  ...                ...             ...   \n",
       "Zootopia                     Mar 4, 2016    150000000.00000 341268248.00000   \n",
       "xXx: Return of Xander Cage  Jan 20, 2017     85000000.00000  44898413.00000   \n",
       "xXx: Return of Xander Cage  Jan 20, 2017     85000000.00000  44898413.00000   \n",
       "xXx: Return of Xander Cage  Jan 20, 2017     85000000.00000  44898413.00000   \n",
       "xXx: Return of Xander Cage  Jan 20, 2017     85000000.00000  44898413.00000   \n",
       "\n",
       "                            worldwide_gross    world_profit  \n",
       "12 Strong                    71118378.00000  36118378.00000  \n",
       "12 Strong                    71118378.00000  36118378.00000  \n",
       "12 Strong                    71118378.00000  36118378.00000  \n",
       "127 Hours                    60217171.00000  42217171.00000  \n",
       "127 Hours                    60217171.00000  42217171.00000  \n",
       "...                                     ...             ...  \n",
       "Zootopia                   1019429616.00000 869429616.00000  \n",
       "xXx: Return of Xander Cage  345033359.00000 260033359.00000  \n",
       "xXx: Return of Xander Cage  345033359.00000 260033359.00000  \n",
       "xXx: Return of Xander Cage  345033359.00000 260033359.00000  \n",
       "xXx: Return of Xander Cage  345033359.00000 260033359.00000  \n",
       "\n",
       "[5560 rows x 12 columns]"
      ]
     },
     "execution_count": 83,
     "metadata": {},
     "output_type": "execute_result"
    }
   ],
   "source": [
    "# checking the join\n",
    "df"
   ]
  },
  {
   "cell_type": "code",
   "execution_count": 84,
   "metadata": {},
   "outputs": [],
   "source": [
    "# reset index \n",
    "df.reset_index(inplace = True)"
   ]
  },
  {
   "cell_type": "code",
   "execution_count": 85,
   "metadata": {},
   "outputs": [
    {
     "data": {
      "text/html": [
       "<div>\n",
       "<style scoped>\n",
       "    .dataframe tbody tr th:only-of-type {\n",
       "        vertical-align: middle;\n",
       "    }\n",
       "\n",
       "    .dataframe tbody tr th {\n",
       "        vertical-align: top;\n",
       "    }\n",
       "\n",
       "    .dataframe thead th {\n",
       "        text-align: right;\n",
       "    }\n",
       "</style>\n",
       "<table border=\"1\" class=\"dataframe\">\n",
       "  <thead>\n",
       "    <tr style=\"text-align: right;\">\n",
       "      <th></th>\n",
       "      <th>index</th>\n",
       "      <th>director</th>\n",
       "      <th>averagerating</th>\n",
       "      <th>writers</th>\n",
       "      <th>start_year</th>\n",
       "      <th>runtime_minutes</th>\n",
       "      <th>genres</th>\n",
       "      <th>id</th>\n",
       "      <th>release_date</th>\n",
       "      <th>production_budget</th>\n",
       "      <th>domestic_gross</th>\n",
       "      <th>worldwide_gross</th>\n",
       "      <th>world_profit</th>\n",
       "    </tr>\n",
       "  </thead>\n",
       "  <tbody>\n",
       "    <tr>\n",
       "      <th>0</th>\n",
       "      <td>12 Strong</td>\n",
       "      <td>Nicolai Fuglsig</td>\n",
       "      <td>6.60000</td>\n",
       "      <td>Ted Tally</td>\n",
       "      <td>2018</td>\n",
       "      <td>130.00000</td>\n",
       "      <td>Action</td>\n",
       "      <td>64</td>\n",
       "      <td>Jan 19, 2018</td>\n",
       "      <td>35000000.00000</td>\n",
       "      <td>45819713.00000</td>\n",
       "      <td>71118378.00000</td>\n",
       "      <td>36118378.00000</td>\n",
       "    </tr>\n",
       "    <tr>\n",
       "      <th>1</th>\n",
       "      <td>12 Strong</td>\n",
       "      <td>Nicolai Fuglsig</td>\n",
       "      <td>6.60000</td>\n",
       "      <td>Peter Craig</td>\n",
       "      <td>2018</td>\n",
       "      <td>130.00000</td>\n",
       "      <td>Action</td>\n",
       "      <td>64</td>\n",
       "      <td>Jan 19, 2018</td>\n",
       "      <td>35000000.00000</td>\n",
       "      <td>45819713.00000</td>\n",
       "      <td>71118378.00000</td>\n",
       "      <td>36118378.00000</td>\n",
       "    </tr>\n",
       "    <tr>\n",
       "      <th>2</th>\n",
       "      <td>12 Strong</td>\n",
       "      <td>Nicolai Fuglsig</td>\n",
       "      <td>6.60000</td>\n",
       "      <td>Doug Stanton</td>\n",
       "      <td>2018</td>\n",
       "      <td>130.00000</td>\n",
       "      <td>Action</td>\n",
       "      <td>64</td>\n",
       "      <td>Jan 19, 2018</td>\n",
       "      <td>35000000.00000</td>\n",
       "      <td>45819713.00000</td>\n",
       "      <td>71118378.00000</td>\n",
       "      <td>36118378.00000</td>\n",
       "    </tr>\n",
       "    <tr>\n",
       "      <th>3</th>\n",
       "      <td>127 Hours</td>\n",
       "      <td>Danny Boyle</td>\n",
       "      <td>7.60000</td>\n",
       "      <td>Danny Boyle</td>\n",
       "      <td>2010</td>\n",
       "      <td>94.00000</td>\n",
       "      <td>Adventure</td>\n",
       "      <td>6</td>\n",
       "      <td>Nov 5, 2010</td>\n",
       "      <td>18000000.00000</td>\n",
       "      <td>18335230.00000</td>\n",
       "      <td>60217171.00000</td>\n",
       "      <td>42217171.00000</td>\n",
       "    </tr>\n",
       "    <tr>\n",
       "      <th>4</th>\n",
       "      <td>127 Hours</td>\n",
       "      <td>Danny Boyle</td>\n",
       "      <td>7.60000</td>\n",
       "      <td>Simon Beaufoy</td>\n",
       "      <td>2010</td>\n",
       "      <td>94.00000</td>\n",
       "      <td>Adventure</td>\n",
       "      <td>6</td>\n",
       "      <td>Nov 5, 2010</td>\n",
       "      <td>18000000.00000</td>\n",
       "      <td>18335230.00000</td>\n",
       "      <td>60217171.00000</td>\n",
       "      <td>42217171.00000</td>\n",
       "    </tr>\n",
       "  </tbody>\n",
       "</table>\n",
       "</div>"
      ],
      "text/plain": [
       "       index         director  averagerating        writers  start_year  \\\n",
       "0  12 Strong  Nicolai Fuglsig        6.60000      Ted Tally        2018   \n",
       "1  12 Strong  Nicolai Fuglsig        6.60000    Peter Craig        2018   \n",
       "2  12 Strong  Nicolai Fuglsig        6.60000   Doug Stanton        2018   \n",
       "3  127 Hours      Danny Boyle        7.60000    Danny Boyle        2010   \n",
       "4  127 Hours      Danny Boyle        7.60000  Simon Beaufoy        2010   \n",
       "\n",
       "   runtime_minutes     genres  id  release_date  production_budget  \\\n",
       "0        130.00000     Action  64  Jan 19, 2018     35000000.00000   \n",
       "1        130.00000     Action  64  Jan 19, 2018     35000000.00000   \n",
       "2        130.00000     Action  64  Jan 19, 2018     35000000.00000   \n",
       "3         94.00000  Adventure   6   Nov 5, 2010     18000000.00000   \n",
       "4         94.00000  Adventure   6   Nov 5, 2010     18000000.00000   \n",
       "\n",
       "   domestic_gross  worldwide_gross   world_profit  \n",
       "0  45819713.00000   71118378.00000 36118378.00000  \n",
       "1  45819713.00000   71118378.00000 36118378.00000  \n",
       "2  45819713.00000   71118378.00000 36118378.00000  \n",
       "3  18335230.00000   60217171.00000 42217171.00000  \n",
       "4  18335230.00000   60217171.00000 42217171.00000  "
      ]
     },
     "execution_count": 85,
     "metadata": {},
     "output_type": "execute_result"
    }
   ],
   "source": [
    "# checking\n",
    "df.head()"
   ]
  },
  {
   "cell_type": "code",
   "execution_count": 86,
   "metadata": {},
   "outputs": [],
   "source": [
    "df = df.drop(['id','production_budget','domestic_gross','worldwide_gross','release_date'], axis=1)\n",
    "# dropping unneed columns"
   ]
  },
  {
   "cell_type": "code",
   "execution_count": 87,
   "metadata": {},
   "outputs": [],
   "source": [
    "# renaming the index column to title\n",
    "df.rename(columns = {'index' : 'title'}, inplace=True)"
   ]
  },
  {
   "cell_type": "code",
   "execution_count": 88,
   "metadata": {},
   "outputs": [
    {
     "data": {
      "text/html": [
       "<div>\n",
       "<style scoped>\n",
       "    .dataframe tbody tr th:only-of-type {\n",
       "        vertical-align: middle;\n",
       "    }\n",
       "\n",
       "    .dataframe tbody tr th {\n",
       "        vertical-align: top;\n",
       "    }\n",
       "\n",
       "    .dataframe thead th {\n",
       "        text-align: right;\n",
       "    }\n",
       "</style>\n",
       "<table border=\"1\" class=\"dataframe\">\n",
       "  <thead>\n",
       "    <tr style=\"text-align: right;\">\n",
       "      <th></th>\n",
       "      <th>title</th>\n",
       "      <th>director</th>\n",
       "      <th>averagerating</th>\n",
       "      <th>writers</th>\n",
       "      <th>start_year</th>\n",
       "      <th>runtime_minutes</th>\n",
       "      <th>genres</th>\n",
       "      <th>world_profit</th>\n",
       "    </tr>\n",
       "  </thead>\n",
       "  <tbody>\n",
       "    <tr>\n",
       "      <th>0</th>\n",
       "      <td>12 Strong</td>\n",
       "      <td>Nicolai Fuglsig</td>\n",
       "      <td>6.60000</td>\n",
       "      <td>Ted Tally</td>\n",
       "      <td>2018</td>\n",
       "      <td>130.00000</td>\n",
       "      <td>Action</td>\n",
       "      <td>36118378.00000</td>\n",
       "    </tr>\n",
       "    <tr>\n",
       "      <th>1</th>\n",
       "      <td>12 Strong</td>\n",
       "      <td>Nicolai Fuglsig</td>\n",
       "      <td>6.60000</td>\n",
       "      <td>Peter Craig</td>\n",
       "      <td>2018</td>\n",
       "      <td>130.00000</td>\n",
       "      <td>Action</td>\n",
       "      <td>36118378.00000</td>\n",
       "    </tr>\n",
       "    <tr>\n",
       "      <th>2</th>\n",
       "      <td>12 Strong</td>\n",
       "      <td>Nicolai Fuglsig</td>\n",
       "      <td>6.60000</td>\n",
       "      <td>Doug Stanton</td>\n",
       "      <td>2018</td>\n",
       "      <td>130.00000</td>\n",
       "      <td>Action</td>\n",
       "      <td>36118378.00000</td>\n",
       "    </tr>\n",
       "    <tr>\n",
       "      <th>3</th>\n",
       "      <td>127 Hours</td>\n",
       "      <td>Danny Boyle</td>\n",
       "      <td>7.60000</td>\n",
       "      <td>Danny Boyle</td>\n",
       "      <td>2010</td>\n",
       "      <td>94.00000</td>\n",
       "      <td>Adventure</td>\n",
       "      <td>42217171.00000</td>\n",
       "    </tr>\n",
       "    <tr>\n",
       "      <th>4</th>\n",
       "      <td>127 Hours</td>\n",
       "      <td>Danny Boyle</td>\n",
       "      <td>7.60000</td>\n",
       "      <td>Simon Beaufoy</td>\n",
       "      <td>2010</td>\n",
       "      <td>94.00000</td>\n",
       "      <td>Adventure</td>\n",
       "      <td>42217171.00000</td>\n",
       "    </tr>\n",
       "    <tr>\n",
       "      <th>...</th>\n",
       "      <td>...</td>\n",
       "      <td>...</td>\n",
       "      <td>...</td>\n",
       "      <td>...</td>\n",
       "      <td>...</td>\n",
       "      <td>...</td>\n",
       "      <td>...</td>\n",
       "      <td>...</td>\n",
       "    </tr>\n",
       "    <tr>\n",
       "      <th>5555</th>\n",
       "      <td>Zootopia</td>\n",
       "      <td>Byron Howard</td>\n",
       "      <td>8.00000</td>\n",
       "      <td>Jennifer Lee</td>\n",
       "      <td>2016</td>\n",
       "      <td>108.00000</td>\n",
       "      <td>Adventure</td>\n",
       "      <td>869429616.00000</td>\n",
       "    </tr>\n",
       "    <tr>\n",
       "      <th>5556</th>\n",
       "      <td>xXx: Return of Xander Cage</td>\n",
       "      <td>D.J. Caruso</td>\n",
       "      <td>5.20000</td>\n",
       "      <td>Rich Wilkes</td>\n",
       "      <td>2017</td>\n",
       "      <td>107.00000</td>\n",
       "      <td>Action</td>\n",
       "      <td>260033359.00000</td>\n",
       "    </tr>\n",
       "    <tr>\n",
       "      <th>5557</th>\n",
       "      <td>xXx: Return of Xander Cage</td>\n",
       "      <td>D.J. Caruso</td>\n",
       "      <td>5.20000</td>\n",
       "      <td>Rich Wilkes</td>\n",
       "      <td>2017</td>\n",
       "      <td>107.00000</td>\n",
       "      <td>Adventure</td>\n",
       "      <td>260033359.00000</td>\n",
       "    </tr>\n",
       "    <tr>\n",
       "      <th>5558</th>\n",
       "      <td>xXx: Return of Xander Cage</td>\n",
       "      <td>D.J. Caruso</td>\n",
       "      <td>5.20000</td>\n",
       "      <td>F. Scott Frazier</td>\n",
       "      <td>2017</td>\n",
       "      <td>107.00000</td>\n",
       "      <td>Action</td>\n",
       "      <td>260033359.00000</td>\n",
       "    </tr>\n",
       "    <tr>\n",
       "      <th>5559</th>\n",
       "      <td>xXx: Return of Xander Cage</td>\n",
       "      <td>D.J. Caruso</td>\n",
       "      <td>5.20000</td>\n",
       "      <td>F. Scott Frazier</td>\n",
       "      <td>2017</td>\n",
       "      <td>107.00000</td>\n",
       "      <td>Adventure</td>\n",
       "      <td>260033359.00000</td>\n",
       "    </tr>\n",
       "  </tbody>\n",
       "</table>\n",
       "<p>5560 rows × 8 columns</p>\n",
       "</div>"
      ],
      "text/plain": [
       "                           title         director  averagerating  \\\n",
       "0                      12 Strong  Nicolai Fuglsig        6.60000   \n",
       "1                      12 Strong  Nicolai Fuglsig        6.60000   \n",
       "2                      12 Strong  Nicolai Fuglsig        6.60000   \n",
       "3                      127 Hours      Danny Boyle        7.60000   \n",
       "4                      127 Hours      Danny Boyle        7.60000   \n",
       "...                          ...              ...            ...   \n",
       "5555                    Zootopia     Byron Howard        8.00000   \n",
       "5556  xXx: Return of Xander Cage      D.J. Caruso        5.20000   \n",
       "5557  xXx: Return of Xander Cage      D.J. Caruso        5.20000   \n",
       "5558  xXx: Return of Xander Cage      D.J. Caruso        5.20000   \n",
       "5559  xXx: Return of Xander Cage      D.J. Caruso        5.20000   \n",
       "\n",
       "               writers  start_year  runtime_minutes     genres    world_profit  \n",
       "0            Ted Tally        2018        130.00000     Action  36118378.00000  \n",
       "1          Peter Craig        2018        130.00000     Action  36118378.00000  \n",
       "2         Doug Stanton        2018        130.00000     Action  36118378.00000  \n",
       "3          Danny Boyle        2010         94.00000  Adventure  42217171.00000  \n",
       "4        Simon Beaufoy        2010         94.00000  Adventure  42217171.00000  \n",
       "...                ...         ...              ...        ...             ...  \n",
       "5555      Jennifer Lee        2016        108.00000  Adventure 869429616.00000  \n",
       "5556       Rich Wilkes        2017        107.00000     Action 260033359.00000  \n",
       "5557       Rich Wilkes        2017        107.00000  Adventure 260033359.00000  \n",
       "5558  F. Scott Frazier        2017        107.00000     Action 260033359.00000  \n",
       "5559  F. Scott Frazier        2017        107.00000  Adventure 260033359.00000  \n",
       "\n",
       "[5560 rows x 8 columns]"
      ]
     },
     "execution_count": 88,
     "metadata": {},
     "output_type": "execute_result"
    }
   ],
   "source": [
    "# checking\n",
    "df"
   ]
  },
  {
   "cell_type": "code",
   "execution_count": 89,
   "metadata": {},
   "outputs": [
    {
     "name": "stdout",
     "output_type": "stream",
     "text": [
      "0\n"
     ]
    }
   ],
   "source": [
    "# checking for duplicates\n",
    "dup = df[df.duplicated()]\n",
    "print(len(dup))"
   ]
  },
  {
   "cell_type": "code",
   "execution_count": 90,
   "metadata": {},
   "outputs": [],
   "source": [
    "# indexing for only Animation genere, groubying by the director and \n",
    "# writer for average of world_profit and average rating of the movie\n",
    "\n",
    "ani_profit = df[df['genres'] == 'Animation'].groupby(['director','writers']).mean().sort_values(by = ['world_profit','averagerating'], ascending = False)"
   ]
  },
  {
   "cell_type": "code",
   "execution_count": 91,
   "metadata": {},
   "outputs": [
    {
     "data": {
      "text/plain": [
       "(496, 4)"
      ]
     },
     "execution_count": 91,
     "metadata": {},
     "output_type": "execute_result"
    }
   ],
   "source": [
    "ani_profit.shape\n",
    "# getting the shape of dataframe"
   ]
  },
  {
   "cell_type": "code",
   "execution_count": 92,
   "metadata": {},
   "outputs": [],
   "source": [
    "# dropping the start_year because we dont need it\n",
    "ani_profit = ani_profit.drop('start_year', axis=1) "
   ]
  },
  {
   "cell_type": "code",
   "execution_count": 93,
   "metadata": {},
   "outputs": [
    {
     "data": {
      "text/html": [
       "<div>\n",
       "<style scoped>\n",
       "    .dataframe tbody tr th:only-of-type {\n",
       "        vertical-align: middle;\n",
       "    }\n",
       "\n",
       "    .dataframe tbody tr th {\n",
       "        vertical-align: top;\n",
       "    }\n",
       "\n",
       "    .dataframe thead th {\n",
       "        text-align: right;\n",
       "    }\n",
       "</style>\n",
       "<table border=\"1\" class=\"dataframe\">\n",
       "  <thead>\n",
       "    <tr style=\"text-align: right;\">\n",
       "      <th></th>\n",
       "      <th></th>\n",
       "      <th>averagerating</th>\n",
       "      <th>runtime_minutes</th>\n",
       "      <th>world_profit</th>\n",
       "    </tr>\n",
       "    <tr>\n",
       "      <th>director</th>\n",
       "      <th>writers</th>\n",
       "      <th></th>\n",
       "      <th></th>\n",
       "      <th></th>\n",
       "    </tr>\n",
       "  </thead>\n",
       "  <tbody>\n",
       "    <tr>\n",
       "      <th rowspan=\"4\" valign=\"top\">Chris Buck</th>\n",
       "      <th>Chris Buck</th>\n",
       "      <td>7.50000</td>\n",
       "      <td>102.00000</td>\n",
       "      <td>1122469910.00000</td>\n",
       "    </tr>\n",
       "    <tr>\n",
       "      <th>Hans Christian Andersen</th>\n",
       "      <td>7.50000</td>\n",
       "      <td>102.00000</td>\n",
       "      <td>1122469910.00000</td>\n",
       "    </tr>\n",
       "    <tr>\n",
       "      <th>Jennifer Lee</th>\n",
       "      <td>7.50000</td>\n",
       "      <td>102.00000</td>\n",
       "      <td>1122469910.00000</td>\n",
       "    </tr>\n",
       "    <tr>\n",
       "      <th>Shane Morris</th>\n",
       "      <td>7.50000</td>\n",
       "      <td>102.00000</td>\n",
       "      <td>1122469910.00000</td>\n",
       "    </tr>\n",
       "    <tr>\n",
       "      <th>Adam Green</th>\n",
       "      <th>Adam Green</th>\n",
       "      <td>6.20000</td>\n",
       "      <td>102.00000</td>\n",
       "      <td>1122469910.00000</td>\n",
       "    </tr>\n",
       "    <tr>\n",
       "      <th>Kyle Balda</th>\n",
       "      <th>Brian Lynch</th>\n",
       "      <td>6.40000</td>\n",
       "      <td>91.00000</td>\n",
       "      <td>1086336173.00000</td>\n",
       "    </tr>\n",
       "    <tr>\n",
       "      <th>Brad Bird</th>\n",
       "      <th>Brad Bird</th>\n",
       "      <td>7.70000</td>\n",
       "      <td>118.00000</td>\n",
       "      <td>1042520711.00000</td>\n",
       "    </tr>\n",
       "    <tr>\n",
       "      <th rowspan=\"2\" valign=\"top\">Kyle Balda</th>\n",
       "      <th>Cinco Paul</th>\n",
       "      <td>6.30000</td>\n",
       "      <td>89.00000</td>\n",
       "      <td>959727750.00000</td>\n",
       "    </tr>\n",
       "    <tr>\n",
       "      <th>Ken Daurio</th>\n",
       "      <td>6.30000</td>\n",
       "      <td>89.00000</td>\n",
       "      <td>959727750.00000</td>\n",
       "    </tr>\n",
       "    <tr>\n",
       "      <th rowspan=\"8\" valign=\"top\">Byron Howard</th>\n",
       "      <th>Byron Howard</th>\n",
       "      <td>8.00000</td>\n",
       "      <td>108.00000</td>\n",
       "      <td>869429616.00000</td>\n",
       "    </tr>\n",
       "    <tr>\n",
       "      <th>Jared Bush</th>\n",
       "      <td>8.00000</td>\n",
       "      <td>108.00000</td>\n",
       "      <td>869429616.00000</td>\n",
       "    </tr>\n",
       "    <tr>\n",
       "      <th>Jennifer Lee</th>\n",
       "      <td>8.00000</td>\n",
       "      <td>108.00000</td>\n",
       "      <td>869429616.00000</td>\n",
       "    </tr>\n",
       "    <tr>\n",
       "      <th>Jim Reardon</th>\n",
       "      <td>8.00000</td>\n",
       "      <td>108.00000</td>\n",
       "      <td>869429616.00000</td>\n",
       "    </tr>\n",
       "    <tr>\n",
       "      <th>Josie Trinidad</th>\n",
       "      <td>8.00000</td>\n",
       "      <td>108.00000</td>\n",
       "      <td>869429616.00000</td>\n",
       "    </tr>\n",
       "    <tr>\n",
       "      <th>Kellie D. Lewis</th>\n",
       "      <td>8.00000</td>\n",
       "      <td>108.00000</td>\n",
       "      <td>869429616.00000</td>\n",
       "    </tr>\n",
       "    <tr>\n",
       "      <th>Phil Johnston</th>\n",
       "      <td>8.00000</td>\n",
       "      <td>108.00000</td>\n",
       "      <td>869429616.00000</td>\n",
       "    </tr>\n",
       "    <tr>\n",
       "      <th>Rich Moore</th>\n",
       "      <td>8.00000</td>\n",
       "      <td>108.00000</td>\n",
       "      <td>869429616.00000</td>\n",
       "    </tr>\n",
       "    <tr>\n",
       "      <th rowspan=\"3\" valign=\"top\">Lee Unkrich</th>\n",
       "      <th>Andrew Stanton</th>\n",
       "      <td>8.30000</td>\n",
       "      <td>103.00000</td>\n",
       "      <td>868879522.00000</td>\n",
       "    </tr>\n",
       "    <tr>\n",
       "      <th>John Lasseter</th>\n",
       "      <td>8.30000</td>\n",
       "      <td>103.00000</td>\n",
       "      <td>868879522.00000</td>\n",
       "    </tr>\n",
       "    <tr>\n",
       "      <th>Michael Arndt</th>\n",
       "      <td>8.30000</td>\n",
       "      <td>103.00000</td>\n",
       "      <td>868879522.00000</td>\n",
       "    </tr>\n",
       "  </tbody>\n",
       "</table>\n",
       "</div>"
      ],
      "text/plain": [
       "                                      averagerating  runtime_minutes  \\\n",
       "director     writers                                                   \n",
       "Chris Buck   Chris Buck                     7.50000        102.00000   \n",
       "             Hans Christian Andersen        7.50000        102.00000   \n",
       "             Jennifer Lee                   7.50000        102.00000   \n",
       "             Shane Morris                   7.50000        102.00000   \n",
       "Adam Green   Adam Green                     6.20000        102.00000   \n",
       "Kyle Balda   Brian Lynch                    6.40000         91.00000   \n",
       "Brad Bird    Brad Bird                      7.70000        118.00000   \n",
       "Kyle Balda   Cinco Paul                     6.30000         89.00000   \n",
       "             Ken Daurio                     6.30000         89.00000   \n",
       "Byron Howard Byron Howard                   8.00000        108.00000   \n",
       "             Jared Bush                     8.00000        108.00000   \n",
       "             Jennifer Lee                   8.00000        108.00000   \n",
       "             Jim Reardon                    8.00000        108.00000   \n",
       "             Josie Trinidad                 8.00000        108.00000   \n",
       "             Kellie D. Lewis                8.00000        108.00000   \n",
       "             Phil Johnston                  8.00000        108.00000   \n",
       "             Rich Moore                     8.00000        108.00000   \n",
       "Lee Unkrich  Andrew Stanton                 8.30000        103.00000   \n",
       "             John Lasseter                  8.30000        103.00000   \n",
       "             Michael Arndt                  8.30000        103.00000   \n",
       "\n",
       "                                         world_profit  \n",
       "director     writers                                   \n",
       "Chris Buck   Chris Buck              1122469910.00000  \n",
       "             Hans Christian Andersen 1122469910.00000  \n",
       "             Jennifer Lee            1122469910.00000  \n",
       "             Shane Morris            1122469910.00000  \n",
       "Adam Green   Adam Green              1122469910.00000  \n",
       "Kyle Balda   Brian Lynch             1086336173.00000  \n",
       "Brad Bird    Brad Bird               1042520711.00000  \n",
       "Kyle Balda   Cinco Paul               959727750.00000  \n",
       "             Ken Daurio               959727750.00000  \n",
       "Byron Howard Byron Howard             869429616.00000  \n",
       "             Jared Bush               869429616.00000  \n",
       "             Jennifer Lee             869429616.00000  \n",
       "             Jim Reardon              869429616.00000  \n",
       "             Josie Trinidad           869429616.00000  \n",
       "             Kellie D. Lewis          869429616.00000  \n",
       "             Phil Johnston            869429616.00000  \n",
       "             Rich Moore               869429616.00000  \n",
       "Lee Unkrich  Andrew Stanton           868879522.00000  \n",
       "             John Lasseter            868879522.00000  \n",
       "             Michael Arndt            868879522.00000  "
      ]
     },
     "execution_count": 93,
     "metadata": {},
     "output_type": "execute_result"
    }
   ],
   "source": [
    "# Top 10 writers with the director they worked with\n",
    "ani_profit.iloc[:20]"
   ]
  },
  {
   "cell_type": "code",
   "execution_count": 94,
   "metadata": {},
   "outputs": [],
   "source": [
    "# getting the animation genre and grouping it by director\n",
    "# then we get the mean values and sort it by the profit + average rating\n",
    "#from greatest to least\n",
    "\n",
    "ani_direct_profit = df[df['genres'] == 'Animation'].groupby(['director']).mean()\\\n",
    ".sort_values(by = ['world_profit','averagerating'], ascending = False)"
   ]
  },
  {
   "cell_type": "code",
   "execution_count": 95,
   "metadata": {},
   "outputs": [],
   "source": [
    "# dropping sr=tart year because it has no use\n",
    "ani_direct_profit = ani_direct_profit.drop('start_year', axis=1) "
   ]
  },
  {
   "cell_type": "code",
   "execution_count": 96,
   "metadata": {},
   "outputs": [
    {
     "data": {
      "text/html": [
       "<div>\n",
       "<style scoped>\n",
       "    .dataframe tbody tr th:only-of-type {\n",
       "        vertical-align: middle;\n",
       "    }\n",
       "\n",
       "    .dataframe tbody tr th {\n",
       "        vertical-align: top;\n",
       "    }\n",
       "\n",
       "    .dataframe thead th {\n",
       "        text-align: right;\n",
       "    }\n",
       "</style>\n",
       "<table border=\"1\" class=\"dataframe\">\n",
       "  <thead>\n",
       "    <tr style=\"text-align: right;\">\n",
       "      <th></th>\n",
       "      <th>averagerating</th>\n",
       "      <th>runtime_minutes</th>\n",
       "      <th>world_profit</th>\n",
       "    </tr>\n",
       "    <tr>\n",
       "      <th>director</th>\n",
       "      <th></th>\n",
       "      <th></th>\n",
       "      <th></th>\n",
       "    </tr>\n",
       "  </thead>\n",
       "  <tbody>\n",
       "    <tr>\n",
       "      <th>Chris Buck</th>\n",
       "      <td>7.50000</td>\n",
       "      <td>102.00000</td>\n",
       "      <td>1122469910.00000</td>\n",
       "    </tr>\n",
       "    <tr>\n",
       "      <th>Adam Green</th>\n",
       "      <td>6.20000</td>\n",
       "      <td>102.00000</td>\n",
       "      <td>1122469910.00000</td>\n",
       "    </tr>\n",
       "    <tr>\n",
       "      <th>Brad Bird</th>\n",
       "      <td>7.70000</td>\n",
       "      <td>118.00000</td>\n",
       "      <td>1042520711.00000</td>\n",
       "    </tr>\n",
       "    <tr>\n",
       "      <th>Kyle Balda</th>\n",
       "      <td>6.33333</td>\n",
       "      <td>89.66667</td>\n",
       "      <td>1001930557.66667</td>\n",
       "    </tr>\n",
       "  </tbody>\n",
       "</table>\n",
       "</div>"
      ],
      "text/plain": [
       "            averagerating  runtime_minutes     world_profit\n",
       "director                                                   \n",
       "Chris Buck        7.50000        102.00000 1122469910.00000\n",
       "Adam Green        6.20000        102.00000 1122469910.00000\n",
       "Brad Bird         7.70000        118.00000 1042520711.00000\n",
       "Kyle Balda        6.33333         89.66667 1001930557.66667"
      ]
     },
     "execution_count": 96,
     "metadata": {},
     "output_type": "execute_result"
    }
   ],
   "source": [
    "# top 4 directors based on profit and average rating\n",
    "ani_direct_profit.iloc[:4]"
   ]
  },
  {
   "cell_type": "code",
   "execution_count": 97,
   "metadata": {
    "scrolled": false
   },
   "outputs": [
    {
     "data": {
      "image/png": "[encoded data removed]",
      "text/plain": [
       "<Figure size 864x648 with 3 Axes>"
      ]
     },
     "metadata": {
      "needs_background": "light"
     },
     "output_type": "display_data"
    }
   ],
   "source": [
    "#  Creating 3 subplots to depict average rating, runtime, and profit each director has made.\n",
    "\n",
    "fig, ax = plt.subplots(figsize = (12,9), nrows=3)\n",
    "ani_direct_profit.iloc[:4].plot(subplots= True, ax=ax)\n",
    "\n",
    "fig.suptitle('Top 4 Directors in Animation Genre', fontsize=20)\n",
    "\n",
    "ax[0].set_xlabel('Director', fontsize=13)\n",
    "ax[1].set_xlabel('Director', fontsize=13)\n",
    "ax[2].set_xlabel('Director', fontsize=13)\n",
    "\n",
    "\n",
    "ax[0].set_ylabel('Avg Rating', fontsize=13)\n",
    "ax[1].set_ylabel('Runtime in Mins', fontsize=13)\n",
    "ax[2].set_ylabel('Profit in 100M', fontsize=13)\n",
    "fig.tight_layout();  "
   ]
  },
  {
   "cell_type": "code",
   "execution_count": 98,
   "metadata": {},
   "outputs": [],
   "source": [
    "top_5 = ani_direct_profit.iloc[:5]"
   ]
  },
  {
   "cell_type": "code",
   "execution_count": 99,
   "metadata": {},
   "outputs": [],
   "source": [
    "top_5.reset_index(inplace=True)"
   ]
  },
  {
   "cell_type": "code",
   "execution_count": 100,
   "metadata": {
    "scrolled": false
   },
   "outputs": [
    {
     "data": {
      "text/html": [
       "<div>\n",
       "<style scoped>\n",
       "    .dataframe tbody tr th:only-of-type {\n",
       "        vertical-align: middle;\n",
       "    }\n",
       "\n",
       "    .dataframe tbody tr th {\n",
       "        vertical-align: top;\n",
       "    }\n",
       "\n",
       "    .dataframe thead th {\n",
       "        text-align: right;\n",
       "    }\n",
       "</style>\n",
       "<table border=\"1\" class=\"dataframe\">\n",
       "  <thead>\n",
       "    <tr style=\"text-align: right;\">\n",
       "      <th></th>\n",
       "      <th>director</th>\n",
       "      <th>averagerating</th>\n",
       "      <th>runtime_minutes</th>\n",
       "      <th>world_profit</th>\n",
       "    </tr>\n",
       "  </thead>\n",
       "  <tbody>\n",
       "    <tr>\n",
       "      <th>0</th>\n",
       "      <td>Chris Buck</td>\n",
       "      <td>7.50000</td>\n",
       "      <td>102.00000</td>\n",
       "      <td>1122469910.00000</td>\n",
       "    </tr>\n",
       "    <tr>\n",
       "      <th>1</th>\n",
       "      <td>Adam Green</td>\n",
       "      <td>6.20000</td>\n",
       "      <td>102.00000</td>\n",
       "      <td>1122469910.00000</td>\n",
       "    </tr>\n",
       "    <tr>\n",
       "      <th>2</th>\n",
       "      <td>Brad Bird</td>\n",
       "      <td>7.70000</td>\n",
       "      <td>118.00000</td>\n",
       "      <td>1042520711.00000</td>\n",
       "    </tr>\n",
       "    <tr>\n",
       "      <th>3</th>\n",
       "      <td>Kyle Balda</td>\n",
       "      <td>6.33333</td>\n",
       "      <td>89.66667</td>\n",
       "      <td>1001930557.66667</td>\n",
       "    </tr>\n",
       "    <tr>\n",
       "      <th>4</th>\n",
       "      <td>Andrew Stanton</td>\n",
       "      <td>7.30000</td>\n",
       "      <td>97.00000</td>\n",
       "      <td>821215193.00000</td>\n",
       "    </tr>\n",
       "  </tbody>\n",
       "</table>\n",
       "</div>"
      ],
      "text/plain": [
       "         director  averagerating  runtime_minutes     world_profit\n",
       "0      Chris Buck        7.50000        102.00000 1122469910.00000\n",
       "1      Adam Green        6.20000        102.00000 1122469910.00000\n",
       "2       Brad Bird        7.70000        118.00000 1042520711.00000\n",
       "3      Kyle Balda        6.33333         89.66667 1001930557.66667\n",
       "4  Andrew Stanton        7.30000         97.00000  821215193.00000"
      ]
     },
     "execution_count": 100,
     "metadata": {},
     "output_type": "execute_result"
    }
   ],
   "source": [
    "top_5"
   ]
  },
  {
   "cell_type": "code",
   "execution_count": 101,
   "metadata": {
    "scrolled": false
   },
   "outputs": [
    {
     "data": {
      "image/png": "[encoded data removed]",
      "text/plain": [
       "<Figure size 864x648 with 1 Axes>"
      ]
     },
     "metadata": {
      "needs_background": "light"
     },
     "output_type": "display_data"
    }
   ],
   "source": [
    "import squarify\n",
    "\n",
    "fig, ax = plt.subplots(figsize = (12,9))\n",
    "# plot it\n",
    "squarify.plot(sizes=top_5['world_profit'], label=top_5['director'],\n",
    "              color =['#4D91FF', '#80B1FF', '#B2D0FF', '#E6F0FF', '#FFF0E6', '#FFD1B2', '#FFB380', '#FF944D']\n",
    "              ,ax=ax )\n",
    "plt.axis('off')\n",
    "plt.show()"
   ]
  },
  {
   "cell_type": "code",
   "execution_count": 104,
   "metadata": {
    "scrolled": false
   },
   "outputs": [
    {
     "data": {
      "application/vnd.plotly.v1+json": {
       "config": {
        "plotlyServerURL": "https://plot.ly"
       },
       "data": [
        {
         "branchvalues": "total",
         "customdata": [
          [
           1122469910
          ],
          [
           1001930557.6666666
          ],
          [
           821215193
          ],
          [
           1122469910
          ],
          [
           1042520711
          ],
          [
           1001930557.6666666
          ],
          [
           821215193
          ],
          [
           1122469910
          ],
          [
           1122469910
          ],
          [
           1042520711
          ],
          [
           1122469910
          ],
          [
           821215193
          ],
          [
           1042520711
          ],
          [
           1122469910
          ],
          [
           1001930557.6666666
          ]
         ],
         "domain": {
          "x": [
           0,
           1
          ],
          "y": [
           0,
           1
          ]
         },
         "hovertemplate": "labels=%{label}<br>world_profit_sum=%{value}<br>parent=%{parent}<br>id=%{id}<br>Profit in 100M=%{color}<extra></extra>",
         "ids": [
          "Adam Green/102.0/6.2",
          "Kyle Balda/89.66666666666667/6.333333333333333",
          "Andrew Stanton/97.0/7.3",
          "Chris Buck/102.0/7.5",
          "Brad Bird/118.0/7.7",
          "Kyle Balda/89.66666666666667",
          "Andrew Stanton/97.0",
          "Adam Green/102.0",
          "Chris Buck/102.0",
          "Brad Bird/118.0",
          "Adam Green",
          "Andrew Stanton",
          "Brad Bird",
          "Chris Buck",
          "Kyle Balda"
         ],
         "labels": [
          "6.2",
          "6.333333333333333",
          "7.3",
          "7.5",
          "7.7",
          "89.66666666666667",
          "97.0",
          "102.0",
          "102.0",
          "118.0",
          "Adam Green",
          "Andrew Stanton",
          "Brad Bird",
          "Chris Buck",
          "Kyle Balda"
         ],
         "marker": {
          "coloraxis": "coloraxis",
          "colors": [
           1122469910,
           1001930557.6666666,
           821215193,
           1122469910,
           1042520711,
           1001930557.6666666,
           821215193,
           1122469910,
           1122469910,
           1042520711,
           1122469910,
           821215193,
           1042520711,
           1122469910,
           1001930557.6666666
          ]
         },
         "name": "",
         "parents": [
          "Adam Green/102.0",
          "Kyle Balda/89.66666666666667",
          "Andrew Stanton/97.0",
          "Chris Buck/102.0",
          "Brad Bird/118.0",
          "Kyle Balda",
          "Andrew Stanton",
          "Adam Green",
          "Chris Buck",
          "Brad Bird",
          "",
          "",
          "",
          "",
          ""
         ],
         "type": "treemap",
         "values": [
          1122469910,
          1001930557.6666666,
          821215193,
          1122469910,
          1042520711,
          1001930557.6666666,
          821215193,
          1122469910,
          1122469910,
          1042520711,
          1122469910,
          821215193,
          1042520711,
          1122469910,
          1001930557.6666666
         ]
        }
       ],
       "layout": {
        "coloraxis": {
         "colorbar": {
          "title": {
           "text": "Profit in 100M"
          }
         },
         "colorscale": [
          [
           0,
           "rgb(247,251,255)"
          ],
          [
           0.125,
           "rgb(222,235,247)"
          ],
          [
           0.25,
           "rgb(198,219,239)"
          ],
          [
           0.375,
           "rgb(158,202,225)"
          ],
          [
           0.5,
           "rgb(107,174,214)"
          ],
          [
           0.625,
           "rgb(66,146,198)"
          ],
          [
           0.75,
           "rgb(33,113,181)"
          ],
          [
           0.875,
           "rgb(8,81,156)"
          ],
          [
           1,
           "rgb(8,48,107)"
          ]
         ]
        },
        "font": {
         "size": 14
        },
        "legend": {
         "tracegroupgap": 0
        },
        "margin": {
         "t": 60
        },
        "template": {
         "data": {
          "bar": [
           {
            "error_x": {
             "color": "#2a3f5f"
            },
            "error_y": {
             "color": "#2a3f5f"
            },
            "marker": {
             "line": {
              "color": "#E5ECF6",
              "width": 0.5
             },
             "pattern": {
              "fillmode": "overlay",
              "size": 10,
              "solidity": 0.2
             }
            },
            "type": "bar"
           }
          ],
          "barpolar": [
           {
            "marker": {
             "line": {
              "color": "#E5ECF6",
              "width": 0.5
             },
             "pattern": {
              "fillmode": "overlay",
              "size": 10,
              "solidity": 0.2
             }
            },
            "type": "barpolar"
           }
          ],
          "carpet": [
           {
            "aaxis": {
             "endlinecolor": "#2a3f5f",
             "gridcolor": "white",
             "linecolor": "white",
             "minorgridcolor": "white",
             "startlinecolor": "#2a3f5f"
            },
            "baxis": {
             "endlinecolor": "#2a3f5f",
             "gridcolor": "white",
             "linecolor": "white",
             "minorgridcolor": "white",
             "startlinecolor": "#2a3f5f"
            },
            "type": "carpet"
           }
          ],
          "choropleth": [
           {
            "colorbar": {
             "outlinewidth": 0,
             "ticks": ""
            },
            "type": "choropleth"
           }
          ],
          "contour": [
           {
            "colorbar": {
             "outlinewidth": 0,
             "ticks": ""
            },
            "colorscale": [
             [
              0,
              "#0d0887"
             ],
             [
              0.1111111111111111,
              "#46039f"
             ],
             [
              0.2222222222222222,
              "#7201a8"
             ],
             [
              0.3333333333333333,
              "#9c179e"
             ],
             [
              0.4444444444444444,
              "#bd3786"
             ],
             [
              0.5555555555555556,
              "#d8576b"
             ],
             [
              0.6666666666666666,
              "#ed7953"
             ],
             [
              0.7777777777777778,
              "#fb9f3a"
             ],
             [
              0.8888888888888888,
              "#fdca26"
             ],
             [
              1,
              "#f0f921"
             ]
            ],
            "type": "contour"
           }
          ],
          "contourcarpet": [
           {
            "colorbar": {
             "outlinewidth": 0,
             "ticks": ""
            },
            "type": "contourcarpet"
           }
          ],
          "heatmap": [
           {
            "colorbar": {
             "outlinewidth": 0,
             "ticks": ""
            },
            "colorscale": [
             [
              0,
              "#0d0887"
             ],
             [
              0.1111111111111111,
              "#46039f"
             ],
             [
              0.2222222222222222,
              "#7201a8"
             ],
             [
              0.3333333333333333,
              "#9c179e"
             ],
             [
              0.4444444444444444,
              "#bd3786"
             ],
             [
              0.5555555555555556,
              "#d8576b"
             ],
             [
              0.6666666666666666,
              "#ed7953"
             ],
             [
              0.7777777777777778,
              "#fb9f3a"
             ],
             [
              0.8888888888888888,
              "#fdca26"
             ],
             [
              1,
              "#f0f921"
             ]
            ],
            "type": "heatmap"
           }
          ],
          "heatmapgl": [
           {
            "colorbar": {
             "outlinewidth": 0,
             "ticks": ""
            },
            "colorscale": [
             [
              0,
              "#0d0887"
             ],
             [
              0.1111111111111111,
              "#46039f"
             ],
             [
              0.2222222222222222,
              "#7201a8"
             ],
             [
              0.3333333333333333,
              "#9c179e"
             ],
             [
              0.4444444444444444,
              "#bd3786"
             ],
             [
              0.5555555555555556,
              "#d8576b"
             ],
             [
              0.6666666666666666,
              "#ed7953"
             ],
             [
              0.7777777777777778,
              "#fb9f3a"
             ],
             [
              0.8888888888888888,
              "#fdca26"
             ],
             [
              1,
              "#f0f921"
             ]
            ],
            "type": "heatmapgl"
           }
          ],
          "histogram": [
           {
            "marker": {
             "pattern": {
              "fillmode": "overlay",
              "size": 10,
              "solidity": 0.2
             }
            },
            "type": "histogram"
           }
          ],
          "histogram2d": [
           {
            "colorbar": {
             "outlinewidth": 0,
             "ticks": ""
            },
            "colorscale": [
             [
              0,
              "#0d0887"
             ],
             [
              0.1111111111111111,
              "#46039f"
             ],
             [
              0.2222222222222222,
              "#7201a8"
             ],
             [
              0.3333333333333333,
              "#9c179e"
             ],
             [
              0.4444444444444444,
              "#bd3786"
             ],
             [
              0.5555555555555556,
              "#d8576b"
             ],
             [
              0.6666666666666666,
              "#ed7953"
             ],
             [
              0.7777777777777778,
              "#fb9f3a"
             ],
             [
              0.8888888888888888,
              "#fdca26"
             ],
             [
              1,
              "#f0f921"
             ]
            ],
            "type": "histogram2d"
           }
          ],
          "histogram2dcontour": [
           {
            "colorbar": {
             "outlinewidth": 0,
             "ticks": ""
            },
            "colorscale": [
             [
              0,
              "#0d0887"
             ],
             [
              0.1111111111111111,
              "#46039f"
             ],
             [
              0.2222222222222222,
              "#7201a8"
             ],
             [
              0.3333333333333333,
              "#9c179e"
             ],
             [
              0.4444444444444444,
              "#bd3786"
             ],
             [
              0.5555555555555556,
              "#d8576b"
             ],
             [
              0.6666666666666666,
              "#ed7953"
             ],
             [
              0.7777777777777778,
              "#fb9f3a"
             ],
             [
              0.8888888888888888,
              "#fdca26"
             ],
             [
              1,
              "#f0f921"
             ]
            ],
            "type": "histogram2dcontour"
           }
          ],
          "mesh3d": [
           {
            "colorbar": {
             "outlinewidth": 0,
             "ticks": ""
            },
            "type": "mesh3d"
           }
          ],
          "parcoords": [
           {
            "line": {
             "colorbar": {
              "outlinewidth": 0,
              "ticks": ""
             }
            },
            "type": "parcoords"
           }
          ],
          "pie": [
           {
            "automargin": true,
            "type": "pie"
           }
          ],
          "scatter": [
           {
            "fillpattern": {
             "fillmode": "overlay",
             "size": 10,
             "solidity": 0.2
            },
            "type": "scatter"
           }
          ],
          "scatter3d": [
           {
            "line": {
             "colorbar": {
              "outlinewidth": 0,
              "ticks": ""
             }
            },
            "marker": {
             "colorbar": {
              "outlinewidth": 0,
              "ticks": ""
             }
            },
            "type": "scatter3d"
           }
          ],
          "scattercarpet": [
           {
            "marker": {
             "colorbar": {
              "outlinewidth": 0,
              "ticks": ""
             }
            },
            "type": "scattercarpet"
           }
          ],
          "scattergeo": [
           {
            "marker": {
             "colorbar": {
              "outlinewidth": 0,
              "ticks": ""
             }
            },
            "type": "scattergeo"
           }
          ],
          "scattergl": [
           {
            "marker": {
             "colorbar": {
              "outlinewidth": 0,
              "ticks": ""
             }
            },
            "type": "scattergl"
           }
          ],
          "scattermapbox": [
           {
            "marker": {
             "colorbar": {
              "outlinewidth": 0,
              "ticks": ""
             }
            },
            "type": "scattermapbox"
           }
          ],
          "scatterpolar": [
           {
            "marker": {
             "colorbar": {
              "outlinewidth": 0,
              "ticks": ""
             }
            },
            "type": "scatterpolar"
           }
          ],
          "scatterpolargl": [
           {
            "marker": {
             "colorbar": {
              "outlinewidth": 0,
              "ticks": ""
             }
            },
            "type": "scatterpolargl"
           }
          ],
          "scatterternary": [
           {
            "marker": {
             "colorbar": {
              "outlinewidth": 0,
              "ticks": ""
             }
            },
            "type": "scatterternary"
           }
          ],
          "surface": [
           {
            "colorbar": {
             "outlinewidth": 0,
             "ticks": ""
            },
            "colorscale": [
             [
              0,
              "#0d0887"
             ],
             [
              0.1111111111111111,
              "#46039f"
             ],
             [
              0.2222222222222222,
              "#7201a8"
             ],
             [
              0.3333333333333333,
              "#9c179e"
             ],
             [
              0.4444444444444444,
              "#bd3786"
             ],
             [
              0.5555555555555556,
              "#d8576b"
             ],
             [
              0.6666666666666666,
              "#ed7953"
             ],
             [
              0.7777777777777778,
              "#fb9f3a"
             ],
             [
              0.8888888888888888,
              "#fdca26"
             ],
             [
              1,
              "#f0f921"
             ]
            ],
            "type": "surface"
           }
          ],
          "table": [
           {
            "cells": {
             "fill": {
              "color": "#EBF0F8"
             },
             "line": {
              "color": "white"
             }
            },
            "header": {
             "fill": {
              "color": "#C8D4E3"
             },
             "line": {
              "color": "white"
             }
            },
            "type": "table"
           }
          ]
         },
         "layout": {
          "annotationdefaults": {
           "arrowcolor": "#2a3f5f",
           "arrowhead": 0,
           "arrowwidth": 1
          },
          "autotypenumbers": "strict",
          "coloraxis": {
           "colorbar": {
            "outlinewidth": 0,
            "ticks": ""
           }
          },
          "colorscale": {
           "diverging": [
            [
             0,
             "#8e0152"
            ],
            [
             0.1,
             "#c51b7d"
            ],
            [
             0.2,
             "#de77ae"
            ],
            [
             0.3,
             "#f1b6da"
            ],
            [
             0.4,
             "#fde0ef"
            ],
            [
             0.5,
             "#f7f7f7"
            ],
            [
             0.6,
             "#e6f5d0"
            ],
            [
             0.7,
             "#b8e186"
            ],
            [
             0.8,
             "#7fbc41"
            ],
            [
             0.9,
             "#4d9221"
            ],
            [
             1,
             "#276419"
            ]
           ],
           "sequential": [
            [
             0,
             "#0d0887"
            ],
            [
             0.1111111111111111,
             "#46039f"
            ],
            [
             0.2222222222222222,
             "#7201a8"
            ],
            [
             0.3333333333333333,
             "#9c179e"
            ],
            [
             0.4444444444444444,
             "#bd3786"
            ],
            [
             0.5555555555555556,
             "#d8576b"
            ],
            [
             0.6666666666666666,
             "#ed7953"
            ],
            [
             0.7777777777777778,
             "#fb9f3a"
            ],
            [
             0.8888888888888888,
             "#fdca26"
            ],
            [
             1,
             "#f0f921"
            ]
           ],
           "sequentialminus": [
            [
             0,
             "#0d0887"
            ],
            [
             0.1111111111111111,
             "#46039f"
            ],
            [
             0.2222222222222222,
             "#7201a8"
            ],
            [
             0.3333333333333333,
             "#9c179e"
            ],
            [
             0.4444444444444444,
             "#bd3786"
            ],
            [
             0.5555555555555556,
             "#d8576b"
            ],
            [
             0.6666666666666666,
             "#ed7953"
            ],
            [
             0.7777777777777778,
             "#fb9f3a"
            ],
            [
             0.8888888888888888,
             "#fdca26"
            ],
            [
             1,
             "#f0f921"
            ]
           ]
          },
          "colorway": [
           "#636efa",
           "#EF553B",
           "#00cc96",
           "#ab63fa",
           "#FFA15A",
           "#19d3f3",
           "#FF6692",
           "#B6E880",
           "#FF97FF",
           "#FECB52"
          ],
          "font": {
           "color": "#2a3f5f"
          },
          "geo": {
           "bgcolor": "white",
           "lakecolor": "white",
           "landcolor": "#E5ECF6",
           "showlakes": true,
           "showland": true,
           "subunitcolor": "white"
          },
          "hoverlabel": {
           "align": "left"
          },
          "hovermode": "closest",
          "mapbox": {
           "style": "light"
          },
          "paper_bgcolor": "white",
          "plot_bgcolor": "#E5ECF6",
          "polar": {
           "angularaxis": {
            "gridcolor": "white",
            "linecolor": "white",
            "ticks": ""
           },
           "bgcolor": "#E5ECF6",
           "radialaxis": {
            "gridcolor": "white",
            "linecolor": "white",
            "ticks": ""
           }
          },
          "scene": {
           "xaxis": {
            "backgroundcolor": "#E5ECF6",
            "gridcolor": "white",
            "gridwidth": 2,
            "linecolor": "white",
            "showbackground": true,
            "ticks": "",
            "zerolinecolor": "white"
           },
           "yaxis": {
            "backgroundcolor": "#E5ECF6",
            "gridcolor": "white",
            "gridwidth": 2,
            "linecolor": "white",
            "showbackground": true,
            "ticks": "",
            "zerolinecolor": "white"
           },
           "zaxis": {
            "backgroundcolor": "#E5ECF6",
            "gridcolor": "white",
            "gridwidth": 2,
            "linecolor": "white",
            "showbackground": true,
            "ticks": "",
            "zerolinecolor": "white"
           }
          },
          "shapedefaults": {
           "line": {
            "color": "#2a3f5f"
           }
          },
          "ternary": {
           "aaxis": {
            "gridcolor": "white",
            "linecolor": "white",
            "ticks": ""
           },
           "baxis": {
            "gridcolor": "white",
            "linecolor": "white",
            "ticks": ""
           },
           "bgcolor": "#E5ECF6",
           "caxis": {
            "gridcolor": "white",
            "linecolor": "white",
            "ticks": ""
           }
          },
          "title": {
           "x": 0.05
          },
          "xaxis": {
           "automargin": true,
           "gridcolor": "white",
           "linecolor": "white",
           "ticks": "",
           "title": {
            "standoff": 15
           },
           "zerolinecolor": "white",
           "zerolinewidth": 2
          },
          "yaxis": {
           "automargin": true,
           "gridcolor": "white",
           "linecolor": "white",
           "ticks": "",
           "title": {
            "standoff": 15
           },
           "zerolinecolor": "white",
           "zerolinewidth": 2
          }
         }
        },
        "title": {
         "font": {
          "size": 20
         },
         "text": "Top 5 Directors in Animation Genre"
        }
       }
      },
      "text/html": [
       "<div>                            <div id=\"60c71243-2c96-46fe-9a80-d40485a2b467\" class=\"plotly-graph-div\" style=\"height:525px; width:100%;\"></div>            <script type=\"text/javascript\">                require([\"plotly\"], function(Plotly) {                    window.PLOTLYENV=window.PLOTLYENV || {};                                    if (document.getElementById(\"60c71243-2c96-46fe-9a80-d40485a2b467\")) {                    Plotly.newPlot(                        \"60c71243-2c96-46fe-9a80-d40485a2b467\",                        [{\"branchvalues\":\"total\",\"customdata\":[[1122469910.0],[1001930557.6666666],[821215193.0],[1122469910.0],[1042520711.0],[1001930557.6666666],[821215193.0],[1122469910.0],[1122469910.0],[1042520711.0],[1122469910.0],[821215193.0],[1042520711.0],[1122469910.0],[1001930557.6666666]],\"domain\":{\"x\":[0.0,1.0],\"y\":[0.0,1.0]},\"hovertemplate\":\"labels=%{label}<br>world_profit_sum=%{value}<br>parent=%{parent}<br>id=%{id}<br>Profit in 100M=%{color}<extra></extra>\",\"ids\":[\"Adam Green/102.0/6.2\",\"Kyle Balda/89.66666666666667/6.333333333333333\",\"Andrew Stanton/97.0/7.3\",\"Chris Buck/102.0/7.5\",\"Brad Bird/118.0/7.7\",\"Kyle Balda/89.66666666666667\",\"Andrew Stanton/97.0\",\"Adam Green/102.0\",\"Chris Buck/102.0\",\"Brad Bird/118.0\",\"Adam Green\",\"Andrew Stanton\",\"Brad Bird\",\"Chris Buck\",\"Kyle Balda\"],\"labels\":[\"6.2\",\"6.333333333333333\",\"7.3\",\"7.5\",\"7.7\",\"89.66666666666667\",\"97.0\",\"102.0\",\"102.0\",\"118.0\",\"Adam Green\",\"Andrew Stanton\",\"Brad Bird\",\"Chris Buck\",\"Kyle Balda\"],\"marker\":{\"coloraxis\":\"coloraxis\",\"colors\":[1122469910.0,1001930557.6666666,821215193.0,1122469910.0,1042520711.0,1001930557.6666666,821215193.0,1122469910.0,1122469910.0,1042520711.0,1122469910.0,821215193.0,1042520711.0,1122469910.0,1001930557.6666666]},\"name\":\"\",\"parents\":[\"Adam Green/102.0\",\"Kyle Balda/89.66666666666667\",\"Andrew Stanton/97.0\",\"Chris Buck/102.0\",\"Brad Bird/118.0\",\"Kyle Balda\",\"Andrew Stanton\",\"Adam Green\",\"Chris Buck\",\"Brad Bird\",\"\",\"\",\"\",\"\",\"\"],\"values\":[1122469910.0,1001930557.6666666,821215193.0,1122469910.0,1042520711.0,1001930557.6666666,821215193.0,1122469910.0,1122469910.0,1042520711.0,1122469910.0,821215193.0,1042520711.0,1122469910.0,1001930557.6666666],\"type\":\"treemap\"}],                        {\"template\":{\"data\":{\"histogram2dcontour\":[{\"type\":\"histogram2dcontour\",\"colorbar\":{\"outlinewidth\":0,\"ticks\":\"\"},\"colorscale\":[[0.0,\"#0d0887\"],[0.1111111111111111,\"#46039f\"],[0.2222222222222222,\"#7201a8\"],[0.3333333333333333,\"#9c179e\"],[0.4444444444444444,\"#bd3786\"],[0.5555555555555556,\"#d8576b\"],[0.6666666666666666,\"#ed7953\"],[0.7777777777777778,\"#fb9f3a\"],[0.8888888888888888,\"#fdca26\"],[1.0,\"#f0f921\"]]}],\"choropleth\":[{\"type\":\"choropleth\",\"colorbar\":{\"outlinewidth\":0,\"ticks\":\"\"}}],\"histogram2d\":[{\"type\":\"histogram2d\",\"colorbar\":{\"outlinewidth\":0,\"ticks\":\"\"},\"colorscale\":[[0.0,\"#0d0887\"],[0.1111111111111111,\"#46039f\"],[0.2222222222222222,\"#7201a8\"],[0.3333333333333333,\"#9c179e\"],[0.4444444444444444,\"#bd3786\"],[0.5555555555555556,\"#d8576b\"],[0.6666666666666666,\"#ed7953\"],[0.7777777777777778,\"#fb9f3a\"],[0.8888888888888888,\"#fdca26\"],[1.0,\"#f0f921\"]]}],\"heatmap\":[{\"type\":\"heatmap\",\"colorbar\":{\"outlinewidth\":0,\"ticks\":\"\"},\"colorscale\":[[0.0,\"#0d0887\"],[0.1111111111111111,\"#46039f\"],[0.2222222222222222,\"#7201a8\"],[0.3333333333333333,\"#9c179e\"],[0.4444444444444444,\"#bd3786\"],[0.5555555555555556,\"#d8576b\"],[0.6666666666666666,\"#ed7953\"],[0.7777777777777778,\"#fb9f3a\"],[0.8888888888888888,\"#fdca26\"],[1.0,\"#f0f921\"]]}],\"heatmapgl\":[{\"type\":\"heatmapgl\",\"colorbar\":{\"outlinewidth\":0,\"ticks\":\"\"},\"colorscale\":[[0.0,\"#0d0887\"],[0.1111111111111111,\"#46039f\"],[0.2222222222222222,\"#7201a8\"],[0.3333333333333333,\"#9c179e\"],[0.4444444444444444,\"#bd3786\"],[0.5555555555555556,\"#d8576b\"],[0.6666666666666666,\"#ed7953\"],[0.7777777777777778,\"#fb9f3a\"],[0.8888888888888888,\"#fdca26\"],[1.0,\"#f0f921\"]]}],\"contourcarpet\":[{\"type\":\"contourcarpet\",\"colorbar\":{\"outlinewidth\":0,\"ticks\":\"\"}}],\"contour\":[{\"type\":\"contour\",\"colorbar\":{\"outlinewidth\":0,\"ticks\":\"\"},\"colorscale\":[[0.0,\"#0d0887\"],[0.1111111111111111,\"#46039f\"],[0.2222222222222222,\"#7201a8\"],[0.3333333333333333,\"#9c179e\"],[0.4444444444444444,\"#bd3786\"],[0.5555555555555556,\"#d8576b\"],[0.6666666666666666,\"#ed7953\"],[0.7777777777777778,\"#fb9f3a\"],[0.8888888888888888,\"#fdca26\"],[1.0,\"#f0f921\"]]}],\"surface\":[{\"type\":\"surface\",\"colorbar\":{\"outlinewidth\":0,\"ticks\":\"\"},\"colorscale\":[[0.0,\"#0d0887\"],[0.1111111111111111,\"#46039f\"],[0.2222222222222222,\"#7201a8\"],[0.3333333333333333,\"#9c179e\"],[0.4444444444444444,\"#bd3786\"],[0.5555555555555556,\"#d8576b\"],[0.6666666666666666,\"#ed7953\"],[0.7777777777777778,\"#fb9f3a\"],[0.8888888888888888,\"#fdca26\"],[1.0,\"#f0f921\"]]}],\"mesh3d\":[{\"type\":\"mesh3d\",\"colorbar\":{\"outlinewidth\":0,\"ticks\":\"\"}}],\"scatter\":[{\"fillpattern\":{\"fillmode\":\"overlay\",\"size\":10,\"solidity\":0.2},\"type\":\"scatter\"}],\"parcoords\":[{\"type\":\"parcoords\",\"line\":{\"colorbar\":{\"outlinewidth\":0,\"ticks\":\"\"}}}],\"scatterpolargl\":[{\"type\":\"scatterpolargl\",\"marker\":{\"colorbar\":{\"outlinewidth\":0,\"ticks\":\"\"}}}],\"bar\":[{\"error_x\":{\"color\":\"#2a3f5f\"},\"error_y\":{\"color\":\"#2a3f5f\"},\"marker\":{\"line\":{\"color\":\"#E5ECF6\",\"width\":0.5},\"pattern\":{\"fillmode\":\"overlay\",\"size\":10,\"solidity\":0.2}},\"type\":\"bar\"}],\"scattergeo\":[{\"type\":\"scattergeo\",\"marker\":{\"colorbar\":{\"outlinewidth\":0,\"ticks\":\"\"}}}],\"scatterpolar\":[{\"type\":\"scatterpolar\",\"marker\":{\"colorbar\":{\"outlinewidth\":0,\"ticks\":\"\"}}}],\"histogram\":[{\"marker\":{\"pattern\":{\"fillmode\":\"overlay\",\"size\":10,\"solidity\":0.2}},\"type\":\"histogram\"}],\"scattergl\":[{\"type\":\"scattergl\",\"marker\":{\"colorbar\":{\"outlinewidth\":0,\"ticks\":\"\"}}}],\"scatter3d\":[{\"type\":\"scatter3d\",\"line\":{\"colorbar\":{\"outlinewidth\":0,\"ticks\":\"\"}},\"marker\":{\"colorbar\":{\"outlinewidth\":0,\"ticks\":\"\"}}}],\"scattermapbox\":[{\"type\":\"scattermapbox\",\"marker\":{\"colorbar\":{\"outlinewidth\":0,\"ticks\":\"\"}}}],\"scatterternary\":[{\"type\":\"scatterternary\",\"marker\":{\"colorbar\":{\"outlinewidth\":0,\"ticks\":\"\"}}}],\"scattercarpet\":[{\"type\":\"scattercarpet\",\"marker\":{\"colorbar\":{\"outlinewidth\":0,\"ticks\":\"\"}}}],\"carpet\":[{\"aaxis\":{\"endlinecolor\":\"#2a3f5f\",\"gridcolor\":\"white\",\"linecolor\":\"white\",\"minorgridcolor\":\"white\",\"startlinecolor\":\"#2a3f5f\"},\"baxis\":{\"endlinecolor\":\"#2a3f5f\",\"gridcolor\":\"white\",\"linecolor\":\"white\",\"minorgridcolor\":\"white\",\"startlinecolor\":\"#2a3f5f\"},\"type\":\"carpet\"}],\"table\":[{\"cells\":{\"fill\":{\"color\":\"#EBF0F8\"},\"line\":{\"color\":\"white\"}},\"header\":{\"fill\":{\"color\":\"#C8D4E3\"},\"line\":{\"color\":\"white\"}},\"type\":\"table\"}],\"barpolar\":[{\"marker\":{\"line\":{\"color\":\"#E5ECF6\",\"width\":0.5},\"pattern\":{\"fillmode\":\"overlay\",\"size\":10,\"solidity\":0.2}},\"type\":\"barpolar\"}],\"pie\":[{\"automargin\":true,\"type\":\"pie\"}]},\"layout\":{\"autotypenumbers\":\"strict\",\"colorway\":[\"#636efa\",\"#EF553B\",\"#00cc96\",\"#ab63fa\",\"#FFA15A\",\"#19d3f3\",\"#FF6692\",\"#B6E880\",\"#FF97FF\",\"#FECB52\"],\"font\":{\"color\":\"#2a3f5f\"},\"hovermode\":\"closest\",\"hoverlabel\":{\"align\":\"left\"},\"paper_bgcolor\":\"white\",\"plot_bgcolor\":\"#E5ECF6\",\"polar\":{\"bgcolor\":\"#E5ECF6\",\"angularaxis\":{\"gridcolor\":\"white\",\"linecolor\":\"white\",\"ticks\":\"\"},\"radialaxis\":{\"gridcolor\":\"white\",\"linecolor\":\"white\",\"ticks\":\"\"}},\"ternary\":{\"bgcolor\":\"#E5ECF6\",\"aaxis\":{\"gridcolor\":\"white\",\"linecolor\":\"white\",\"ticks\":\"\"},\"baxis\":{\"gridcolor\":\"white\",\"linecolor\":\"white\",\"ticks\":\"\"},\"caxis\":{\"gridcolor\":\"white\",\"linecolor\":\"white\",\"ticks\":\"\"}},\"coloraxis\":{\"colorbar\":{\"outlinewidth\":0,\"ticks\":\"\"}},\"colorscale\":{\"sequential\":[[0.0,\"#0d0887\"],[0.1111111111111111,\"#46039f\"],[0.2222222222222222,\"#7201a8\"],[0.3333333333333333,\"#9c179e\"],[0.4444444444444444,\"#bd3786\"],[0.5555555555555556,\"#d8576b\"],[0.6666666666666666,\"#ed7953\"],[0.7777777777777778,\"#fb9f3a\"],[0.8888888888888888,\"#fdca26\"],[1.0,\"#f0f921\"]],\"sequentialminus\":[[0.0,\"#0d0887\"],[0.1111111111111111,\"#46039f\"],[0.2222222222222222,\"#7201a8\"],[0.3333333333333333,\"#9c179e\"],[0.4444444444444444,\"#bd3786\"],[0.5555555555555556,\"#d8576b\"],[0.6666666666666666,\"#ed7953\"],[0.7777777777777778,\"#fb9f3a\"],[0.8888888888888888,\"#fdca26\"],[1.0,\"#f0f921\"]],\"diverging\":[[0,\"#8e0152\"],[0.1,\"#c51b7d\"],[0.2,\"#de77ae\"],[0.3,\"#f1b6da\"],[0.4,\"#fde0ef\"],[0.5,\"#f7f7f7\"],[0.6,\"#e6f5d0\"],[0.7,\"#b8e186\"],[0.8,\"#7fbc41\"],[0.9,\"#4d9221\"],[1,\"#276419\"]]},\"xaxis\":{\"gridcolor\":\"white\",\"linecolor\":\"white\",\"ticks\":\"\",\"title\":{\"standoff\":15},\"zerolinecolor\":\"white\",\"automargin\":true,\"zerolinewidth\":2},\"yaxis\":{\"gridcolor\":\"white\",\"linecolor\":\"white\",\"ticks\":\"\",\"title\":{\"standoff\":15},\"zerolinecolor\":\"white\",\"automargin\":true,\"zerolinewidth\":2},\"scene\":{\"xaxis\":{\"backgroundcolor\":\"#E5ECF6\",\"gridcolor\":\"white\",\"linecolor\":\"white\",\"showbackground\":true,\"ticks\":\"\",\"zerolinecolor\":\"white\",\"gridwidth\":2},\"yaxis\":{\"backgroundcolor\":\"#E5ECF6\",\"gridcolor\":\"white\",\"linecolor\":\"white\",\"showbackground\":true,\"ticks\":\"\",\"zerolinecolor\":\"white\",\"gridwidth\":2},\"zaxis\":{\"backgroundcolor\":\"#E5ECF6\",\"gridcolor\":\"white\",\"linecolor\":\"white\",\"showbackground\":true,\"ticks\":\"\",\"zerolinecolor\":\"white\",\"gridwidth\":2}},\"shapedefaults\":{\"line\":{\"color\":\"#2a3f5f\"}},\"annotationdefaults\":{\"arrowcolor\":\"#2a3f5f\",\"arrowhead\":0,\"arrowwidth\":1},\"geo\":{\"bgcolor\":\"white\",\"landcolor\":\"#E5ECF6\",\"subunitcolor\":\"white\",\"showland\":true,\"showlakes\":true,\"lakecolor\":\"white\"},\"title\":{\"x\":0.05},\"mapbox\":{\"style\":\"light\"}}},\"coloraxis\":{\"colorbar\":{\"title\":{\"text\":\"Profit in 100M\"}},\"colorscale\":[[0.0,\"rgb(247,251,255)\"],[0.125,\"rgb(222,235,247)\"],[0.25,\"rgb(198,219,239)\"],[0.375,\"rgb(158,202,225)\"],[0.5,\"rgb(107,174,214)\"],[0.625,\"rgb(66,146,198)\"],[0.75,\"rgb(33,113,181)\"],[0.875,\"rgb(8,81,156)\"],[1.0,\"rgb(8,48,107)\"]]},\"legend\":{\"tracegroupgap\":0},\"margin\":{\"t\":60},\"title\":{\"font\":{\"size\":20},\"text\":\"Top 5 Directors in Animation Genre\"},\"font\":{\"size\":14}},                        {\"responsive\": true}                    ).then(function(){\n",
       "                            \n",
       "var gd = document.getElementById('60c71243-2c96-46fe-9a80-d40485a2b467');\n",
       "var x = new MutationObserver(function (mutations, observer) {{\n",
       "        var display = window.getComputedStyle(gd).display;\n",
       "        if (!display || display === 'none') {{\n",
       "            console.log([gd, 'removed!']);\n",
       "            Plotly.purge(gd);\n",
       "            observer.disconnect();\n",
       "        }}\n",
       "}});\n",
       "\n",
       "// Listen for the removal of the full notebook cells\n",
       "var notebookContainer = gd.closest('#notebook-container');\n",
       "if (notebookContainer) {{\n",
       "    x.observe(notebookContainer, {childList: true});\n",
       "}}\n",
       "\n",
       "// Listen for the clearing of the current output cell\n",
       "var outputEl = gd.closest('.output');\n",
       "if (outputEl) {{\n",
       "    x.observe(outputEl, {childList: true});\n",
       "}}\n",
       "\n",
       "                        })                };                });            </script>        </div>"
      ]
     },
     "metadata": {},
     "output_type": "display_data"
    }
   ],
   "source": [
    "import plotly.express as px\n",
    "import pandas as pd\n",
    "\n",
    "fig = px.treemap(top_5, path=['director','runtime_minutes', 'averagerating'], values='world_profit',\n",
    "                  color='world_profit', color_continuous_scale=px.colors.sequential.Blues, \n",
    "                 labels={\n",
    "                     \"director\":\"Director\",\n",
    "                     \"world_profit\": \"Profit in 100M\",\n",
    "                 })\n",
    "\n",
    "fig.update_layout(\n",
    "    title=dict(text=\"Top 5 Directors in Animation Genre\", font=dict(size=20)),\n",
    "    font=dict(\n",
    "        size=14,)\n",
    ")\n",
    "\n",
    "fig.show()"
   ]
  },
  {
   "cell_type": "markdown",
   "metadata": {},
   "source": [
    "# Notes"
   ]
  },
  {
   "cell_type": "markdown",
   "metadata": {},
   "source": [
    "Jennifer Lee (writer) is in the top 7 movies by avg_profit in the Animation genre\n",
    "wrote 2 movie in 2013 with Chris Buck and 2016 Byron Howard \n",
    "both movies had a avg_rating above 7 (7.5 - 2013 and 8.0- 2016) was on the writer for Frozen (Chris Buck director)\n",
    "\n",
    "\n",
    "Adam Green directed and was the only writer of his moive who is top 2nd avg_profit wise\n",
    "\n",
    "Brad Bird directed and was the only writer of his moive who is top 4th avg_profit wise"
   ]
  },
  {
   "cell_type": "markdown",
   "metadata": {},
   "source": [
    "# Recommendation"
   ]
  },
  {
   "cell_type": "markdown",
   "metadata": {},
   "source": [
    "All these directors and writers are phenomenal, you can choose any basically beacause these are the top 6 most profitable movies in the last decade\n",
    "\n",
    "but our Recommendation is \n",
    "\n",
    "1. Chris Buck as the director because he has the most profitable movie in the Animation genre. \n",
    "His movie had a very close runtime (102 min) compared to the average runtime of the Animation genre (89 min)\n",
    "    The writer we recommend with Mr. Buck as the director are, Jennifer Lee and Chris Buck himself.We recommend Jenifer Lee because she wrote 2 out of the 7 most profitable movies in the Animation genre, one in 2013 with Chris Buck and the second in 2016 with Byron Howard. Bryon Howard's movie was the 7th most profitable in the Animation genre. In both movies, the runtime was very close to the average runtime of the Animation genre (102 minutes in Chris Buck's movie and 108 minutes in Bryon Howard's movie).\n",
    "       \n",
    "       \n",
    "       \n",
    "2. Adam Green as a director and writer, with  Brian Lynch as the another writer on the film\n",
    "because Green directed the 2nd most profitable movie in the last decade, and his runtime (102) is the same as the most profitable movie of the decade in the Animation genre, which is close to the average runtime for the Animation genre.\n",
    "And Brain Lynch as a writer because the movie he wrote was the 3rd higest gross film in the Animation genre and the movie he wrote(91 mins) is extrely close the average runtime(89 mins). "
   ]
  },
  {
   "cell_type": "code",
   "execution_count": null,
   "metadata": {},
   "outputs": [],
   "source": []
  }
 ],
 "metadata": {
  "kernelspec": {
   "display_name": "Python (learn-env)",
   "language": "python",
   "name": "learn-env"
  },
  "language_info": {
   "codemirror_mode": {
    "name": "ipython",
    "version": 3
   },
   "file_extension": ".py",
   "mimetype": "text/x-python",
   "name": "python",
   "nbconvert_exporter": "python",
   "pygments_lexer": "ipython3",
   "version": "3.8.5"
  }
 },
 "nbformat": 4,
 "nbformat_minor": 4
}
